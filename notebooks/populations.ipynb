{
 "cells": [
  {
   "cell_type": "code",
   "execution_count": 1,
   "metadata": {},
   "outputs": [],
   "source": [
    "import pandas as pd\n",
    "import plotly.express as px\n",
    "from plotly.subplots import make_subplots"
   ]
  },
  {
   "cell_type": "markdown",
   "metadata": {},
   "source": [
    "# Image 1"
   ]
  },
  {
   "cell_type": "code",
   "execution_count": 42,
   "metadata": {},
   "outputs": [
    {
     "data": {
      "application/vnd.plotly.v1+json": {
       "config": {
        "plotlyServerURL": "https://plot.ly"
       },
       "data": [
        {
         "alignmentgroup": "True",
         "hovertemplate": "Haplotype=hapA<br>phenotype=aFTLD-U<br>Proportion=%{x}<br>Cohort=%{y}<extra></extra>",
         "legendgroup": "hapA",
         "marker": {
          "color": "red",
          "pattern": {
           "shape": ""
          }
         },
         "name": "hapA",
         "offsetgroup": "hapA",
         "orientation": "h",
         "showlegend": true,
         "textposition": "auto",
         "type": "bar",
         "x": [
          0.4367816091954023,
          0.32142857142857145,
          0.4915254237288136,
          0.5277777777777778,
          0.43478260869565216
         ],
         "xaxis": "x",
         "y": [
          "Cohort 1+2+3",
          "Cohort 3",
          "Cohort 1+2",
          "Cohort 2",
          "Cohort 1"
         ],
         "yaxis": "y"
        },
        {
         "alignmentgroup": "True",
         "hovertemplate": "Haplotype=hapA<br>phenotype=Controls<br>Proportion=%{x}<br>Cohort=%{y}<extra></extra>",
         "legendgroup": "hapA",
         "marker": {
          "color": "red",
          "pattern": {
           "shape": ""
          }
         },
         "name": "hapA",
         "offsetgroup": "hapA",
         "orientation": "h",
         "showlegend": false,
         "textposition": "auto",
         "type": "bar",
         "x": [
          0.014914243102162566,
          0.015968063872255488,
          0.014564713670969877,
          0.01658890616899948,
          0.01098901098901099
         ],
         "xaxis": "x2",
         "y": [
          "Cohort 1+2+3",
          "Cohort 3",
          "Cohort 1+2",
          "Cohort 2",
          "Cohort 1"
         ],
         "yaxis": "y2"
        },
        {
         "alignmentgroup": "True",
         "hovertemplate": "Haplotype=hapB<br>phenotype=aFTLD-U<br>Proportion=%{x}<br>Cohort=%{y}<extra></extra>",
         "legendgroup": "hapB",
         "marker": {
          "color": "orange",
          "pattern": {
           "shape": ""
          }
         },
         "name": "hapB",
         "offsetgroup": "hapB",
         "orientation": "h",
         "showlegend": true,
         "textposition": "auto",
         "type": "bar",
         "x": [
          0.14942528735632185,
          0.03571428571428571,
          0.2033898305084746,
          0.19444444444444445,
          0.21739130434782608
         ],
         "xaxis": "x",
         "y": [
          "Cohort 1+2+3",
          "Cohort 3",
          "Cohort 1+2",
          "Cohort 2",
          "Cohort 1"
         ],
         "yaxis": "y"
        },
        {
         "alignmentgroup": "True",
         "hovertemplate": "Haplotype=hapB<br>phenotype=Controls<br>Proportion=%{x}<br>Cohort=%{y}<extra></extra>",
         "legendgroup": "hapB",
         "marker": {
          "color": "orange",
          "pattern": {
           "shape": ""
          }
         },
         "name": "hapB",
         "offsetgroup": "hapB",
         "orientation": "h",
         "showlegend": false,
         "textposition": "auto",
         "type": "bar",
         "x": [
          0.05791697738006463,
          0.059880239520958084,
          0.0572658060244952,
          0.05287713841368585,
          0.06501831501831502
         ],
         "xaxis": "x2",
         "y": [
          "Cohort 1+2+3",
          "Cohort 3",
          "Cohort 1+2",
          "Cohort 2",
          "Cohort 1"
         ],
         "yaxis": "y2"
        },
        {
         "alignmentgroup": "True",
         "hovertemplate": "Haplotype=none<br>phenotype=aFTLD-U<br>Proportion=%{x}<br>Cohort=%{y}<extra></extra>",
         "legendgroup": "none",
         "marker": {
          "color": "green",
          "pattern": {
           "shape": ""
          }
         },
         "name": "none",
         "offsetgroup": "none",
         "orientation": "h",
         "showlegend": true,
         "textposition": "auto",
         "type": "bar",
         "x": [
          0.41379310344827586,
          0.6428571428571429,
          0.3050847457627119,
          0.2777777777777778,
          0.34782608695652173
         ],
         "xaxis": "x",
         "y": [
          "Cohort 1+2+3",
          "Cohort 3",
          "Cohort 1+2",
          "Cohort 2",
          "Cohort 1"
         ],
         "yaxis": "y"
        },
        {
         "alignmentgroup": "True",
         "hovertemplate": "Haplotype=none<br>phenotype=Controls<br>Proportion=%{x}<br>Cohort=%{y}<extra></extra>",
         "legendgroup": "none",
         "marker": {
          "color": "green",
          "pattern": {
           "shape": ""
          }
         },
         "name": "none",
         "offsetgroup": "none",
         "orientation": "h",
         "showlegend": false,
         "textposition": "auto",
         "type": "bar",
         "x": [
          0.9271687795177728,
          0.9241516966067864,
          0.9281694803045349,
          0.9305339554173147,
          0.923992673992674
         ],
         "xaxis": "x2",
         "y": [
          "Cohort 1+2+3",
          "Cohort 3",
          "Cohort 1+2",
          "Cohort 2",
          "Cohort 1"
         ],
         "yaxis": "y2"
        }
       ],
       "layout": {
        "annotations": [
         {
          "font": {
           "size": 36
          },
          "showarrow": false,
          "text": "aFTLD-U",
          "x": 0.245,
          "xanchor": "left",
          "xref": "paper",
          "y": 1,
          "yanchor": "bottom",
          "yref": "paper"
         },
         {
          "font": {
           "size": 36
          },
          "showarrow": false,
          "text": "Controls",
          "x": 0.755,
          "xanchor": "left",
          "xref": "paper",
          "y": 1,
          "yanchor": "bottom",
          "yref": "paper"
         },
         {
          "font": {
           "color": "white",
           "size": 24
          },
          "showarrow": false,
          "text": "10",
          "x": 0.21739130434782608,
          "xref": "x",
          "y": "Cohort 1",
          "yref": "y"
         },
         {
          "font": {
           "color": "white",
           "size": 24
          },
          "showarrow": false,
          "text": "5",
          "x": 0.5434782608695652,
          "xref": "x",
          "y": "Cohort 1",
          "yref": "y"
         },
         {
          "font": {
           "color": "white",
           "size": 24
          },
          "showarrow": false,
          "text": "8",
          "x": 0.8260869565217391,
          "xref": "x",
          "y": "Cohort 1",
          "yref": "y"
         },
         {
          "font": {
           "color": "black",
           "size": 24
          },
          "showarrow": false,
          "text": "N=23",
          "x": -0.08,
          "xref": "x",
          "y": "Cohort 1",
          "yref": "y"
         },
         {
          "font": {
           "color": "white",
           "size": 24
          },
          "showarrow": false,
          "text": "19",
          "x": 0.2638888888888889,
          "xref": "x",
          "y": "Cohort 2",
          "yref": "y"
         },
         {
          "font": {
           "color": "white",
           "size": 24
          },
          "showarrow": false,
          "text": "7",
          "x": 0.625,
          "xref": "x",
          "y": "Cohort 2",
          "yref": "y"
         },
         {
          "font": {
           "color": "white",
           "size": 24
          },
          "showarrow": false,
          "text": "10",
          "x": 0.8611111111111112,
          "xref": "x",
          "y": "Cohort 2",
          "yref": "y"
         },
         {
          "font": {
           "color": "black",
           "size": 24
          },
          "showarrow": false,
          "text": "N=36",
          "x": -0.08,
          "xref": "x",
          "y": "Cohort 2",
          "yref": "y"
         },
         {
          "font": {
           "color": "white",
           "size": 24
          },
          "showarrow": false,
          "text": "29",
          "x": 0.2457627118644068,
          "xref": "x",
          "y": "Cohort 1+2",
          "yref": "y"
         },
         {
          "font": {
           "color": "white",
           "size": 24
          },
          "showarrow": false,
          "text": "12",
          "x": 0.5932203389830508,
          "xref": "x",
          "y": "Cohort 1+2",
          "yref": "y"
         },
         {
          "font": {
           "color": "white",
           "size": 24
          },
          "showarrow": false,
          "text": "18",
          "x": 0.8474576271186441,
          "xref": "x",
          "y": "Cohort 1+2",
          "yref": "y"
         },
         {
          "font": {
           "color": "black",
           "size": 24
          },
          "showarrow": false,
          "text": "N=59",
          "x": -0.08,
          "xref": "x",
          "y": "Cohort 1+2",
          "yref": "y"
         },
         {
          "font": {
           "color": "white",
           "size": 24
          },
          "showarrow": false,
          "text": "9",
          "x": 0.16071428571428573,
          "xref": "x",
          "y": "Cohort 3",
          "yref": "y"
         },
         {
          "font": {
           "color": "white",
           "size": 24
          },
          "showarrow": false,
          "text": "1",
          "x": 0.3392857142857143,
          "xref": "x",
          "y": "Cohort 3",
          "yref": "y"
         },
         {
          "font": {
           "color": "white",
           "size": 24
          },
          "showarrow": false,
          "text": "18",
          "x": 0.6785714285714286,
          "xref": "x",
          "y": "Cohort 3",
          "yref": "y"
         },
         {
          "font": {
           "color": "black",
           "size": 24
          },
          "showarrow": false,
          "text": "N=28",
          "x": -0.08,
          "xref": "x",
          "y": "Cohort 3",
          "yref": "y"
         },
         {
          "font": {
           "color": "white",
           "size": 24
          },
          "showarrow": false,
          "text": "38",
          "x": 0.21839080459770116,
          "xref": "x",
          "y": "Cohort 1+2+3",
          "yref": "y"
         },
         {
          "font": {
           "color": "white",
           "size": 24
          },
          "showarrow": false,
          "text": "13",
          "x": 0.5114942528735632,
          "xref": "x",
          "y": "Cohort 1+2+3",
          "yref": "y"
         },
         {
          "font": {
           "color": "white",
           "size": 24
          },
          "showarrow": false,
          "text": "36",
          "x": 0.7931034482758621,
          "xref": "x",
          "y": "Cohort 1+2+3",
          "yref": "y"
         },
         {
          "font": {
           "color": "black",
           "size": 24
          },
          "showarrow": false,
          "text": "N=87",
          "x": -0.08,
          "xref": "x",
          "y": "Cohort 1+2+3",
          "yref": "y"
         },
         {
          "arrowhead": 1,
          "ax": -20,
          "ay": -15,
          "font": {
           "color": "black",
           "size": 24
          },
          "showarrow": true,
          "text": "12",
          "x": 0.005494505494505495,
          "xref": "x2",
          "y": "Cohort 1",
          "yref": "y2",
          "yshift": 0
         },
         {
          "font": {
           "color": "white",
           "size": 24
          },
          "showarrow": false,
          "text": "71",
          "textangle": -60,
          "x": 0.0434981684981685,
          "xref": "x2",
          "y": "Cohort 1",
          "yref": "y2"
         },
         {
          "font": {
           "color": "white",
           "size": 24
          },
          "showarrow": false,
          "text": "1009",
          "x": 0.5380036630036631,
          "xref": "x2",
          "y": "Cohort 1",
          "yref": "y2"
         },
         {
          "font": {
           "color": "black",
           "size": 24
          },
          "showarrow": false,
          "text": "N=1092",
          "x": -0.18,
          "xref": "x2",
          "y": "Cohort 1",
          "yref": "y2"
         },
         {
          "arrowhead": 1,
          "ax": -20,
          "ay": -15,
          "font": {
           "color": "black",
           "size": 24
          },
          "showarrow": true,
          "text": "32",
          "x": 0.00829445308449974,
          "xref": "x2",
          "y": "Cohort 2",
          "yref": "y2",
          "yshift": 0
         },
         {
          "font": {
           "color": "white",
           "size": 24
          },
          "showarrow": false,
          "text": "102",
          "textangle": -60,
          "x": 0.04302747537584241,
          "xref": "x2",
          "y": "Cohort 2",
          "yref": "y2"
         },
         {
          "font": {
           "color": "white",
           "size": 24
          },
          "showarrow": false,
          "text": "1795",
          "x": 0.5347330222913427,
          "xref": "x2",
          "y": "Cohort 2",
          "yref": "y2"
         },
         {
          "font": {
           "color": "black",
           "size": 24
          },
          "showarrow": false,
          "text": "N=1929",
          "x": -0.18,
          "xref": "x2",
          "y": "Cohort 2",
          "yref": "y2"
         },
         {
          "arrowhead": 1,
          "ax": -20,
          "ay": -15,
          "font": {
           "color": "black",
           "size": 24
          },
          "showarrow": true,
          "text": "44",
          "x": 0.007282356835484938,
          "xref": "x2",
          "y": "Cohort 1+2",
          "yref": "y2",
          "yshift": 0
         },
         {
          "font": {
           "color": "white",
           "size": 24
          },
          "showarrow": false,
          "text": "173",
          "textangle": -60,
          "x": 0.04319761668321748,
          "xref": "x2",
          "y": "Cohort 1+2",
          "yref": "y2"
         },
         {
          "font": {
           "color": "white",
           "size": 24
          },
          "showarrow": false,
          "text": "2804",
          "x": 0.5359152598477326,
          "xref": "x2",
          "y": "Cohort 1+2",
          "yref": "y2"
         },
         {
          "font": {
           "color": "black",
           "size": 24
          },
          "showarrow": false,
          "text": "N=3021",
          "x": -0.18,
          "xref": "x2",
          "y": "Cohort 1+2",
          "yref": "y2"
         },
         {
          "arrowhead": 1,
          "ax": -20,
          "ay": -15,
          "font": {
           "color": "black",
           "size": 24
          },
          "showarrow": true,
          "text": "16",
          "x": 0.007984031936127744,
          "xref": "x2",
          "y": "Cohort 3",
          "yref": "y2",
          "yshift": 0
         },
         {
          "font": {
           "color": "white",
           "size": 24
          },
          "showarrow": false,
          "text": "60",
          "textangle": -60,
          "x": 0.04590818363273453,
          "xref": "x2",
          "y": "Cohort 3",
          "yref": "y2"
         },
         {
          "font": {
           "color": "white",
           "size": 24
          },
          "showarrow": false,
          "text": "926",
          "x": 0.5379241516966068,
          "xref": "x2",
          "y": "Cohort 3",
          "yref": "y2"
         },
         {
          "font": {
           "color": "black",
           "size": 24
          },
          "showarrow": false,
          "text": "N=1002",
          "x": -0.18,
          "xref": "x2",
          "y": "Cohort 3",
          "yref": "y2"
         },
         {
          "arrowhead": 1,
          "ax": -20,
          "ay": -15,
          "font": {
           "color": "black",
           "size": 24
          },
          "showarrow": true,
          "text": "60",
          "x": 0.007457121551081283,
          "xref": "x2",
          "y": "Cohort 1+2+3",
          "yref": "y2",
          "yshift": 0
         },
         {
          "font": {
           "color": "white",
           "size": 24
          },
          "showarrow": false,
          "text": "233",
          "textangle": -60,
          "x": 0.04387273179219488,
          "xref": "x2",
          "y": "Cohort 1+2+3",
          "yref": "y2"
         },
         {
          "font": {
           "color": "white",
           "size": 24
          },
          "showarrow": false,
          "text": "3730",
          "x": 0.5364156102411136,
          "xref": "x2",
          "y": "Cohort 1+2+3",
          "yref": "y2"
         },
         {
          "font": {
           "color": "black",
           "size": 24
          },
          "showarrow": false,
          "text": "N=4023",
          "x": -0.18,
          "xref": "x2",
          "y": "Cohort 1+2+3",
          "yref": "y2"
         },
         {
          "font": {
           "color": "pink",
           "size": 20
          },
          "showarrow": false,
          "text": "GWAS Phase I",
          "x": -0.23,
          "y": "Cohort 1",
          "yshift": 20
         },
         {
          "font": {
           "color": "purple",
           "size": 20
          },
          "showarrow": false,
          "text": "GWAS Phase II",
          "x": -0.23,
          "y": "Cohort 1+2",
          "yshift": 20
         }
        ],
        "barmode": "relative",
        "font": {
         "size": 24
        },
        "legend": {
         "orientation": "h",
         "title": {
          "text": "Carrier frequency:"
         },
         "tracegroupgap": 0,
         "x": 0.5,
         "xanchor": "center",
         "y": -0.15,
         "yanchor": "bottom"
        },
        "margin": {
         "b": 0,
         "l": 0,
         "r": 0,
         "t": 60
        },
        "plot_bgcolor": "white",
        "shapes": [
         {
          "line": {
           "color": "pink",
           "dash": "dot",
           "width": 2
          },
          "type": "rect",
          "x0": -0.12,
          "x1": 0.98,
          "xref": "paper",
          "y0": 0.8,
          "y1": 1,
          "yref": "paper"
         },
         {
          "line": {
           "color": "purple",
           "dash": "dot",
           "width": 3
          },
          "type": "rect",
          "x0": -0.12,
          "x1": 0.98,
          "xref": "paper",
          "y0": 0.4,
          "y1": 0.6,
          "yref": "paper"
         }
        ],
        "template": {
         "data": {
          "bar": [
           {
            "error_x": {
             "color": "#2a3f5f"
            },
            "error_y": {
             "color": "#2a3f5f"
            },
            "marker": {
             "line": {
              "color": "#E5ECF6",
              "width": 0.5
             },
             "pattern": {
              "fillmode": "overlay",
              "size": 10,
              "solidity": 0.2
             }
            },
            "type": "bar"
           }
          ],
          "barpolar": [
           {
            "marker": {
             "line": {
              "color": "#E5ECF6",
              "width": 0.5
             },
             "pattern": {
              "fillmode": "overlay",
              "size": 10,
              "solidity": 0.2
             }
            },
            "type": "barpolar"
           }
          ],
          "carpet": [
           {
            "aaxis": {
             "endlinecolor": "#2a3f5f",
             "gridcolor": "white",
             "linecolor": "white",
             "minorgridcolor": "white",
             "startlinecolor": "#2a3f5f"
            },
            "baxis": {
             "endlinecolor": "#2a3f5f",
             "gridcolor": "white",
             "linecolor": "white",
             "minorgridcolor": "white",
             "startlinecolor": "#2a3f5f"
            },
            "type": "carpet"
           }
          ],
          "choropleth": [
           {
            "colorbar": {
             "outlinewidth": 0,
             "ticks": ""
            },
            "type": "choropleth"
           }
          ],
          "contour": [
           {
            "colorbar": {
             "outlinewidth": 0,
             "ticks": ""
            },
            "colorscale": [
             [
              0,
              "#0d0887"
             ],
             [
              0.1111111111111111,
              "#46039f"
             ],
             [
              0.2222222222222222,
              "#7201a8"
             ],
             [
              0.3333333333333333,
              "#9c179e"
             ],
             [
              0.4444444444444444,
              "#bd3786"
             ],
             [
              0.5555555555555556,
              "#d8576b"
             ],
             [
              0.6666666666666666,
              "#ed7953"
             ],
             [
              0.7777777777777778,
              "#fb9f3a"
             ],
             [
              0.8888888888888888,
              "#fdca26"
             ],
             [
              1,
              "#f0f921"
             ]
            ],
            "type": "contour"
           }
          ],
          "contourcarpet": [
           {
            "colorbar": {
             "outlinewidth": 0,
             "ticks": ""
            },
            "type": "contourcarpet"
           }
          ],
          "heatmap": [
           {
            "colorbar": {
             "outlinewidth": 0,
             "ticks": ""
            },
            "colorscale": [
             [
              0,
              "#0d0887"
             ],
             [
              0.1111111111111111,
              "#46039f"
             ],
             [
              0.2222222222222222,
              "#7201a8"
             ],
             [
              0.3333333333333333,
              "#9c179e"
             ],
             [
              0.4444444444444444,
              "#bd3786"
             ],
             [
              0.5555555555555556,
              "#d8576b"
             ],
             [
              0.6666666666666666,
              "#ed7953"
             ],
             [
              0.7777777777777778,
              "#fb9f3a"
             ],
             [
              0.8888888888888888,
              "#fdca26"
             ],
             [
              1,
              "#f0f921"
             ]
            ],
            "type": "heatmap"
           }
          ],
          "heatmapgl": [
           {
            "colorbar": {
             "outlinewidth": 0,
             "ticks": ""
            },
            "colorscale": [
             [
              0,
              "#0d0887"
             ],
             [
              0.1111111111111111,
              "#46039f"
             ],
             [
              0.2222222222222222,
              "#7201a8"
             ],
             [
              0.3333333333333333,
              "#9c179e"
             ],
             [
              0.4444444444444444,
              "#bd3786"
             ],
             [
              0.5555555555555556,
              "#d8576b"
             ],
             [
              0.6666666666666666,
              "#ed7953"
             ],
             [
              0.7777777777777778,
              "#fb9f3a"
             ],
             [
              0.8888888888888888,
              "#fdca26"
             ],
             [
              1,
              "#f0f921"
             ]
            ],
            "type": "heatmapgl"
           }
          ],
          "histogram": [
           {
            "marker": {
             "pattern": {
              "fillmode": "overlay",
              "size": 10,
              "solidity": 0.2
             }
            },
            "type": "histogram"
           }
          ],
          "histogram2d": [
           {
            "colorbar": {
             "outlinewidth": 0,
             "ticks": ""
            },
            "colorscale": [
             [
              0,
              "#0d0887"
             ],
             [
              0.1111111111111111,
              "#46039f"
             ],
             [
              0.2222222222222222,
              "#7201a8"
             ],
             [
              0.3333333333333333,
              "#9c179e"
             ],
             [
              0.4444444444444444,
              "#bd3786"
             ],
             [
              0.5555555555555556,
              "#d8576b"
             ],
             [
              0.6666666666666666,
              "#ed7953"
             ],
             [
              0.7777777777777778,
              "#fb9f3a"
             ],
             [
              0.8888888888888888,
              "#fdca26"
             ],
             [
              1,
              "#f0f921"
             ]
            ],
            "type": "histogram2d"
           }
          ],
          "histogram2dcontour": [
           {
            "colorbar": {
             "outlinewidth": 0,
             "ticks": ""
            },
            "colorscale": [
             [
              0,
              "#0d0887"
             ],
             [
              0.1111111111111111,
              "#46039f"
             ],
             [
              0.2222222222222222,
              "#7201a8"
             ],
             [
              0.3333333333333333,
              "#9c179e"
             ],
             [
              0.4444444444444444,
              "#bd3786"
             ],
             [
              0.5555555555555556,
              "#d8576b"
             ],
             [
              0.6666666666666666,
              "#ed7953"
             ],
             [
              0.7777777777777778,
              "#fb9f3a"
             ],
             [
              0.8888888888888888,
              "#fdca26"
             ],
             [
              1,
              "#f0f921"
             ]
            ],
            "type": "histogram2dcontour"
           }
          ],
          "mesh3d": [
           {
            "colorbar": {
             "outlinewidth": 0,
             "ticks": ""
            },
            "type": "mesh3d"
           }
          ],
          "parcoords": [
           {
            "line": {
             "colorbar": {
              "outlinewidth": 0,
              "ticks": ""
             }
            },
            "type": "parcoords"
           }
          ],
          "pie": [
           {
            "automargin": true,
            "type": "pie"
           }
          ],
          "scatter": [
           {
            "fillpattern": {
             "fillmode": "overlay",
             "size": 10,
             "solidity": 0.2
            },
            "type": "scatter"
           }
          ],
          "scatter3d": [
           {
            "line": {
             "colorbar": {
              "outlinewidth": 0,
              "ticks": ""
             }
            },
            "marker": {
             "colorbar": {
              "outlinewidth": 0,
              "ticks": ""
             }
            },
            "type": "scatter3d"
           }
          ],
          "scattercarpet": [
           {
            "marker": {
             "colorbar": {
              "outlinewidth": 0,
              "ticks": ""
             }
            },
            "type": "scattercarpet"
           }
          ],
          "scattergeo": [
           {
            "marker": {
             "colorbar": {
              "outlinewidth": 0,
              "ticks": ""
             }
            },
            "type": "scattergeo"
           }
          ],
          "scattergl": [
           {
            "marker": {
             "colorbar": {
              "outlinewidth": 0,
              "ticks": ""
             }
            },
            "type": "scattergl"
           }
          ],
          "scattermapbox": [
           {
            "marker": {
             "colorbar": {
              "outlinewidth": 0,
              "ticks": ""
             }
            },
            "type": "scattermapbox"
           }
          ],
          "scatterpolar": [
           {
            "marker": {
             "colorbar": {
              "outlinewidth": 0,
              "ticks": ""
             }
            },
            "type": "scatterpolar"
           }
          ],
          "scatterpolargl": [
           {
            "marker": {
             "colorbar": {
              "outlinewidth": 0,
              "ticks": ""
             }
            },
            "type": "scatterpolargl"
           }
          ],
          "scatterternary": [
           {
            "marker": {
             "colorbar": {
              "outlinewidth": 0,
              "ticks": ""
             }
            },
            "type": "scatterternary"
           }
          ],
          "surface": [
           {
            "colorbar": {
             "outlinewidth": 0,
             "ticks": ""
            },
            "colorscale": [
             [
              0,
              "#0d0887"
             ],
             [
              0.1111111111111111,
              "#46039f"
             ],
             [
              0.2222222222222222,
              "#7201a8"
             ],
             [
              0.3333333333333333,
              "#9c179e"
             ],
             [
              0.4444444444444444,
              "#bd3786"
             ],
             [
              0.5555555555555556,
              "#d8576b"
             ],
             [
              0.6666666666666666,
              "#ed7953"
             ],
             [
              0.7777777777777778,
              "#fb9f3a"
             ],
             [
              0.8888888888888888,
              "#fdca26"
             ],
             [
              1,
              "#f0f921"
             ]
            ],
            "type": "surface"
           }
          ],
          "table": [
           {
            "cells": {
             "fill": {
              "color": "#EBF0F8"
             },
             "line": {
              "color": "white"
             }
            },
            "header": {
             "fill": {
              "color": "#C8D4E3"
             },
             "line": {
              "color": "white"
             }
            },
            "type": "table"
           }
          ]
         },
         "layout": {
          "annotationdefaults": {
           "arrowcolor": "#2a3f5f",
           "arrowhead": 0,
           "arrowwidth": 1
          },
          "autotypenumbers": "strict",
          "coloraxis": {
           "colorbar": {
            "outlinewidth": 0,
            "ticks": ""
           }
          },
          "colorscale": {
           "diverging": [
            [
             0,
             "#8e0152"
            ],
            [
             0.1,
             "#c51b7d"
            ],
            [
             0.2,
             "#de77ae"
            ],
            [
             0.3,
             "#f1b6da"
            ],
            [
             0.4,
             "#fde0ef"
            ],
            [
             0.5,
             "#f7f7f7"
            ],
            [
             0.6,
             "#e6f5d0"
            ],
            [
             0.7,
             "#b8e186"
            ],
            [
             0.8,
             "#7fbc41"
            ],
            [
             0.9,
             "#4d9221"
            ],
            [
             1,
             "#276419"
            ]
           ],
           "sequential": [
            [
             0,
             "#0d0887"
            ],
            [
             0.1111111111111111,
             "#46039f"
            ],
            [
             0.2222222222222222,
             "#7201a8"
            ],
            [
             0.3333333333333333,
             "#9c179e"
            ],
            [
             0.4444444444444444,
             "#bd3786"
            ],
            [
             0.5555555555555556,
             "#d8576b"
            ],
            [
             0.6666666666666666,
             "#ed7953"
            ],
            [
             0.7777777777777778,
             "#fb9f3a"
            ],
            [
             0.8888888888888888,
             "#fdca26"
            ],
            [
             1,
             "#f0f921"
            ]
           ],
           "sequentialminus": [
            [
             0,
             "#0d0887"
            ],
            [
             0.1111111111111111,
             "#46039f"
            ],
            [
             0.2222222222222222,
             "#7201a8"
            ],
            [
             0.3333333333333333,
             "#9c179e"
            ],
            [
             0.4444444444444444,
             "#bd3786"
            ],
            [
             0.5555555555555556,
             "#d8576b"
            ],
            [
             0.6666666666666666,
             "#ed7953"
            ],
            [
             0.7777777777777778,
             "#fb9f3a"
            ],
            [
             0.8888888888888888,
             "#fdca26"
            ],
            [
             1,
             "#f0f921"
            ]
           ]
          },
          "colorway": [
           "#636efa",
           "#EF553B",
           "#00cc96",
           "#ab63fa",
           "#FFA15A",
           "#19d3f3",
           "#FF6692",
           "#B6E880",
           "#FF97FF",
           "#FECB52"
          ],
          "font": {
           "color": "#2a3f5f"
          },
          "geo": {
           "bgcolor": "white",
           "lakecolor": "white",
           "landcolor": "#E5ECF6",
           "showlakes": true,
           "showland": true,
           "subunitcolor": "white"
          },
          "hoverlabel": {
           "align": "left"
          },
          "hovermode": "closest",
          "mapbox": {
           "style": "light"
          },
          "paper_bgcolor": "white",
          "plot_bgcolor": "#E5ECF6",
          "polar": {
           "angularaxis": {
            "gridcolor": "white",
            "linecolor": "white",
            "ticks": ""
           },
           "bgcolor": "#E5ECF6",
           "radialaxis": {
            "gridcolor": "white",
            "linecolor": "white",
            "ticks": ""
           }
          },
          "scene": {
           "xaxis": {
            "backgroundcolor": "#E5ECF6",
            "gridcolor": "white",
            "gridwidth": 2,
            "linecolor": "white",
            "showbackground": true,
            "ticks": "",
            "zerolinecolor": "white"
           },
           "yaxis": {
            "backgroundcolor": "#E5ECF6",
            "gridcolor": "white",
            "gridwidth": 2,
            "linecolor": "white",
            "showbackground": true,
            "ticks": "",
            "zerolinecolor": "white"
           },
           "zaxis": {
            "backgroundcolor": "#E5ECF6",
            "gridcolor": "white",
            "gridwidth": 2,
            "linecolor": "white",
            "showbackground": true,
            "ticks": "",
            "zerolinecolor": "white"
           }
          },
          "shapedefaults": {
           "line": {
            "color": "#2a3f5f"
           }
          },
          "ternary": {
           "aaxis": {
            "gridcolor": "white",
            "linecolor": "white",
            "ticks": ""
           },
           "baxis": {
            "gridcolor": "white",
            "linecolor": "white",
            "ticks": ""
           },
           "bgcolor": "#E5ECF6",
           "caxis": {
            "gridcolor": "white",
            "linecolor": "white",
            "ticks": ""
           }
          },
          "title": {
           "x": 0.05
          },
          "xaxis": {
           "automargin": true,
           "gridcolor": "white",
           "linecolor": "white",
           "ticks": "",
           "title": {
            "standoff": 15
           },
           "zerolinecolor": "white",
           "zerolinewidth": 2
          },
          "yaxis": {
           "automargin": true,
           "gridcolor": "white",
           "linecolor": "white",
           "ticks": "",
           "title": {
            "standoff": 15
           },
           "zerolinecolor": "white",
           "zerolinewidth": 2
          }
         }
        },
        "title": {
         "text": "",
         "x": 0.5
        },
        "xaxis": {
         "anchor": "y",
         "domain": [
          0,
          0.49
         ],
         "showticklabels": false,
         "title": {
          "text": ""
         }
        },
        "xaxis2": {
         "anchor": "y2",
         "domain": [
          0.51,
          1
         ],
         "matches": "x",
         "showticklabels": false,
         "title": {
          "text": ""
         }
        },
        "yaxis": {
         "anchor": "x",
         "domain": [
          0,
          1
         ],
         "tickcolor": "white",
         "ticks": "outside",
         "title": {
          "text": "Cohort<br>"
         }
        },
        "yaxis2": {
         "anchor": "x2",
         "domain": [
          0,
          1
         ],
         "matches": "y",
         "showticklabels": false,
         "tickcolor": "white",
         "ticks": "outside"
        }
       }
      },
      "text/html": [
       "<div>                            <div id=\"6557a8b8-8de0-4fb5-b138-0f9ef8e9a8a2\" class=\"plotly-graph-div\" style=\"height:525px; width:100%;\"></div>            <script type=\"text/javascript\">                require([\"plotly\"], function(Plotly) {                    window.PLOTLYENV=window.PLOTLYENV || {};                                    if (document.getElementById(\"6557a8b8-8de0-4fb5-b138-0f9ef8e9a8a2\")) {                    Plotly.newPlot(                        \"6557a8b8-8de0-4fb5-b138-0f9ef8e9a8a2\",                        [{\"alignmentgroup\":\"True\",\"hovertemplate\":\"Haplotype=hapA\\u003cbr\\u003ephenotype=aFTLD-U\\u003cbr\\u003eProportion=%{x}\\u003cbr\\u003eCohort=%{y}\\u003cextra\\u003e\\u003c\\u002fextra\\u003e\",\"legendgroup\":\"hapA\",\"marker\":{\"color\":\"red\",\"pattern\":{\"shape\":\"\"}},\"name\":\"hapA\",\"offsetgroup\":\"hapA\",\"orientation\":\"h\",\"showlegend\":true,\"textposition\":\"auto\",\"x\":[0.4367816091954023,0.32142857142857145,0.4915254237288136,0.5277777777777778,0.43478260869565216],\"xaxis\":\"x\",\"y\":[\"Cohort 1+2+3\",\"Cohort 3\",\"Cohort 1+2\",\"Cohort 2\",\"Cohort 1\"],\"yaxis\":\"y\",\"type\":\"bar\"},{\"alignmentgroup\":\"True\",\"hovertemplate\":\"Haplotype=hapA\\u003cbr\\u003ephenotype=Controls\\u003cbr\\u003eProportion=%{x}\\u003cbr\\u003eCohort=%{y}\\u003cextra\\u003e\\u003c\\u002fextra\\u003e\",\"legendgroup\":\"hapA\",\"marker\":{\"color\":\"red\",\"pattern\":{\"shape\":\"\"}},\"name\":\"hapA\",\"offsetgroup\":\"hapA\",\"orientation\":\"h\",\"showlegend\":false,\"textposition\":\"auto\",\"x\":[0.014914243102162566,0.015968063872255488,0.014564713670969877,0.01658890616899948,0.01098901098901099],\"xaxis\":\"x2\",\"y\":[\"Cohort 1+2+3\",\"Cohort 3\",\"Cohort 1+2\",\"Cohort 2\",\"Cohort 1\"],\"yaxis\":\"y2\",\"type\":\"bar\"},{\"alignmentgroup\":\"True\",\"hovertemplate\":\"Haplotype=hapB\\u003cbr\\u003ephenotype=aFTLD-U\\u003cbr\\u003eProportion=%{x}\\u003cbr\\u003eCohort=%{y}\\u003cextra\\u003e\\u003c\\u002fextra\\u003e\",\"legendgroup\":\"hapB\",\"marker\":{\"color\":\"orange\",\"pattern\":{\"shape\":\"\"}},\"name\":\"hapB\",\"offsetgroup\":\"hapB\",\"orientation\":\"h\",\"showlegend\":true,\"textposition\":\"auto\",\"x\":[0.14942528735632185,0.03571428571428571,0.2033898305084746,0.19444444444444445,0.21739130434782608],\"xaxis\":\"x\",\"y\":[\"Cohort 1+2+3\",\"Cohort 3\",\"Cohort 1+2\",\"Cohort 2\",\"Cohort 1\"],\"yaxis\":\"y\",\"type\":\"bar\"},{\"alignmentgroup\":\"True\",\"hovertemplate\":\"Haplotype=hapB\\u003cbr\\u003ephenotype=Controls\\u003cbr\\u003eProportion=%{x}\\u003cbr\\u003eCohort=%{y}\\u003cextra\\u003e\\u003c\\u002fextra\\u003e\",\"legendgroup\":\"hapB\",\"marker\":{\"color\":\"orange\",\"pattern\":{\"shape\":\"\"}},\"name\":\"hapB\",\"offsetgroup\":\"hapB\",\"orientation\":\"h\",\"showlegend\":false,\"textposition\":\"auto\",\"x\":[0.05791697738006463,0.059880239520958084,0.0572658060244952,0.05287713841368585,0.06501831501831502],\"xaxis\":\"x2\",\"y\":[\"Cohort 1+2+3\",\"Cohort 3\",\"Cohort 1+2\",\"Cohort 2\",\"Cohort 1\"],\"yaxis\":\"y2\",\"type\":\"bar\"},{\"alignmentgroup\":\"True\",\"hovertemplate\":\"Haplotype=none\\u003cbr\\u003ephenotype=aFTLD-U\\u003cbr\\u003eProportion=%{x}\\u003cbr\\u003eCohort=%{y}\\u003cextra\\u003e\\u003c\\u002fextra\\u003e\",\"legendgroup\":\"none\",\"marker\":{\"color\":\"green\",\"pattern\":{\"shape\":\"\"}},\"name\":\"none\",\"offsetgroup\":\"none\",\"orientation\":\"h\",\"showlegend\":true,\"textposition\":\"auto\",\"x\":[0.41379310344827586,0.6428571428571429,0.3050847457627119,0.2777777777777778,0.34782608695652173],\"xaxis\":\"x\",\"y\":[\"Cohort 1+2+3\",\"Cohort 3\",\"Cohort 1+2\",\"Cohort 2\",\"Cohort 1\"],\"yaxis\":\"y\",\"type\":\"bar\"},{\"alignmentgroup\":\"True\",\"hovertemplate\":\"Haplotype=none\\u003cbr\\u003ephenotype=Controls\\u003cbr\\u003eProportion=%{x}\\u003cbr\\u003eCohort=%{y}\\u003cextra\\u003e\\u003c\\u002fextra\\u003e\",\"legendgroup\":\"none\",\"marker\":{\"color\":\"green\",\"pattern\":{\"shape\":\"\"}},\"name\":\"none\",\"offsetgroup\":\"none\",\"orientation\":\"h\",\"showlegend\":false,\"textposition\":\"auto\",\"x\":[0.9271687795177728,0.9241516966067864,0.9281694803045349,0.9305339554173147,0.923992673992674],\"xaxis\":\"x2\",\"y\":[\"Cohort 1+2+3\",\"Cohort 3\",\"Cohort 1+2\",\"Cohort 2\",\"Cohort 1\"],\"yaxis\":\"y2\",\"type\":\"bar\"}],                        {\"template\":{\"data\":{\"histogram2dcontour\":[{\"type\":\"histogram2dcontour\",\"colorbar\":{\"outlinewidth\":0,\"ticks\":\"\"},\"colorscale\":[[0.0,\"#0d0887\"],[0.1111111111111111,\"#46039f\"],[0.2222222222222222,\"#7201a8\"],[0.3333333333333333,\"#9c179e\"],[0.4444444444444444,\"#bd3786\"],[0.5555555555555556,\"#d8576b\"],[0.6666666666666666,\"#ed7953\"],[0.7777777777777778,\"#fb9f3a\"],[0.8888888888888888,\"#fdca26\"],[1.0,\"#f0f921\"]]}],\"choropleth\":[{\"type\":\"choropleth\",\"colorbar\":{\"outlinewidth\":0,\"ticks\":\"\"}}],\"histogram2d\":[{\"type\":\"histogram2d\",\"colorbar\":{\"outlinewidth\":0,\"ticks\":\"\"},\"colorscale\":[[0.0,\"#0d0887\"],[0.1111111111111111,\"#46039f\"],[0.2222222222222222,\"#7201a8\"],[0.3333333333333333,\"#9c179e\"],[0.4444444444444444,\"#bd3786\"],[0.5555555555555556,\"#d8576b\"],[0.6666666666666666,\"#ed7953\"],[0.7777777777777778,\"#fb9f3a\"],[0.8888888888888888,\"#fdca26\"],[1.0,\"#f0f921\"]]}],\"heatmap\":[{\"type\":\"heatmap\",\"colorbar\":{\"outlinewidth\":0,\"ticks\":\"\"},\"colorscale\":[[0.0,\"#0d0887\"],[0.1111111111111111,\"#46039f\"],[0.2222222222222222,\"#7201a8\"],[0.3333333333333333,\"#9c179e\"],[0.4444444444444444,\"#bd3786\"],[0.5555555555555556,\"#d8576b\"],[0.6666666666666666,\"#ed7953\"],[0.7777777777777778,\"#fb9f3a\"],[0.8888888888888888,\"#fdca26\"],[1.0,\"#f0f921\"]]}],\"heatmapgl\":[{\"type\":\"heatmapgl\",\"colorbar\":{\"outlinewidth\":0,\"ticks\":\"\"},\"colorscale\":[[0.0,\"#0d0887\"],[0.1111111111111111,\"#46039f\"],[0.2222222222222222,\"#7201a8\"],[0.3333333333333333,\"#9c179e\"],[0.4444444444444444,\"#bd3786\"],[0.5555555555555556,\"#d8576b\"],[0.6666666666666666,\"#ed7953\"],[0.7777777777777778,\"#fb9f3a\"],[0.8888888888888888,\"#fdca26\"],[1.0,\"#f0f921\"]]}],\"contourcarpet\":[{\"type\":\"contourcarpet\",\"colorbar\":{\"outlinewidth\":0,\"ticks\":\"\"}}],\"contour\":[{\"type\":\"contour\",\"colorbar\":{\"outlinewidth\":0,\"ticks\":\"\"},\"colorscale\":[[0.0,\"#0d0887\"],[0.1111111111111111,\"#46039f\"],[0.2222222222222222,\"#7201a8\"],[0.3333333333333333,\"#9c179e\"],[0.4444444444444444,\"#bd3786\"],[0.5555555555555556,\"#d8576b\"],[0.6666666666666666,\"#ed7953\"],[0.7777777777777778,\"#fb9f3a\"],[0.8888888888888888,\"#fdca26\"],[1.0,\"#f0f921\"]]}],\"surface\":[{\"type\":\"surface\",\"colorbar\":{\"outlinewidth\":0,\"ticks\":\"\"},\"colorscale\":[[0.0,\"#0d0887\"],[0.1111111111111111,\"#46039f\"],[0.2222222222222222,\"#7201a8\"],[0.3333333333333333,\"#9c179e\"],[0.4444444444444444,\"#bd3786\"],[0.5555555555555556,\"#d8576b\"],[0.6666666666666666,\"#ed7953\"],[0.7777777777777778,\"#fb9f3a\"],[0.8888888888888888,\"#fdca26\"],[1.0,\"#f0f921\"]]}],\"mesh3d\":[{\"type\":\"mesh3d\",\"colorbar\":{\"outlinewidth\":0,\"ticks\":\"\"}}],\"scatter\":[{\"fillpattern\":{\"fillmode\":\"overlay\",\"size\":10,\"solidity\":0.2},\"type\":\"scatter\"}],\"parcoords\":[{\"type\":\"parcoords\",\"line\":{\"colorbar\":{\"outlinewidth\":0,\"ticks\":\"\"}}}],\"scatterpolargl\":[{\"type\":\"scatterpolargl\",\"marker\":{\"colorbar\":{\"outlinewidth\":0,\"ticks\":\"\"}}}],\"bar\":[{\"error_x\":{\"color\":\"#2a3f5f\"},\"error_y\":{\"color\":\"#2a3f5f\"},\"marker\":{\"line\":{\"color\":\"#E5ECF6\",\"width\":0.5},\"pattern\":{\"fillmode\":\"overlay\",\"size\":10,\"solidity\":0.2}},\"type\":\"bar\"}],\"scattergeo\":[{\"type\":\"scattergeo\",\"marker\":{\"colorbar\":{\"outlinewidth\":0,\"ticks\":\"\"}}}],\"scatterpolar\":[{\"type\":\"scatterpolar\",\"marker\":{\"colorbar\":{\"outlinewidth\":0,\"ticks\":\"\"}}}],\"histogram\":[{\"marker\":{\"pattern\":{\"fillmode\":\"overlay\",\"size\":10,\"solidity\":0.2}},\"type\":\"histogram\"}],\"scattergl\":[{\"type\":\"scattergl\",\"marker\":{\"colorbar\":{\"outlinewidth\":0,\"ticks\":\"\"}}}],\"scatter3d\":[{\"type\":\"scatter3d\",\"line\":{\"colorbar\":{\"outlinewidth\":0,\"ticks\":\"\"}},\"marker\":{\"colorbar\":{\"outlinewidth\":0,\"ticks\":\"\"}}}],\"scattermapbox\":[{\"type\":\"scattermapbox\",\"marker\":{\"colorbar\":{\"outlinewidth\":0,\"ticks\":\"\"}}}],\"scatterternary\":[{\"type\":\"scatterternary\",\"marker\":{\"colorbar\":{\"outlinewidth\":0,\"ticks\":\"\"}}}],\"scattercarpet\":[{\"type\":\"scattercarpet\",\"marker\":{\"colorbar\":{\"outlinewidth\":0,\"ticks\":\"\"}}}],\"carpet\":[{\"aaxis\":{\"endlinecolor\":\"#2a3f5f\",\"gridcolor\":\"white\",\"linecolor\":\"white\",\"minorgridcolor\":\"white\",\"startlinecolor\":\"#2a3f5f\"},\"baxis\":{\"endlinecolor\":\"#2a3f5f\",\"gridcolor\":\"white\",\"linecolor\":\"white\",\"minorgridcolor\":\"white\",\"startlinecolor\":\"#2a3f5f\"},\"type\":\"carpet\"}],\"table\":[{\"cells\":{\"fill\":{\"color\":\"#EBF0F8\"},\"line\":{\"color\":\"white\"}},\"header\":{\"fill\":{\"color\":\"#C8D4E3\"},\"line\":{\"color\":\"white\"}},\"type\":\"table\"}],\"barpolar\":[{\"marker\":{\"line\":{\"color\":\"#E5ECF6\",\"width\":0.5},\"pattern\":{\"fillmode\":\"overlay\",\"size\":10,\"solidity\":0.2}},\"type\":\"barpolar\"}],\"pie\":[{\"automargin\":true,\"type\":\"pie\"}]},\"layout\":{\"autotypenumbers\":\"strict\",\"colorway\":[\"#636efa\",\"#EF553B\",\"#00cc96\",\"#ab63fa\",\"#FFA15A\",\"#19d3f3\",\"#FF6692\",\"#B6E880\",\"#FF97FF\",\"#FECB52\"],\"font\":{\"color\":\"#2a3f5f\"},\"hovermode\":\"closest\",\"hoverlabel\":{\"align\":\"left\"},\"paper_bgcolor\":\"white\",\"plot_bgcolor\":\"#E5ECF6\",\"polar\":{\"bgcolor\":\"#E5ECF6\",\"angularaxis\":{\"gridcolor\":\"white\",\"linecolor\":\"white\",\"ticks\":\"\"},\"radialaxis\":{\"gridcolor\":\"white\",\"linecolor\":\"white\",\"ticks\":\"\"}},\"ternary\":{\"bgcolor\":\"#E5ECF6\",\"aaxis\":{\"gridcolor\":\"white\",\"linecolor\":\"white\",\"ticks\":\"\"},\"baxis\":{\"gridcolor\":\"white\",\"linecolor\":\"white\",\"ticks\":\"\"},\"caxis\":{\"gridcolor\":\"white\",\"linecolor\":\"white\",\"ticks\":\"\"}},\"coloraxis\":{\"colorbar\":{\"outlinewidth\":0,\"ticks\":\"\"}},\"colorscale\":{\"sequential\":[[0.0,\"#0d0887\"],[0.1111111111111111,\"#46039f\"],[0.2222222222222222,\"#7201a8\"],[0.3333333333333333,\"#9c179e\"],[0.4444444444444444,\"#bd3786\"],[0.5555555555555556,\"#d8576b\"],[0.6666666666666666,\"#ed7953\"],[0.7777777777777778,\"#fb9f3a\"],[0.8888888888888888,\"#fdca26\"],[1.0,\"#f0f921\"]],\"sequentialminus\":[[0.0,\"#0d0887\"],[0.1111111111111111,\"#46039f\"],[0.2222222222222222,\"#7201a8\"],[0.3333333333333333,\"#9c179e\"],[0.4444444444444444,\"#bd3786\"],[0.5555555555555556,\"#d8576b\"],[0.6666666666666666,\"#ed7953\"],[0.7777777777777778,\"#fb9f3a\"],[0.8888888888888888,\"#fdca26\"],[1.0,\"#f0f921\"]],\"diverging\":[[0,\"#8e0152\"],[0.1,\"#c51b7d\"],[0.2,\"#de77ae\"],[0.3,\"#f1b6da\"],[0.4,\"#fde0ef\"],[0.5,\"#f7f7f7\"],[0.6,\"#e6f5d0\"],[0.7,\"#b8e186\"],[0.8,\"#7fbc41\"],[0.9,\"#4d9221\"],[1,\"#276419\"]]},\"xaxis\":{\"gridcolor\":\"white\",\"linecolor\":\"white\",\"ticks\":\"\",\"title\":{\"standoff\":15},\"zerolinecolor\":\"white\",\"automargin\":true,\"zerolinewidth\":2},\"yaxis\":{\"gridcolor\":\"white\",\"linecolor\":\"white\",\"ticks\":\"\",\"title\":{\"standoff\":15},\"zerolinecolor\":\"white\",\"automargin\":true,\"zerolinewidth\":2},\"scene\":{\"xaxis\":{\"backgroundcolor\":\"#E5ECF6\",\"gridcolor\":\"white\",\"linecolor\":\"white\",\"showbackground\":true,\"ticks\":\"\",\"zerolinecolor\":\"white\",\"gridwidth\":2},\"yaxis\":{\"backgroundcolor\":\"#E5ECF6\",\"gridcolor\":\"white\",\"linecolor\":\"white\",\"showbackground\":true,\"ticks\":\"\",\"zerolinecolor\":\"white\",\"gridwidth\":2},\"zaxis\":{\"backgroundcolor\":\"#E5ECF6\",\"gridcolor\":\"white\",\"linecolor\":\"white\",\"showbackground\":true,\"ticks\":\"\",\"zerolinecolor\":\"white\",\"gridwidth\":2}},\"shapedefaults\":{\"line\":{\"color\":\"#2a3f5f\"}},\"annotationdefaults\":{\"arrowcolor\":\"#2a3f5f\",\"arrowhead\":0,\"arrowwidth\":1},\"geo\":{\"bgcolor\":\"white\",\"landcolor\":\"#E5ECF6\",\"subunitcolor\":\"white\",\"showland\":true,\"showlakes\":true,\"lakecolor\":\"white\"},\"title\":{\"x\":0.05},\"mapbox\":{\"style\":\"light\"}}},\"xaxis\":{\"anchor\":\"y\",\"domain\":[0.0,0.49],\"title\":{\"text\":\"\"},\"showticklabels\":false},\"yaxis\":{\"anchor\":\"x\",\"domain\":[0.0,1.0],\"title\":{\"text\":\"Cohort\\u003cbr\\u003e\"},\"ticks\":\"outside\",\"tickcolor\":\"white\"},\"xaxis2\":{\"anchor\":\"y2\",\"domain\":[0.51,1.0],\"matches\":\"x\",\"title\":{\"text\":\"\"},\"showticklabels\":false},\"yaxis2\":{\"anchor\":\"x2\",\"domain\":[0.0,1.0],\"matches\":\"y\",\"showticklabels\":false,\"ticks\":\"outside\",\"tickcolor\":\"white\"},\"annotations\":[{\"font\":{\"size\":36},\"showarrow\":false,\"text\":\"aFTLD-U\",\"x\":0.245,\"xanchor\":\"left\",\"xref\":\"paper\",\"y\":1.0,\"yanchor\":\"bottom\",\"yref\":\"paper\"},{\"font\":{\"size\":36},\"showarrow\":false,\"text\":\"Controls\",\"x\":0.755,\"xanchor\":\"left\",\"xref\":\"paper\",\"y\":1.0,\"yanchor\":\"bottom\",\"yref\":\"paper\"},{\"font\":{\"color\":\"white\",\"size\":24},\"showarrow\":false,\"text\":\"10\",\"x\":0.21739130434782608,\"xref\":\"x\",\"y\":\"Cohort 1\",\"yref\":\"y\"},{\"font\":{\"color\":\"white\",\"size\":24},\"showarrow\":false,\"text\":\"5\",\"x\":0.5434782608695652,\"xref\":\"x\",\"y\":\"Cohort 1\",\"yref\":\"y\"},{\"font\":{\"color\":\"white\",\"size\":24},\"showarrow\":false,\"text\":\"8\",\"x\":0.8260869565217391,\"xref\":\"x\",\"y\":\"Cohort 1\",\"yref\":\"y\"},{\"font\":{\"color\":\"black\",\"size\":24},\"showarrow\":false,\"text\":\"N=23\",\"x\":-0.08,\"xref\":\"x\",\"y\":\"Cohort 1\",\"yref\":\"y\"},{\"font\":{\"color\":\"white\",\"size\":24},\"showarrow\":false,\"text\":\"19\",\"x\":0.2638888888888889,\"xref\":\"x\",\"y\":\"Cohort 2\",\"yref\":\"y\"},{\"font\":{\"color\":\"white\",\"size\":24},\"showarrow\":false,\"text\":\"7\",\"x\":0.625,\"xref\":\"x\",\"y\":\"Cohort 2\",\"yref\":\"y\"},{\"font\":{\"color\":\"white\",\"size\":24},\"showarrow\":false,\"text\":\"10\",\"x\":0.8611111111111112,\"xref\":\"x\",\"y\":\"Cohort 2\",\"yref\":\"y\"},{\"font\":{\"color\":\"black\",\"size\":24},\"showarrow\":false,\"text\":\"N=36\",\"x\":-0.08,\"xref\":\"x\",\"y\":\"Cohort 2\",\"yref\":\"y\"},{\"font\":{\"color\":\"white\",\"size\":24},\"showarrow\":false,\"text\":\"29\",\"x\":0.2457627118644068,\"xref\":\"x\",\"y\":\"Cohort 1+2\",\"yref\":\"y\"},{\"font\":{\"color\":\"white\",\"size\":24},\"showarrow\":false,\"text\":\"12\",\"x\":0.5932203389830508,\"xref\":\"x\",\"y\":\"Cohort 1+2\",\"yref\":\"y\"},{\"font\":{\"color\":\"white\",\"size\":24},\"showarrow\":false,\"text\":\"18\",\"x\":0.8474576271186441,\"xref\":\"x\",\"y\":\"Cohort 1+2\",\"yref\":\"y\"},{\"font\":{\"color\":\"black\",\"size\":24},\"showarrow\":false,\"text\":\"N=59\",\"x\":-0.08,\"xref\":\"x\",\"y\":\"Cohort 1+2\",\"yref\":\"y\"},{\"font\":{\"color\":\"white\",\"size\":24},\"showarrow\":false,\"text\":\"9\",\"x\":0.16071428571428573,\"xref\":\"x\",\"y\":\"Cohort 3\",\"yref\":\"y\"},{\"font\":{\"color\":\"white\",\"size\":24},\"showarrow\":false,\"text\":\"1\",\"x\":0.3392857142857143,\"xref\":\"x\",\"y\":\"Cohort 3\",\"yref\":\"y\"},{\"font\":{\"color\":\"white\",\"size\":24},\"showarrow\":false,\"text\":\"18\",\"x\":0.6785714285714286,\"xref\":\"x\",\"y\":\"Cohort 3\",\"yref\":\"y\"},{\"font\":{\"color\":\"black\",\"size\":24},\"showarrow\":false,\"text\":\"N=28\",\"x\":-0.08,\"xref\":\"x\",\"y\":\"Cohort 3\",\"yref\":\"y\"},{\"font\":{\"color\":\"white\",\"size\":24},\"showarrow\":false,\"text\":\"38\",\"x\":0.21839080459770116,\"xref\":\"x\",\"y\":\"Cohort 1+2+3\",\"yref\":\"y\"},{\"font\":{\"color\":\"white\",\"size\":24},\"showarrow\":false,\"text\":\"13\",\"x\":0.5114942528735632,\"xref\":\"x\",\"y\":\"Cohort 1+2+3\",\"yref\":\"y\"},{\"font\":{\"color\":\"white\",\"size\":24},\"showarrow\":false,\"text\":\"36\",\"x\":0.7931034482758621,\"xref\":\"x\",\"y\":\"Cohort 1+2+3\",\"yref\":\"y\"},{\"font\":{\"color\":\"black\",\"size\":24},\"showarrow\":false,\"text\":\"N=87\",\"x\":-0.08,\"xref\":\"x\",\"y\":\"Cohort 1+2+3\",\"yref\":\"y\"},{\"arrowhead\":1,\"ax\":-20,\"ay\":-15,\"font\":{\"color\":\"black\",\"size\":24},\"showarrow\":true,\"text\":\"12\",\"x\":0.005494505494505495,\"xref\":\"x2\",\"y\":\"Cohort 1\",\"yref\":\"y2\",\"yshift\":0},{\"font\":{\"color\":\"white\",\"size\":24},\"showarrow\":false,\"text\":\"71\",\"textangle\":-60,\"x\":0.0434981684981685,\"xref\":\"x2\",\"y\":\"Cohort 1\",\"yref\":\"y2\"},{\"font\":{\"color\":\"white\",\"size\":24},\"showarrow\":false,\"text\":\"1009\",\"x\":0.5380036630036631,\"xref\":\"x2\",\"y\":\"Cohort 1\",\"yref\":\"y2\"},{\"font\":{\"color\":\"black\",\"size\":24},\"showarrow\":false,\"text\":\"N=1092\",\"x\":-0.18,\"xref\":\"x2\",\"y\":\"Cohort 1\",\"yref\":\"y2\"},{\"arrowhead\":1,\"ax\":-20,\"ay\":-15,\"font\":{\"color\":\"black\",\"size\":24},\"showarrow\":true,\"text\":\"32\",\"x\":0.00829445308449974,\"xref\":\"x2\",\"y\":\"Cohort 2\",\"yref\":\"y2\",\"yshift\":0},{\"font\":{\"color\":\"white\",\"size\":24},\"showarrow\":false,\"text\":\"102\",\"textangle\":-60,\"x\":0.04302747537584241,\"xref\":\"x2\",\"y\":\"Cohort 2\",\"yref\":\"y2\"},{\"font\":{\"color\":\"white\",\"size\":24},\"showarrow\":false,\"text\":\"1795\",\"x\":0.5347330222913427,\"xref\":\"x2\",\"y\":\"Cohort 2\",\"yref\":\"y2\"},{\"font\":{\"color\":\"black\",\"size\":24},\"showarrow\":false,\"text\":\"N=1929\",\"x\":-0.18,\"xref\":\"x2\",\"y\":\"Cohort 2\",\"yref\":\"y2\"},{\"arrowhead\":1,\"ax\":-20,\"ay\":-15,\"font\":{\"color\":\"black\",\"size\":24},\"showarrow\":true,\"text\":\"44\",\"x\":0.007282356835484938,\"xref\":\"x2\",\"y\":\"Cohort 1+2\",\"yref\":\"y2\",\"yshift\":0},{\"font\":{\"color\":\"white\",\"size\":24},\"showarrow\":false,\"text\":\"173\",\"textangle\":-60,\"x\":0.04319761668321748,\"xref\":\"x2\",\"y\":\"Cohort 1+2\",\"yref\":\"y2\"},{\"font\":{\"color\":\"white\",\"size\":24},\"showarrow\":false,\"text\":\"2804\",\"x\":0.5359152598477326,\"xref\":\"x2\",\"y\":\"Cohort 1+2\",\"yref\":\"y2\"},{\"font\":{\"color\":\"black\",\"size\":24},\"showarrow\":false,\"text\":\"N=3021\",\"x\":-0.18,\"xref\":\"x2\",\"y\":\"Cohort 1+2\",\"yref\":\"y2\"},{\"arrowhead\":1,\"ax\":-20,\"ay\":-15,\"font\":{\"color\":\"black\",\"size\":24},\"showarrow\":true,\"text\":\"16\",\"x\":0.007984031936127744,\"xref\":\"x2\",\"y\":\"Cohort 3\",\"yref\":\"y2\",\"yshift\":0},{\"font\":{\"color\":\"white\",\"size\":24},\"showarrow\":false,\"text\":\"60\",\"textangle\":-60,\"x\":0.04590818363273453,\"xref\":\"x2\",\"y\":\"Cohort 3\",\"yref\":\"y2\"},{\"font\":{\"color\":\"white\",\"size\":24},\"showarrow\":false,\"text\":\"926\",\"x\":0.5379241516966068,\"xref\":\"x2\",\"y\":\"Cohort 3\",\"yref\":\"y2\"},{\"font\":{\"color\":\"black\",\"size\":24},\"showarrow\":false,\"text\":\"N=1002\",\"x\":-0.18,\"xref\":\"x2\",\"y\":\"Cohort 3\",\"yref\":\"y2\"},{\"arrowhead\":1,\"ax\":-20,\"ay\":-15,\"font\":{\"color\":\"black\",\"size\":24},\"showarrow\":true,\"text\":\"60\",\"x\":0.007457121551081283,\"xref\":\"x2\",\"y\":\"Cohort 1+2+3\",\"yref\":\"y2\",\"yshift\":0},{\"font\":{\"color\":\"white\",\"size\":24},\"showarrow\":false,\"text\":\"233\",\"textangle\":-60,\"x\":0.04387273179219488,\"xref\":\"x2\",\"y\":\"Cohort 1+2+3\",\"yref\":\"y2\"},{\"font\":{\"color\":\"white\",\"size\":24},\"showarrow\":false,\"text\":\"3730\",\"x\":0.5364156102411136,\"xref\":\"x2\",\"y\":\"Cohort 1+2+3\",\"yref\":\"y2\"},{\"font\":{\"color\":\"black\",\"size\":24},\"showarrow\":false,\"text\":\"N=4023\",\"x\":-0.18,\"xref\":\"x2\",\"y\":\"Cohort 1+2+3\",\"yref\":\"y2\"},{\"font\":{\"color\":\"pink\",\"size\":20},\"showarrow\":false,\"text\":\"GWAS Phase I\",\"x\":-0.23,\"y\":\"Cohort 1\",\"yshift\":20},{\"font\":{\"color\":\"purple\",\"size\":20},\"showarrow\":false,\"text\":\"GWAS Phase II\",\"x\":-0.23,\"y\":\"Cohort 1+2\",\"yshift\":20}],\"legend\":{\"title\":{\"text\":\"Carrier frequency:\"},\"tracegroupgap\":0,\"orientation\":\"h\",\"yanchor\":\"bottom\",\"y\":-0.15,\"xanchor\":\"center\",\"x\":0.5},\"margin\":{\"t\":60,\"l\":0,\"r\":0,\"b\":0},\"barmode\":\"relative\",\"title\":{\"text\":\"\",\"x\":0.5},\"font\":{\"size\":24},\"plot_bgcolor\":\"white\",\"shapes\":[{\"line\":{\"color\":\"pink\",\"dash\":\"dot\",\"width\":2},\"type\":\"rect\",\"x0\":-0.12,\"x1\":0.98,\"xref\":\"paper\",\"y0\":0.8,\"y1\":1,\"yref\":\"paper\"},{\"line\":{\"color\":\"purple\",\"dash\":\"dot\",\"width\":3},\"type\":\"rect\",\"x0\":-0.12,\"x1\":0.98,\"xref\":\"paper\",\"y0\":0.4,\"y1\":0.6,\"yref\":\"paper\"}]},                        {\"responsive\": true}                    ).then(function(){\n",
       "                            \n",
       "var gd = document.getElementById('6557a8b8-8de0-4fb5-b138-0f9ef8e9a8a2');\n",
       "var x = new MutationObserver(function (mutations, observer) {{\n",
       "        var display = window.getComputedStyle(gd).display;\n",
       "        if (!display || display === 'none') {{\n",
       "            console.log([gd, 'removed!']);\n",
       "            Plotly.purge(gd);\n",
       "            observer.disconnect();\n",
       "        }}\n",
       "}});\n",
       "\n",
       "// Listen for the removal of the full notebook cells\n",
       "var notebookContainer = gd.closest('#notebook-container');\n",
       "if (notebookContainer) {{\n",
       "    x.observe(notebookContainer, {childList: true});\n",
       "}}\n",
       "\n",
       "// Listen for the clearing of the current output cell\n",
       "var outputEl = gd.closest('.output');\n",
       "if (outputEl) {{\n",
       "    x.observe(outputEl, {childList: true});\n",
       "}}\n",
       "\n",
       "                        })                };                });            </script>        </div>"
      ]
     },
     "metadata": {},
     "output_type": "display_data"
    }
   ],
   "source": [
    "df = pd.read_excel(\"~/local/populations.xlsx\", sheet_name=\"img1\")\n",
    "for col in [\"hapA\", \"hapB\", \"none\"]:\n",
    "    df[f\"{col}_f\"] = df[col] / df[\"sum\"]\n",
    "pats = df.melt(\n",
    "    id_vars=[\"phenotype\", \"cohort\"], value_vars=[\"hapA_f\", \"hapB_f\", \"none_f\"]\n",
    ").iloc[::-1]\n",
    "pats[\"variable\"] = pats[\"variable\"].str.replace(\"_f\", \"\")\n",
    "# custom order the data\n",
    "pats[\"variable\"] = pd.Categorical(\n",
    "    pats[\"variable\"], categories=[\"hapA\", \"hapB\", \"none\"], ordered=True\n",
    ")\n",
    "pats = pd.concat(\n",
    "    [\n",
    "        pats[pats[\"phenotype\"] == \"aFTLD-U\"].sort_values(by=\"variable\"),\n",
    "        pats[pats[\"phenotype\"] == \"Controls\"],\n",
    "    ]\n",
    ")\n",
    "\n",
    "fig = px.bar(pats,\n",
    "             x=\"value\", y=\"cohort\", color=\"variable\", orientation=\"h\", \n",
    "             color_discrete_map={\"hapA\": \"red\", \"hapB\": \"orange\", \"none\": \"green\"},\n",
    "             labels={\"value\": \"Proportion\", \"variable\": \"Haplotype\", \"cohort\": \"Cohort\"},\n",
    "             facet_col=\"phenotype\",\n",
    "             facet_col_spacing=0,\n",
    "             )\n",
    "fig.for_each_annotation(lambda a: a.update(text=a.text.split(\"=\")[-1], font=dict(size=36), xanchor=\"left\"))\n",
    "\n",
    "fig.update_layout(\n",
    "    title=\"\",\n",
    "    xaxis_title=\"\",\n",
    "    xaxis2_title=\"\",\n",
    "    yaxis_title=\"Cohort<br>\",\n",
    "    title_x=0.5,\n",
    "    plot_bgcolor=\"white\",\n",
    "    font=dict(size=24),\n",
    "    margin=dict(l=0, r=0, b=0),\n",
    ") \n",
    "\n",
    "# put the legend horizontal, centered, below the plotting area\n",
    "fig.update_layout(\n",
    "    legend=dict(\n",
    "        orientation=\"h\",\n",
    "        yanchor=\"bottom\",\n",
    "        y=-0.15,\n",
    "        xanchor=\"center\",\n",
    "        x=0.5,\n",
    "        title=\"Carrier frequency:\",\n",
    "    )\n",
    ")\n",
    "\n",
    "# hide x-axis labels\n",
    "fig.update_xaxes(showticklabels=False)\n",
    "fig.update_yaxes(\n",
    "    ticks=\"outside\",\n",
    "    tickcolor=\"white\",  # adjust color of the tick\n",
    ")\n",
    "\n",
    "pats_vals = df[df[\"phenotype\"] == \"aFTLD-U\"].copy()\n",
    "pats_vals[\"hapA_loc\"] = pats_vals[\"hapA_f\"] / 2  # center of hapA block\n",
    "pats_vals[\"hapB_loc\"] = (\n",
    "    pats_vals[\"hapA_f\"] + pats_vals[\"hapB_f\"] / 2\n",
    ")  # center of hapB block\n",
    "pats_vals[\"none_loc\"] = (\n",
    "    pats_vals[\"hapA_f\"] + pats_vals[\"hapB_f\"] + pats_vals[\"none_f\"] / 2\n",
    ")  # center of none block\n",
    "\n",
    "for i, row in pats_vals.iterrows():\n",
    "    fig.add_annotation(\n",
    "        x=row[\"hapA_loc\"],\n",
    "        y=row[\"cohort\"],\n",
    "        text=f\"{row['hapA']}\",\n",
    "        showarrow=False,\n",
    "        font=dict(color=\"white\", size=24),\n",
    "        col=1, row=1\n",
    "    )\n",
    "    fig.add_annotation(\n",
    "        x=row[\"hapB_loc\"],\n",
    "        y=row[\"cohort\"],\n",
    "        text=f\"{row['hapB']}\",\n",
    "        showarrow=False,\n",
    "        font=dict(color=\"white\", size=24),\n",
    "        col=1, row=1\n",
    "    )\n",
    "    fig.add_annotation(\n",
    "        x=row[\"none_loc\"],\n",
    "        y=row[\"cohort\"],\n",
    "        text=f\"{row['none']}\",\n",
    "        showarrow=False,\n",
    "        font=dict(color=\"white\", size = 24),\n",
    "        col=1, row=1\n",
    "    )\n",
    "\n",
    "    fig.add_annotation(\n",
    "        x=-0.08,\n",
    "        y=row[\"cohort\"],\n",
    "        text=f\"N={row['sum']}\",\n",
    "        font=dict(color=\"black\", size=24),\n",
    "        col=1, row=1,\n",
    "        showarrow=False,\n",
    "    )\n",
    "\n",
    "con_vals = df[df[\"phenotype\"] == \"Controls\"].copy()\n",
    "con_vals[\"hapA_loc\"] = con_vals[\"hapA_f\"] / 2  # center of hapA block\n",
    "con_vals[\"hapB_loc\"] = (\n",
    "    con_vals[\"hapA_f\"] + con_vals[\"hapB_f\"] / 2\n",
    ")  # center of hapB block\n",
    "con_vals[\"none_loc\"] = (\n",
    "    con_vals[\"hapA_f\"] + con_vals[\"hapB_f\"] + con_vals[\"none_f\"] / 2\n",
    ")  # center of none block\n",
    "\n",
    "for i, row in con_vals.iterrows():\n",
    "    fig.add_annotation(\n",
    "        x=row[\"hapA_loc\"],\n",
    "        y=row[\"cohort\"],\n",
    "        text=f\"{row['hapA']}\",\n",
    "        showarrow=True,\n",
    "        arrowhead=1,\n",
    "        font=dict(color=\"black\", size=24),\n",
    "        yshift=0,\n",
    "        ax=-20,\n",
    "        ay=-15,\n",
    "        col=2, row=1\n",
    "    )\n",
    "    fig.add_annotation(\n",
    "        x=row[\"hapB_loc\"],\n",
    "        y=row[\"cohort\"],\n",
    "        text=f\"{row['hapB']}\",\n",
    "        showarrow=False,\n",
    "        font=dict(color=\"white\", size=24),\n",
    "        textangle=-60, \n",
    "        col=2, row=1\n",
    "    )\n",
    "    fig.add_annotation(\n",
    "        x=row[\"none_loc\"],\n",
    "        y=row[\"cohort\"],\n",
    "        text=f\"{row['none']}\",\n",
    "        showarrow=False,\n",
    "        font=dict(color=\"white\", size=24),\n",
    "        col=2, row=1\n",
    "    )\n",
    "\n",
    "    fig.add_annotation(\n",
    "        x=-0.18,\n",
    "        y=row[\"cohort\"],\n",
    "        text=f\"N={row['sum']}\",\n",
    "        font=dict(color=\"black\", size=24),\n",
    "        col=2, row=1,\n",
    "        showarrow=False,\n",
    "    )\n",
    "\n",
    "fig.add_shape(\n",
    "    type=\"rect\",\n",
    "    x0=-0.12,\n",
    "    x1=0.98,\n",
    "    y0=0.8,\n",
    "    y1=1,\n",
    "    line=dict(color=\"pink\", width=2, dash=\"dot\"),\n",
    "    xref=\"paper\",\n",
    "    yref=\"paper\",\n",
    ")\n",
    "\n",
    "fig.add_annotation(x=-0.23, y=\"Cohort 1\", yshift=20, text=\"GWAS Phase I\", showarrow=False, font=dict(size=20, color=\"pink\"))\n",
    "\n",
    "fig.add_shape(\n",
    "    type=\"rect\",\n",
    "    x0=-0.12,\n",
    "    x1=0.98,\n",
    "    y0=0.4,\n",
    "    y1=0.6,\n",
    "    line=dict(color=\"purple\", width=3, dash=\"dot\"),\n",
    "    xref=\"paper\",\n",
    "    yref=\"paper\",\n",
    ")\n",
    "\n",
    "fig.add_annotation(\n",
    "    x=-0.23,\n",
    "    y=\"Cohort 1+2\",\n",
    "    yshift=20,\n",
    "    text=\"GWAS Phase II\",\n",
    "    showarrow=False,\n",
    "    font=dict(size=20, color=\"purple\"),\n",
    ")\n",
    "\n",
    "\n",
    "fig.show()"
   ]
  },
  {
   "cell_type": "markdown",
   "metadata": {},
   "source": [
    "# Image 2"
   ]
  },
  {
   "cell_type": "code",
   "execution_count": 30,
   "metadata": {},
   "outputs": [
    {
     "data": {
      "application/vnd.plotly.v1+json": {
       "config": {
        "plotlyServerURL": "https://plot.ly"
       },
       "data": [
        {
         "alignmentgroup": "True",
         "hovertemplate": "Haplotype=hapA<br>Proportion=%{x}<br>Cohort=%{y}<extra></extra>",
         "legendgroup": "hapA",
         "marker": {
          "color": "red",
          "pattern": {
           "shape": ""
          }
         },
         "name": "hapA",
         "offsetgroup": "hapA",
         "orientation": "h",
         "showlegend": true,
         "textposition": "auto",
         "type": "bar",
         "x": [
          0.0037002775208140612,
          0.012195121951219513,
          0.012211668928086838,
          0.012768427161926872,
          0.007067137809187279
         ],
         "xaxis": "x",
         "y": [
          "ONT 1000 Genomes Project",
          "EADB Alzheimer's Disease*",
          "EADB controls*",
          "Mayo non-aFTLD-U",
          "in-house ONT cohort"
         ],
         "yaxis": "y"
        },
        {
         "alignmentgroup": "True",
         "hovertemplate": "Haplotype=hapB<br>Proportion=%{x}<br>Cohort=%{y}<extra></extra>",
         "legendgroup": "hapB",
         "marker": {
          "color": "orange",
          "pattern": {
           "shape": ""
          }
         },
         "name": "hapB",
         "offsetgroup": "hapB",
         "orientation": "h",
         "showlegend": true,
         "textposition": "auto",
         "type": "bar",
         "x": [
          0.009250693802035153,
          0,
          0,
          0.035403366221706326,
          0.04946996466431095
         ],
         "xaxis": "x",
         "y": [
          "ONT 1000 Genomes Project",
          "EADB Alzheimer's Disease*",
          "EADB controls*",
          "Mayo non-aFTLD-U",
          "in-house ONT cohort"
         ],
         "yaxis": "y"
        },
        {
         "alignmentgroup": "True",
         "hovertemplate": "Haplotype=none<br>Proportion=%{x}<br>Cohort=%{y}<extra></extra>",
         "legendgroup": "none",
         "marker": {
          "color": "green",
          "pattern": {
           "shape": ""
          }
         },
         "name": "none",
         "offsetgroup": "none",
         "orientation": "h",
         "showlegend": true,
         "textposition": "auto",
         "type": "bar",
         "x": [
          0.9870490286771508,
          0,
          0,
          0.9518282066163668,
          0.9434628975265018
         ],
         "xaxis": "x",
         "y": [
          "ONT 1000 Genomes Project",
          "EADB Alzheimer's Disease*",
          "EADB controls*",
          "Mayo non-aFTLD-U",
          "in-house ONT cohort"
         ],
         "yaxis": "y"
        },
        {
         "alignmentgroup": "True",
         "hovertemplate": "Haplotype=none+hapB<br>Proportion=%{x}<br>Cohort=%{y}<extra></extra>",
         "legendgroup": "none+hapB",
         "marker": {
          "color": "#022b0f",
          "pattern": {
           "shape": ""
          }
         },
         "name": "none+hapB",
         "offsetgroup": "none+hapB",
         "orientation": "h",
         "showlegend": true,
         "textposition": "auto",
         "type": "bar",
         "x": [
          0,
          0.9878048780487805,
          0.9877883310719131,
          0,
          0
         ],
         "xaxis": "x",
         "y": [
          "ONT 1000 Genomes Project",
          "EADB Alzheimer's Disease*",
          "EADB controls*",
          "Mayo non-aFTLD-U",
          "in-house ONT cohort"
         ],
         "yaxis": "y"
        }
       ],
       "layout": {
        "annotations": [
         {
          "arrowhead": 1,
          "ax": -20,
          "ay": -15,
          "font": {
           "color": "black",
           "size": 24
          },
          "text": "2",
          "x": 0.0035335689045936395,
          "y": "in-house ONT cohort",
          "yshift": 0
         },
         {
          "font": {
           "color": "white",
           "size": 24
          },
          "showarrow": false,
          "text": "14",
          "x": 0.03180212014134275,
          "y": "in-house ONT cohort"
         },
         {
          "font": {
           "color": "white",
           "size": 24
          },
          "showarrow": false,
          "text": "267",
          "x": 0.5282685512367491,
          "y": "in-house ONT cohort"
         },
         {
          "font": {
           "color": "black",
           "size": 24
          },
          "showarrow": false,
          "text": "N=283",
          "x": -0.06,
          "xanchor": "right",
          "y": "in-house ONT cohort"
         },
         {
          "arrowhead": 1,
          "ax": -20,
          "ay": -15,
          "font": {
           "color": "black",
           "size": 24
          },
          "text": "22",
          "x": 0.006384213580963436,
          "y": "Mayo non-aFTLD-U",
          "yshift": 0
         },
         {
          "font": {
           "color": "white",
           "size": 24
          },
          "showarrow": false,
          "text": "61",
          "x": 0.030470110272780036,
          "y": "Mayo non-aFTLD-U"
         },
         {
          "font": {
           "color": "white",
           "size": 24
          },
          "showarrow": false,
          "text": "1640",
          "x": 0.5240858966918166,
          "y": "Mayo non-aFTLD-U"
         },
         {
          "font": {
           "color": "black",
           "size": 24
          },
          "showarrow": false,
          "text": "N=1723",
          "x": -0.06,
          "xanchor": "right",
          "y": "Mayo non-aFTLD-U"
         },
         {
          "arrowhead": 1,
          "ax": -20,
          "ay": -15,
          "font": {
           "color": "black",
           "size": 24
          },
          "text": "18",
          "x": 0.006105834464043419,
          "y": "EADB controls*",
          "yshift": 0
         },
         {
          "font": {
           "color": "white",
           "size": 24
          },
          "showarrow": false,
          "text": "1456",
          "x": 0.5061058344640434,
          "y": "EADB controls*"
         },
         {
          "font": {
           "color": "black",
           "size": 24
          },
          "showarrow": false,
          "text": "N=1474",
          "x": -0.06,
          "xanchor": "right",
          "y": "EADB controls*"
         },
         {
          "arrowhead": 1,
          "ax": -20,
          "ay": -15,
          "font": {
           "color": "black",
           "size": 24
          },
          "text": "15",
          "x": 0.006097560975609756,
          "y": "EADB Alzheimer's Disease*",
          "yshift": 0
         },
         {
          "font": {
           "color": "white",
           "size": 24
          },
          "showarrow": false,
          "text": "1215",
          "x": 0.5060975609756098,
          "y": "EADB Alzheimer's Disease*"
         },
         {
          "font": {
           "color": "black",
           "size": 24
          },
          "showarrow": false,
          "text": "N=1230",
          "x": -0.06,
          "xanchor": "right",
          "y": "EADB Alzheimer's Disease*"
         },
         {
          "arrowhead": 1,
          "ax": -20,
          "ay": -15,
          "font": {
           "color": "black",
           "size": 24
          },
          "text": "4",
          "x": 0.0018501387604070306,
          "y": "ONT 1000 Genomes Project",
          "yshift": 0
         },
         {
          "arrowhead": 1,
          "ax": -15,
          "ay": -35,
          "font": {
           "color": "black",
           "size": 24
          },
          "text": "10",
          "x": 0.008325624421831638,
          "y": "ONT 1000 Genomes Project",
          "yshift": 0
         },
         {
          "font": {
           "color": "white",
           "size": 24
          },
          "showarrow": false,
          "text": "1067",
          "x": 0.5064754856614246,
          "y": "ONT 1000 Genomes Project"
         },
         {
          "font": {
           "color": "black",
           "size": 24
          },
          "showarrow": false,
          "text": "N=1081",
          "x": -0.06,
          "xanchor": "right",
          "y": "ONT 1000 Genomes Project"
         }
        ],
        "barmode": "relative",
        "font": {
         "size": 24
        },
        "legend": {
         "orientation": "h",
         "title": {
          "text": "Carrier frequency:"
         },
         "tracegroupgap": 0,
         "x": 0.3,
         "xanchor": "center",
         "y": -0.15,
         "yanchor": "bottom"
        },
        "margin": {
         "b": 0,
         "l": 0,
         "r": 0,
         "t": 60
        },
        "plot_bgcolor": "white",
        "template": {
         "data": {
          "bar": [
           {
            "error_x": {
             "color": "#2a3f5f"
            },
            "error_y": {
             "color": "#2a3f5f"
            },
            "marker": {
             "line": {
              "color": "#E5ECF6",
              "width": 0.5
             },
             "pattern": {
              "fillmode": "overlay",
              "size": 10,
              "solidity": 0.2
             }
            },
            "type": "bar"
           }
          ],
          "barpolar": [
           {
            "marker": {
             "line": {
              "color": "#E5ECF6",
              "width": 0.5
             },
             "pattern": {
              "fillmode": "overlay",
              "size": 10,
              "solidity": 0.2
             }
            },
            "type": "barpolar"
           }
          ],
          "carpet": [
           {
            "aaxis": {
             "endlinecolor": "#2a3f5f",
             "gridcolor": "white",
             "linecolor": "white",
             "minorgridcolor": "white",
             "startlinecolor": "#2a3f5f"
            },
            "baxis": {
             "endlinecolor": "#2a3f5f",
             "gridcolor": "white",
             "linecolor": "white",
             "minorgridcolor": "white",
             "startlinecolor": "#2a3f5f"
            },
            "type": "carpet"
           }
          ],
          "choropleth": [
           {
            "colorbar": {
             "outlinewidth": 0,
             "ticks": ""
            },
            "type": "choropleth"
           }
          ],
          "contour": [
           {
            "colorbar": {
             "outlinewidth": 0,
             "ticks": ""
            },
            "colorscale": [
             [
              0,
              "#0d0887"
             ],
             [
              0.1111111111111111,
              "#46039f"
             ],
             [
              0.2222222222222222,
              "#7201a8"
             ],
             [
              0.3333333333333333,
              "#9c179e"
             ],
             [
              0.4444444444444444,
              "#bd3786"
             ],
             [
              0.5555555555555556,
              "#d8576b"
             ],
             [
              0.6666666666666666,
              "#ed7953"
             ],
             [
              0.7777777777777778,
              "#fb9f3a"
             ],
             [
              0.8888888888888888,
              "#fdca26"
             ],
             [
              1,
              "#f0f921"
             ]
            ],
            "type": "contour"
           }
          ],
          "contourcarpet": [
           {
            "colorbar": {
             "outlinewidth": 0,
             "ticks": ""
            },
            "type": "contourcarpet"
           }
          ],
          "heatmap": [
           {
            "colorbar": {
             "outlinewidth": 0,
             "ticks": ""
            },
            "colorscale": [
             [
              0,
              "#0d0887"
             ],
             [
              0.1111111111111111,
              "#46039f"
             ],
             [
              0.2222222222222222,
              "#7201a8"
             ],
             [
              0.3333333333333333,
              "#9c179e"
             ],
             [
              0.4444444444444444,
              "#bd3786"
             ],
             [
              0.5555555555555556,
              "#d8576b"
             ],
             [
              0.6666666666666666,
              "#ed7953"
             ],
             [
              0.7777777777777778,
              "#fb9f3a"
             ],
             [
              0.8888888888888888,
              "#fdca26"
             ],
             [
              1,
              "#f0f921"
             ]
            ],
            "type": "heatmap"
           }
          ],
          "heatmapgl": [
           {
            "colorbar": {
             "outlinewidth": 0,
             "ticks": ""
            },
            "colorscale": [
             [
              0,
              "#0d0887"
             ],
             [
              0.1111111111111111,
              "#46039f"
             ],
             [
              0.2222222222222222,
              "#7201a8"
             ],
             [
              0.3333333333333333,
              "#9c179e"
             ],
             [
              0.4444444444444444,
              "#bd3786"
             ],
             [
              0.5555555555555556,
              "#d8576b"
             ],
             [
              0.6666666666666666,
              "#ed7953"
             ],
             [
              0.7777777777777778,
              "#fb9f3a"
             ],
             [
              0.8888888888888888,
              "#fdca26"
             ],
             [
              1,
              "#f0f921"
             ]
            ],
            "type": "heatmapgl"
           }
          ],
          "histogram": [
           {
            "marker": {
             "pattern": {
              "fillmode": "overlay",
              "size": 10,
              "solidity": 0.2
             }
            },
            "type": "histogram"
           }
          ],
          "histogram2d": [
           {
            "colorbar": {
             "outlinewidth": 0,
             "ticks": ""
            },
            "colorscale": [
             [
              0,
              "#0d0887"
             ],
             [
              0.1111111111111111,
              "#46039f"
             ],
             [
              0.2222222222222222,
              "#7201a8"
             ],
             [
              0.3333333333333333,
              "#9c179e"
             ],
             [
              0.4444444444444444,
              "#bd3786"
             ],
             [
              0.5555555555555556,
              "#d8576b"
             ],
             [
              0.6666666666666666,
              "#ed7953"
             ],
             [
              0.7777777777777778,
              "#fb9f3a"
             ],
             [
              0.8888888888888888,
              "#fdca26"
             ],
             [
              1,
              "#f0f921"
             ]
            ],
            "type": "histogram2d"
           }
          ],
          "histogram2dcontour": [
           {
            "colorbar": {
             "outlinewidth": 0,
             "ticks": ""
            },
            "colorscale": [
             [
              0,
              "#0d0887"
             ],
             [
              0.1111111111111111,
              "#46039f"
             ],
             [
              0.2222222222222222,
              "#7201a8"
             ],
             [
              0.3333333333333333,
              "#9c179e"
             ],
             [
              0.4444444444444444,
              "#bd3786"
             ],
             [
              0.5555555555555556,
              "#d8576b"
             ],
             [
              0.6666666666666666,
              "#ed7953"
             ],
             [
              0.7777777777777778,
              "#fb9f3a"
             ],
             [
              0.8888888888888888,
              "#fdca26"
             ],
             [
              1,
              "#f0f921"
             ]
            ],
            "type": "histogram2dcontour"
           }
          ],
          "mesh3d": [
           {
            "colorbar": {
             "outlinewidth": 0,
             "ticks": ""
            },
            "type": "mesh3d"
           }
          ],
          "parcoords": [
           {
            "line": {
             "colorbar": {
              "outlinewidth": 0,
              "ticks": ""
             }
            },
            "type": "parcoords"
           }
          ],
          "pie": [
           {
            "automargin": true,
            "type": "pie"
           }
          ],
          "scatter": [
           {
            "fillpattern": {
             "fillmode": "overlay",
             "size": 10,
             "solidity": 0.2
            },
            "type": "scatter"
           }
          ],
          "scatter3d": [
           {
            "line": {
             "colorbar": {
              "outlinewidth": 0,
              "ticks": ""
             }
            },
            "marker": {
             "colorbar": {
              "outlinewidth": 0,
              "ticks": ""
             }
            },
            "type": "scatter3d"
           }
          ],
          "scattercarpet": [
           {
            "marker": {
             "colorbar": {
              "outlinewidth": 0,
              "ticks": ""
             }
            },
            "type": "scattercarpet"
           }
          ],
          "scattergeo": [
           {
            "marker": {
             "colorbar": {
              "outlinewidth": 0,
              "ticks": ""
             }
            },
            "type": "scattergeo"
           }
          ],
          "scattergl": [
           {
            "marker": {
             "colorbar": {
              "outlinewidth": 0,
              "ticks": ""
             }
            },
            "type": "scattergl"
           }
          ],
          "scattermapbox": [
           {
            "marker": {
             "colorbar": {
              "outlinewidth": 0,
              "ticks": ""
             }
            },
            "type": "scattermapbox"
           }
          ],
          "scatterpolar": [
           {
            "marker": {
             "colorbar": {
              "outlinewidth": 0,
              "ticks": ""
             }
            },
            "type": "scatterpolar"
           }
          ],
          "scatterpolargl": [
           {
            "marker": {
             "colorbar": {
              "outlinewidth": 0,
              "ticks": ""
             }
            },
            "type": "scatterpolargl"
           }
          ],
          "scatterternary": [
           {
            "marker": {
             "colorbar": {
              "outlinewidth": 0,
              "ticks": ""
             }
            },
            "type": "scatterternary"
           }
          ],
          "surface": [
           {
            "colorbar": {
             "outlinewidth": 0,
             "ticks": ""
            },
            "colorscale": [
             [
              0,
              "#0d0887"
             ],
             [
              0.1111111111111111,
              "#46039f"
             ],
             [
              0.2222222222222222,
              "#7201a8"
             ],
             [
              0.3333333333333333,
              "#9c179e"
             ],
             [
              0.4444444444444444,
              "#bd3786"
             ],
             [
              0.5555555555555556,
              "#d8576b"
             ],
             [
              0.6666666666666666,
              "#ed7953"
             ],
             [
              0.7777777777777778,
              "#fb9f3a"
             ],
             [
              0.8888888888888888,
              "#fdca26"
             ],
             [
              1,
              "#f0f921"
             ]
            ],
            "type": "surface"
           }
          ],
          "table": [
           {
            "cells": {
             "fill": {
              "color": "#EBF0F8"
             },
             "line": {
              "color": "white"
             }
            },
            "header": {
             "fill": {
              "color": "#C8D4E3"
             },
             "line": {
              "color": "white"
             }
            },
            "type": "table"
           }
          ]
         },
         "layout": {
          "annotationdefaults": {
           "arrowcolor": "#2a3f5f",
           "arrowhead": 0,
           "arrowwidth": 1
          },
          "autotypenumbers": "strict",
          "coloraxis": {
           "colorbar": {
            "outlinewidth": 0,
            "ticks": ""
           }
          },
          "colorscale": {
           "diverging": [
            [
             0,
             "#8e0152"
            ],
            [
             0.1,
             "#c51b7d"
            ],
            [
             0.2,
             "#de77ae"
            ],
            [
             0.3,
             "#f1b6da"
            ],
            [
             0.4,
             "#fde0ef"
            ],
            [
             0.5,
             "#f7f7f7"
            ],
            [
             0.6,
             "#e6f5d0"
            ],
            [
             0.7,
             "#b8e186"
            ],
            [
             0.8,
             "#7fbc41"
            ],
            [
             0.9,
             "#4d9221"
            ],
            [
             1,
             "#276419"
            ]
           ],
           "sequential": [
            [
             0,
             "#0d0887"
            ],
            [
             0.1111111111111111,
             "#46039f"
            ],
            [
             0.2222222222222222,
             "#7201a8"
            ],
            [
             0.3333333333333333,
             "#9c179e"
            ],
            [
             0.4444444444444444,
             "#bd3786"
            ],
            [
             0.5555555555555556,
             "#d8576b"
            ],
            [
             0.6666666666666666,
             "#ed7953"
            ],
            [
             0.7777777777777778,
             "#fb9f3a"
            ],
            [
             0.8888888888888888,
             "#fdca26"
            ],
            [
             1,
             "#f0f921"
            ]
           ],
           "sequentialminus": [
            [
             0,
             "#0d0887"
            ],
            [
             0.1111111111111111,
             "#46039f"
            ],
            [
             0.2222222222222222,
             "#7201a8"
            ],
            [
             0.3333333333333333,
             "#9c179e"
            ],
            [
             0.4444444444444444,
             "#bd3786"
            ],
            [
             0.5555555555555556,
             "#d8576b"
            ],
            [
             0.6666666666666666,
             "#ed7953"
            ],
            [
             0.7777777777777778,
             "#fb9f3a"
            ],
            [
             0.8888888888888888,
             "#fdca26"
            ],
            [
             1,
             "#f0f921"
            ]
           ]
          },
          "colorway": [
           "#636efa",
           "#EF553B",
           "#00cc96",
           "#ab63fa",
           "#FFA15A",
           "#19d3f3",
           "#FF6692",
           "#B6E880",
           "#FF97FF",
           "#FECB52"
          ],
          "font": {
           "color": "#2a3f5f"
          },
          "geo": {
           "bgcolor": "white",
           "lakecolor": "white",
           "landcolor": "#E5ECF6",
           "showlakes": true,
           "showland": true,
           "subunitcolor": "white"
          },
          "hoverlabel": {
           "align": "left"
          },
          "hovermode": "closest",
          "mapbox": {
           "style": "light"
          },
          "paper_bgcolor": "white",
          "plot_bgcolor": "#E5ECF6",
          "polar": {
           "angularaxis": {
            "gridcolor": "white",
            "linecolor": "white",
            "ticks": ""
           },
           "bgcolor": "#E5ECF6",
           "radialaxis": {
            "gridcolor": "white",
            "linecolor": "white",
            "ticks": ""
           }
          },
          "scene": {
           "xaxis": {
            "backgroundcolor": "#E5ECF6",
            "gridcolor": "white",
            "gridwidth": 2,
            "linecolor": "white",
            "showbackground": true,
            "ticks": "",
            "zerolinecolor": "white"
           },
           "yaxis": {
            "backgroundcolor": "#E5ECF6",
            "gridcolor": "white",
            "gridwidth": 2,
            "linecolor": "white",
            "showbackground": true,
            "ticks": "",
            "zerolinecolor": "white"
           },
           "zaxis": {
            "backgroundcolor": "#E5ECF6",
            "gridcolor": "white",
            "gridwidth": 2,
            "linecolor": "white",
            "showbackground": true,
            "ticks": "",
            "zerolinecolor": "white"
           }
          },
          "shapedefaults": {
           "line": {
            "color": "#2a3f5f"
           }
          },
          "ternary": {
           "aaxis": {
            "gridcolor": "white",
            "linecolor": "white",
            "ticks": ""
           },
           "baxis": {
            "gridcolor": "white",
            "linecolor": "white",
            "ticks": ""
           },
           "bgcolor": "#E5ECF6",
           "caxis": {
            "gridcolor": "white",
            "linecolor": "white",
            "ticks": ""
           }
          },
          "title": {
           "x": 0.05
          },
          "xaxis": {
           "automargin": true,
           "gridcolor": "white",
           "linecolor": "white",
           "ticks": "",
           "title": {
            "standoff": 15
           },
           "zerolinecolor": "white",
           "zerolinewidth": 2
          },
          "yaxis": {
           "automargin": true,
           "gridcolor": "white",
           "linecolor": "white",
           "ticks": "",
           "title": {
            "standoff": 15
           },
           "zerolinecolor": "white",
           "zerolinewidth": 2
          }
         }
        },
        "title": {
         "text": "Non-aFTLD-U populations",
         "x": 0.55,
         "xanchor": "left"
        },
        "width": 1200,
        "xaxis": {
         "anchor": "y",
         "domain": [
          0,
          1
         ],
         "showticklabels": false,
         "title": {
          "text": ""
         }
        },
        "yaxis": {
         "anchor": "x",
         "domain": [
          0,
          1
         ],
         "tickcolor": "white",
         "ticks": "outside",
         "title": {
          "text": "Cohort<br>"
         }
        }
       }
      },
      "text/html": [
       "<div>                            <div id=\"679107d3-d166-4b78-a5db-f55f99fe9b24\" class=\"plotly-graph-div\" style=\"height:525px; width:1200px;\"></div>            <script type=\"text/javascript\">                require([\"plotly\"], function(Plotly) {                    window.PLOTLYENV=window.PLOTLYENV || {};                                    if (document.getElementById(\"679107d3-d166-4b78-a5db-f55f99fe9b24\")) {                    Plotly.newPlot(                        \"679107d3-d166-4b78-a5db-f55f99fe9b24\",                        [{\"alignmentgroup\":\"True\",\"hovertemplate\":\"Haplotype=hapA\\u003cbr\\u003eProportion=%{x}\\u003cbr\\u003eCohort=%{y}\\u003cextra\\u003e\\u003c\\u002fextra\\u003e\",\"legendgroup\":\"hapA\",\"marker\":{\"color\":\"red\",\"pattern\":{\"shape\":\"\"}},\"name\":\"hapA\",\"offsetgroup\":\"hapA\",\"orientation\":\"h\",\"showlegend\":true,\"textposition\":\"auto\",\"x\":[0.0037002775208140612,0.012195121951219513,0.012211668928086838,0.012768427161926872,0.007067137809187279],\"xaxis\":\"x\",\"y\":[\"ONT 1000 Genomes Project\",\"EADB Alzheimer's Disease*\",\"EADB controls*\",\"Mayo non-aFTLD-U\",\"in-house ONT cohort\"],\"yaxis\":\"y\",\"type\":\"bar\"},{\"alignmentgroup\":\"True\",\"hovertemplate\":\"Haplotype=hapB\\u003cbr\\u003eProportion=%{x}\\u003cbr\\u003eCohort=%{y}\\u003cextra\\u003e\\u003c\\u002fextra\\u003e\",\"legendgroup\":\"hapB\",\"marker\":{\"color\":\"orange\",\"pattern\":{\"shape\":\"\"}},\"name\":\"hapB\",\"offsetgroup\":\"hapB\",\"orientation\":\"h\",\"showlegend\":true,\"textposition\":\"auto\",\"x\":[0.009250693802035153,0.0,0.0,0.035403366221706326,0.04946996466431095],\"xaxis\":\"x\",\"y\":[\"ONT 1000 Genomes Project\",\"EADB Alzheimer's Disease*\",\"EADB controls*\",\"Mayo non-aFTLD-U\",\"in-house ONT cohort\"],\"yaxis\":\"y\",\"type\":\"bar\"},{\"alignmentgroup\":\"True\",\"hovertemplate\":\"Haplotype=none\\u003cbr\\u003eProportion=%{x}\\u003cbr\\u003eCohort=%{y}\\u003cextra\\u003e\\u003c\\u002fextra\\u003e\",\"legendgroup\":\"none\",\"marker\":{\"color\":\"green\",\"pattern\":{\"shape\":\"\"}},\"name\":\"none\",\"offsetgroup\":\"none\",\"orientation\":\"h\",\"showlegend\":true,\"textposition\":\"auto\",\"x\":[0.9870490286771508,0.0,0.0,0.9518282066163668,0.9434628975265018],\"xaxis\":\"x\",\"y\":[\"ONT 1000 Genomes Project\",\"EADB Alzheimer's Disease*\",\"EADB controls*\",\"Mayo non-aFTLD-U\",\"in-house ONT cohort\"],\"yaxis\":\"y\",\"type\":\"bar\"},{\"alignmentgroup\":\"True\",\"hovertemplate\":\"Haplotype=none+hapB\\u003cbr\\u003eProportion=%{x}\\u003cbr\\u003eCohort=%{y}\\u003cextra\\u003e\\u003c\\u002fextra\\u003e\",\"legendgroup\":\"none+hapB\",\"marker\":{\"color\":\"#022b0f\",\"pattern\":{\"shape\":\"\"}},\"name\":\"none+hapB\",\"offsetgroup\":\"none+hapB\",\"orientation\":\"h\",\"showlegend\":true,\"textposition\":\"auto\",\"x\":[0.0,0.9878048780487805,0.9877883310719131,0.0,0.0],\"xaxis\":\"x\",\"y\":[\"ONT 1000 Genomes Project\",\"EADB Alzheimer's Disease*\",\"EADB controls*\",\"Mayo non-aFTLD-U\",\"in-house ONT cohort\"],\"yaxis\":\"y\",\"type\":\"bar\"}],                        {\"template\":{\"data\":{\"histogram2dcontour\":[{\"type\":\"histogram2dcontour\",\"colorbar\":{\"outlinewidth\":0,\"ticks\":\"\"},\"colorscale\":[[0.0,\"#0d0887\"],[0.1111111111111111,\"#46039f\"],[0.2222222222222222,\"#7201a8\"],[0.3333333333333333,\"#9c179e\"],[0.4444444444444444,\"#bd3786\"],[0.5555555555555556,\"#d8576b\"],[0.6666666666666666,\"#ed7953\"],[0.7777777777777778,\"#fb9f3a\"],[0.8888888888888888,\"#fdca26\"],[1.0,\"#f0f921\"]]}],\"choropleth\":[{\"type\":\"choropleth\",\"colorbar\":{\"outlinewidth\":0,\"ticks\":\"\"}}],\"histogram2d\":[{\"type\":\"histogram2d\",\"colorbar\":{\"outlinewidth\":0,\"ticks\":\"\"},\"colorscale\":[[0.0,\"#0d0887\"],[0.1111111111111111,\"#46039f\"],[0.2222222222222222,\"#7201a8\"],[0.3333333333333333,\"#9c179e\"],[0.4444444444444444,\"#bd3786\"],[0.5555555555555556,\"#d8576b\"],[0.6666666666666666,\"#ed7953\"],[0.7777777777777778,\"#fb9f3a\"],[0.8888888888888888,\"#fdca26\"],[1.0,\"#f0f921\"]]}],\"heatmap\":[{\"type\":\"heatmap\",\"colorbar\":{\"outlinewidth\":0,\"ticks\":\"\"},\"colorscale\":[[0.0,\"#0d0887\"],[0.1111111111111111,\"#46039f\"],[0.2222222222222222,\"#7201a8\"],[0.3333333333333333,\"#9c179e\"],[0.4444444444444444,\"#bd3786\"],[0.5555555555555556,\"#d8576b\"],[0.6666666666666666,\"#ed7953\"],[0.7777777777777778,\"#fb9f3a\"],[0.8888888888888888,\"#fdca26\"],[1.0,\"#f0f921\"]]}],\"heatmapgl\":[{\"type\":\"heatmapgl\",\"colorbar\":{\"outlinewidth\":0,\"ticks\":\"\"},\"colorscale\":[[0.0,\"#0d0887\"],[0.1111111111111111,\"#46039f\"],[0.2222222222222222,\"#7201a8\"],[0.3333333333333333,\"#9c179e\"],[0.4444444444444444,\"#bd3786\"],[0.5555555555555556,\"#d8576b\"],[0.6666666666666666,\"#ed7953\"],[0.7777777777777778,\"#fb9f3a\"],[0.8888888888888888,\"#fdca26\"],[1.0,\"#f0f921\"]]}],\"contourcarpet\":[{\"type\":\"contourcarpet\",\"colorbar\":{\"outlinewidth\":0,\"ticks\":\"\"}}],\"contour\":[{\"type\":\"contour\",\"colorbar\":{\"outlinewidth\":0,\"ticks\":\"\"},\"colorscale\":[[0.0,\"#0d0887\"],[0.1111111111111111,\"#46039f\"],[0.2222222222222222,\"#7201a8\"],[0.3333333333333333,\"#9c179e\"],[0.4444444444444444,\"#bd3786\"],[0.5555555555555556,\"#d8576b\"],[0.6666666666666666,\"#ed7953\"],[0.7777777777777778,\"#fb9f3a\"],[0.8888888888888888,\"#fdca26\"],[1.0,\"#f0f921\"]]}],\"surface\":[{\"type\":\"surface\",\"colorbar\":{\"outlinewidth\":0,\"ticks\":\"\"},\"colorscale\":[[0.0,\"#0d0887\"],[0.1111111111111111,\"#46039f\"],[0.2222222222222222,\"#7201a8\"],[0.3333333333333333,\"#9c179e\"],[0.4444444444444444,\"#bd3786\"],[0.5555555555555556,\"#d8576b\"],[0.6666666666666666,\"#ed7953\"],[0.7777777777777778,\"#fb9f3a\"],[0.8888888888888888,\"#fdca26\"],[1.0,\"#f0f921\"]]}],\"mesh3d\":[{\"type\":\"mesh3d\",\"colorbar\":{\"outlinewidth\":0,\"ticks\":\"\"}}],\"scatter\":[{\"fillpattern\":{\"fillmode\":\"overlay\",\"size\":10,\"solidity\":0.2},\"type\":\"scatter\"}],\"parcoords\":[{\"type\":\"parcoords\",\"line\":{\"colorbar\":{\"outlinewidth\":0,\"ticks\":\"\"}}}],\"scatterpolargl\":[{\"type\":\"scatterpolargl\",\"marker\":{\"colorbar\":{\"outlinewidth\":0,\"ticks\":\"\"}}}],\"bar\":[{\"error_x\":{\"color\":\"#2a3f5f\"},\"error_y\":{\"color\":\"#2a3f5f\"},\"marker\":{\"line\":{\"color\":\"#E5ECF6\",\"width\":0.5},\"pattern\":{\"fillmode\":\"overlay\",\"size\":10,\"solidity\":0.2}},\"type\":\"bar\"}],\"scattergeo\":[{\"type\":\"scattergeo\",\"marker\":{\"colorbar\":{\"outlinewidth\":0,\"ticks\":\"\"}}}],\"scatterpolar\":[{\"type\":\"scatterpolar\",\"marker\":{\"colorbar\":{\"outlinewidth\":0,\"ticks\":\"\"}}}],\"histogram\":[{\"marker\":{\"pattern\":{\"fillmode\":\"overlay\",\"size\":10,\"solidity\":0.2}},\"type\":\"histogram\"}],\"scattergl\":[{\"type\":\"scattergl\",\"marker\":{\"colorbar\":{\"outlinewidth\":0,\"ticks\":\"\"}}}],\"scatter3d\":[{\"type\":\"scatter3d\",\"line\":{\"colorbar\":{\"outlinewidth\":0,\"ticks\":\"\"}},\"marker\":{\"colorbar\":{\"outlinewidth\":0,\"ticks\":\"\"}}}],\"scattermapbox\":[{\"type\":\"scattermapbox\",\"marker\":{\"colorbar\":{\"outlinewidth\":0,\"ticks\":\"\"}}}],\"scatterternary\":[{\"type\":\"scatterternary\",\"marker\":{\"colorbar\":{\"outlinewidth\":0,\"ticks\":\"\"}}}],\"scattercarpet\":[{\"type\":\"scattercarpet\",\"marker\":{\"colorbar\":{\"outlinewidth\":0,\"ticks\":\"\"}}}],\"carpet\":[{\"aaxis\":{\"endlinecolor\":\"#2a3f5f\",\"gridcolor\":\"white\",\"linecolor\":\"white\",\"minorgridcolor\":\"white\",\"startlinecolor\":\"#2a3f5f\"},\"baxis\":{\"endlinecolor\":\"#2a3f5f\",\"gridcolor\":\"white\",\"linecolor\":\"white\",\"minorgridcolor\":\"white\",\"startlinecolor\":\"#2a3f5f\"},\"type\":\"carpet\"}],\"table\":[{\"cells\":{\"fill\":{\"color\":\"#EBF0F8\"},\"line\":{\"color\":\"white\"}},\"header\":{\"fill\":{\"color\":\"#C8D4E3\"},\"line\":{\"color\":\"white\"}},\"type\":\"table\"}],\"barpolar\":[{\"marker\":{\"line\":{\"color\":\"#E5ECF6\",\"width\":0.5},\"pattern\":{\"fillmode\":\"overlay\",\"size\":10,\"solidity\":0.2}},\"type\":\"barpolar\"}],\"pie\":[{\"automargin\":true,\"type\":\"pie\"}]},\"layout\":{\"autotypenumbers\":\"strict\",\"colorway\":[\"#636efa\",\"#EF553B\",\"#00cc96\",\"#ab63fa\",\"#FFA15A\",\"#19d3f3\",\"#FF6692\",\"#B6E880\",\"#FF97FF\",\"#FECB52\"],\"font\":{\"color\":\"#2a3f5f\"},\"hovermode\":\"closest\",\"hoverlabel\":{\"align\":\"left\"},\"paper_bgcolor\":\"white\",\"plot_bgcolor\":\"#E5ECF6\",\"polar\":{\"bgcolor\":\"#E5ECF6\",\"angularaxis\":{\"gridcolor\":\"white\",\"linecolor\":\"white\",\"ticks\":\"\"},\"radialaxis\":{\"gridcolor\":\"white\",\"linecolor\":\"white\",\"ticks\":\"\"}},\"ternary\":{\"bgcolor\":\"#E5ECF6\",\"aaxis\":{\"gridcolor\":\"white\",\"linecolor\":\"white\",\"ticks\":\"\"},\"baxis\":{\"gridcolor\":\"white\",\"linecolor\":\"white\",\"ticks\":\"\"},\"caxis\":{\"gridcolor\":\"white\",\"linecolor\":\"white\",\"ticks\":\"\"}},\"coloraxis\":{\"colorbar\":{\"outlinewidth\":0,\"ticks\":\"\"}},\"colorscale\":{\"sequential\":[[0.0,\"#0d0887\"],[0.1111111111111111,\"#46039f\"],[0.2222222222222222,\"#7201a8\"],[0.3333333333333333,\"#9c179e\"],[0.4444444444444444,\"#bd3786\"],[0.5555555555555556,\"#d8576b\"],[0.6666666666666666,\"#ed7953\"],[0.7777777777777778,\"#fb9f3a\"],[0.8888888888888888,\"#fdca26\"],[1.0,\"#f0f921\"]],\"sequentialminus\":[[0.0,\"#0d0887\"],[0.1111111111111111,\"#46039f\"],[0.2222222222222222,\"#7201a8\"],[0.3333333333333333,\"#9c179e\"],[0.4444444444444444,\"#bd3786\"],[0.5555555555555556,\"#d8576b\"],[0.6666666666666666,\"#ed7953\"],[0.7777777777777778,\"#fb9f3a\"],[0.8888888888888888,\"#fdca26\"],[1.0,\"#f0f921\"]],\"diverging\":[[0,\"#8e0152\"],[0.1,\"#c51b7d\"],[0.2,\"#de77ae\"],[0.3,\"#f1b6da\"],[0.4,\"#fde0ef\"],[0.5,\"#f7f7f7\"],[0.6,\"#e6f5d0\"],[0.7,\"#b8e186\"],[0.8,\"#7fbc41\"],[0.9,\"#4d9221\"],[1,\"#276419\"]]},\"xaxis\":{\"gridcolor\":\"white\",\"linecolor\":\"white\",\"ticks\":\"\",\"title\":{\"standoff\":15},\"zerolinecolor\":\"white\",\"automargin\":true,\"zerolinewidth\":2},\"yaxis\":{\"gridcolor\":\"white\",\"linecolor\":\"white\",\"ticks\":\"\",\"title\":{\"standoff\":15},\"zerolinecolor\":\"white\",\"automargin\":true,\"zerolinewidth\":2},\"scene\":{\"xaxis\":{\"backgroundcolor\":\"#E5ECF6\",\"gridcolor\":\"white\",\"linecolor\":\"white\",\"showbackground\":true,\"ticks\":\"\",\"zerolinecolor\":\"white\",\"gridwidth\":2},\"yaxis\":{\"backgroundcolor\":\"#E5ECF6\",\"gridcolor\":\"white\",\"linecolor\":\"white\",\"showbackground\":true,\"ticks\":\"\",\"zerolinecolor\":\"white\",\"gridwidth\":2},\"zaxis\":{\"backgroundcolor\":\"#E5ECF6\",\"gridcolor\":\"white\",\"linecolor\":\"white\",\"showbackground\":true,\"ticks\":\"\",\"zerolinecolor\":\"white\",\"gridwidth\":2}},\"shapedefaults\":{\"line\":{\"color\":\"#2a3f5f\"}},\"annotationdefaults\":{\"arrowcolor\":\"#2a3f5f\",\"arrowhead\":0,\"arrowwidth\":1},\"geo\":{\"bgcolor\":\"white\",\"landcolor\":\"#E5ECF6\",\"subunitcolor\":\"white\",\"showland\":true,\"showlakes\":true,\"lakecolor\":\"white\"},\"title\":{\"x\":0.05},\"mapbox\":{\"style\":\"light\"}}},\"xaxis\":{\"anchor\":\"y\",\"domain\":[0.0,1.0],\"title\":{\"text\":\"\"},\"showticklabels\":false},\"yaxis\":{\"anchor\":\"x\",\"domain\":[0.0,1.0],\"title\":{\"text\":\"Cohort\\u003cbr\\u003e\"},\"ticks\":\"outside\",\"tickcolor\":\"white\"},\"legend\":{\"title\":{\"text\":\"Carrier frequency:\"},\"tracegroupgap\":0,\"orientation\":\"h\",\"yanchor\":\"bottom\",\"y\":-0.15,\"xanchor\":\"center\",\"x\":0.3},\"margin\":{\"t\":60,\"l\":0,\"r\":0,\"b\":0},\"barmode\":\"relative\",\"title\":{\"text\":\"Non-aFTLD-U populations\",\"x\":0.55,\"xanchor\":\"left\"},\"font\":{\"size\":24},\"plot_bgcolor\":\"white\",\"width\":1200,\"annotations\":[{\"arrowhead\":1,\"ax\":-20,\"ay\":-15,\"font\":{\"color\":\"black\",\"size\":24},\"text\":\"2\",\"x\":0.0035335689045936395,\"y\":\"in-house ONT cohort\",\"yshift\":0},{\"font\":{\"color\":\"white\",\"size\":24},\"showarrow\":false,\"text\":\"14\",\"x\":0.03180212014134275,\"y\":\"in-house ONT cohort\"},{\"font\":{\"color\":\"white\",\"size\":24},\"showarrow\":false,\"text\":\"267\",\"x\":0.5282685512367491,\"y\":\"in-house ONT cohort\"},{\"font\":{\"color\":\"black\",\"size\":24},\"showarrow\":false,\"text\":\"N=283\",\"x\":-0.06,\"xanchor\":\"right\",\"y\":\"in-house ONT cohort\"},{\"arrowhead\":1,\"ax\":-20,\"ay\":-15,\"font\":{\"color\":\"black\",\"size\":24},\"text\":\"22\",\"x\":0.006384213580963436,\"y\":\"Mayo non-aFTLD-U\",\"yshift\":0},{\"font\":{\"color\":\"white\",\"size\":24},\"showarrow\":false,\"text\":\"61\",\"x\":0.030470110272780036,\"y\":\"Mayo non-aFTLD-U\"},{\"font\":{\"color\":\"white\",\"size\":24},\"showarrow\":false,\"text\":\"1640\",\"x\":0.5240858966918166,\"y\":\"Mayo non-aFTLD-U\"},{\"font\":{\"color\":\"black\",\"size\":24},\"showarrow\":false,\"text\":\"N=1723\",\"x\":-0.06,\"xanchor\":\"right\",\"y\":\"Mayo non-aFTLD-U\"},{\"arrowhead\":1,\"ax\":-20,\"ay\":-15,\"font\":{\"color\":\"black\",\"size\":24},\"text\":\"18\",\"x\":0.006105834464043419,\"y\":\"EADB controls*\",\"yshift\":0},{\"font\":{\"color\":\"white\",\"size\":24},\"showarrow\":false,\"text\":\"1456\",\"x\":0.5061058344640434,\"y\":\"EADB controls*\"},{\"font\":{\"color\":\"black\",\"size\":24},\"showarrow\":false,\"text\":\"N=1474\",\"x\":-0.06,\"xanchor\":\"right\",\"y\":\"EADB controls*\"},{\"arrowhead\":1,\"ax\":-20,\"ay\":-15,\"font\":{\"color\":\"black\",\"size\":24},\"text\":\"15\",\"x\":0.006097560975609756,\"y\":\"EADB Alzheimer's Disease*\",\"yshift\":0},{\"font\":{\"color\":\"white\",\"size\":24},\"showarrow\":false,\"text\":\"1215\",\"x\":0.5060975609756098,\"y\":\"EADB Alzheimer's Disease*\"},{\"font\":{\"color\":\"black\",\"size\":24},\"showarrow\":false,\"text\":\"N=1230\",\"x\":-0.06,\"xanchor\":\"right\",\"y\":\"EADB Alzheimer's Disease*\"},{\"arrowhead\":1,\"ax\":-20,\"ay\":-15,\"font\":{\"color\":\"black\",\"size\":24},\"text\":\"4\",\"x\":0.0018501387604070306,\"y\":\"ONT 1000 Genomes Project\",\"yshift\":0},{\"arrowhead\":1,\"ax\":-15,\"ay\":-35,\"font\":{\"color\":\"black\",\"size\":24},\"text\":\"10\",\"x\":0.008325624421831638,\"y\":\"ONT 1000 Genomes Project\",\"yshift\":0},{\"font\":{\"color\":\"white\",\"size\":24},\"showarrow\":false,\"text\":\"1067\",\"x\":0.5064754856614246,\"y\":\"ONT 1000 Genomes Project\"},{\"font\":{\"color\":\"black\",\"size\":24},\"showarrow\":false,\"text\":\"N=1081\",\"x\":-0.06,\"xanchor\":\"right\",\"y\":\"ONT 1000 Genomes Project\"}]},                        {\"responsive\": true}                    ).then(function(){\n",
       "                            \n",
       "var gd = document.getElementById('679107d3-d166-4b78-a5db-f55f99fe9b24');\n",
       "var x = new MutationObserver(function (mutations, observer) {{\n",
       "        var display = window.getComputedStyle(gd).display;\n",
       "        if (!display || display === 'none') {{\n",
       "            console.log([gd, 'removed!']);\n",
       "            Plotly.purge(gd);\n",
       "            observer.disconnect();\n",
       "        }}\n",
       "}});\n",
       "\n",
       "// Listen for the removal of the full notebook cells\n",
       "var notebookContainer = gd.closest('#notebook-container');\n",
       "if (notebookContainer) {{\n",
       "    x.observe(notebookContainer, {childList: true});\n",
       "}}\n",
       "\n",
       "// Listen for the clearing of the current output cell\n",
       "var outputEl = gd.closest('.output');\n",
       "if (outputEl) {{\n",
       "    x.observe(outputEl, {childList: true});\n",
       "}}\n",
       "\n",
       "                        })                };                });            </script>        </div>"
      ]
     },
     "metadata": {},
     "output_type": "display_data"
    }
   ],
   "source": [
    "df = pd.read_excel(\"~/local/populations.xlsx\", sheet_name=\"img2\")\n",
    "for col in [\"hapA\", \"hapB\", \"none\", \"none2\"]:\n",
    "    df[f\"{col}_f\"] = df[col] / df[\"sum\"]\n",
    "df[\"none+hapB\"] = df[\"none2_f\"]\n",
    "df2 = df.melt(\n",
    "    id_vars=[\"cohort\"], value_vars=[\"hapA_f\", \"hapB_f\", \"none_f\", \"none+hapB\"]\n",
    ").iloc[::-1]\n",
    "df2[\"variable\"] = df2[\"variable\"].str.replace(\"_f\", \"\")\n",
    "\n",
    "# custom order the data\n",
    "df2[\"variable\"] = pd.Categorical(\n",
    "    df2[\"variable\"], categories=[\"hapA\", \"hapB\", \"none\", \"none+hapB\"], ordered=True\n",
    ")\n",
    "\n",
    "fig = px.bar(\n",
    "    df2,\n",
    "    x=\"value\",\n",
    "    y=\"cohort\",\n",
    "    color=\"variable\",\n",
    "    orientation=\"h\",\n",
    "    color_discrete_map={\n",
    "        \"hapA\": \"red\",\n",
    "        \"hapB\": \"orange\",\n",
    "        \"none\": \"green\",\n",
    "        \"none+hapB\": \"#022b0f\",\n",
    "    },\n",
    "    category_orders={\"variable\": [\"hapA\", \"hapB\", \"none\", \"none+hapB\"]},\n",
    "    labels={\"value\": \"Proportion\", \"variable\": \"Haplotype\", \"cohort\": \"Cohort\"},\n",
    ")\n",
    "fig.update_layout(\n",
    "    title=\"Non-aFTLD-U populations\",\n",
    "    xaxis_title=\"\",\n",
    "    yaxis_title=\"Cohort<br>\",\n",
    "    title_x=0.55,\n",
    "    title_xanchor=\"left\",\n",
    "    plot_bgcolor=\"white\",\n",
    "    font=dict(size=24),\n",
    "    margin=dict(l=0, r=0, b=0),\n",
    "    width=1200,\n",
    ")\n",
    "\n",
    "# put the legend horizontal, centered, below the plotting area\n",
    "fig.update_layout(\n",
    "    legend=dict(\n",
    "        orientation=\"h\",\n",
    "        yanchor=\"bottom\",\n",
    "        y=-0.15,\n",
    "        xanchor=\"center\",\n",
    "        x=0.3,\n",
    "        title=\"Carrier frequency:\",\n",
    "    )\n",
    ")\n",
    "\n",
    "# hide x-axis labels\n",
    "fig.update_xaxes(showticklabels=False)\n",
    "fig.update_yaxes(\n",
    "    ticks=\"outside\",\n",
    "    tickcolor=\"white\",  # adjust color of the tick\n",
    ")\n",
    "\n",
    "# add annotations\n",
    "df_vals = df.copy()\n",
    "df_vals[\"hapA_loc\"] = df_vals[\"hapA_f\"] / 2  # center of hapA block\n",
    "df_vals[\"hapB_loc\"] = (\n",
    "    df_vals[\"hapA_f\"] + df_vals[\"hapB_f\"] / 2\n",
    ")  # center of hapB block\n",
    "df_vals[\"none_loc\"] = (\n",
    "    df_vals[\"hapA_f\"] + df_vals[\"hapB_f\"] + df_vals[\"none_f\"] / 2\n",
    ")  # center of none block\n",
    "df_vals[\"none+hapB_loc\"] = (\n",
    "    df_vals[\"hapA_f\"] + df_vals[\"hapB_f\"] + df_vals[\"none_f\"] + df_vals[\"none2_f\"] / 2\n",
    ")  # center of none+hapB block\n",
    "\n",
    "for i, row in df_vals.iterrows():\n",
    "    fig.add_annotation(\n",
    "        x=row[\"hapA_loc\"],\n",
    "        y=row[\"cohort\"],\n",
    "        text=f\"{row['hapA']}\",\n",
    "        arrowhead=1,\n",
    "        font=dict(color=\"black\", size=24),\n",
    "        yshift=0,\n",
    "        ax=-20,\n",
    "        ay=-15,\n",
    "    )\n",
    "    if not row[\"hapB\"] == 0:\n",
    "        if row[\"hapB\"] > 10:\n",
    "            fig.add_annotation(\n",
    "                x=row[\"hapB_loc\"],\n",
    "                y=row[\"cohort\"],\n",
    "                text=f\"{row['hapB']}\",\n",
    "                showarrow=False,\n",
    "                font=dict(color=\"white\", size=24),\n",
    "            )\n",
    "        else:\n",
    "            fig.add_annotation(\n",
    "                x=row[\"hapB_loc\"],\n",
    "                y=row[\"cohort\"],\n",
    "                text=f\"{row['hapB']}\",\n",
    "                arrowhead=1,\n",
    "                font=dict(color=\"black\", size=24),\n",
    "                yshift=0,\n",
    "                ax=-15,\n",
    "                ay=-35,\n",
    "            )\n",
    "\n",
    "    if not row[\"none\"] == 0:\n",
    "        fig.add_annotation(\n",
    "            x=row[\"none_loc\"],\n",
    "            y=row[\"cohort\"],\n",
    "            text=f\"{row['none']}\",\n",
    "            showarrow=False,\n",
    "            font=dict(color=\"white\", size=24),\n",
    "        )\n",
    "    if not row[\"none2\"] == 0:\n",
    "        fig.add_annotation(\n",
    "            x=row[\"none+hapB_loc\"],\n",
    "            y=row[\"cohort\"],\n",
    "            text=f\"{row['none2']}\",\n",
    "            showarrow=False,\n",
    "            font=dict(color=\"white\", size=24),\n",
    "        )\n",
    "    fig.add_annotation(\n",
    "        x=-0.06,\n",
    "        y=row[\"cohort\"],\n",
    "        text=f\"N={row['sum']}\",\n",
    "        xanchor=\"right\",\n",
    "        font=dict(color=\"black\", size=24),\n",
    "        showarrow=False,\n",
    "    )\n",
    "\n",
    "fig.show()"
   ]
  },
  {
   "cell_type": "markdown",
   "metadata": {},
   "source": [
    "# Image 3\n"
   ]
  },
  {
   "cell_type": "code",
   "execution_count": 20,
   "metadata": {},
   "outputs": [
    {
     "data": {
      "application/vnd.plotly.v1+json": {
       "config": {
        "plotlyServerURL": "https://plot.ly"
       },
       "data": [
        {
         "alignmentgroup": "True",
         "hovertemplate": "Repeat=CT repeat<br>Haplotype=hapA<br>phenotype=aFTLD-U<br>Proportion=%{x}<br>classification=%{y}<extra></extra>",
         "legendgroup": "CT repeat",
         "marker": {
          "color": "red",
          "pattern": {
           "shape": ""
          }
         },
         "name": "CT repeat",
         "offsetgroup": "CT repeat",
         "orientation": "h",
         "showlegend": true,
         "textposition": "auto",
         "type": "bar",
         "x": [
          1,
          0.9545454545454546,
          1
         ],
         "xaxis": "x5",
         "y": [
          ">190 CT-dimers",
          ">450bp/>80%CT",
          "Any CT repeat"
         ],
         "yaxis": "y5"
        },
        {
         "alignmentgroup": "True",
         "hovertemplate": "Repeat=CT repeat<br>Haplotype=hapA<br>phenotype=non-aFTLD-U subjects<br>Proportion=%{x}<br>classification=%{y}<extra></extra>",
         "legendgroup": "CT repeat",
         "marker": {
          "color": "red",
          "pattern": {
           "shape": ""
          }
         },
         "name": "CT repeat",
         "offsetgroup": "CT repeat",
         "orientation": "h",
         "showlegend": false,
         "textposition": "auto",
         "type": "bar",
         "x": [
          0.631578947368421,
          0.2631578947368421,
          0.3157894736842105
         ],
         "xaxis": "x6",
         "y": [
          "Any CT repeat",
          ">450bp/>80%CT",
          ">190 CT-dimers"
         ],
         "yaxis": "y6"
        },
        {
         "alignmentgroup": "True",
         "hovertemplate": "Repeat=CT repeat<br>Haplotype=hapB<br>phenotype=aFTLD-U<br>Proportion=%{x}<br>classification=%{y}<extra></extra>",
         "legendgroup": "CT repeat",
         "marker": {
          "color": "red",
          "pattern": {
           "shape": ""
          }
         },
         "name": "CT repeat",
         "offsetgroup": "CT repeat",
         "orientation": "h",
         "showlegend": false,
         "textposition": "auto",
         "type": "bar",
         "x": [
          0.7777777777777778,
          0.7777777777777778,
          0.8888888888888888
         ],
         "xaxis": "x3",
         "y": [
          ">190 CT-dimers",
          ">450bp/>80%CT",
          "Any CT repeat"
         ],
         "yaxis": "y3"
        },
        {
         "alignmentgroup": "True",
         "hovertemplate": "Repeat=CT repeat<br>Haplotype=hapB<br>phenotype=non-aFTLD-U subjects<br>Proportion=%{x}<br>classification=%{y}<extra></extra>",
         "legendgroup": "CT repeat",
         "marker": {
          "color": "red",
          "pattern": {
           "shape": ""
          }
         },
         "name": "CT repeat",
         "offsetgroup": "CT repeat",
         "orientation": "h",
         "showlegend": false,
         "textposition": "auto",
         "type": "bar",
         "x": [
          0.037037037037037035,
          0.037037037037037035,
          0.9259259259259259
         ],
         "xaxis": "x4",
         "y": [
          ">190 CT-dimers",
          ">450bp/>80%CT",
          "Any CT repeat"
         ],
         "yaxis": "y4"
        },
        {
         "alignmentgroup": "True",
         "hovertemplate": "Repeat=CT repeat<br>Haplotype=hapA+B<br>phenotype=aFTLD-U<br>Proportion=%{x}<br>classification=%{y}<extra></extra>",
         "legendgroup": "CT repeat",
         "marker": {
          "color": "red",
          "pattern": {
           "shape": ""
          }
         },
         "name": "CT repeat",
         "offsetgroup": "CT repeat",
         "orientation": "h",
         "showlegend": false,
         "textposition": "auto",
         "type": "bar",
         "x": [
          0.9354838709677419,
          0.9032258064516129,
          0.967741935483871
         ],
         "xaxis": "x",
         "y": [
          ">190 CT-dimers",
          ">450bp/>80%CT",
          "Any CT repeat"
         ],
         "yaxis": "y"
        },
        {
         "alignmentgroup": "True",
         "hovertemplate": "Repeat=CT repeat<br>Haplotype=hapA+B<br>phenotype=non-aFTLD-U subjects<br>Proportion=%{x}<br>classification=%{y}<extra></extra>",
         "legendgroup": "CT repeat",
         "marker": {
          "color": "red",
          "pattern": {
           "shape": ""
          }
         },
         "name": "CT repeat",
         "offsetgroup": "CT repeat",
         "orientation": "h",
         "showlegend": false,
         "textposition": "auto",
         "type": "bar",
         "x": [
          0.15217391304347827,
          0.13043478260869565,
          0.8043478260869565
         ],
         "xaxis": "x2",
         "y": [
          ">190 CT-dimers",
          ">450bp/>80%CT",
          "Any CT repeat"
         ],
         "yaxis": "y2"
        },
        {
         "alignmentgroup": "True",
         "hovertemplate": "Repeat=Short CT repeat<br>Haplotype=hapA<br>phenotype=aFTLD-U<br>Proportion=%{x}<br>classification=%{y}<extra></extra>",
         "legendgroup": "Short CT repeat",
         "marker": {
          "color": "pink",
          "pattern": {
           "shape": ""
          }
         },
         "name": "Short CT repeat",
         "offsetgroup": "Short CT repeat",
         "orientation": "h",
         "showlegend": true,
         "textposition": "auto",
         "type": "bar",
         "x": [
          0,
          0.045454545454545456,
          0
         ],
         "xaxis": "x5",
         "y": [
          "Any CT repeat",
          ">450bp/>80%CT",
          ">190 CT-dimers"
         ],
         "yaxis": "y5"
        },
        {
         "alignmentgroup": "True",
         "hovertemplate": "Repeat=Short CT repeat<br>Haplotype=hapA<br>phenotype=non-aFTLD-U subjects<br>Proportion=%{x}<br>classification=%{y}<extra></extra>",
         "legendgroup": "Short CT repeat",
         "marker": {
          "color": "pink",
          "pattern": {
           "shape": ""
          }
         },
         "name": "Short CT repeat",
         "offsetgroup": "Short CT repeat",
         "orientation": "h",
         "showlegend": false,
         "textposition": "auto",
         "type": "bar",
         "x": [
          0,
          0.3684210526315789,
          0.3157894736842105
         ],
         "xaxis": "x6",
         "y": [
          "Any CT repeat",
          ">450bp/>80%CT",
          ">190 CT-dimers"
         ],
         "yaxis": "y6"
        },
        {
         "alignmentgroup": "True",
         "hovertemplate": "Repeat=Short CT repeat<br>Haplotype=hapB<br>phenotype=aFTLD-U<br>Proportion=%{x}<br>classification=%{y}<extra></extra>",
         "legendgroup": "Short CT repeat",
         "marker": {
          "color": "pink",
          "pattern": {
           "shape": ""
          }
         },
         "name": "Short CT repeat",
         "offsetgroup": "Short CT repeat",
         "orientation": "h",
         "showlegend": false,
         "textposition": "auto",
         "type": "bar",
         "x": [
          0.1111111111111111,
          0.1111111111111111,
          0
         ],
         "xaxis": "x3",
         "y": [
          ">190 CT-dimers",
          ">450bp/>80%CT",
          "Any CT repeat"
         ],
         "yaxis": "y3"
        },
        {
         "alignmentgroup": "True",
         "hovertemplate": "Repeat=Short CT repeat<br>Haplotype=hapB<br>phenotype=non-aFTLD-U subjects<br>Proportion=%{x}<br>classification=%{y}<extra></extra>",
         "legendgroup": "Short CT repeat",
         "marker": {
          "color": "pink",
          "pattern": {
           "shape": ""
          }
         },
         "name": "Short CT repeat",
         "offsetgroup": "Short CT repeat",
         "orientation": "h",
         "showlegend": false,
         "textposition": "auto",
         "type": "bar",
         "x": [
          0.8888888888888888,
          0.8888888888888888,
          0
         ],
         "xaxis": "x4",
         "y": [
          ">190 CT-dimers",
          ">450bp/>80%CT",
          "Any CT repeat"
         ],
         "yaxis": "y4"
        },
        {
         "alignmentgroup": "True",
         "hovertemplate": "Repeat=Short CT repeat<br>Haplotype=hapA+B<br>phenotype=aFTLD-U<br>Proportion=%{x}<br>classification=%{y}<extra></extra>",
         "legendgroup": "Short CT repeat",
         "marker": {
          "color": "pink",
          "pattern": {
           "shape": ""
          }
         },
         "name": "Short CT repeat",
         "offsetgroup": "Short CT repeat",
         "orientation": "h",
         "showlegend": false,
         "textposition": "auto",
         "type": "bar",
         "x": [
          0.03225806451612903,
          0.06451612903225806,
          0
         ],
         "xaxis": "x",
         "y": [
          ">190 CT-dimers",
          ">450bp/>80%CT",
          "Any CT repeat"
         ],
         "yaxis": "y"
        },
        {
         "alignmentgroup": "True",
         "hovertemplate": "Repeat=Short CT repeat<br>Haplotype=hapA+B<br>phenotype=non-aFTLD-U subjects<br>Proportion=%{x}<br>classification=%{y}<extra></extra>",
         "legendgroup": "Short CT repeat",
         "marker": {
          "color": "pink",
          "pattern": {
           "shape": ""
          }
         },
         "name": "Short CT repeat",
         "offsetgroup": "Short CT repeat",
         "orientation": "h",
         "showlegend": false,
         "textposition": "auto",
         "type": "bar",
         "x": [
          0.6521739130434783,
          0.6739130434782609,
          0
         ],
         "xaxis": "x2",
         "y": [
          ">190 CT-dimers",
          ">450bp/>80%CT",
          "Any CT repeat"
         ],
         "yaxis": "y2"
        },
        {
         "alignmentgroup": "True",
         "hovertemplate": "Repeat=12-mer repeat<br>Haplotype=hapA<br>phenotype=aFTLD-U<br>Proportion=%{x}<br>classification=%{y}<extra></extra>",
         "legendgroup": "12-mer repeat",
         "marker": {
          "color": "orange",
          "pattern": {
           "shape": ""
          }
         },
         "name": "12-mer repeat",
         "offsetgroup": "12-mer repeat",
         "orientation": "h",
         "showlegend": true,
         "textposition": "auto",
         "type": "bar",
         "x": [
          0,
          0,
          0
         ],
         "xaxis": "x5",
         "y": [
          "Any CT repeat",
          ">450bp/>80%CT",
          ">190 CT-dimers"
         ],
         "yaxis": "y5"
        },
        {
         "alignmentgroup": "True",
         "hovertemplate": "Repeat=12-mer repeat<br>Haplotype=hapA<br>phenotype=non-aFTLD-U subjects<br>Proportion=%{x}<br>classification=%{y}<extra></extra>",
         "legendgroup": "12-mer repeat",
         "marker": {
          "color": "orange",
          "pattern": {
           "shape": ""
          }
         },
         "name": "12-mer repeat",
         "offsetgroup": "12-mer repeat",
         "orientation": "h",
         "showlegend": false,
         "textposition": "auto",
         "type": "bar",
         "x": [
          0.05263157894736842,
          0.05263157894736842,
          0.05263157894736842
         ],
         "xaxis": "x6",
         "y": [
          ">190 CT-dimers",
          "Any CT repeat",
          ">450bp/>80%CT"
         ],
         "yaxis": "y6"
        },
        {
         "alignmentgroup": "True",
         "hovertemplate": "Repeat=12-mer repeat<br>Haplotype=hapB<br>phenotype=aFTLD-U<br>Proportion=%{x}<br>classification=%{y}<extra></extra>",
         "legendgroup": "12-mer repeat",
         "marker": {
          "color": "orange",
          "pattern": {
           "shape": ""
          }
         },
         "name": "12-mer repeat",
         "offsetgroup": "12-mer repeat",
         "orientation": "h",
         "showlegend": false,
         "textposition": "auto",
         "type": "bar",
         "x": [
          0,
          0,
          0
         ],
         "xaxis": "x3",
         "y": [
          ">190 CT-dimers",
          ">450bp/>80%CT",
          "Any CT repeat"
         ],
         "yaxis": "y3"
        },
        {
         "alignmentgroup": "True",
         "hovertemplate": "Repeat=12-mer repeat<br>Haplotype=hapB<br>phenotype=non-aFTLD-U subjects<br>Proportion=%{x}<br>classification=%{y}<extra></extra>",
         "legendgroup": "12-mer repeat",
         "marker": {
          "color": "orange",
          "pattern": {
           "shape": ""
          }
         },
         "name": "12-mer repeat",
         "offsetgroup": "12-mer repeat",
         "orientation": "h",
         "showlegend": false,
         "textposition": "auto",
         "type": "bar",
         "x": [
          0,
          0,
          0
         ],
         "xaxis": "x4",
         "y": [
          ">190 CT-dimers",
          ">450bp/>80%CT",
          "Any CT repeat"
         ],
         "yaxis": "y4"
        },
        {
         "alignmentgroup": "True",
         "hovertemplate": "Repeat=12-mer repeat<br>Haplotype=hapA+B<br>phenotype=aFTLD-U<br>Proportion=%{x}<br>classification=%{y}<extra></extra>",
         "legendgroup": "12-mer repeat",
         "marker": {
          "color": "orange",
          "pattern": {
           "shape": ""
          }
         },
         "name": "12-mer repeat",
         "offsetgroup": "12-mer repeat",
         "orientation": "h",
         "showlegend": false,
         "textposition": "auto",
         "type": "bar",
         "x": [
          0,
          0,
          0
         ],
         "xaxis": "x",
         "y": [
          ">190 CT-dimers",
          ">450bp/>80%CT",
          "Any CT repeat"
         ],
         "yaxis": "y"
        },
        {
         "alignmentgroup": "True",
         "hovertemplate": "Repeat=12-mer repeat<br>Haplotype=hapA+B<br>phenotype=non-aFTLD-U subjects<br>Proportion=%{x}<br>classification=%{y}<extra></extra>",
         "legendgroup": "12-mer repeat",
         "marker": {
          "color": "orange",
          "pattern": {
           "shape": ""
          }
         },
         "name": "12-mer repeat",
         "offsetgroup": "12-mer repeat",
         "orientation": "h",
         "showlegend": false,
         "textposition": "auto",
         "type": "bar",
         "x": [
          0.021739130434782608,
          0.021739130434782608,
          0.021739130434782608
         ],
         "xaxis": "x2",
         "y": [
          ">190 CT-dimers",
          ">450bp/>80%CT",
          "Any CT repeat"
         ],
         "yaxis": "y2"
        },
        {
         "alignmentgroup": "True",
         "hovertemplate": "Repeat=CCCTCT repeat<br>Haplotype=hapA<br>phenotype=aFTLD-U<br>Proportion=%{x}<br>classification=%{y}<extra></extra>",
         "legendgroup": "CCCTCT repeat",
         "marker": {
          "color": "yellow",
          "pattern": {
           "shape": ""
          }
         },
         "name": "CCCTCT repeat",
         "offsetgroup": "CCCTCT repeat",
         "orientation": "h",
         "showlegend": true,
         "textposition": "auto",
         "type": "bar",
         "x": [
          0,
          0,
          0
         ],
         "xaxis": "x5",
         "y": [
          ">450bp/>80%CT",
          ">190 CT-dimers",
          "Any CT repeat"
         ],
         "yaxis": "y5"
        },
        {
         "alignmentgroup": "True",
         "hovertemplate": "Repeat=CCCTCT repeat<br>Haplotype=hapA<br>phenotype=non-aFTLD-U subjects<br>Proportion=%{x}<br>classification=%{y}<extra></extra>",
         "legendgroup": "CCCTCT repeat",
         "marker": {
          "color": "yellow",
          "pattern": {
           "shape": ""
          }
         },
         "name": "CCCTCT repeat",
         "offsetgroup": "CCCTCT repeat",
         "orientation": "h",
         "showlegend": false,
         "textposition": "auto",
         "type": "bar",
         "x": [
          0.21052631578947367,
          0.21052631578947367,
          0.21052631578947367
         ],
         "xaxis": "x6",
         "y": [
          ">190 CT-dimers",
          ">450bp/>80%CT",
          "Any CT repeat"
         ],
         "yaxis": "y6"
        },
        {
         "alignmentgroup": "True",
         "hovertemplate": "Repeat=CCCTCT repeat<br>Haplotype=hapB<br>phenotype=aFTLD-U<br>Proportion=%{x}<br>classification=%{y}<extra></extra>",
         "legendgroup": "CCCTCT repeat",
         "marker": {
          "color": "yellow",
          "pattern": {
           "shape": ""
          }
         },
         "name": "CCCTCT repeat",
         "offsetgroup": "CCCTCT repeat",
         "orientation": "h",
         "showlegend": false,
         "textposition": "auto",
         "type": "bar",
         "x": [
          0,
          0,
          0
         ],
         "xaxis": "x3",
         "y": [
          ">190 CT-dimers",
          ">450bp/>80%CT",
          "Any CT repeat"
         ],
         "yaxis": "y3"
        },
        {
         "alignmentgroup": "True",
         "hovertemplate": "Repeat=CCCTCT repeat<br>Haplotype=hapB<br>phenotype=non-aFTLD-U subjects<br>Proportion=%{x}<br>classification=%{y}<extra></extra>",
         "legendgroup": "CCCTCT repeat",
         "marker": {
          "color": "yellow",
          "pattern": {
           "shape": ""
          }
         },
         "name": "CCCTCT repeat",
         "offsetgroup": "CCCTCT repeat",
         "orientation": "h",
         "showlegend": false,
         "textposition": "auto",
         "type": "bar",
         "x": [
          0.07407407407407407,
          0.07407407407407407,
          0.07407407407407407
         ],
         "xaxis": "x4",
         "y": [
          ">190 CT-dimers",
          ">450bp/>80%CT",
          "Any CT repeat"
         ],
         "yaxis": "y4"
        },
        {
         "alignmentgroup": "True",
         "hovertemplate": "Repeat=CCCTCT repeat<br>Haplotype=hapA+B<br>phenotype=aFTLD-U<br>Proportion=%{x}<br>classification=%{y}<extra></extra>",
         "legendgroup": "CCCTCT repeat",
         "marker": {
          "color": "yellow",
          "pattern": {
           "shape": ""
          }
         },
         "name": "CCCTCT repeat",
         "offsetgroup": "CCCTCT repeat",
         "orientation": "h",
         "showlegend": false,
         "textposition": "auto",
         "type": "bar",
         "x": [
          0,
          0,
          0
         ],
         "xaxis": "x",
         "y": [
          ">190 CT-dimers",
          ">450bp/>80%CT",
          "Any CT repeat"
         ],
         "yaxis": "y"
        },
        {
         "alignmentgroup": "True",
         "hovertemplate": "Repeat=CCCTCT repeat<br>Haplotype=hapA+B<br>phenotype=non-aFTLD-U subjects<br>Proportion=%{x}<br>classification=%{y}<extra></extra>",
         "legendgroup": "CCCTCT repeat",
         "marker": {
          "color": "yellow",
          "pattern": {
           "shape": ""
          }
         },
         "name": "CCCTCT repeat",
         "offsetgroup": "CCCTCT repeat",
         "orientation": "h",
         "showlegend": false,
         "textposition": "auto",
         "type": "bar",
         "x": [
          0.13043478260869565,
          0.13043478260869565,
          0.13043478260869565
         ],
         "xaxis": "x2",
         "y": [
          ">190 CT-dimers",
          ">450bp/>80%CT",
          "Any CT repeat"
         ],
         "yaxis": "y2"
        },
        {
         "alignmentgroup": "True",
         "hovertemplate": "Repeat=no repeat<br>Haplotype=hapA<br>phenotype=aFTLD-U<br>Proportion=%{x}<br>classification=%{y}<extra></extra>",
         "legendgroup": "no repeat",
         "marker": {
          "color": "grey",
          "pattern": {
           "shape": ""
          }
         },
         "name": "no repeat",
         "offsetgroup": "no repeat",
         "orientation": "h",
         "showlegend": true,
         "textposition": "auto",
         "type": "bar",
         "x": [
          0,
          0,
          0
         ],
         "xaxis": "x5",
         "y": [
          "Any CT repeat",
          ">190 CT-dimers",
          ">450bp/>80%CT"
         ],
         "yaxis": "y5"
        },
        {
         "alignmentgroup": "True",
         "hovertemplate": "Repeat=no repeat<br>Haplotype=hapA<br>phenotype=non-aFTLD-U subjects<br>Proportion=%{x}<br>classification=%{y}<extra></extra>",
         "legendgroup": "no repeat",
         "marker": {
          "color": "grey",
          "pattern": {
           "shape": ""
          }
         },
         "name": "no repeat",
         "offsetgroup": "no repeat",
         "orientation": "h",
         "showlegend": false,
         "textposition": "auto",
         "type": "bar",
         "x": [
          0.10526315789473684,
          0.10526315789473684,
          0.10526315789473684
         ],
         "xaxis": "x6",
         "y": [
          ">450bp/>80%CT",
          "Any CT repeat",
          ">190 CT-dimers"
         ],
         "yaxis": "y6"
        },
        {
         "alignmentgroup": "True",
         "hovertemplate": "Repeat=no repeat<br>Haplotype=hapB<br>phenotype=aFTLD-U<br>Proportion=%{x}<br>classification=%{y}<extra></extra>",
         "legendgroup": "no repeat",
         "marker": {
          "color": "grey",
          "pattern": {
           "shape": ""
          }
         },
         "name": "no repeat",
         "offsetgroup": "no repeat",
         "orientation": "h",
         "showlegend": false,
         "textposition": "auto",
         "type": "bar",
         "x": [
          0,
          0,
          0
         ],
         "xaxis": "x3",
         "y": [
          ">190 CT-dimers",
          ">450bp/>80%CT",
          "Any CT repeat"
         ],
         "yaxis": "y3"
        },
        {
         "alignmentgroup": "True",
         "hovertemplate": "Repeat=no repeat<br>Haplotype=hapB<br>phenotype=non-aFTLD-U subjects<br>Proportion=%{x}<br>classification=%{y}<extra></extra>",
         "legendgroup": "no repeat",
         "marker": {
          "color": "grey",
          "pattern": {
           "shape": ""
          }
         },
         "name": "no repeat",
         "offsetgroup": "no repeat",
         "orientation": "h",
         "showlegend": false,
         "textposition": "auto",
         "type": "bar",
         "x": [
          0,
          0,
          0
         ],
         "xaxis": "x4",
         "y": [
          ">190 CT-dimers",
          ">450bp/>80%CT",
          "Any CT repeat"
         ],
         "yaxis": "y4"
        },
        {
         "alignmentgroup": "True",
         "hovertemplate": "Repeat=no repeat<br>Haplotype=hapA+B<br>phenotype=aFTLD-U<br>Proportion=%{x}<br>classification=%{y}<extra></extra>",
         "legendgroup": "no repeat",
         "marker": {
          "color": "grey",
          "pattern": {
           "shape": ""
          }
         },
         "name": "no repeat",
         "offsetgroup": "no repeat",
         "orientation": "h",
         "showlegend": false,
         "textposition": "auto",
         "type": "bar",
         "x": [
          0,
          0,
          0
         ],
         "xaxis": "x",
         "y": [
          ">190 CT-dimers",
          ">450bp/>80%CT",
          "Any CT repeat"
         ],
         "yaxis": "y"
        },
        {
         "alignmentgroup": "True",
         "hovertemplate": "Repeat=no repeat<br>Haplotype=hapA+B<br>phenotype=non-aFTLD-U subjects<br>Proportion=%{x}<br>classification=%{y}<extra></extra>",
         "legendgroup": "no repeat",
         "marker": {
          "color": "grey",
          "pattern": {
           "shape": ""
          }
         },
         "name": "no repeat",
         "offsetgroup": "no repeat",
         "orientation": "h",
         "showlegend": false,
         "textposition": "auto",
         "type": "bar",
         "x": [
          0.043478260869565216,
          0.043478260869565216,
          0.043478260869565216
         ],
         "xaxis": "x2",
         "y": [
          ">190 CT-dimers",
          ">450bp/>80%CT",
          "Any CT repeat"
         ],
         "yaxis": "y2"
        },
        {
         "alignmentgroup": "True",
         "hovertemplate": "Repeat=C<sub>n</sub>T repeat<br>Haplotype=hapA<br>phenotype=aFTLD-U<br>Proportion=%{x}<br>classification=%{y}<extra></extra>",
         "legendgroup": "C<sub>n</sub>T repeat",
         "marker": {
          "color": "purple",
          "pattern": {
           "shape": ""
          }
         },
         "name": "C<sub>n</sub>T repeat",
         "offsetgroup": "C<sub>n</sub>T repeat",
         "orientation": "h",
         "showlegend": true,
         "textposition": "auto",
         "type": "bar",
         "x": [
          0,
          0,
          0
         ],
         "xaxis": "x5",
         "y": [
          "Any CT repeat",
          ">450bp/>80%CT",
          ">190 CT-dimers"
         ],
         "yaxis": "y5"
        },
        {
         "alignmentgroup": "True",
         "hovertemplate": "Repeat=C<sub>n</sub>T repeat<br>Haplotype=hapA<br>phenotype=non-aFTLD-U subjects<br>Proportion=%{x}<br>classification=%{y}<extra></extra>",
         "legendgroup": "C<sub>n</sub>T repeat",
         "marker": {
          "color": "purple",
          "pattern": {
           "shape": ""
          }
         },
         "name": "C<sub>n</sub>T repeat",
         "offsetgroup": "C<sub>n</sub>T repeat",
         "orientation": "h",
         "showlegend": false,
         "textposition": "auto",
         "type": "bar",
         "x": [
          0,
          0,
          0
         ],
         "xaxis": "x6",
         "y": [
          "Any CT repeat",
          ">450bp/>80%CT",
          ">190 CT-dimers"
         ],
         "yaxis": "y6"
        },
        {
         "alignmentgroup": "True",
         "hovertemplate": "Repeat=C<sub>n</sub>T repeat<br>Haplotype=hapB<br>phenotype=aFTLD-U<br>Proportion=%{x}<br>classification=%{y}<extra></extra>",
         "legendgroup": "C<sub>n</sub>T repeat",
         "marker": {
          "color": "purple",
          "pattern": {
           "shape": ""
          }
         },
         "name": "C<sub>n</sub>T repeat",
         "offsetgroup": "C<sub>n</sub>T repeat",
         "orientation": "h",
         "showlegend": false,
         "textposition": "auto",
         "type": "bar",
         "x": [
          0.1111111111111111,
          0.1111111111111111,
          0.1111111111111111
         ],
         "xaxis": "x3",
         "y": [
          ">190 CT-dimers",
          ">450bp/>80%CT",
          "Any CT repeat"
         ],
         "yaxis": "y3"
        },
        {
         "alignmentgroup": "True",
         "hovertemplate": "Repeat=C<sub>n</sub>T repeat<br>Haplotype=hapB<br>phenotype=non-aFTLD-U subjects<br>Proportion=%{x}<br>classification=%{y}<extra></extra>",
         "legendgroup": "C<sub>n</sub>T repeat",
         "marker": {
          "color": "purple",
          "pattern": {
           "shape": ""
          }
         },
         "name": "C<sub>n</sub>T repeat",
         "offsetgroup": "C<sub>n</sub>T repeat",
         "orientation": "h",
         "showlegend": false,
         "textposition": "auto",
         "type": "bar",
         "x": [
          0,
          0,
          0
         ],
         "xaxis": "x4",
         "y": [
          ">190 CT-dimers",
          ">450bp/>80%CT",
          "Any CT repeat"
         ],
         "yaxis": "y4"
        },
        {
         "alignmentgroup": "True",
         "hovertemplate": "Repeat=C<sub>n</sub>T repeat<br>Haplotype=hapA+B<br>phenotype=aFTLD-U<br>Proportion=%{x}<br>classification=%{y}<extra></extra>",
         "legendgroup": "C<sub>n</sub>T repeat",
         "marker": {
          "color": "purple",
          "pattern": {
           "shape": ""
          }
         },
         "name": "C<sub>n</sub>T repeat",
         "offsetgroup": "C<sub>n</sub>T repeat",
         "orientation": "h",
         "showlegend": false,
         "textposition": "auto",
         "type": "bar",
         "x": [
          0.03225806451612903,
          0.03225806451612903,
          0.03225806451612903
         ],
         "xaxis": "x",
         "y": [
          ">190 CT-dimers",
          ">450bp/>80%CT",
          "Any CT repeat"
         ],
         "yaxis": "y"
        },
        {
         "alignmentgroup": "True",
         "hovertemplate": "Repeat=C<sub>n</sub>T repeat<br>Haplotype=hapA+B<br>phenotype=non-aFTLD-U subjects<br>Proportion=%{x}<br>classification=%{y}<extra></extra>",
         "legendgroup": "C<sub>n</sub>T repeat",
         "marker": {
          "color": "purple",
          "pattern": {
           "shape": ""
          }
         },
         "name": "C<sub>n</sub>T repeat",
         "offsetgroup": "C<sub>n</sub>T repeat",
         "orientation": "h",
         "showlegend": false,
         "textposition": "auto",
         "type": "bar",
         "x": [
          0,
          0,
          0
         ],
         "xaxis": "x2",
         "y": [
          ">190 CT-dimers",
          ">450bp/>80%CT",
          "Any CT repeat"
         ],
         "yaxis": "y2"
        }
       ],
       "layout": {
        "annotations": [
         {
          "font": {
           "size": 24
          },
          "showarrow": false,
          "text": "aFTLD-U",
          "x": 0.24,
          "xanchor": "center",
          "xref": "paper",
          "y": 1,
          "yanchor": "bottom",
          "yref": "paper"
         },
         {
          "font": {
           "size": 24
          },
          "showarrow": false,
          "text": "non-aFTLD-U subjects",
          "x": 0.74,
          "xanchor": "center",
          "xref": "paper",
          "y": 1,
          "yanchor": "bottom",
          "yref": "paper"
         },
         {
          "font": {
           "size": 24
          },
          "showarrow": false,
          "text": "hapA+B<br>N=46",
          "textangle": 90,
          "x": 0.98,
          "xanchor": "left",
          "xref": "paper",
          "y": 0.13333333333333333,
          "yanchor": "middle",
          "yref": "paper"
         },
         {
          "font": {
           "size": 24
          },
          "showarrow": false,
          "text": "hapB<br>N=27",
          "textangle": 90,
          "x": 0.98,
          "xanchor": "left",
          "xref": "paper",
          "y": 0.5,
          "yanchor": "middle",
          "yref": "paper"
         },
         {
          "font": {
           "size": 24
          },
          "showarrow": false,
          "text": "hapA<br>N=19",
          "textangle": 90,
          "x": 0.98,
          "xanchor": "left",
          "xref": "paper",
          "y": 0.8666666666666667,
          "yanchor": "middle",
          "yref": "paper"
         },
         {
          "font": {
           "color": "white",
           "size": 24
          },
          "showarrow": false,
          "text": "22",
          "x": 0.5,
          "xref": "x5",
          "y": "Any CT repeat",
          "yref": "y5"
         },
         {
          "font": {
           "color": "white",
           "size": 24
          },
          "showarrow": false,
          "text": "21",
          "x": 0.4772727272727273,
          "xref": "x5",
          "y": ">450bp/>80%CT",
          "yref": "y5"
         },
         {
          "font": {
           "color": "black",
           "size": 24
          },
          "showarrow": false,
          "text": "1",
          "x": 0.9772727272727273,
          "xref": "x5",
          "y": ">450bp/>80%CT",
          "yref": "y5"
         },
         {
          "font": {
           "color": "white",
           "size": 24
          },
          "showarrow": false,
          "text": "22",
          "x": 0.5,
          "xref": "x5",
          "y": ">190 CT-dimers",
          "yref": "y5"
         },
         {
          "font": {
           "color": "white",
           "size": 24
          },
          "showarrow": false,
          "text": "12",
          "x": 0.3157894736842105,
          "xref": "x6",
          "y": "Any CT repeat",
          "yref": "y6"
         },
         {
          "font": {
           "color": "white",
           "size": 24
          },
          "showarrow": false,
          "text": "1",
          "x": 0.6578947368421052,
          "xref": "x6",
          "y": "Any CT repeat",
          "yref": "y6"
         },
         {
          "font": {
           "color": "black",
           "size": 24
          },
          "showarrow": false,
          "text": "4",
          "x": 0.7894736842105262,
          "xref": "x6",
          "y": "Any CT repeat",
          "yref": "y6"
         },
         {
          "font": {
           "color": "white",
           "size": 24
          },
          "showarrow": false,
          "text": "2",
          "x": 0.9473684210526314,
          "xref": "x6",
          "y": "Any CT repeat",
          "yref": "y6"
         },
         {
          "font": {
           "color": "white",
           "size": 24
          },
          "showarrow": false,
          "text": "5",
          "x": 0.13157894736842105,
          "xref": "x6",
          "y": ">450bp/>80%CT",
          "yref": "y6"
         },
         {
          "font": {
           "color": "black",
           "size": 24
          },
          "showarrow": false,
          "text": "7",
          "x": 0.4473684210526315,
          "xref": "x6",
          "y": ">450bp/>80%CT",
          "yref": "y6"
         },
         {
          "font": {
           "color": "white",
           "size": 24
          },
          "showarrow": false,
          "text": "1",
          "x": 0.6578947368421052,
          "xref": "x6",
          "y": ">450bp/>80%CT",
          "yref": "y6"
         },
         {
          "font": {
           "color": "black",
           "size": 24
          },
          "showarrow": false,
          "text": "4",
          "x": 0.7894736842105262,
          "xref": "x6",
          "y": ">450bp/>80%CT",
          "yref": "y6"
         },
         {
          "font": {
           "color": "white",
           "size": 24
          },
          "showarrow": false,
          "text": "2",
          "x": 0.9473684210526314,
          "xref": "x6",
          "y": ">450bp/>80%CT",
          "yref": "y6"
         },
         {
          "font": {
           "color": "white",
           "size": 24
          },
          "showarrow": false,
          "text": "6",
          "x": 0.15789473684210525,
          "xref": "x6",
          "y": ">190 CT-dimers",
          "yref": "y6"
         },
         {
          "font": {
           "color": "black",
           "size": 24
          },
          "showarrow": false,
          "text": "6",
          "x": 0.47368421052631576,
          "xref": "x6",
          "y": ">190 CT-dimers",
          "yref": "y6"
         },
         {
          "font": {
           "color": "white",
           "size": 24
          },
          "showarrow": false,
          "text": "1",
          "x": 0.6578947368421052,
          "xref": "x6",
          "y": ">190 CT-dimers",
          "yref": "y6"
         },
         {
          "font": {
           "color": "black",
           "size": 24
          },
          "showarrow": false,
          "text": "4",
          "x": 0.7894736842105262,
          "xref": "x6",
          "y": ">190 CT-dimers",
          "yref": "y6"
         },
         {
          "font": {
           "color": "white",
           "size": 24
          },
          "showarrow": false,
          "text": "2",
          "x": 0.9473684210526314,
          "xref": "x6",
          "y": ">190 CT-dimers",
          "yref": "y6"
         },
         {
          "font": {
           "color": "white",
           "size": 24
          },
          "showarrow": false,
          "text": "8",
          "x": 0.4444444444444444,
          "xref": "x3",
          "y": "Any CT repeat",
          "yref": "y3"
         },
         {
          "font": {
           "color": "white",
           "size": 24
          },
          "showarrow": false,
          "text": "1",
          "x": 0.9444444444444444,
          "xref": "x3",
          "y": "Any CT repeat",
          "yref": "y3"
         },
         {
          "font": {
           "color": "white",
           "size": 24
          },
          "showarrow": false,
          "text": "7",
          "x": 0.3888888888888889,
          "xref": "x3",
          "y": ">450bp/>80%CT",
          "yref": "y3"
         },
         {
          "font": {
           "color": "black",
           "size": 24
          },
          "showarrow": false,
          "text": "1",
          "x": 0.8333333333333334,
          "xref": "x3",
          "y": ">450bp/>80%CT",
          "yref": "y3"
         },
         {
          "font": {
           "color": "white",
           "size": 24
          },
          "showarrow": false,
          "text": "1",
          "x": 0.9444444444444444,
          "xref": "x3",
          "y": ">450bp/>80%CT",
          "yref": "y3"
         },
         {
          "font": {
           "color": "white",
           "size": 24
          },
          "showarrow": false,
          "text": "7",
          "x": 0.3888888888888889,
          "xref": "x3",
          "y": ">190 CT-dimers",
          "yref": "y3"
         },
         {
          "font": {
           "color": "black",
           "size": 24
          },
          "showarrow": false,
          "text": "1",
          "x": 0.8333333333333334,
          "xref": "x3",
          "y": ">190 CT-dimers",
          "yref": "y3"
         },
         {
          "font": {
           "color": "white",
           "size": 24
          },
          "showarrow": false,
          "text": "1",
          "x": 0.9444444444444444,
          "xref": "x3",
          "y": ">190 CT-dimers",
          "yref": "y3"
         },
         {
          "font": {
           "color": "white",
           "size": 24
          },
          "showarrow": false,
          "text": "25",
          "x": 0.46296296296296297,
          "xref": "x4",
          "y": "Any CT repeat",
          "yref": "y4"
         },
         {
          "font": {
           "color": "black",
           "size": 24
          },
          "showarrow": false,
          "text": "2",
          "x": 0.962962962962963,
          "xref": "x4",
          "y": "Any CT repeat",
          "yref": "y4"
         },
         {
          "font": {
           "color": "white",
           "size": 24
          },
          "showarrow": false,
          "text": "1",
          "x": 0.018518518518518517,
          "xref": "x4",
          "y": ">450bp/>80%CT",
          "yref": "y4"
         },
         {
          "font": {
           "color": "black",
           "size": 24
          },
          "showarrow": false,
          "text": "24",
          "x": 0.48148148148148145,
          "xref": "x4",
          "y": ">450bp/>80%CT",
          "yref": "y4"
         },
         {
          "font": {
           "color": "black",
           "size": 24
          },
          "showarrow": false,
          "text": "2",
          "x": 0.9629629629629628,
          "xref": "x4",
          "y": ">450bp/>80%CT",
          "yref": "y4"
         },
         {
          "font": {
           "color": "white",
           "size": 24
          },
          "showarrow": false,
          "text": "1",
          "x": 0.018518518518518517,
          "xref": "x4",
          "y": ">190 CT-dimers",
          "yref": "y4"
         },
         {
          "font": {
           "color": "black",
           "size": 24
          },
          "showarrow": false,
          "text": "24",
          "x": 0.48148148148148145,
          "xref": "x4",
          "y": ">190 CT-dimers",
          "yref": "y4"
         },
         {
          "font": {
           "color": "black",
           "size": 24
          },
          "showarrow": false,
          "text": "2",
          "x": 0.9629629629629628,
          "xref": "x4",
          "y": ">190 CT-dimers",
          "yref": "y4"
         },
         {
          "font": {
           "color": "white",
           "size": 24
          },
          "showarrow": false,
          "text": "30",
          "x": 0.4838709677419355,
          "xref": "x",
          "y": "Any CT repeat",
          "yref": "y"
         },
         {
          "font": {
           "color": "white",
           "size": 24
          },
          "showarrow": false,
          "text": "1",
          "x": 0.9838709677419355,
          "xref": "x",
          "y": "Any CT repeat",
          "yref": "y"
         },
         {
          "font": {
           "color": "white",
           "size": 24
          },
          "showarrow": false,
          "text": "28",
          "x": 0.45161290322580644,
          "xref": "x",
          "y": ">450bp/>80%CT",
          "yref": "y"
         },
         {
          "font": {
           "color": "black",
           "size": 24
          },
          "showarrow": false,
          "text": "2",
          "x": 0.9354838709677419,
          "xref": "x",
          "y": ">450bp/>80%CT",
          "yref": "y"
         },
         {
          "font": {
           "color": "white",
           "size": 24
          },
          "showarrow": false,
          "text": "1",
          "x": 0.9838709677419355,
          "xref": "x",
          "y": ">450bp/>80%CT",
          "yref": "y"
         },
         {
          "font": {
           "color": "white",
           "size": 24
          },
          "showarrow": false,
          "text": "29",
          "x": 0.46774193548387094,
          "xref": "x",
          "y": ">190 CT-dimers",
          "yref": "y"
         },
         {
          "font": {
           "color": "black",
           "size": 24
          },
          "showarrow": false,
          "text": "1",
          "x": 0.9516129032258064,
          "xref": "x",
          "y": ">190 CT-dimers",
          "yref": "y"
         },
         {
          "font": {
           "color": "white",
           "size": 24
          },
          "showarrow": false,
          "text": "1",
          "x": 0.9838709677419354,
          "xref": "x",
          "y": ">190 CT-dimers",
          "yref": "y"
         },
         {
          "font": {
           "color": "white",
           "size": 24
          },
          "showarrow": false,
          "text": "37",
          "x": 0.40217391304347827,
          "xref": "x2",
          "y": "Any CT repeat",
          "yref": "y2"
         },
         {
          "font": {
           "color": "white",
           "size": 24
          },
          "showarrow": false,
          "text": "1",
          "x": 0.8152173913043479,
          "xref": "x2",
          "y": "Any CT repeat",
          "yref": "y2"
         },
         {
          "font": {
           "color": "black",
           "size": 24
          },
          "showarrow": false,
          "text": "6",
          "x": 0.8913043478260869,
          "xref": "x2",
          "y": "Any CT repeat",
          "yref": "y2"
         },
         {
          "font": {
           "color": "white",
           "size": 24
          },
          "showarrow": false,
          "text": "2",
          "x": 0.9782608695652174,
          "xref": "x2",
          "y": "Any CT repeat",
          "yref": "y2"
         },
         {
          "font": {
           "color": "white",
           "size": 24
          },
          "showarrow": false,
          "text": "6",
          "x": 0.06521739130434782,
          "xref": "x2",
          "y": ">450bp/>80%CT",
          "yref": "y2"
         },
         {
          "font": {
           "color": "black",
           "size": 24
          },
          "showarrow": false,
          "text": "31",
          "x": 0.46739130434782605,
          "xref": "x2",
          "y": ">450bp/>80%CT",
          "yref": "y2"
         },
         {
          "font": {
           "color": "white",
           "size": 24
          },
          "showarrow": false,
          "text": "1",
          "x": 0.8152173913043479,
          "xref": "x2",
          "y": ">450bp/>80%CT",
          "yref": "y2"
         },
         {
          "font": {
           "color": "black",
           "size": 24
          },
          "showarrow": false,
          "text": "6",
          "x": 0.8913043478260869,
          "xref": "x2",
          "y": ">450bp/>80%CT",
          "yref": "y2"
         },
         {
          "font": {
           "color": "white",
           "size": 24
          },
          "showarrow": false,
          "text": "2",
          "x": 0.9782608695652174,
          "xref": "x2",
          "y": ">450bp/>80%CT",
          "yref": "y2"
         },
         {
          "font": {
           "color": "white",
           "size": 24
          },
          "showarrow": false,
          "text": "7",
          "x": 0.07608695652173914,
          "xref": "x2",
          "y": ">190 CT-dimers",
          "yref": "y2"
         },
         {
          "font": {
           "color": "black",
           "size": 24
          },
          "showarrow": false,
          "text": "30",
          "x": 0.4782608695652174,
          "xref": "x2",
          "y": ">190 CT-dimers",
          "yref": "y2"
         },
         {
          "font": {
           "color": "white",
           "size": 24
          },
          "showarrow": false,
          "text": "1",
          "x": 0.8152173913043479,
          "xref": "x2",
          "y": ">190 CT-dimers",
          "yref": "y2"
         },
         {
          "font": {
           "color": "black",
           "size": 24
          },
          "showarrow": false,
          "text": "6",
          "x": 0.8913043478260869,
          "xref": "x2",
          "y": ">190 CT-dimers",
          "yref": "y2"
         },
         {
          "font": {
           "color": "white",
           "size": 24
          },
          "showarrow": false,
          "text": "2",
          "x": 0.9782608695652174,
          "xref": "x2",
          "y": ">190 CT-dimers",
          "yref": "y2"
         }
        ],
        "barmode": "relative",
        "font": {
         "size": 24
        },
        "height": 600,
        "legend": {
         "orientation": "h",
         "title": {
          "text": "Repeat classification:"
         },
         "tracegroupgap": 0,
         "x": 0.4,
         "xanchor": "center",
         "y": -0.25,
         "yanchor": "bottom"
        },
        "margin": {
         "b": 0,
         "l": 0,
         "r": 40,
         "t": 60
        },
        "plot_bgcolor": "white",
        "template": {
         "data": {
          "bar": [
           {
            "error_x": {
             "color": "#2a3f5f"
            },
            "error_y": {
             "color": "#2a3f5f"
            },
            "marker": {
             "line": {
              "color": "#E5ECF6",
              "width": 0.5
             },
             "pattern": {
              "fillmode": "overlay",
              "size": 10,
              "solidity": 0.2
             }
            },
            "type": "bar"
           }
          ],
          "barpolar": [
           {
            "marker": {
             "line": {
              "color": "#E5ECF6",
              "width": 0.5
             },
             "pattern": {
              "fillmode": "overlay",
              "size": 10,
              "solidity": 0.2
             }
            },
            "type": "barpolar"
           }
          ],
          "carpet": [
           {
            "aaxis": {
             "endlinecolor": "#2a3f5f",
             "gridcolor": "white",
             "linecolor": "white",
             "minorgridcolor": "white",
             "startlinecolor": "#2a3f5f"
            },
            "baxis": {
             "endlinecolor": "#2a3f5f",
             "gridcolor": "white",
             "linecolor": "white",
             "minorgridcolor": "white",
             "startlinecolor": "#2a3f5f"
            },
            "type": "carpet"
           }
          ],
          "choropleth": [
           {
            "colorbar": {
             "outlinewidth": 0,
             "ticks": ""
            },
            "type": "choropleth"
           }
          ],
          "contour": [
           {
            "colorbar": {
             "outlinewidth": 0,
             "ticks": ""
            },
            "colorscale": [
             [
              0,
              "#0d0887"
             ],
             [
              0.1111111111111111,
              "#46039f"
             ],
             [
              0.2222222222222222,
              "#7201a8"
             ],
             [
              0.3333333333333333,
              "#9c179e"
             ],
             [
              0.4444444444444444,
              "#bd3786"
             ],
             [
              0.5555555555555556,
              "#d8576b"
             ],
             [
              0.6666666666666666,
              "#ed7953"
             ],
             [
              0.7777777777777778,
              "#fb9f3a"
             ],
             [
              0.8888888888888888,
              "#fdca26"
             ],
             [
              1,
              "#f0f921"
             ]
            ],
            "type": "contour"
           }
          ],
          "contourcarpet": [
           {
            "colorbar": {
             "outlinewidth": 0,
             "ticks": ""
            },
            "type": "contourcarpet"
           }
          ],
          "heatmap": [
           {
            "colorbar": {
             "outlinewidth": 0,
             "ticks": ""
            },
            "colorscale": [
             [
              0,
              "#0d0887"
             ],
             [
              0.1111111111111111,
              "#46039f"
             ],
             [
              0.2222222222222222,
              "#7201a8"
             ],
             [
              0.3333333333333333,
              "#9c179e"
             ],
             [
              0.4444444444444444,
              "#bd3786"
             ],
             [
              0.5555555555555556,
              "#d8576b"
             ],
             [
              0.6666666666666666,
              "#ed7953"
             ],
             [
              0.7777777777777778,
              "#fb9f3a"
             ],
             [
              0.8888888888888888,
              "#fdca26"
             ],
             [
              1,
              "#f0f921"
             ]
            ],
            "type": "heatmap"
           }
          ],
          "heatmapgl": [
           {
            "colorbar": {
             "outlinewidth": 0,
             "ticks": ""
            },
            "colorscale": [
             [
              0,
              "#0d0887"
             ],
             [
              0.1111111111111111,
              "#46039f"
             ],
             [
              0.2222222222222222,
              "#7201a8"
             ],
             [
              0.3333333333333333,
              "#9c179e"
             ],
             [
              0.4444444444444444,
              "#bd3786"
             ],
             [
              0.5555555555555556,
              "#d8576b"
             ],
             [
              0.6666666666666666,
              "#ed7953"
             ],
             [
              0.7777777777777778,
              "#fb9f3a"
             ],
             [
              0.8888888888888888,
              "#fdca26"
             ],
             [
              1,
              "#f0f921"
             ]
            ],
            "type": "heatmapgl"
           }
          ],
          "histogram": [
           {
            "marker": {
             "pattern": {
              "fillmode": "overlay",
              "size": 10,
              "solidity": 0.2
             }
            },
            "type": "histogram"
           }
          ],
          "histogram2d": [
           {
            "colorbar": {
             "outlinewidth": 0,
             "ticks": ""
            },
            "colorscale": [
             [
              0,
              "#0d0887"
             ],
             [
              0.1111111111111111,
              "#46039f"
             ],
             [
              0.2222222222222222,
              "#7201a8"
             ],
             [
              0.3333333333333333,
              "#9c179e"
             ],
             [
              0.4444444444444444,
              "#bd3786"
             ],
             [
              0.5555555555555556,
              "#d8576b"
             ],
             [
              0.6666666666666666,
              "#ed7953"
             ],
             [
              0.7777777777777778,
              "#fb9f3a"
             ],
             [
              0.8888888888888888,
              "#fdca26"
             ],
             [
              1,
              "#f0f921"
             ]
            ],
            "type": "histogram2d"
           }
          ],
          "histogram2dcontour": [
           {
            "colorbar": {
             "outlinewidth": 0,
             "ticks": ""
            },
            "colorscale": [
             [
              0,
              "#0d0887"
             ],
             [
              0.1111111111111111,
              "#46039f"
             ],
             [
              0.2222222222222222,
              "#7201a8"
             ],
             [
              0.3333333333333333,
              "#9c179e"
             ],
             [
              0.4444444444444444,
              "#bd3786"
             ],
             [
              0.5555555555555556,
              "#d8576b"
             ],
             [
              0.6666666666666666,
              "#ed7953"
             ],
             [
              0.7777777777777778,
              "#fb9f3a"
             ],
             [
              0.8888888888888888,
              "#fdca26"
             ],
             [
              1,
              "#f0f921"
             ]
            ],
            "type": "histogram2dcontour"
           }
          ],
          "mesh3d": [
           {
            "colorbar": {
             "outlinewidth": 0,
             "ticks": ""
            },
            "type": "mesh3d"
           }
          ],
          "parcoords": [
           {
            "line": {
             "colorbar": {
              "outlinewidth": 0,
              "ticks": ""
             }
            },
            "type": "parcoords"
           }
          ],
          "pie": [
           {
            "automargin": true,
            "type": "pie"
           }
          ],
          "scatter": [
           {
            "fillpattern": {
             "fillmode": "overlay",
             "size": 10,
             "solidity": 0.2
            },
            "type": "scatter"
           }
          ],
          "scatter3d": [
           {
            "line": {
             "colorbar": {
              "outlinewidth": 0,
              "ticks": ""
             }
            },
            "marker": {
             "colorbar": {
              "outlinewidth": 0,
              "ticks": ""
             }
            },
            "type": "scatter3d"
           }
          ],
          "scattercarpet": [
           {
            "marker": {
             "colorbar": {
              "outlinewidth": 0,
              "ticks": ""
             }
            },
            "type": "scattercarpet"
           }
          ],
          "scattergeo": [
           {
            "marker": {
             "colorbar": {
              "outlinewidth": 0,
              "ticks": ""
             }
            },
            "type": "scattergeo"
           }
          ],
          "scattergl": [
           {
            "marker": {
             "colorbar": {
              "outlinewidth": 0,
              "ticks": ""
             }
            },
            "type": "scattergl"
           }
          ],
          "scattermapbox": [
           {
            "marker": {
             "colorbar": {
              "outlinewidth": 0,
              "ticks": ""
             }
            },
            "type": "scattermapbox"
           }
          ],
          "scatterpolar": [
           {
            "marker": {
             "colorbar": {
              "outlinewidth": 0,
              "ticks": ""
             }
            },
            "type": "scatterpolar"
           }
          ],
          "scatterpolargl": [
           {
            "marker": {
             "colorbar": {
              "outlinewidth": 0,
              "ticks": ""
             }
            },
            "type": "scatterpolargl"
           }
          ],
          "scatterternary": [
           {
            "marker": {
             "colorbar": {
              "outlinewidth": 0,
              "ticks": ""
             }
            },
            "type": "scatterternary"
           }
          ],
          "surface": [
           {
            "colorbar": {
             "outlinewidth": 0,
             "ticks": ""
            },
            "colorscale": [
             [
              0,
              "#0d0887"
             ],
             [
              0.1111111111111111,
              "#46039f"
             ],
             [
              0.2222222222222222,
              "#7201a8"
             ],
             [
              0.3333333333333333,
              "#9c179e"
             ],
             [
              0.4444444444444444,
              "#bd3786"
             ],
             [
              0.5555555555555556,
              "#d8576b"
             ],
             [
              0.6666666666666666,
              "#ed7953"
             ],
             [
              0.7777777777777778,
              "#fb9f3a"
             ],
             [
              0.8888888888888888,
              "#fdca26"
             ],
             [
              1,
              "#f0f921"
             ]
            ],
            "type": "surface"
           }
          ],
          "table": [
           {
            "cells": {
             "fill": {
              "color": "#EBF0F8"
             },
             "line": {
              "color": "white"
             }
            },
            "header": {
             "fill": {
              "color": "#C8D4E3"
             },
             "line": {
              "color": "white"
             }
            },
            "type": "table"
           }
          ]
         },
         "layout": {
          "annotationdefaults": {
           "arrowcolor": "#2a3f5f",
           "arrowhead": 0,
           "arrowwidth": 1
          },
          "autotypenumbers": "strict",
          "coloraxis": {
           "colorbar": {
            "outlinewidth": 0,
            "ticks": ""
           }
          },
          "colorscale": {
           "diverging": [
            [
             0,
             "#8e0152"
            ],
            [
             0.1,
             "#c51b7d"
            ],
            [
             0.2,
             "#de77ae"
            ],
            [
             0.3,
             "#f1b6da"
            ],
            [
             0.4,
             "#fde0ef"
            ],
            [
             0.5,
             "#f7f7f7"
            ],
            [
             0.6,
             "#e6f5d0"
            ],
            [
             0.7,
             "#b8e186"
            ],
            [
             0.8,
             "#7fbc41"
            ],
            [
             0.9,
             "#4d9221"
            ],
            [
             1,
             "#276419"
            ]
           ],
           "sequential": [
            [
             0,
             "#0d0887"
            ],
            [
             0.1111111111111111,
             "#46039f"
            ],
            [
             0.2222222222222222,
             "#7201a8"
            ],
            [
             0.3333333333333333,
             "#9c179e"
            ],
            [
             0.4444444444444444,
             "#bd3786"
            ],
            [
             0.5555555555555556,
             "#d8576b"
            ],
            [
             0.6666666666666666,
             "#ed7953"
            ],
            [
             0.7777777777777778,
             "#fb9f3a"
            ],
            [
             0.8888888888888888,
             "#fdca26"
            ],
            [
             1,
             "#f0f921"
            ]
           ],
           "sequentialminus": [
            [
             0,
             "#0d0887"
            ],
            [
             0.1111111111111111,
             "#46039f"
            ],
            [
             0.2222222222222222,
             "#7201a8"
            ],
            [
             0.3333333333333333,
             "#9c179e"
            ],
            [
             0.4444444444444444,
             "#bd3786"
            ],
            [
             0.5555555555555556,
             "#d8576b"
            ],
            [
             0.6666666666666666,
             "#ed7953"
            ],
            [
             0.7777777777777778,
             "#fb9f3a"
            ],
            [
             0.8888888888888888,
             "#fdca26"
            ],
            [
             1,
             "#f0f921"
            ]
           ]
          },
          "colorway": [
           "#636efa",
           "#EF553B",
           "#00cc96",
           "#ab63fa",
           "#FFA15A",
           "#19d3f3",
           "#FF6692",
           "#B6E880",
           "#FF97FF",
           "#FECB52"
          ],
          "font": {
           "color": "#2a3f5f"
          },
          "geo": {
           "bgcolor": "white",
           "lakecolor": "white",
           "landcolor": "#E5ECF6",
           "showlakes": true,
           "showland": true,
           "subunitcolor": "white"
          },
          "hoverlabel": {
           "align": "left"
          },
          "hovermode": "closest",
          "mapbox": {
           "style": "light"
          },
          "paper_bgcolor": "white",
          "plot_bgcolor": "#E5ECF6",
          "polar": {
           "angularaxis": {
            "gridcolor": "white",
            "linecolor": "white",
            "ticks": ""
           },
           "bgcolor": "#E5ECF6",
           "radialaxis": {
            "gridcolor": "white",
            "linecolor": "white",
            "ticks": ""
           }
          },
          "scene": {
           "xaxis": {
            "backgroundcolor": "#E5ECF6",
            "gridcolor": "white",
            "gridwidth": 2,
            "linecolor": "white",
            "showbackground": true,
            "ticks": "",
            "zerolinecolor": "white"
           },
           "yaxis": {
            "backgroundcolor": "#E5ECF6",
            "gridcolor": "white",
            "gridwidth": 2,
            "linecolor": "white",
            "showbackground": true,
            "ticks": "",
            "zerolinecolor": "white"
           },
           "zaxis": {
            "backgroundcolor": "#E5ECF6",
            "gridcolor": "white",
            "gridwidth": 2,
            "linecolor": "white",
            "showbackground": true,
            "ticks": "",
            "zerolinecolor": "white"
           }
          },
          "shapedefaults": {
           "line": {
            "color": "#2a3f5f"
           }
          },
          "ternary": {
           "aaxis": {
            "gridcolor": "white",
            "linecolor": "white",
            "ticks": ""
           },
           "baxis": {
            "gridcolor": "white",
            "linecolor": "white",
            "ticks": ""
           },
           "bgcolor": "#E5ECF6",
           "caxis": {
            "gridcolor": "white",
            "linecolor": "white",
            "ticks": ""
           }
          },
          "title": {
           "x": 0.05
          },
          "xaxis": {
           "automargin": true,
           "gridcolor": "white",
           "linecolor": "white",
           "ticks": "",
           "title": {
            "standoff": 15
           },
           "zerolinecolor": "white",
           "zerolinewidth": 2
          },
          "yaxis": {
           "automargin": true,
           "gridcolor": "white",
           "linecolor": "white",
           "ticks": "",
           "title": {
            "standoff": 15
           },
           "zerolinecolor": "white",
           "zerolinewidth": 2
          }
         }
        },
        "title": {
         "text": "",
         "x": 0.5
        },
        "xaxis": {
         "anchor": "y",
         "domain": [
          0,
          0.48
         ],
         "showticklabels": false,
         "title": {
          "text": ""
         }
        },
        "xaxis2": {
         "anchor": "y2",
         "domain": [
          0.5,
          0.98
         ],
         "matches": "x",
         "showticklabels": false,
         "title": {
          "text": ""
         }
        },
        "xaxis3": {
         "anchor": "y3",
         "domain": [
          0,
          0.48
         ],
         "matches": "x",
         "showticklabels": false
        },
        "xaxis4": {
         "anchor": "y4",
         "domain": [
          0.5,
          0.98
         ],
         "matches": "x",
         "showticklabels": false
        },
        "xaxis5": {
         "anchor": "y5",
         "domain": [
          0,
          0.48
         ],
         "matches": "x",
         "showticklabels": false
        },
        "xaxis6": {
         "anchor": "y6",
         "domain": [
          0.5,
          0.98
         ],
         "matches": "x",
         "showticklabels": false
        },
        "yaxis": {
         "anchor": "x",
         "domain": [
          0,
          0.26666666666666666
         ],
         "title": {
          "font": {
           "size": 24
          },
          "text": "hapA+B<br>N=31<br>"
         }
        },
        "yaxis2": {
         "anchor": "x2",
         "domain": [
          0,
          0.26666666666666666
         ],
         "matches": "y",
         "showticklabels": false,
         "title": {
          "text": ""
         }
        },
        "yaxis3": {
         "anchor": "x3",
         "domain": [
          0.3666666666666667,
          0.6333333333333333
         ],
         "matches": "y",
         "title": {
          "font": {
           "size": 24
          },
          "text": "hapB<br>N=9<br>"
         }
        },
        "yaxis4": {
         "anchor": "x4",
         "domain": [
          0.3666666666666667,
          0.6333333333333333
         ],
         "matches": "y",
         "showticklabels": false,
         "title": {
          "text": ""
         }
        },
        "yaxis5": {
         "anchor": "x5",
         "domain": [
          0.7333333333333334,
          1
         ],
         "matches": "y",
         "title": {
          "font": {
           "size": 24
          },
          "text": "hapA<br>N=22<br>"
         }
        },
        "yaxis6": {
         "anchor": "x6",
         "domain": [
          0.7333333333333334,
          1
         ],
         "matches": "y",
         "showticklabels": false
        }
       }
      },
      "text/html": [
       "<div>                            <div id=\"631c9fe4-2739-428d-9131-6c28d1f021be\" class=\"plotly-graph-div\" style=\"height:600px; width:100%;\"></div>            <script type=\"text/javascript\">                require([\"plotly\"], function(Plotly) {                    window.PLOTLYENV=window.PLOTLYENV || {};                                    if (document.getElementById(\"631c9fe4-2739-428d-9131-6c28d1f021be\")) {                    Plotly.newPlot(                        \"631c9fe4-2739-428d-9131-6c28d1f021be\",                        [{\"alignmentgroup\":\"True\",\"hovertemplate\":\"Repeat=CT repeat\\u003cbr\\u003eHaplotype=hapA\\u003cbr\\u003ephenotype=aFTLD-U\\u003cbr\\u003eProportion=%{x}\\u003cbr\\u003eclassification=%{y}\\u003cextra\\u003e\\u003c\\u002fextra\\u003e\",\"legendgroup\":\"CT repeat\",\"marker\":{\"color\":\"red\",\"pattern\":{\"shape\":\"\"}},\"name\":\"CT repeat\",\"offsetgroup\":\"CT repeat\",\"orientation\":\"h\",\"showlegend\":true,\"textposition\":\"auto\",\"x\":[1.0,0.9545454545454546,1.0],\"xaxis\":\"x5\",\"y\":[\"\\u003e190 CT-dimers\",\"\\u003e450bp\\u002f\\u003e80%CT\",\"Any CT repeat\"],\"yaxis\":\"y5\",\"type\":\"bar\"},{\"alignmentgroup\":\"True\",\"hovertemplate\":\"Repeat=CT repeat\\u003cbr\\u003eHaplotype=hapA\\u003cbr\\u003ephenotype=non-aFTLD-U subjects\\u003cbr\\u003eProportion=%{x}\\u003cbr\\u003eclassification=%{y}\\u003cextra\\u003e\\u003c\\u002fextra\\u003e\",\"legendgroup\":\"CT repeat\",\"marker\":{\"color\":\"red\",\"pattern\":{\"shape\":\"\"}},\"name\":\"CT repeat\",\"offsetgroup\":\"CT repeat\",\"orientation\":\"h\",\"showlegend\":false,\"textposition\":\"auto\",\"x\":[0.631578947368421,0.2631578947368421,0.3157894736842105],\"xaxis\":\"x6\",\"y\":[\"Any CT repeat\",\"\\u003e450bp\\u002f\\u003e80%CT\",\"\\u003e190 CT-dimers\"],\"yaxis\":\"y6\",\"type\":\"bar\"},{\"alignmentgroup\":\"True\",\"hovertemplate\":\"Repeat=CT repeat\\u003cbr\\u003eHaplotype=hapB\\u003cbr\\u003ephenotype=aFTLD-U\\u003cbr\\u003eProportion=%{x}\\u003cbr\\u003eclassification=%{y}\\u003cextra\\u003e\\u003c\\u002fextra\\u003e\",\"legendgroup\":\"CT repeat\",\"marker\":{\"color\":\"red\",\"pattern\":{\"shape\":\"\"}},\"name\":\"CT repeat\",\"offsetgroup\":\"CT repeat\",\"orientation\":\"h\",\"showlegend\":false,\"textposition\":\"auto\",\"x\":[0.7777777777777778,0.7777777777777778,0.8888888888888888],\"xaxis\":\"x3\",\"y\":[\"\\u003e190 CT-dimers\",\"\\u003e450bp\\u002f\\u003e80%CT\",\"Any CT repeat\"],\"yaxis\":\"y3\",\"type\":\"bar\"},{\"alignmentgroup\":\"True\",\"hovertemplate\":\"Repeat=CT repeat\\u003cbr\\u003eHaplotype=hapB\\u003cbr\\u003ephenotype=non-aFTLD-U subjects\\u003cbr\\u003eProportion=%{x}\\u003cbr\\u003eclassification=%{y}\\u003cextra\\u003e\\u003c\\u002fextra\\u003e\",\"legendgroup\":\"CT repeat\",\"marker\":{\"color\":\"red\",\"pattern\":{\"shape\":\"\"}},\"name\":\"CT repeat\",\"offsetgroup\":\"CT repeat\",\"orientation\":\"h\",\"showlegend\":false,\"textposition\":\"auto\",\"x\":[0.037037037037037035,0.037037037037037035,0.9259259259259259],\"xaxis\":\"x4\",\"y\":[\"\\u003e190 CT-dimers\",\"\\u003e450bp\\u002f\\u003e80%CT\",\"Any CT repeat\"],\"yaxis\":\"y4\",\"type\":\"bar\"},{\"alignmentgroup\":\"True\",\"hovertemplate\":\"Repeat=CT repeat\\u003cbr\\u003eHaplotype=hapA+B\\u003cbr\\u003ephenotype=aFTLD-U\\u003cbr\\u003eProportion=%{x}\\u003cbr\\u003eclassification=%{y}\\u003cextra\\u003e\\u003c\\u002fextra\\u003e\",\"legendgroup\":\"CT repeat\",\"marker\":{\"color\":\"red\",\"pattern\":{\"shape\":\"\"}},\"name\":\"CT repeat\",\"offsetgroup\":\"CT repeat\",\"orientation\":\"h\",\"showlegend\":false,\"textposition\":\"auto\",\"x\":[0.9354838709677419,0.9032258064516129,0.967741935483871],\"xaxis\":\"x\",\"y\":[\"\\u003e190 CT-dimers\",\"\\u003e450bp\\u002f\\u003e80%CT\",\"Any CT repeat\"],\"yaxis\":\"y\",\"type\":\"bar\"},{\"alignmentgroup\":\"True\",\"hovertemplate\":\"Repeat=CT repeat\\u003cbr\\u003eHaplotype=hapA+B\\u003cbr\\u003ephenotype=non-aFTLD-U subjects\\u003cbr\\u003eProportion=%{x}\\u003cbr\\u003eclassification=%{y}\\u003cextra\\u003e\\u003c\\u002fextra\\u003e\",\"legendgroup\":\"CT repeat\",\"marker\":{\"color\":\"red\",\"pattern\":{\"shape\":\"\"}},\"name\":\"CT repeat\",\"offsetgroup\":\"CT repeat\",\"orientation\":\"h\",\"showlegend\":false,\"textposition\":\"auto\",\"x\":[0.15217391304347827,0.13043478260869565,0.8043478260869565],\"xaxis\":\"x2\",\"y\":[\"\\u003e190 CT-dimers\",\"\\u003e450bp\\u002f\\u003e80%CT\",\"Any CT repeat\"],\"yaxis\":\"y2\",\"type\":\"bar\"},{\"alignmentgroup\":\"True\",\"hovertemplate\":\"Repeat=Short CT repeat\\u003cbr\\u003eHaplotype=hapA\\u003cbr\\u003ephenotype=aFTLD-U\\u003cbr\\u003eProportion=%{x}\\u003cbr\\u003eclassification=%{y}\\u003cextra\\u003e\\u003c\\u002fextra\\u003e\",\"legendgroup\":\"Short CT repeat\",\"marker\":{\"color\":\"pink\",\"pattern\":{\"shape\":\"\"}},\"name\":\"Short CT repeat\",\"offsetgroup\":\"Short CT repeat\",\"orientation\":\"h\",\"showlegend\":true,\"textposition\":\"auto\",\"x\":[0.0,0.045454545454545456,0.0],\"xaxis\":\"x5\",\"y\":[\"Any CT repeat\",\"\\u003e450bp\\u002f\\u003e80%CT\",\"\\u003e190 CT-dimers\"],\"yaxis\":\"y5\",\"type\":\"bar\"},{\"alignmentgroup\":\"True\",\"hovertemplate\":\"Repeat=Short CT repeat\\u003cbr\\u003eHaplotype=hapA\\u003cbr\\u003ephenotype=non-aFTLD-U subjects\\u003cbr\\u003eProportion=%{x}\\u003cbr\\u003eclassification=%{y}\\u003cextra\\u003e\\u003c\\u002fextra\\u003e\",\"legendgroup\":\"Short CT repeat\",\"marker\":{\"color\":\"pink\",\"pattern\":{\"shape\":\"\"}},\"name\":\"Short CT repeat\",\"offsetgroup\":\"Short CT repeat\",\"orientation\":\"h\",\"showlegend\":false,\"textposition\":\"auto\",\"x\":[0.0,0.3684210526315789,0.3157894736842105],\"xaxis\":\"x6\",\"y\":[\"Any CT repeat\",\"\\u003e450bp\\u002f\\u003e80%CT\",\"\\u003e190 CT-dimers\"],\"yaxis\":\"y6\",\"type\":\"bar\"},{\"alignmentgroup\":\"True\",\"hovertemplate\":\"Repeat=Short CT repeat\\u003cbr\\u003eHaplotype=hapB\\u003cbr\\u003ephenotype=aFTLD-U\\u003cbr\\u003eProportion=%{x}\\u003cbr\\u003eclassification=%{y}\\u003cextra\\u003e\\u003c\\u002fextra\\u003e\",\"legendgroup\":\"Short CT repeat\",\"marker\":{\"color\":\"pink\",\"pattern\":{\"shape\":\"\"}},\"name\":\"Short CT repeat\",\"offsetgroup\":\"Short CT repeat\",\"orientation\":\"h\",\"showlegend\":false,\"textposition\":\"auto\",\"x\":[0.1111111111111111,0.1111111111111111,0.0],\"xaxis\":\"x3\",\"y\":[\"\\u003e190 CT-dimers\",\"\\u003e450bp\\u002f\\u003e80%CT\",\"Any CT repeat\"],\"yaxis\":\"y3\",\"type\":\"bar\"},{\"alignmentgroup\":\"True\",\"hovertemplate\":\"Repeat=Short CT repeat\\u003cbr\\u003eHaplotype=hapB\\u003cbr\\u003ephenotype=non-aFTLD-U subjects\\u003cbr\\u003eProportion=%{x}\\u003cbr\\u003eclassification=%{y}\\u003cextra\\u003e\\u003c\\u002fextra\\u003e\",\"legendgroup\":\"Short CT repeat\",\"marker\":{\"color\":\"pink\",\"pattern\":{\"shape\":\"\"}},\"name\":\"Short CT repeat\",\"offsetgroup\":\"Short CT repeat\",\"orientation\":\"h\",\"showlegend\":false,\"textposition\":\"auto\",\"x\":[0.8888888888888888,0.8888888888888888,0.0],\"xaxis\":\"x4\",\"y\":[\"\\u003e190 CT-dimers\",\"\\u003e450bp\\u002f\\u003e80%CT\",\"Any CT repeat\"],\"yaxis\":\"y4\",\"type\":\"bar\"},{\"alignmentgroup\":\"True\",\"hovertemplate\":\"Repeat=Short CT repeat\\u003cbr\\u003eHaplotype=hapA+B\\u003cbr\\u003ephenotype=aFTLD-U\\u003cbr\\u003eProportion=%{x}\\u003cbr\\u003eclassification=%{y}\\u003cextra\\u003e\\u003c\\u002fextra\\u003e\",\"legendgroup\":\"Short CT repeat\",\"marker\":{\"color\":\"pink\",\"pattern\":{\"shape\":\"\"}},\"name\":\"Short CT repeat\",\"offsetgroup\":\"Short CT repeat\",\"orientation\":\"h\",\"showlegend\":false,\"textposition\":\"auto\",\"x\":[0.03225806451612903,0.06451612903225806,0.0],\"xaxis\":\"x\",\"y\":[\"\\u003e190 CT-dimers\",\"\\u003e450bp\\u002f\\u003e80%CT\",\"Any CT repeat\"],\"yaxis\":\"y\",\"type\":\"bar\"},{\"alignmentgroup\":\"True\",\"hovertemplate\":\"Repeat=Short CT repeat\\u003cbr\\u003eHaplotype=hapA+B\\u003cbr\\u003ephenotype=non-aFTLD-U subjects\\u003cbr\\u003eProportion=%{x}\\u003cbr\\u003eclassification=%{y}\\u003cextra\\u003e\\u003c\\u002fextra\\u003e\",\"legendgroup\":\"Short CT repeat\",\"marker\":{\"color\":\"pink\",\"pattern\":{\"shape\":\"\"}},\"name\":\"Short CT repeat\",\"offsetgroup\":\"Short CT repeat\",\"orientation\":\"h\",\"showlegend\":false,\"textposition\":\"auto\",\"x\":[0.6521739130434783,0.6739130434782609,0.0],\"xaxis\":\"x2\",\"y\":[\"\\u003e190 CT-dimers\",\"\\u003e450bp\\u002f\\u003e80%CT\",\"Any CT repeat\"],\"yaxis\":\"y2\",\"type\":\"bar\"},{\"alignmentgroup\":\"True\",\"hovertemplate\":\"Repeat=12-mer repeat\\u003cbr\\u003eHaplotype=hapA\\u003cbr\\u003ephenotype=aFTLD-U\\u003cbr\\u003eProportion=%{x}\\u003cbr\\u003eclassification=%{y}\\u003cextra\\u003e\\u003c\\u002fextra\\u003e\",\"legendgroup\":\"12-mer repeat\",\"marker\":{\"color\":\"orange\",\"pattern\":{\"shape\":\"\"}},\"name\":\"12-mer repeat\",\"offsetgroup\":\"12-mer repeat\",\"orientation\":\"h\",\"showlegend\":true,\"textposition\":\"auto\",\"x\":[0.0,0.0,0.0],\"xaxis\":\"x5\",\"y\":[\"Any CT repeat\",\"\\u003e450bp\\u002f\\u003e80%CT\",\"\\u003e190 CT-dimers\"],\"yaxis\":\"y5\",\"type\":\"bar\"},{\"alignmentgroup\":\"True\",\"hovertemplate\":\"Repeat=12-mer repeat\\u003cbr\\u003eHaplotype=hapA\\u003cbr\\u003ephenotype=non-aFTLD-U subjects\\u003cbr\\u003eProportion=%{x}\\u003cbr\\u003eclassification=%{y}\\u003cextra\\u003e\\u003c\\u002fextra\\u003e\",\"legendgroup\":\"12-mer repeat\",\"marker\":{\"color\":\"orange\",\"pattern\":{\"shape\":\"\"}},\"name\":\"12-mer repeat\",\"offsetgroup\":\"12-mer repeat\",\"orientation\":\"h\",\"showlegend\":false,\"textposition\":\"auto\",\"x\":[0.05263157894736842,0.05263157894736842,0.05263157894736842],\"xaxis\":\"x6\",\"y\":[\"\\u003e190 CT-dimers\",\"Any CT repeat\",\"\\u003e450bp\\u002f\\u003e80%CT\"],\"yaxis\":\"y6\",\"type\":\"bar\"},{\"alignmentgroup\":\"True\",\"hovertemplate\":\"Repeat=12-mer repeat\\u003cbr\\u003eHaplotype=hapB\\u003cbr\\u003ephenotype=aFTLD-U\\u003cbr\\u003eProportion=%{x}\\u003cbr\\u003eclassification=%{y}\\u003cextra\\u003e\\u003c\\u002fextra\\u003e\",\"legendgroup\":\"12-mer repeat\",\"marker\":{\"color\":\"orange\",\"pattern\":{\"shape\":\"\"}},\"name\":\"12-mer repeat\",\"offsetgroup\":\"12-mer repeat\",\"orientation\":\"h\",\"showlegend\":false,\"textposition\":\"auto\",\"x\":[0.0,0.0,0.0],\"xaxis\":\"x3\",\"y\":[\"\\u003e190 CT-dimers\",\"\\u003e450bp\\u002f\\u003e80%CT\",\"Any CT repeat\"],\"yaxis\":\"y3\",\"type\":\"bar\"},{\"alignmentgroup\":\"True\",\"hovertemplate\":\"Repeat=12-mer repeat\\u003cbr\\u003eHaplotype=hapB\\u003cbr\\u003ephenotype=non-aFTLD-U subjects\\u003cbr\\u003eProportion=%{x}\\u003cbr\\u003eclassification=%{y}\\u003cextra\\u003e\\u003c\\u002fextra\\u003e\",\"legendgroup\":\"12-mer repeat\",\"marker\":{\"color\":\"orange\",\"pattern\":{\"shape\":\"\"}},\"name\":\"12-mer repeat\",\"offsetgroup\":\"12-mer repeat\",\"orientation\":\"h\",\"showlegend\":false,\"textposition\":\"auto\",\"x\":[0.0,0.0,0.0],\"xaxis\":\"x4\",\"y\":[\"\\u003e190 CT-dimers\",\"\\u003e450bp\\u002f\\u003e80%CT\",\"Any CT repeat\"],\"yaxis\":\"y4\",\"type\":\"bar\"},{\"alignmentgroup\":\"True\",\"hovertemplate\":\"Repeat=12-mer repeat\\u003cbr\\u003eHaplotype=hapA+B\\u003cbr\\u003ephenotype=aFTLD-U\\u003cbr\\u003eProportion=%{x}\\u003cbr\\u003eclassification=%{y}\\u003cextra\\u003e\\u003c\\u002fextra\\u003e\",\"legendgroup\":\"12-mer repeat\",\"marker\":{\"color\":\"orange\",\"pattern\":{\"shape\":\"\"}},\"name\":\"12-mer repeat\",\"offsetgroup\":\"12-mer repeat\",\"orientation\":\"h\",\"showlegend\":false,\"textposition\":\"auto\",\"x\":[0.0,0.0,0.0],\"xaxis\":\"x\",\"y\":[\"\\u003e190 CT-dimers\",\"\\u003e450bp\\u002f\\u003e80%CT\",\"Any CT repeat\"],\"yaxis\":\"y\",\"type\":\"bar\"},{\"alignmentgroup\":\"True\",\"hovertemplate\":\"Repeat=12-mer repeat\\u003cbr\\u003eHaplotype=hapA+B\\u003cbr\\u003ephenotype=non-aFTLD-U subjects\\u003cbr\\u003eProportion=%{x}\\u003cbr\\u003eclassification=%{y}\\u003cextra\\u003e\\u003c\\u002fextra\\u003e\",\"legendgroup\":\"12-mer repeat\",\"marker\":{\"color\":\"orange\",\"pattern\":{\"shape\":\"\"}},\"name\":\"12-mer repeat\",\"offsetgroup\":\"12-mer repeat\",\"orientation\":\"h\",\"showlegend\":false,\"textposition\":\"auto\",\"x\":[0.021739130434782608,0.021739130434782608,0.021739130434782608],\"xaxis\":\"x2\",\"y\":[\"\\u003e190 CT-dimers\",\"\\u003e450bp\\u002f\\u003e80%CT\",\"Any CT repeat\"],\"yaxis\":\"y2\",\"type\":\"bar\"},{\"alignmentgroup\":\"True\",\"hovertemplate\":\"Repeat=CCCTCT repeat\\u003cbr\\u003eHaplotype=hapA\\u003cbr\\u003ephenotype=aFTLD-U\\u003cbr\\u003eProportion=%{x}\\u003cbr\\u003eclassification=%{y}\\u003cextra\\u003e\\u003c\\u002fextra\\u003e\",\"legendgroup\":\"CCCTCT repeat\",\"marker\":{\"color\":\"yellow\",\"pattern\":{\"shape\":\"\"}},\"name\":\"CCCTCT repeat\",\"offsetgroup\":\"CCCTCT repeat\",\"orientation\":\"h\",\"showlegend\":true,\"textposition\":\"auto\",\"x\":[0.0,0.0,0.0],\"xaxis\":\"x5\",\"y\":[\"\\u003e450bp\\u002f\\u003e80%CT\",\"\\u003e190 CT-dimers\",\"Any CT repeat\"],\"yaxis\":\"y5\",\"type\":\"bar\"},{\"alignmentgroup\":\"True\",\"hovertemplate\":\"Repeat=CCCTCT repeat\\u003cbr\\u003eHaplotype=hapA\\u003cbr\\u003ephenotype=non-aFTLD-U subjects\\u003cbr\\u003eProportion=%{x}\\u003cbr\\u003eclassification=%{y}\\u003cextra\\u003e\\u003c\\u002fextra\\u003e\",\"legendgroup\":\"CCCTCT repeat\",\"marker\":{\"color\":\"yellow\",\"pattern\":{\"shape\":\"\"}},\"name\":\"CCCTCT repeat\",\"offsetgroup\":\"CCCTCT repeat\",\"orientation\":\"h\",\"showlegend\":false,\"textposition\":\"auto\",\"x\":[0.21052631578947367,0.21052631578947367,0.21052631578947367],\"xaxis\":\"x6\",\"y\":[\"\\u003e190 CT-dimers\",\"\\u003e450bp\\u002f\\u003e80%CT\",\"Any CT repeat\"],\"yaxis\":\"y6\",\"type\":\"bar\"},{\"alignmentgroup\":\"True\",\"hovertemplate\":\"Repeat=CCCTCT repeat\\u003cbr\\u003eHaplotype=hapB\\u003cbr\\u003ephenotype=aFTLD-U\\u003cbr\\u003eProportion=%{x}\\u003cbr\\u003eclassification=%{y}\\u003cextra\\u003e\\u003c\\u002fextra\\u003e\",\"legendgroup\":\"CCCTCT repeat\",\"marker\":{\"color\":\"yellow\",\"pattern\":{\"shape\":\"\"}},\"name\":\"CCCTCT repeat\",\"offsetgroup\":\"CCCTCT repeat\",\"orientation\":\"h\",\"showlegend\":false,\"textposition\":\"auto\",\"x\":[0.0,0.0,0.0],\"xaxis\":\"x3\",\"y\":[\"\\u003e190 CT-dimers\",\"\\u003e450bp\\u002f\\u003e80%CT\",\"Any CT repeat\"],\"yaxis\":\"y3\",\"type\":\"bar\"},{\"alignmentgroup\":\"True\",\"hovertemplate\":\"Repeat=CCCTCT repeat\\u003cbr\\u003eHaplotype=hapB\\u003cbr\\u003ephenotype=non-aFTLD-U subjects\\u003cbr\\u003eProportion=%{x}\\u003cbr\\u003eclassification=%{y}\\u003cextra\\u003e\\u003c\\u002fextra\\u003e\",\"legendgroup\":\"CCCTCT repeat\",\"marker\":{\"color\":\"yellow\",\"pattern\":{\"shape\":\"\"}},\"name\":\"CCCTCT repeat\",\"offsetgroup\":\"CCCTCT repeat\",\"orientation\":\"h\",\"showlegend\":false,\"textposition\":\"auto\",\"x\":[0.07407407407407407,0.07407407407407407,0.07407407407407407],\"xaxis\":\"x4\",\"y\":[\"\\u003e190 CT-dimers\",\"\\u003e450bp\\u002f\\u003e80%CT\",\"Any CT repeat\"],\"yaxis\":\"y4\",\"type\":\"bar\"},{\"alignmentgroup\":\"True\",\"hovertemplate\":\"Repeat=CCCTCT repeat\\u003cbr\\u003eHaplotype=hapA+B\\u003cbr\\u003ephenotype=aFTLD-U\\u003cbr\\u003eProportion=%{x}\\u003cbr\\u003eclassification=%{y}\\u003cextra\\u003e\\u003c\\u002fextra\\u003e\",\"legendgroup\":\"CCCTCT repeat\",\"marker\":{\"color\":\"yellow\",\"pattern\":{\"shape\":\"\"}},\"name\":\"CCCTCT repeat\",\"offsetgroup\":\"CCCTCT repeat\",\"orientation\":\"h\",\"showlegend\":false,\"textposition\":\"auto\",\"x\":[0.0,0.0,0.0],\"xaxis\":\"x\",\"y\":[\"\\u003e190 CT-dimers\",\"\\u003e450bp\\u002f\\u003e80%CT\",\"Any CT repeat\"],\"yaxis\":\"y\",\"type\":\"bar\"},{\"alignmentgroup\":\"True\",\"hovertemplate\":\"Repeat=CCCTCT repeat\\u003cbr\\u003eHaplotype=hapA+B\\u003cbr\\u003ephenotype=non-aFTLD-U subjects\\u003cbr\\u003eProportion=%{x}\\u003cbr\\u003eclassification=%{y}\\u003cextra\\u003e\\u003c\\u002fextra\\u003e\",\"legendgroup\":\"CCCTCT repeat\",\"marker\":{\"color\":\"yellow\",\"pattern\":{\"shape\":\"\"}},\"name\":\"CCCTCT repeat\",\"offsetgroup\":\"CCCTCT repeat\",\"orientation\":\"h\",\"showlegend\":false,\"textposition\":\"auto\",\"x\":[0.13043478260869565,0.13043478260869565,0.13043478260869565],\"xaxis\":\"x2\",\"y\":[\"\\u003e190 CT-dimers\",\"\\u003e450bp\\u002f\\u003e80%CT\",\"Any CT repeat\"],\"yaxis\":\"y2\",\"type\":\"bar\"},{\"alignmentgroup\":\"True\",\"hovertemplate\":\"Repeat=no repeat\\u003cbr\\u003eHaplotype=hapA\\u003cbr\\u003ephenotype=aFTLD-U\\u003cbr\\u003eProportion=%{x}\\u003cbr\\u003eclassification=%{y}\\u003cextra\\u003e\\u003c\\u002fextra\\u003e\",\"legendgroup\":\"no repeat\",\"marker\":{\"color\":\"grey\",\"pattern\":{\"shape\":\"\"}},\"name\":\"no repeat\",\"offsetgroup\":\"no repeat\",\"orientation\":\"h\",\"showlegend\":true,\"textposition\":\"auto\",\"x\":[0.0,0.0,0.0],\"xaxis\":\"x5\",\"y\":[\"Any CT repeat\",\"\\u003e190 CT-dimers\",\"\\u003e450bp\\u002f\\u003e80%CT\"],\"yaxis\":\"y5\",\"type\":\"bar\"},{\"alignmentgroup\":\"True\",\"hovertemplate\":\"Repeat=no repeat\\u003cbr\\u003eHaplotype=hapA\\u003cbr\\u003ephenotype=non-aFTLD-U subjects\\u003cbr\\u003eProportion=%{x}\\u003cbr\\u003eclassification=%{y}\\u003cextra\\u003e\\u003c\\u002fextra\\u003e\",\"legendgroup\":\"no repeat\",\"marker\":{\"color\":\"grey\",\"pattern\":{\"shape\":\"\"}},\"name\":\"no repeat\",\"offsetgroup\":\"no repeat\",\"orientation\":\"h\",\"showlegend\":false,\"textposition\":\"auto\",\"x\":[0.10526315789473684,0.10526315789473684,0.10526315789473684],\"xaxis\":\"x6\",\"y\":[\"\\u003e450bp\\u002f\\u003e80%CT\",\"Any CT repeat\",\"\\u003e190 CT-dimers\"],\"yaxis\":\"y6\",\"type\":\"bar\"},{\"alignmentgroup\":\"True\",\"hovertemplate\":\"Repeat=no repeat\\u003cbr\\u003eHaplotype=hapB\\u003cbr\\u003ephenotype=aFTLD-U\\u003cbr\\u003eProportion=%{x}\\u003cbr\\u003eclassification=%{y}\\u003cextra\\u003e\\u003c\\u002fextra\\u003e\",\"legendgroup\":\"no repeat\",\"marker\":{\"color\":\"grey\",\"pattern\":{\"shape\":\"\"}},\"name\":\"no repeat\",\"offsetgroup\":\"no repeat\",\"orientation\":\"h\",\"showlegend\":false,\"textposition\":\"auto\",\"x\":[0.0,0.0,0.0],\"xaxis\":\"x3\",\"y\":[\"\\u003e190 CT-dimers\",\"\\u003e450bp\\u002f\\u003e80%CT\",\"Any CT repeat\"],\"yaxis\":\"y3\",\"type\":\"bar\"},{\"alignmentgroup\":\"True\",\"hovertemplate\":\"Repeat=no repeat\\u003cbr\\u003eHaplotype=hapB\\u003cbr\\u003ephenotype=non-aFTLD-U subjects\\u003cbr\\u003eProportion=%{x}\\u003cbr\\u003eclassification=%{y}\\u003cextra\\u003e\\u003c\\u002fextra\\u003e\",\"legendgroup\":\"no repeat\",\"marker\":{\"color\":\"grey\",\"pattern\":{\"shape\":\"\"}},\"name\":\"no repeat\",\"offsetgroup\":\"no repeat\",\"orientation\":\"h\",\"showlegend\":false,\"textposition\":\"auto\",\"x\":[0.0,0.0,0.0],\"xaxis\":\"x4\",\"y\":[\"\\u003e190 CT-dimers\",\"\\u003e450bp\\u002f\\u003e80%CT\",\"Any CT repeat\"],\"yaxis\":\"y4\",\"type\":\"bar\"},{\"alignmentgroup\":\"True\",\"hovertemplate\":\"Repeat=no repeat\\u003cbr\\u003eHaplotype=hapA+B\\u003cbr\\u003ephenotype=aFTLD-U\\u003cbr\\u003eProportion=%{x}\\u003cbr\\u003eclassification=%{y}\\u003cextra\\u003e\\u003c\\u002fextra\\u003e\",\"legendgroup\":\"no repeat\",\"marker\":{\"color\":\"grey\",\"pattern\":{\"shape\":\"\"}},\"name\":\"no repeat\",\"offsetgroup\":\"no repeat\",\"orientation\":\"h\",\"showlegend\":false,\"textposition\":\"auto\",\"x\":[0.0,0.0,0.0],\"xaxis\":\"x\",\"y\":[\"\\u003e190 CT-dimers\",\"\\u003e450bp\\u002f\\u003e80%CT\",\"Any CT repeat\"],\"yaxis\":\"y\",\"type\":\"bar\"},{\"alignmentgroup\":\"True\",\"hovertemplate\":\"Repeat=no repeat\\u003cbr\\u003eHaplotype=hapA+B\\u003cbr\\u003ephenotype=non-aFTLD-U subjects\\u003cbr\\u003eProportion=%{x}\\u003cbr\\u003eclassification=%{y}\\u003cextra\\u003e\\u003c\\u002fextra\\u003e\",\"legendgroup\":\"no repeat\",\"marker\":{\"color\":\"grey\",\"pattern\":{\"shape\":\"\"}},\"name\":\"no repeat\",\"offsetgroup\":\"no repeat\",\"orientation\":\"h\",\"showlegend\":false,\"textposition\":\"auto\",\"x\":[0.043478260869565216,0.043478260869565216,0.043478260869565216],\"xaxis\":\"x2\",\"y\":[\"\\u003e190 CT-dimers\",\"\\u003e450bp\\u002f\\u003e80%CT\",\"Any CT repeat\"],\"yaxis\":\"y2\",\"type\":\"bar\"},{\"alignmentgroup\":\"True\",\"hovertemplate\":\"Repeat=C\\u003csub\\u003en\\u003c\\u002fsub\\u003eT repeat\\u003cbr\\u003eHaplotype=hapA\\u003cbr\\u003ephenotype=aFTLD-U\\u003cbr\\u003eProportion=%{x}\\u003cbr\\u003eclassification=%{y}\\u003cextra\\u003e\\u003c\\u002fextra\\u003e\",\"legendgroup\":\"C\\u003csub\\u003en\\u003c\\u002fsub\\u003eT repeat\",\"marker\":{\"color\":\"purple\",\"pattern\":{\"shape\":\"\"}},\"name\":\"C\\u003csub\\u003en\\u003c\\u002fsub\\u003eT repeat\",\"offsetgroup\":\"C\\u003csub\\u003en\\u003c\\u002fsub\\u003eT repeat\",\"orientation\":\"h\",\"showlegend\":true,\"textposition\":\"auto\",\"x\":[0.0,0.0,0.0],\"xaxis\":\"x5\",\"y\":[\"Any CT repeat\",\"\\u003e450bp\\u002f\\u003e80%CT\",\"\\u003e190 CT-dimers\"],\"yaxis\":\"y5\",\"type\":\"bar\"},{\"alignmentgroup\":\"True\",\"hovertemplate\":\"Repeat=C\\u003csub\\u003en\\u003c\\u002fsub\\u003eT repeat\\u003cbr\\u003eHaplotype=hapA\\u003cbr\\u003ephenotype=non-aFTLD-U subjects\\u003cbr\\u003eProportion=%{x}\\u003cbr\\u003eclassification=%{y}\\u003cextra\\u003e\\u003c\\u002fextra\\u003e\",\"legendgroup\":\"C\\u003csub\\u003en\\u003c\\u002fsub\\u003eT repeat\",\"marker\":{\"color\":\"purple\",\"pattern\":{\"shape\":\"\"}},\"name\":\"C\\u003csub\\u003en\\u003c\\u002fsub\\u003eT repeat\",\"offsetgroup\":\"C\\u003csub\\u003en\\u003c\\u002fsub\\u003eT repeat\",\"orientation\":\"h\",\"showlegend\":false,\"textposition\":\"auto\",\"x\":[0.0,0.0,0.0],\"xaxis\":\"x6\",\"y\":[\"Any CT repeat\",\"\\u003e450bp\\u002f\\u003e80%CT\",\"\\u003e190 CT-dimers\"],\"yaxis\":\"y6\",\"type\":\"bar\"},{\"alignmentgroup\":\"True\",\"hovertemplate\":\"Repeat=C\\u003csub\\u003en\\u003c\\u002fsub\\u003eT repeat\\u003cbr\\u003eHaplotype=hapB\\u003cbr\\u003ephenotype=aFTLD-U\\u003cbr\\u003eProportion=%{x}\\u003cbr\\u003eclassification=%{y}\\u003cextra\\u003e\\u003c\\u002fextra\\u003e\",\"legendgroup\":\"C\\u003csub\\u003en\\u003c\\u002fsub\\u003eT repeat\",\"marker\":{\"color\":\"purple\",\"pattern\":{\"shape\":\"\"}},\"name\":\"C\\u003csub\\u003en\\u003c\\u002fsub\\u003eT repeat\",\"offsetgroup\":\"C\\u003csub\\u003en\\u003c\\u002fsub\\u003eT repeat\",\"orientation\":\"h\",\"showlegend\":false,\"textposition\":\"auto\",\"x\":[0.1111111111111111,0.1111111111111111,0.1111111111111111],\"xaxis\":\"x3\",\"y\":[\"\\u003e190 CT-dimers\",\"\\u003e450bp\\u002f\\u003e80%CT\",\"Any CT repeat\"],\"yaxis\":\"y3\",\"type\":\"bar\"},{\"alignmentgroup\":\"True\",\"hovertemplate\":\"Repeat=C\\u003csub\\u003en\\u003c\\u002fsub\\u003eT repeat\\u003cbr\\u003eHaplotype=hapB\\u003cbr\\u003ephenotype=non-aFTLD-U subjects\\u003cbr\\u003eProportion=%{x}\\u003cbr\\u003eclassification=%{y}\\u003cextra\\u003e\\u003c\\u002fextra\\u003e\",\"legendgroup\":\"C\\u003csub\\u003en\\u003c\\u002fsub\\u003eT repeat\",\"marker\":{\"color\":\"purple\",\"pattern\":{\"shape\":\"\"}},\"name\":\"C\\u003csub\\u003en\\u003c\\u002fsub\\u003eT repeat\",\"offsetgroup\":\"C\\u003csub\\u003en\\u003c\\u002fsub\\u003eT repeat\",\"orientation\":\"h\",\"showlegend\":false,\"textposition\":\"auto\",\"x\":[0.0,0.0,0.0],\"xaxis\":\"x4\",\"y\":[\"\\u003e190 CT-dimers\",\"\\u003e450bp\\u002f\\u003e80%CT\",\"Any CT repeat\"],\"yaxis\":\"y4\",\"type\":\"bar\"},{\"alignmentgroup\":\"True\",\"hovertemplate\":\"Repeat=C\\u003csub\\u003en\\u003c\\u002fsub\\u003eT repeat\\u003cbr\\u003eHaplotype=hapA+B\\u003cbr\\u003ephenotype=aFTLD-U\\u003cbr\\u003eProportion=%{x}\\u003cbr\\u003eclassification=%{y}\\u003cextra\\u003e\\u003c\\u002fextra\\u003e\",\"legendgroup\":\"C\\u003csub\\u003en\\u003c\\u002fsub\\u003eT repeat\",\"marker\":{\"color\":\"purple\",\"pattern\":{\"shape\":\"\"}},\"name\":\"C\\u003csub\\u003en\\u003c\\u002fsub\\u003eT repeat\",\"offsetgroup\":\"C\\u003csub\\u003en\\u003c\\u002fsub\\u003eT repeat\",\"orientation\":\"h\",\"showlegend\":false,\"textposition\":\"auto\",\"x\":[0.03225806451612903,0.03225806451612903,0.03225806451612903],\"xaxis\":\"x\",\"y\":[\"\\u003e190 CT-dimers\",\"\\u003e450bp\\u002f\\u003e80%CT\",\"Any CT repeat\"],\"yaxis\":\"y\",\"type\":\"bar\"},{\"alignmentgroup\":\"True\",\"hovertemplate\":\"Repeat=C\\u003csub\\u003en\\u003c\\u002fsub\\u003eT repeat\\u003cbr\\u003eHaplotype=hapA+B\\u003cbr\\u003ephenotype=non-aFTLD-U subjects\\u003cbr\\u003eProportion=%{x}\\u003cbr\\u003eclassification=%{y}\\u003cextra\\u003e\\u003c\\u002fextra\\u003e\",\"legendgroup\":\"C\\u003csub\\u003en\\u003c\\u002fsub\\u003eT repeat\",\"marker\":{\"color\":\"purple\",\"pattern\":{\"shape\":\"\"}},\"name\":\"C\\u003csub\\u003en\\u003c\\u002fsub\\u003eT repeat\",\"offsetgroup\":\"C\\u003csub\\u003en\\u003c\\u002fsub\\u003eT repeat\",\"orientation\":\"h\",\"showlegend\":false,\"textposition\":\"auto\",\"x\":[0.0,0.0,0.0],\"xaxis\":\"x2\",\"y\":[\"\\u003e190 CT-dimers\",\"\\u003e450bp\\u002f\\u003e80%CT\",\"Any CT repeat\"],\"yaxis\":\"y2\",\"type\":\"bar\"}],                        {\"template\":{\"data\":{\"histogram2dcontour\":[{\"type\":\"histogram2dcontour\",\"colorbar\":{\"outlinewidth\":0,\"ticks\":\"\"},\"colorscale\":[[0.0,\"#0d0887\"],[0.1111111111111111,\"#46039f\"],[0.2222222222222222,\"#7201a8\"],[0.3333333333333333,\"#9c179e\"],[0.4444444444444444,\"#bd3786\"],[0.5555555555555556,\"#d8576b\"],[0.6666666666666666,\"#ed7953\"],[0.7777777777777778,\"#fb9f3a\"],[0.8888888888888888,\"#fdca26\"],[1.0,\"#f0f921\"]]}],\"choropleth\":[{\"type\":\"choropleth\",\"colorbar\":{\"outlinewidth\":0,\"ticks\":\"\"}}],\"histogram2d\":[{\"type\":\"histogram2d\",\"colorbar\":{\"outlinewidth\":0,\"ticks\":\"\"},\"colorscale\":[[0.0,\"#0d0887\"],[0.1111111111111111,\"#46039f\"],[0.2222222222222222,\"#7201a8\"],[0.3333333333333333,\"#9c179e\"],[0.4444444444444444,\"#bd3786\"],[0.5555555555555556,\"#d8576b\"],[0.6666666666666666,\"#ed7953\"],[0.7777777777777778,\"#fb9f3a\"],[0.8888888888888888,\"#fdca26\"],[1.0,\"#f0f921\"]]}],\"heatmap\":[{\"type\":\"heatmap\",\"colorbar\":{\"outlinewidth\":0,\"ticks\":\"\"},\"colorscale\":[[0.0,\"#0d0887\"],[0.1111111111111111,\"#46039f\"],[0.2222222222222222,\"#7201a8\"],[0.3333333333333333,\"#9c179e\"],[0.4444444444444444,\"#bd3786\"],[0.5555555555555556,\"#d8576b\"],[0.6666666666666666,\"#ed7953\"],[0.7777777777777778,\"#fb9f3a\"],[0.8888888888888888,\"#fdca26\"],[1.0,\"#f0f921\"]]}],\"heatmapgl\":[{\"type\":\"heatmapgl\",\"colorbar\":{\"outlinewidth\":0,\"ticks\":\"\"},\"colorscale\":[[0.0,\"#0d0887\"],[0.1111111111111111,\"#46039f\"],[0.2222222222222222,\"#7201a8\"],[0.3333333333333333,\"#9c179e\"],[0.4444444444444444,\"#bd3786\"],[0.5555555555555556,\"#d8576b\"],[0.6666666666666666,\"#ed7953\"],[0.7777777777777778,\"#fb9f3a\"],[0.8888888888888888,\"#fdca26\"],[1.0,\"#f0f921\"]]}],\"contourcarpet\":[{\"type\":\"contourcarpet\",\"colorbar\":{\"outlinewidth\":0,\"ticks\":\"\"}}],\"contour\":[{\"type\":\"contour\",\"colorbar\":{\"outlinewidth\":0,\"ticks\":\"\"},\"colorscale\":[[0.0,\"#0d0887\"],[0.1111111111111111,\"#46039f\"],[0.2222222222222222,\"#7201a8\"],[0.3333333333333333,\"#9c179e\"],[0.4444444444444444,\"#bd3786\"],[0.5555555555555556,\"#d8576b\"],[0.6666666666666666,\"#ed7953\"],[0.7777777777777778,\"#fb9f3a\"],[0.8888888888888888,\"#fdca26\"],[1.0,\"#f0f921\"]]}],\"surface\":[{\"type\":\"surface\",\"colorbar\":{\"outlinewidth\":0,\"ticks\":\"\"},\"colorscale\":[[0.0,\"#0d0887\"],[0.1111111111111111,\"#46039f\"],[0.2222222222222222,\"#7201a8\"],[0.3333333333333333,\"#9c179e\"],[0.4444444444444444,\"#bd3786\"],[0.5555555555555556,\"#d8576b\"],[0.6666666666666666,\"#ed7953\"],[0.7777777777777778,\"#fb9f3a\"],[0.8888888888888888,\"#fdca26\"],[1.0,\"#f0f921\"]]}],\"mesh3d\":[{\"type\":\"mesh3d\",\"colorbar\":{\"outlinewidth\":0,\"ticks\":\"\"}}],\"scatter\":[{\"fillpattern\":{\"fillmode\":\"overlay\",\"size\":10,\"solidity\":0.2},\"type\":\"scatter\"}],\"parcoords\":[{\"type\":\"parcoords\",\"line\":{\"colorbar\":{\"outlinewidth\":0,\"ticks\":\"\"}}}],\"scatterpolargl\":[{\"type\":\"scatterpolargl\",\"marker\":{\"colorbar\":{\"outlinewidth\":0,\"ticks\":\"\"}}}],\"bar\":[{\"error_x\":{\"color\":\"#2a3f5f\"},\"error_y\":{\"color\":\"#2a3f5f\"},\"marker\":{\"line\":{\"color\":\"#E5ECF6\",\"width\":0.5},\"pattern\":{\"fillmode\":\"overlay\",\"size\":10,\"solidity\":0.2}},\"type\":\"bar\"}],\"scattergeo\":[{\"type\":\"scattergeo\",\"marker\":{\"colorbar\":{\"outlinewidth\":0,\"ticks\":\"\"}}}],\"scatterpolar\":[{\"type\":\"scatterpolar\",\"marker\":{\"colorbar\":{\"outlinewidth\":0,\"ticks\":\"\"}}}],\"histogram\":[{\"marker\":{\"pattern\":{\"fillmode\":\"overlay\",\"size\":10,\"solidity\":0.2}},\"type\":\"histogram\"}],\"scattergl\":[{\"type\":\"scattergl\",\"marker\":{\"colorbar\":{\"outlinewidth\":0,\"ticks\":\"\"}}}],\"scatter3d\":[{\"type\":\"scatter3d\",\"line\":{\"colorbar\":{\"outlinewidth\":0,\"ticks\":\"\"}},\"marker\":{\"colorbar\":{\"outlinewidth\":0,\"ticks\":\"\"}}}],\"scattermapbox\":[{\"type\":\"scattermapbox\",\"marker\":{\"colorbar\":{\"outlinewidth\":0,\"ticks\":\"\"}}}],\"scatterternary\":[{\"type\":\"scatterternary\",\"marker\":{\"colorbar\":{\"outlinewidth\":0,\"ticks\":\"\"}}}],\"scattercarpet\":[{\"type\":\"scattercarpet\",\"marker\":{\"colorbar\":{\"outlinewidth\":0,\"ticks\":\"\"}}}],\"carpet\":[{\"aaxis\":{\"endlinecolor\":\"#2a3f5f\",\"gridcolor\":\"white\",\"linecolor\":\"white\",\"minorgridcolor\":\"white\",\"startlinecolor\":\"#2a3f5f\"},\"baxis\":{\"endlinecolor\":\"#2a3f5f\",\"gridcolor\":\"white\",\"linecolor\":\"white\",\"minorgridcolor\":\"white\",\"startlinecolor\":\"#2a3f5f\"},\"type\":\"carpet\"}],\"table\":[{\"cells\":{\"fill\":{\"color\":\"#EBF0F8\"},\"line\":{\"color\":\"white\"}},\"header\":{\"fill\":{\"color\":\"#C8D4E3\"},\"line\":{\"color\":\"white\"}},\"type\":\"table\"}],\"barpolar\":[{\"marker\":{\"line\":{\"color\":\"#E5ECF6\",\"width\":0.5},\"pattern\":{\"fillmode\":\"overlay\",\"size\":10,\"solidity\":0.2}},\"type\":\"barpolar\"}],\"pie\":[{\"automargin\":true,\"type\":\"pie\"}]},\"layout\":{\"autotypenumbers\":\"strict\",\"colorway\":[\"#636efa\",\"#EF553B\",\"#00cc96\",\"#ab63fa\",\"#FFA15A\",\"#19d3f3\",\"#FF6692\",\"#B6E880\",\"#FF97FF\",\"#FECB52\"],\"font\":{\"color\":\"#2a3f5f\"},\"hovermode\":\"closest\",\"hoverlabel\":{\"align\":\"left\"},\"paper_bgcolor\":\"white\",\"plot_bgcolor\":\"#E5ECF6\",\"polar\":{\"bgcolor\":\"#E5ECF6\",\"angularaxis\":{\"gridcolor\":\"white\",\"linecolor\":\"white\",\"ticks\":\"\"},\"radialaxis\":{\"gridcolor\":\"white\",\"linecolor\":\"white\",\"ticks\":\"\"}},\"ternary\":{\"bgcolor\":\"#E5ECF6\",\"aaxis\":{\"gridcolor\":\"white\",\"linecolor\":\"white\",\"ticks\":\"\"},\"baxis\":{\"gridcolor\":\"white\",\"linecolor\":\"white\",\"ticks\":\"\"},\"caxis\":{\"gridcolor\":\"white\",\"linecolor\":\"white\",\"ticks\":\"\"}},\"coloraxis\":{\"colorbar\":{\"outlinewidth\":0,\"ticks\":\"\"}},\"colorscale\":{\"sequential\":[[0.0,\"#0d0887\"],[0.1111111111111111,\"#46039f\"],[0.2222222222222222,\"#7201a8\"],[0.3333333333333333,\"#9c179e\"],[0.4444444444444444,\"#bd3786\"],[0.5555555555555556,\"#d8576b\"],[0.6666666666666666,\"#ed7953\"],[0.7777777777777778,\"#fb9f3a\"],[0.8888888888888888,\"#fdca26\"],[1.0,\"#f0f921\"]],\"sequentialminus\":[[0.0,\"#0d0887\"],[0.1111111111111111,\"#46039f\"],[0.2222222222222222,\"#7201a8\"],[0.3333333333333333,\"#9c179e\"],[0.4444444444444444,\"#bd3786\"],[0.5555555555555556,\"#d8576b\"],[0.6666666666666666,\"#ed7953\"],[0.7777777777777778,\"#fb9f3a\"],[0.8888888888888888,\"#fdca26\"],[1.0,\"#f0f921\"]],\"diverging\":[[0,\"#8e0152\"],[0.1,\"#c51b7d\"],[0.2,\"#de77ae\"],[0.3,\"#f1b6da\"],[0.4,\"#fde0ef\"],[0.5,\"#f7f7f7\"],[0.6,\"#e6f5d0\"],[0.7,\"#b8e186\"],[0.8,\"#7fbc41\"],[0.9,\"#4d9221\"],[1,\"#276419\"]]},\"xaxis\":{\"gridcolor\":\"white\",\"linecolor\":\"white\",\"ticks\":\"\",\"title\":{\"standoff\":15},\"zerolinecolor\":\"white\",\"automargin\":true,\"zerolinewidth\":2},\"yaxis\":{\"gridcolor\":\"white\",\"linecolor\":\"white\",\"ticks\":\"\",\"title\":{\"standoff\":15},\"zerolinecolor\":\"white\",\"automargin\":true,\"zerolinewidth\":2},\"scene\":{\"xaxis\":{\"backgroundcolor\":\"#E5ECF6\",\"gridcolor\":\"white\",\"linecolor\":\"white\",\"showbackground\":true,\"ticks\":\"\",\"zerolinecolor\":\"white\",\"gridwidth\":2},\"yaxis\":{\"backgroundcolor\":\"#E5ECF6\",\"gridcolor\":\"white\",\"linecolor\":\"white\",\"showbackground\":true,\"ticks\":\"\",\"zerolinecolor\":\"white\",\"gridwidth\":2},\"zaxis\":{\"backgroundcolor\":\"#E5ECF6\",\"gridcolor\":\"white\",\"linecolor\":\"white\",\"showbackground\":true,\"ticks\":\"\",\"zerolinecolor\":\"white\",\"gridwidth\":2}},\"shapedefaults\":{\"line\":{\"color\":\"#2a3f5f\"}},\"annotationdefaults\":{\"arrowcolor\":\"#2a3f5f\",\"arrowhead\":0,\"arrowwidth\":1},\"geo\":{\"bgcolor\":\"white\",\"landcolor\":\"#E5ECF6\",\"subunitcolor\":\"white\",\"showland\":true,\"showlakes\":true,\"lakecolor\":\"white\"},\"title\":{\"x\":0.05},\"mapbox\":{\"style\":\"light\"}}},\"xaxis\":{\"anchor\":\"y\",\"domain\":[0.0,0.48],\"title\":{\"text\":\"\"},\"showticklabels\":false},\"yaxis\":{\"anchor\":\"x\",\"domain\":[0.0,0.26666666666666666],\"title\":{\"text\":\"hapA+B\\u003cbr\\u003eN=31\\u003cbr\\u003e\",\"font\":{\"size\":24}}},\"xaxis2\":{\"anchor\":\"y2\",\"domain\":[0.5,0.98],\"matches\":\"x\",\"title\":{\"text\":\"\"},\"showticklabels\":false},\"yaxis2\":{\"anchor\":\"x2\",\"domain\":[0.0,0.26666666666666666],\"matches\":\"y\",\"showticklabels\":false,\"title\":{\"text\":\"\"}},\"xaxis3\":{\"anchor\":\"y3\",\"domain\":[0.0,0.48],\"matches\":\"x\",\"showticklabels\":false},\"yaxis3\":{\"anchor\":\"x3\",\"domain\":[0.3666666666666667,0.6333333333333333],\"matches\":\"y\",\"title\":{\"text\":\"hapB\\u003cbr\\u003eN=9\\u003cbr\\u003e\",\"font\":{\"size\":24}}},\"xaxis4\":{\"anchor\":\"y4\",\"domain\":[0.5,0.98],\"matches\":\"x\",\"showticklabels\":false},\"yaxis4\":{\"anchor\":\"x4\",\"domain\":[0.3666666666666667,0.6333333333333333],\"matches\":\"y\",\"showticklabels\":false,\"title\":{\"text\":\"\"}},\"xaxis5\":{\"anchor\":\"y5\",\"domain\":[0.0,0.48],\"matches\":\"x\",\"showticklabels\":false},\"yaxis5\":{\"anchor\":\"x5\",\"domain\":[0.7333333333333334,1.0],\"matches\":\"y\",\"title\":{\"text\":\"hapA\\u003cbr\\u003eN=22\\u003cbr\\u003e\",\"font\":{\"size\":24}}},\"xaxis6\":{\"anchor\":\"y6\",\"domain\":[0.5,0.98],\"matches\":\"x\",\"showticklabels\":false},\"yaxis6\":{\"anchor\":\"x6\",\"domain\":[0.7333333333333334,1.0],\"matches\":\"y\",\"showticklabels\":false},\"annotations\":[{\"font\":{\"size\":24},\"showarrow\":false,\"text\":\"aFTLD-U\",\"x\":0.24,\"xanchor\":\"center\",\"xref\":\"paper\",\"y\":1.0,\"yanchor\":\"bottom\",\"yref\":\"paper\"},{\"font\":{\"size\":24},\"showarrow\":false,\"text\":\"non-aFTLD-U subjects\",\"x\":0.74,\"xanchor\":\"center\",\"xref\":\"paper\",\"y\":1.0,\"yanchor\":\"bottom\",\"yref\":\"paper\"},{\"font\":{\"size\":24},\"showarrow\":false,\"text\":\"hapA+B\\u003cbr\\u003eN=46\",\"textangle\":90,\"x\":0.98,\"xanchor\":\"left\",\"xref\":\"paper\",\"y\":0.13333333333333333,\"yanchor\":\"middle\",\"yref\":\"paper\"},{\"font\":{\"size\":24},\"showarrow\":false,\"text\":\"hapB\\u003cbr\\u003eN=27\",\"textangle\":90,\"x\":0.98,\"xanchor\":\"left\",\"xref\":\"paper\",\"y\":0.5,\"yanchor\":\"middle\",\"yref\":\"paper\"},{\"font\":{\"size\":24},\"showarrow\":false,\"text\":\"hapA\\u003cbr\\u003eN=19\",\"textangle\":90,\"x\":0.98,\"xanchor\":\"left\",\"xref\":\"paper\",\"y\":0.8666666666666667,\"yanchor\":\"middle\",\"yref\":\"paper\"},{\"font\":{\"color\":\"white\",\"size\":24},\"showarrow\":false,\"text\":\"22\",\"x\":0.5,\"xref\":\"x5\",\"y\":\"Any CT repeat\",\"yref\":\"y5\"},{\"font\":{\"color\":\"white\",\"size\":24},\"showarrow\":false,\"text\":\"21\",\"x\":0.4772727272727273,\"xref\":\"x5\",\"y\":\"\\u003e450bp\\u002f\\u003e80%CT\",\"yref\":\"y5\"},{\"font\":{\"color\":\"black\",\"size\":24},\"showarrow\":false,\"text\":\"1\",\"x\":0.9772727272727273,\"xref\":\"x5\",\"y\":\"\\u003e450bp\\u002f\\u003e80%CT\",\"yref\":\"y5\"},{\"font\":{\"color\":\"white\",\"size\":24},\"showarrow\":false,\"text\":\"22\",\"x\":0.5,\"xref\":\"x5\",\"y\":\"\\u003e190 CT-dimers\",\"yref\":\"y5\"},{\"font\":{\"color\":\"white\",\"size\":24},\"showarrow\":false,\"text\":\"12\",\"x\":0.3157894736842105,\"xref\":\"x6\",\"y\":\"Any CT repeat\",\"yref\":\"y6\"},{\"font\":{\"color\":\"white\",\"size\":24},\"showarrow\":false,\"text\":\"1\",\"x\":0.6578947368421052,\"xref\":\"x6\",\"y\":\"Any CT repeat\",\"yref\":\"y6\"},{\"font\":{\"color\":\"black\",\"size\":24},\"showarrow\":false,\"text\":\"4\",\"x\":0.7894736842105262,\"xref\":\"x6\",\"y\":\"Any CT repeat\",\"yref\":\"y6\"},{\"font\":{\"color\":\"white\",\"size\":24},\"showarrow\":false,\"text\":\"2\",\"x\":0.9473684210526314,\"xref\":\"x6\",\"y\":\"Any CT repeat\",\"yref\":\"y6\"},{\"font\":{\"color\":\"white\",\"size\":24},\"showarrow\":false,\"text\":\"5\",\"x\":0.13157894736842105,\"xref\":\"x6\",\"y\":\"\\u003e450bp\\u002f\\u003e80%CT\",\"yref\":\"y6\"},{\"font\":{\"color\":\"black\",\"size\":24},\"showarrow\":false,\"text\":\"7\",\"x\":0.4473684210526315,\"xref\":\"x6\",\"y\":\"\\u003e450bp\\u002f\\u003e80%CT\",\"yref\":\"y6\"},{\"font\":{\"color\":\"white\",\"size\":24},\"showarrow\":false,\"text\":\"1\",\"x\":0.6578947368421052,\"xref\":\"x6\",\"y\":\"\\u003e450bp\\u002f\\u003e80%CT\",\"yref\":\"y6\"},{\"font\":{\"color\":\"black\",\"size\":24},\"showarrow\":false,\"text\":\"4\",\"x\":0.7894736842105262,\"xref\":\"x6\",\"y\":\"\\u003e450bp\\u002f\\u003e80%CT\",\"yref\":\"y6\"},{\"font\":{\"color\":\"white\",\"size\":24},\"showarrow\":false,\"text\":\"2\",\"x\":0.9473684210526314,\"xref\":\"x6\",\"y\":\"\\u003e450bp\\u002f\\u003e80%CT\",\"yref\":\"y6\"},{\"font\":{\"color\":\"white\",\"size\":24},\"showarrow\":false,\"text\":\"6\",\"x\":0.15789473684210525,\"xref\":\"x6\",\"y\":\"\\u003e190 CT-dimers\",\"yref\":\"y6\"},{\"font\":{\"color\":\"black\",\"size\":24},\"showarrow\":false,\"text\":\"6\",\"x\":0.47368421052631576,\"xref\":\"x6\",\"y\":\"\\u003e190 CT-dimers\",\"yref\":\"y6\"},{\"font\":{\"color\":\"white\",\"size\":24},\"showarrow\":false,\"text\":\"1\",\"x\":0.6578947368421052,\"xref\":\"x6\",\"y\":\"\\u003e190 CT-dimers\",\"yref\":\"y6\"},{\"font\":{\"color\":\"black\",\"size\":24},\"showarrow\":false,\"text\":\"4\",\"x\":0.7894736842105262,\"xref\":\"x6\",\"y\":\"\\u003e190 CT-dimers\",\"yref\":\"y6\"},{\"font\":{\"color\":\"white\",\"size\":24},\"showarrow\":false,\"text\":\"2\",\"x\":0.9473684210526314,\"xref\":\"x6\",\"y\":\"\\u003e190 CT-dimers\",\"yref\":\"y6\"},{\"font\":{\"color\":\"white\",\"size\":24},\"showarrow\":false,\"text\":\"8\",\"x\":0.4444444444444444,\"xref\":\"x3\",\"y\":\"Any CT repeat\",\"yref\":\"y3\"},{\"font\":{\"color\":\"white\",\"size\":24},\"showarrow\":false,\"text\":\"1\",\"x\":0.9444444444444444,\"xref\":\"x3\",\"y\":\"Any CT repeat\",\"yref\":\"y3\"},{\"font\":{\"color\":\"white\",\"size\":24},\"showarrow\":false,\"text\":\"7\",\"x\":0.3888888888888889,\"xref\":\"x3\",\"y\":\"\\u003e450bp\\u002f\\u003e80%CT\",\"yref\":\"y3\"},{\"font\":{\"color\":\"black\",\"size\":24},\"showarrow\":false,\"text\":\"1\",\"x\":0.8333333333333334,\"xref\":\"x3\",\"y\":\"\\u003e450bp\\u002f\\u003e80%CT\",\"yref\":\"y3\"},{\"font\":{\"color\":\"white\",\"size\":24},\"showarrow\":false,\"text\":\"1\",\"x\":0.9444444444444444,\"xref\":\"x3\",\"y\":\"\\u003e450bp\\u002f\\u003e80%CT\",\"yref\":\"y3\"},{\"font\":{\"color\":\"white\",\"size\":24},\"showarrow\":false,\"text\":\"7\",\"x\":0.3888888888888889,\"xref\":\"x3\",\"y\":\"\\u003e190 CT-dimers\",\"yref\":\"y3\"},{\"font\":{\"color\":\"black\",\"size\":24},\"showarrow\":false,\"text\":\"1\",\"x\":0.8333333333333334,\"xref\":\"x3\",\"y\":\"\\u003e190 CT-dimers\",\"yref\":\"y3\"},{\"font\":{\"color\":\"white\",\"size\":24},\"showarrow\":false,\"text\":\"1\",\"x\":0.9444444444444444,\"xref\":\"x3\",\"y\":\"\\u003e190 CT-dimers\",\"yref\":\"y3\"},{\"font\":{\"color\":\"white\",\"size\":24},\"showarrow\":false,\"text\":\"25\",\"x\":0.46296296296296297,\"xref\":\"x4\",\"y\":\"Any CT repeat\",\"yref\":\"y4\"},{\"font\":{\"color\":\"black\",\"size\":24},\"showarrow\":false,\"text\":\"2\",\"x\":0.962962962962963,\"xref\":\"x4\",\"y\":\"Any CT repeat\",\"yref\":\"y4\"},{\"font\":{\"color\":\"white\",\"size\":24},\"showarrow\":false,\"text\":\"1\",\"x\":0.018518518518518517,\"xref\":\"x4\",\"y\":\"\\u003e450bp\\u002f\\u003e80%CT\",\"yref\":\"y4\"},{\"font\":{\"color\":\"black\",\"size\":24},\"showarrow\":false,\"text\":\"24\",\"x\":0.48148148148148145,\"xref\":\"x4\",\"y\":\"\\u003e450bp\\u002f\\u003e80%CT\",\"yref\":\"y4\"},{\"font\":{\"color\":\"black\",\"size\":24},\"showarrow\":false,\"text\":\"2\",\"x\":0.9629629629629628,\"xref\":\"x4\",\"y\":\"\\u003e450bp\\u002f\\u003e80%CT\",\"yref\":\"y4\"},{\"font\":{\"color\":\"white\",\"size\":24},\"showarrow\":false,\"text\":\"1\",\"x\":0.018518518518518517,\"xref\":\"x4\",\"y\":\"\\u003e190 CT-dimers\",\"yref\":\"y4\"},{\"font\":{\"color\":\"black\",\"size\":24},\"showarrow\":false,\"text\":\"24\",\"x\":0.48148148148148145,\"xref\":\"x4\",\"y\":\"\\u003e190 CT-dimers\",\"yref\":\"y4\"},{\"font\":{\"color\":\"black\",\"size\":24},\"showarrow\":false,\"text\":\"2\",\"x\":0.9629629629629628,\"xref\":\"x4\",\"y\":\"\\u003e190 CT-dimers\",\"yref\":\"y4\"},{\"font\":{\"color\":\"white\",\"size\":24},\"showarrow\":false,\"text\":\"30\",\"x\":0.4838709677419355,\"xref\":\"x\",\"y\":\"Any CT repeat\",\"yref\":\"y\"},{\"font\":{\"color\":\"white\",\"size\":24},\"showarrow\":false,\"text\":\"1\",\"x\":0.9838709677419355,\"xref\":\"x\",\"y\":\"Any CT repeat\",\"yref\":\"y\"},{\"font\":{\"color\":\"white\",\"size\":24},\"showarrow\":false,\"text\":\"28\",\"x\":0.45161290322580644,\"xref\":\"x\",\"y\":\"\\u003e450bp\\u002f\\u003e80%CT\",\"yref\":\"y\"},{\"font\":{\"color\":\"black\",\"size\":24},\"showarrow\":false,\"text\":\"2\",\"x\":0.9354838709677419,\"xref\":\"x\",\"y\":\"\\u003e450bp\\u002f\\u003e80%CT\",\"yref\":\"y\"},{\"font\":{\"color\":\"white\",\"size\":24},\"showarrow\":false,\"text\":\"1\",\"x\":0.9838709677419355,\"xref\":\"x\",\"y\":\"\\u003e450bp\\u002f\\u003e80%CT\",\"yref\":\"y\"},{\"font\":{\"color\":\"white\",\"size\":24},\"showarrow\":false,\"text\":\"29\",\"x\":0.46774193548387094,\"xref\":\"x\",\"y\":\"\\u003e190 CT-dimers\",\"yref\":\"y\"},{\"font\":{\"color\":\"black\",\"size\":24},\"showarrow\":false,\"text\":\"1\",\"x\":0.9516129032258064,\"xref\":\"x\",\"y\":\"\\u003e190 CT-dimers\",\"yref\":\"y\"},{\"font\":{\"color\":\"white\",\"size\":24},\"showarrow\":false,\"text\":\"1\",\"x\":0.9838709677419354,\"xref\":\"x\",\"y\":\"\\u003e190 CT-dimers\",\"yref\":\"y\"},{\"font\":{\"color\":\"white\",\"size\":24},\"showarrow\":false,\"text\":\"37\",\"x\":0.40217391304347827,\"xref\":\"x2\",\"y\":\"Any CT repeat\",\"yref\":\"y2\"},{\"font\":{\"color\":\"white\",\"size\":24},\"showarrow\":false,\"text\":\"1\",\"x\":0.8152173913043479,\"xref\":\"x2\",\"y\":\"Any CT repeat\",\"yref\":\"y2\"},{\"font\":{\"color\":\"black\",\"size\":24},\"showarrow\":false,\"text\":\"6\",\"x\":0.8913043478260869,\"xref\":\"x2\",\"y\":\"Any CT repeat\",\"yref\":\"y2\"},{\"font\":{\"color\":\"white\",\"size\":24},\"showarrow\":false,\"text\":\"2\",\"x\":0.9782608695652174,\"xref\":\"x2\",\"y\":\"Any CT repeat\",\"yref\":\"y2\"},{\"font\":{\"color\":\"white\",\"size\":24},\"showarrow\":false,\"text\":\"6\",\"x\":0.06521739130434782,\"xref\":\"x2\",\"y\":\"\\u003e450bp\\u002f\\u003e80%CT\",\"yref\":\"y2\"},{\"font\":{\"color\":\"black\",\"size\":24},\"showarrow\":false,\"text\":\"31\",\"x\":0.46739130434782605,\"xref\":\"x2\",\"y\":\"\\u003e450bp\\u002f\\u003e80%CT\",\"yref\":\"y2\"},{\"font\":{\"color\":\"white\",\"size\":24},\"showarrow\":false,\"text\":\"1\",\"x\":0.8152173913043479,\"xref\":\"x2\",\"y\":\"\\u003e450bp\\u002f\\u003e80%CT\",\"yref\":\"y2\"},{\"font\":{\"color\":\"black\",\"size\":24},\"showarrow\":false,\"text\":\"6\",\"x\":0.8913043478260869,\"xref\":\"x2\",\"y\":\"\\u003e450bp\\u002f\\u003e80%CT\",\"yref\":\"y2\"},{\"font\":{\"color\":\"white\",\"size\":24},\"showarrow\":false,\"text\":\"2\",\"x\":0.9782608695652174,\"xref\":\"x2\",\"y\":\"\\u003e450bp\\u002f\\u003e80%CT\",\"yref\":\"y2\"},{\"font\":{\"color\":\"white\",\"size\":24},\"showarrow\":false,\"text\":\"7\",\"x\":0.07608695652173914,\"xref\":\"x2\",\"y\":\"\\u003e190 CT-dimers\",\"yref\":\"y2\"},{\"font\":{\"color\":\"black\",\"size\":24},\"showarrow\":false,\"text\":\"30\",\"x\":0.4782608695652174,\"xref\":\"x2\",\"y\":\"\\u003e190 CT-dimers\",\"yref\":\"y2\"},{\"font\":{\"color\":\"white\",\"size\":24},\"showarrow\":false,\"text\":\"1\",\"x\":0.8152173913043479,\"xref\":\"x2\",\"y\":\"\\u003e190 CT-dimers\",\"yref\":\"y2\"},{\"font\":{\"color\":\"black\",\"size\":24},\"showarrow\":false,\"text\":\"6\",\"x\":0.8913043478260869,\"xref\":\"x2\",\"y\":\"\\u003e190 CT-dimers\",\"yref\":\"y2\"},{\"font\":{\"color\":\"white\",\"size\":24},\"showarrow\":false,\"text\":\"2\",\"x\":0.9782608695652174,\"xref\":\"x2\",\"y\":\"\\u003e190 CT-dimers\",\"yref\":\"y2\"}],\"legend\":{\"title\":{\"text\":\"Repeat classification:\"},\"tracegroupgap\":0,\"orientation\":\"h\",\"yanchor\":\"bottom\",\"y\":-0.25,\"xanchor\":\"center\",\"x\":0.4},\"margin\":{\"t\":60,\"l\":0,\"r\":40,\"b\":0},\"barmode\":\"relative\",\"title\":{\"text\":\"\",\"x\":0.5},\"font\":{\"size\":24},\"plot_bgcolor\":\"white\",\"height\":600},                        {\"responsive\": true}                    ).then(function(){\n",
       "                            \n",
       "var gd = document.getElementById('631c9fe4-2739-428d-9131-6c28d1f021be');\n",
       "var x = new MutationObserver(function (mutations, observer) {{\n",
       "        var display = window.getComputedStyle(gd).display;\n",
       "        if (!display || display === 'none') {{\n",
       "            console.log([gd, 'removed!']);\n",
       "            Plotly.purge(gd);\n",
       "            observer.disconnect();\n",
       "        }}\n",
       "}});\n",
       "\n",
       "// Listen for the removal of the full notebook cells\n",
       "var notebookContainer = gd.closest('#notebook-container');\n",
       "if (notebookContainer) {{\n",
       "    x.observe(notebookContainer, {childList: true});\n",
       "}}\n",
       "\n",
       "// Listen for the clearing of the current output cell\n",
       "var outputEl = gd.closest('.output');\n",
       "if (outputEl) {{\n",
       "    x.observe(outputEl, {childList: true});\n",
       "}}\n",
       "\n",
       "                        })                };                });            </script>        </div>"
      ]
     },
     "metadata": {},
     "output_type": "display_data"
    }
   ],
   "source": [
    "df = pd.read_excel(\"~/local/populations.xlsx\", sheet_name=\"img3\")\n",
    "for col in [\"CT repeat\", \"Short CT repeat\", \"CnT repeat\", \"12-mer repeat\", \"CCCTCT repeat\", \"no repeat\"]:\n",
    "    df[f\"{col}_f\"] = df[col] / df[\"sum\"]\n",
    "df[\"C<sub>n</sub>T repeat_f\"] = df[\"CnT repeat_f\"]\n",
    "df2 = df.melt(\n",
    "    id_vars=[\"haplotype\", \"phenotype\", \"classification\"],\n",
    "    value_vars=[f\"{v}_f\" for v in [\"CT repeat\", \"Short CT repeat\", \"C<sub>n</sub>T repeat\", \"12-mer repeat\", \"CCCTCT repeat\", \"no repeat\"]],\n",
    ").iloc[::-1]\n",
    "\n",
    "df2[\"variable\"] = df2[\"variable\"].str.replace(\"_f\", \"\")\n",
    "df2[\"phenotype\"] = pd.Categorical(\n",
    "    df2[\"phenotype\"].apply(lambda x: \"non-aFTLD-U subjects\" if x==\"Controls\" else x), categories=[\"aFTLD-U\", \"non-aFTLD-U subjects\"], ordered=True\n",
    ")\n",
    "\n",
    "df2 = pd.concat([df2[df2[\"haplotype\"] == \"hapA\"].sort_values(\"phenotype\"), df2[df2[\"haplotype\"] == \"hapB\"], df2[df2[\"haplotype\"] == \"hapA+B\"]])\n",
    "\n",
    "fig = px.bar(\n",
    "    df2,\n",
    "    x=\"value\",\n",
    "    y=\"classification\",\n",
    "    color=\"variable\",\n",
    "    orientation=\"h\",\n",
    "    color_discrete_map={\n",
    "        \"CT repeat\": \"red\",\n",
    "        \"Short CT repeat\": \"pink\",\n",
    "        \"C<sub>n</sub>T repeat\": \"purple\",\n",
    "        \"12-mer repeat\": \"orange\",\n",
    "        \"CCCTCT repeat\": \"yellow\",\n",
    "        \"no repeat\": \"grey\",\n",
    "    },\n",
    "    labels={\"value\": \"Proportion\", \"variable\": \"Repeat\", \"haplotype\": \"Haplotype\"},\n",
    "    facet_col=\"phenotype\",\n",
    "    facet_col_spacing=0,\n",
    "    facet_row=\"haplotype\",\n",
    "    facet_row_spacing=0.1,\n",
    "    category_orders={\n",
    "        \"variable\": [\n",
    "            \"CT repeat\",\n",
    "            \"Short CT repeat\",\n",
    "            \"CnT repeat\",\n",
    "            \"12-mer repeat\",\n",
    "            \"CCCTCT repeat\",\n",
    "            \"no repeat\",\n",
    "        ]\n",
    "    },\n",
    ")\n",
    "\n",
    "annotation_right = {\n",
    "    \"hapA\": \"hapA<br>N=19\", \"hapB\": \"hapB<br>N=27\", \"hapA+B\": \"hapA+B<br>N=46\"\n",
    "}\n",
    "\n",
    "fig.for_each_annotation(lambda a: a.update(text=a.text.split(\"=\")[-1], font=dict(size=36)))\n",
    "fig.for_each_annotation(\n",
    "    lambda a: a.update(text=annotation_right[a.text] if a.text.startswith('hap') else a.text, font=dict(size=24))\n",
    ")\n",
    "\n",
    "fig.update_layout(\n",
    "    title=\"\",\n",
    "    xaxis_title=\"\",\n",
    "    xaxis2_title=\"\",\n",
    "    yaxis=dict(title=dict(text=\"hapA+B<br>N=31<br>\", font=dict(size=24))),\n",
    "    yaxis2_title=\"\",\n",
    "    yaxis3=dict(title=dict(text=\"hapB<br>N=9<br>\", font=dict(size=24))),\n",
    "    yaxis4_title=\"\",\n",
    "    yaxis5=dict(title=dict(text=\"hapA<br>N=22<br>\", font=dict(size=24))),\n",
    "    title_x=0.5,\n",
    "    plot_bgcolor=\"white\",\n",
    "    font=dict(size=24),\n",
    "    margin=dict(l=0, r=40, b=0),\n",
    "    height=600,\n",
    "    legend=dict(\n",
    "        orientation=\"h\",\n",
    "        yanchor=\"bottom\",\n",
    "        y=-0.25,\n",
    "        xanchor=\"center\",\n",
    "        x=0.4,\n",
    "        title=\"Repeat classification:\",\n",
    "    ),\n",
    ")\n",
    "\n",
    "fig.update_xaxes(showticklabels=False)\n",
    "\n",
    "# add annotations\n",
    "df_vals = df.copy()\n",
    "df_vals[\"CT repeat_loc\"] = df_vals[\"CT repeat_f\"] / 2  # center of CT repeat block\n",
    "df_vals[\"Short CT repeat_loc\"] = (\n",
    "    df_vals[\"CT repeat_f\"] + df_vals[\"Short CT repeat_f\"] / 2\n",
    ")  # center of Short CT block\n",
    "df_vals[\"CnT repeat_loc\"] = (\n",
    "    df_vals[\"CT repeat_f\"] + df_vals[\"Short CT repeat_f\"] + df_vals[\"CnT repeat_f\"] / 2\n",
    ")  # center of CnT repeat block\n",
    "df_vals[\"12-mer repeat_loc\"] = (\n",
    "    df_vals[\"CT repeat_f\"] + df_vals[\"Short CT repeat_f\"] + df_vals[\"CnT repeat_f\"] + df_vals[\"12-mer repeat_f\"] / 2\n",
    ")  # center of 12-mer repeat block\n",
    "df_vals[\"CCCTCT repeat_loc\"] = (\n",
    "    df_vals[\"CT repeat_f\"] + df_vals[\"Short CT repeat_f\"] + df_vals[\"CnT repeat_f\"] + df_vals[\"12-mer repeat_f\"] + df_vals[\"CCCTCT repeat_f\"] / 2\n",
    ")  # center of CCCTCT repeat block\n",
    "df_vals[\"no repeat_loc\"] = (\n",
    "    df_vals[\"CT repeat_f\"] + df_vals[\"Short CT repeat_f\"] + df_vals[\"CnT repeat_f\"] + df_vals[\"12-mer repeat_f\"] + df_vals[\"CCCTCT repeat_f\"] + df_vals[\"no repeat_f\"] / 2\n",
    ")  # center of no repeat block\n",
    "\n",
    "# map haplotype and phenotype to col and row\n",
    "subplot_dict = {('hapA', 'aFTLD-U'): (1, 3), ('hapA', 'Controls'): (2, 3), ('hapB', 'aFTLD-U'): (1, 2), ('hapB', 'Controls'): (2, 2), ('hapA+B', 'aFTLD-U'): (1, 1), ('hapA+B', 'Controls'): (2, 1)}\n",
    "\n",
    "for i, row in df_vals.iterrows():\n",
    "    col_num, row_num = subplot_dict[(row[\"haplotype\"], row[\"phenotype\"])]\n",
    "    if not row[\"CT repeat\"] == 0:\n",
    "        fig.add_annotation(\n",
    "            x=row[\"CT repeat_loc\"],\n",
    "            y=row[\"classification\"],\n",
    "            text=f\"{row['CT repeat']}\",\n",
    "            showarrow=False,\n",
    "            font=dict(color=\"white\", size=24),\n",
    "            col=col_num, row=row_num\n",
    "        )\n",
    "    if not row[\"Short CT repeat\"] == 0:\n",
    "        fig.add_annotation(\n",
    "            x=row[\"Short CT repeat_loc\"],\n",
    "            y=row[\"classification\"],\n",
    "            text=f\"{row['Short CT repeat']}\",\n",
    "            showarrow=False,\n",
    "            font=dict(color=\"black\", size=24),\n",
    "            col=col_num, row=row_num\n",
    "        )\n",
    "    if not row[\"CnT repeat\"] == 0:\n",
    "        fig.add_annotation(\n",
    "            x=row[\"CnT repeat_loc\"],\n",
    "            y=row[\"classification\"],\n",
    "            text=f\"{row['CnT repeat']}\",\n",
    "            showarrow=False,\n",
    "            font=dict(color=\"white\", size=24),\n",
    "            col=col_num, row=row_num\n",
    "        )\n",
    "    if not row[\"12-mer repeat\"] == 0:\n",
    "        fig.add_annotation(\n",
    "            x=row[\"12-mer repeat_loc\"],\n",
    "            y=row[\"classification\"],\n",
    "            text=f\"{row['12-mer repeat']}\",\n",
    "            showarrow=False,\n",
    "            font=dict(color=\"white\", size=24),\n",
    "            col=col_num, row=row_num\n",
    "        )\n",
    "    if not row[\"CCCTCT repeat\"] == 0:\n",
    "        fig.add_annotation(\n",
    "            x=row[\"CCCTCT repeat_loc\"],\n",
    "            y=row[\"classification\"],\n",
    "            text=f\"{row['CCCTCT repeat']}\",\n",
    "            showarrow=False,\n",
    "            font=dict(color=\"black\", size=24),\n",
    "            col=col_num, row=row_num\n",
    "        )\n",
    "    if not row[\"no repeat\"] == 0:\n",
    "        fig.add_annotation(\n",
    "            x=row[\"no repeat_loc\"],\n",
    "            y=row[\"classification\"],\n",
    "            text=f\"{row['no repeat']}\",\n",
    "            showarrow=False,\n",
    "            font=dict(color=\"white\", size=24),\n",
    "            col=col_num, row=row_num\n",
    "        )\n",
    "\n",
    "\n",
    "fig.show()"
   ]
  },
  {
   "cell_type": "code",
   "execution_count": null,
   "metadata": {},
   "outputs": [],
   "source": []
  }
 ],
 "metadata": {
  "kernelspec": {
   "display_name": "data-analysis",
   "language": "python",
   "name": "python3"
  },
  "language_info": {
   "codemirror_mode": {
    "name": "ipython",
    "version": 3
   },
   "file_extension": ".py",
   "mimetype": "text/x-python",
   "name": "python",
   "nbconvert_exporter": "python",
   "pygments_lexer": "ipython3",
   "version": "3.10.10"
  }
 },
 "nbformat": 4,
 "nbformat_minor": 2
}
