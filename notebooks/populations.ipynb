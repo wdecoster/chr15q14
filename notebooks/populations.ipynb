{
 "cells": [
  {
   "cell_type": "code",
   "execution_count": 54,
   "metadata": {},
   "outputs": [],
   "source": [
    "import pandas as pd\n",
    "import plotly.express as px\n",
    "from plotly.subplots import make_subplots"
   ]
  },
  {
   "cell_type": "code",
   "execution_count": 146,
   "metadata": {},
   "outputs": [],
   "source": [
    "df = pd.read_excel(\"~/local/populations.xlsx\")\n",
    "for col in [\"hapA\", \"hapB\", \"none\"]:\n",
    "    df[f\"{col}_f\"] = df[col] / df[\"sum\"]\n",
    "df[\"cohort2\"] = df[\"cohort\"] + \" [N=\" + df[\"sum\"].astype(str) + \"]\"\n",
    "pats = (\n",
    "    df.melt(id_vars=[\"phenotype\", \"cohort\"], value_vars=[\"hapA_f\", \"hapB_f\", \"none_f\"]).iloc[::-1]\n",
    ")\n",
    "pats[\"variable\"] = pats[\"variable\"].str.replace(\"_f\", \"\")\n",
    "# custom order the data\n",
    "pats[\"variable\"] = pd.Categorical(\n",
    "    pats[\"variable\"], categories=[\"hapA\", \"hapB\", \"none\"], ordered=True\n",
    ")\n",
    "pats = pd.concat([pats[pats[\"phenotype\"] == \"aFTLD-U\"].sort_values(by=\"variable\"), pats[pats[\"phenotype\"] == \"Controls\"]])"
   ]
  },
  {
   "cell_type": "code",
   "execution_count": 192,
   "metadata": {},
   "outputs": [
    {
     "data": {
      "application/vnd.plotly.v1+json": {
       "config": {
        "plotlyServerURL": "https://plot.ly"
       },
       "data": [
        {
         "alignmentgroup": "True",
         "hovertemplate": "Haplotype=hapA<br>phenotype=aFTLD-U<br>Proportion=%{x}<br>Cohort=%{y}<extra></extra>",
         "legendgroup": "hapA",
         "marker": {
          "color": "red",
          "pattern": {
           "shape": ""
          }
         },
         "name": "hapA",
         "offsetgroup": "hapA",
         "orientation": "h",
         "showlegend": true,
         "textposition": "auto",
         "type": "bar",
         "x": [
          0.4367816091954023,
          0.32142857142857145,
          0.4915254237288136,
          0.5277777777777778,
          0.43478260869565216
         ],
         "xaxis": "x",
         "y": [
          "Cohort 1+2+3",
          "Cohort 3",
          "Cohort 1+2",
          "Cohort 2",
          "Cohort 1"
         ],
         "yaxis": "y"
        },
        {
         "alignmentgroup": "True",
         "hovertemplate": "Haplotype=hapA<br>phenotype=Controls<br>Proportion=%{x}<br>Cohort=%{y}<extra></extra>",
         "legendgroup": "hapA",
         "marker": {
          "color": "red",
          "pattern": {
           "shape": ""
          }
         },
         "name": "hapA",
         "offsetgroup": "hapA",
         "orientation": "h",
         "showlegend": false,
         "textposition": "auto",
         "type": "bar",
         "x": [
          0.014914243102162566,
          0.015968063872255488,
          0.014564713670969877,
          0.01658890616899948,
          0.01098901098901099
         ],
         "xaxis": "x2",
         "y": [
          "Cohort 1+2+3",
          "Cohort 3",
          "Cohort 1+2",
          "Cohort 2",
          "Cohort 1"
         ],
         "yaxis": "y2"
        },
        {
         "alignmentgroup": "True",
         "hovertemplate": "Haplotype=hapB<br>phenotype=aFTLD-U<br>Proportion=%{x}<br>Cohort=%{y}<extra></extra>",
         "legendgroup": "hapB",
         "marker": {
          "color": "orange",
          "pattern": {
           "shape": ""
          }
         },
         "name": "hapB",
         "offsetgroup": "hapB",
         "orientation": "h",
         "showlegend": true,
         "textposition": "auto",
         "type": "bar",
         "x": [
          0.14942528735632185,
          0.03571428571428571,
          0.2033898305084746,
          0.19444444444444445,
          0.21739130434782608
         ],
         "xaxis": "x",
         "y": [
          "Cohort 1+2+3",
          "Cohort 3",
          "Cohort 1+2",
          "Cohort 2",
          "Cohort 1"
         ],
         "yaxis": "y"
        },
        {
         "alignmentgroup": "True",
         "hovertemplate": "Haplotype=hapB<br>phenotype=Controls<br>Proportion=%{x}<br>Cohort=%{y}<extra></extra>",
         "legendgroup": "hapB",
         "marker": {
          "color": "orange",
          "pattern": {
           "shape": ""
          }
         },
         "name": "hapB",
         "offsetgroup": "hapB",
         "orientation": "h",
         "showlegend": false,
         "textposition": "auto",
         "type": "bar",
         "x": [
          0.05791697738006463,
          0.059880239520958084,
          0.0572658060244952,
          0.05287713841368585,
          0.06501831501831502
         ],
         "xaxis": "x2",
         "y": [
          "Cohort 1+2+3",
          "Cohort 3",
          "Cohort 1+2",
          "Cohort 2",
          "Cohort 1"
         ],
         "yaxis": "y2"
        },
        {
         "alignmentgroup": "True",
         "hovertemplate": "Haplotype=none<br>phenotype=aFTLD-U<br>Proportion=%{x}<br>Cohort=%{y}<extra></extra>",
         "legendgroup": "none",
         "marker": {
          "color": "green",
          "pattern": {
           "shape": ""
          }
         },
         "name": "none",
         "offsetgroup": "none",
         "orientation": "h",
         "showlegend": true,
         "textposition": "auto",
         "type": "bar",
         "x": [
          0.41379310344827586,
          0.6428571428571429,
          0.3050847457627119,
          0.2777777777777778,
          0.34782608695652173
         ],
         "xaxis": "x",
         "y": [
          "Cohort 1+2+3",
          "Cohort 3",
          "Cohort 1+2",
          "Cohort 2",
          "Cohort 1"
         ],
         "yaxis": "y"
        },
        {
         "alignmentgroup": "True",
         "hovertemplate": "Haplotype=none<br>phenotype=Controls<br>Proportion=%{x}<br>Cohort=%{y}<extra></extra>",
         "legendgroup": "none",
         "marker": {
          "color": "green",
          "pattern": {
           "shape": ""
          }
         },
         "name": "none",
         "offsetgroup": "none",
         "orientation": "h",
         "showlegend": false,
         "textposition": "auto",
         "type": "bar",
         "x": [
          0.9271687795177728,
          0.9241516966067864,
          0.9281694803045349,
          0.9305339554173147,
          0.923992673992674
         ],
         "xaxis": "x2",
         "y": [
          "Cohort 1+2+3",
          "Cohort 3",
          "Cohort 1+2",
          "Cohort 2",
          "Cohort 1"
         ],
         "yaxis": "y2"
        }
       ],
       "layout": {
        "annotations": [
         {
          "font": {
           "size": 24
          },
          "showarrow": false,
          "text": "aFTLD-U",
          "x": 0.2425,
          "xanchor": "left",
          "xref": "paper",
          "y": 1,
          "yanchor": "bottom",
          "yref": "paper"
         },
         {
          "font": {
           "size": 24
          },
          "showarrow": false,
          "text": "Controls",
          "x": 0.7575000000000001,
          "xanchor": "left",
          "xref": "paper",
          "y": 1,
          "yanchor": "bottom",
          "yref": "paper"
         },
         {
          "font": {
           "color": "white",
           "size": 16
          },
          "showarrow": false,
          "text": "10",
          "x": 0.21739130434782608,
          "xref": "x",
          "y": "Cohort 1",
          "yref": "y"
         },
         {
          "font": {
           "color": "white",
           "size": 16
          },
          "showarrow": false,
          "text": "5",
          "x": 0.5434782608695652,
          "xref": "x",
          "y": "Cohort 1",
          "yref": "y"
         },
         {
          "font": {
           "color": "white",
           "size": 16
          },
          "showarrow": false,
          "text": "8",
          "x": 0.8260869565217391,
          "xref": "x",
          "y": "Cohort 1",
          "yref": "y"
         },
         {
          "font": {
           "color": "black",
           "size": 16
          },
          "showarrow": false,
          "text": "N=23",
          "x": -0.1,
          "xref": "x",
          "y": "Cohort 1",
          "yref": "y"
         },
         {
          "font": {
           "color": "white",
           "size": 16
          },
          "showarrow": false,
          "text": "19",
          "x": 0.2638888888888889,
          "xref": "x",
          "y": "Cohort 2",
          "yref": "y"
         },
         {
          "font": {
           "color": "white",
           "size": 16
          },
          "showarrow": false,
          "text": "7",
          "x": 0.625,
          "xref": "x",
          "y": "Cohort 2",
          "yref": "y"
         },
         {
          "font": {
           "color": "white",
           "size": 16
          },
          "showarrow": false,
          "text": "10",
          "x": 0.8611111111111112,
          "xref": "x",
          "y": "Cohort 2",
          "yref": "y"
         },
         {
          "font": {
           "color": "black",
           "size": 16
          },
          "showarrow": false,
          "text": "N=36",
          "x": -0.1,
          "xref": "x",
          "y": "Cohort 2",
          "yref": "y"
         },
         {
          "font": {
           "color": "white",
           "size": 16
          },
          "showarrow": false,
          "text": "29",
          "x": 0.2457627118644068,
          "xref": "x",
          "y": "Cohort 1+2",
          "yref": "y"
         },
         {
          "font": {
           "color": "white",
           "size": 16
          },
          "showarrow": false,
          "text": "12",
          "x": 0.5932203389830508,
          "xref": "x",
          "y": "Cohort 1+2",
          "yref": "y"
         },
         {
          "font": {
           "color": "white",
           "size": 16
          },
          "showarrow": false,
          "text": "18",
          "x": 0.8474576271186441,
          "xref": "x",
          "y": "Cohort 1+2",
          "yref": "y"
         },
         {
          "font": {
           "color": "black",
           "size": 16
          },
          "showarrow": false,
          "text": "N=59",
          "x": -0.1,
          "xref": "x",
          "y": "Cohort 1+2",
          "yref": "y"
         },
         {
          "font": {
           "color": "white",
           "size": 16
          },
          "showarrow": false,
          "text": "9",
          "x": 0.16071428571428573,
          "xref": "x",
          "y": "Cohort 3",
          "yref": "y"
         },
         {
          "font": {
           "color": "white",
           "size": 16
          },
          "showarrow": false,
          "text": "1",
          "x": 0.3392857142857143,
          "xref": "x",
          "y": "Cohort 3",
          "yref": "y"
         },
         {
          "font": {
           "color": "white",
           "size": 16
          },
          "showarrow": false,
          "text": "18",
          "x": 0.6785714285714286,
          "xref": "x",
          "y": "Cohort 3",
          "yref": "y"
         },
         {
          "font": {
           "color": "black",
           "size": 16
          },
          "showarrow": false,
          "text": "N=28",
          "x": -0.1,
          "xref": "x",
          "y": "Cohort 3",
          "yref": "y"
         },
         {
          "font": {
           "color": "white",
           "size": 16
          },
          "showarrow": false,
          "text": "38",
          "x": 0.21839080459770116,
          "xref": "x",
          "y": "Cohort 1+2+3",
          "yref": "y"
         },
         {
          "font": {
           "color": "white",
           "size": 16
          },
          "showarrow": false,
          "text": "13",
          "x": 0.5114942528735632,
          "xref": "x",
          "y": "Cohort 1+2+3",
          "yref": "y"
         },
         {
          "font": {
           "color": "white",
           "size": 16
          },
          "showarrow": false,
          "text": "36",
          "x": 0.7931034482758621,
          "xref": "x",
          "y": "Cohort 1+2+3",
          "yref": "y"
         },
         {
          "font": {
           "color": "black",
           "size": 16
          },
          "showarrow": false,
          "text": "N=87",
          "x": -0.1,
          "xref": "x",
          "y": "Cohort 1+2+3",
          "yref": "y"
         },
         {
          "arrowhead": 1,
          "ax": -20,
          "ay": -15,
          "font": {
           "color": "black",
           "size": 16
          },
          "showarrow": true,
          "text": "12",
          "x": 0.005494505494505495,
          "xref": "x2",
          "y": "Cohort 1",
          "yref": "y2",
          "yshift": 0
         },
         {
          "font": {
           "color": "white",
           "size": 16
          },
          "showarrow": false,
          "text": "71",
          "textangle": -60,
          "x": 0.0434981684981685,
          "xref": "x2",
          "y": "Cohort 1",
          "yref": "y2"
         },
         {
          "font": {
           "color": "white",
           "size": 16
          },
          "showarrow": false,
          "text": "1009",
          "x": 0.5380036630036631,
          "xref": "x2",
          "y": "Cohort 1",
          "yref": "y2"
         },
         {
          "font": {
           "color": "black",
           "size": 16
          },
          "showarrow": false,
          "text": "N=1092",
          "x": -0.16,
          "xref": "x2",
          "y": "Cohort 1",
          "yref": "y2"
         },
         {
          "arrowhead": 1,
          "ax": -20,
          "ay": -15,
          "font": {
           "color": "black",
           "size": 16
          },
          "showarrow": true,
          "text": "32",
          "x": 0.00829445308449974,
          "xref": "x2",
          "y": "Cohort 2",
          "yref": "y2",
          "yshift": 0
         },
         {
          "font": {
           "color": "white",
           "size": 16
          },
          "showarrow": false,
          "text": "102",
          "textangle": -60,
          "x": 0.04302747537584241,
          "xref": "x2",
          "y": "Cohort 2",
          "yref": "y2"
         },
         {
          "font": {
           "color": "white",
           "size": 16
          },
          "showarrow": false,
          "text": "1795",
          "x": 0.5347330222913427,
          "xref": "x2",
          "y": "Cohort 2",
          "yref": "y2"
         },
         {
          "font": {
           "color": "black",
           "size": 16
          },
          "showarrow": false,
          "text": "N=1929",
          "x": -0.16,
          "xref": "x2",
          "y": "Cohort 2",
          "yref": "y2"
         },
         {
          "arrowhead": 1,
          "ax": -20,
          "ay": -15,
          "font": {
           "color": "black",
           "size": 16
          },
          "showarrow": true,
          "text": "44",
          "x": 0.007282356835484938,
          "xref": "x2",
          "y": "Cohort 1+2",
          "yref": "y2",
          "yshift": 0
         },
         {
          "font": {
           "color": "white",
           "size": 16
          },
          "showarrow": false,
          "text": "173",
          "textangle": -60,
          "x": 0.04319761668321748,
          "xref": "x2",
          "y": "Cohort 1+2",
          "yref": "y2"
         },
         {
          "font": {
           "color": "white",
           "size": 16
          },
          "showarrow": false,
          "text": "2804",
          "x": 0.5359152598477326,
          "xref": "x2",
          "y": "Cohort 1+2",
          "yref": "y2"
         },
         {
          "font": {
           "color": "black",
           "size": 16
          },
          "showarrow": false,
          "text": "N=3021",
          "x": -0.16,
          "xref": "x2",
          "y": "Cohort 1+2",
          "yref": "y2"
         },
         {
          "arrowhead": 1,
          "ax": -20,
          "ay": -15,
          "font": {
           "color": "black",
           "size": 16
          },
          "showarrow": true,
          "text": "16",
          "x": 0.007984031936127744,
          "xref": "x2",
          "y": "Cohort 3",
          "yref": "y2",
          "yshift": 0
         },
         {
          "font": {
           "color": "white",
           "size": 16
          },
          "showarrow": false,
          "text": "60",
          "textangle": -60,
          "x": 0.04590818363273453,
          "xref": "x2",
          "y": "Cohort 3",
          "yref": "y2"
         },
         {
          "font": {
           "color": "white",
           "size": 16
          },
          "showarrow": false,
          "text": "926",
          "x": 0.5379241516966068,
          "xref": "x2",
          "y": "Cohort 3",
          "yref": "y2"
         },
         {
          "font": {
           "color": "black",
           "size": 16
          },
          "showarrow": false,
          "text": "N=1002",
          "x": -0.16,
          "xref": "x2",
          "y": "Cohort 3",
          "yref": "y2"
         },
         {
          "arrowhead": 1,
          "ax": -20,
          "ay": -15,
          "font": {
           "color": "black",
           "size": 16
          },
          "showarrow": true,
          "text": "60",
          "x": 0.007457121551081283,
          "xref": "x2",
          "y": "Cohort 1+2+3",
          "yref": "y2",
          "yshift": 0
         },
         {
          "font": {
           "color": "white",
           "size": 16
          },
          "showarrow": false,
          "text": "233",
          "textangle": -60,
          "x": 0.04387273179219488,
          "xref": "x2",
          "y": "Cohort 1+2+3",
          "yref": "y2"
         },
         {
          "font": {
           "color": "white",
           "size": 16
          },
          "showarrow": false,
          "text": "3730",
          "x": 0.5364156102411136,
          "xref": "x2",
          "y": "Cohort 1+2+3",
          "yref": "y2"
         },
         {
          "font": {
           "color": "black",
           "size": 16
          },
          "showarrow": false,
          "text": "N=4023",
          "x": -0.16,
          "xref": "x2",
          "y": "Cohort 1+2+3",
          "yref": "y2"
         }
        ],
        "barmode": "relative",
        "font": {
         "size": 16
        },
        "legend": {
         "orientation": "h",
         "title": {
          "text": "Carrier frequency"
         },
         "tracegroupgap": 0,
         "x": 0.5,
         "xanchor": "center",
         "y": -0.15,
         "yanchor": "bottom"
        },
        "margin": {
         "b": 0,
         "l": 0,
         "r": 0,
         "t": 60
        },
        "plot_bgcolor": "white",
        "template": {
         "data": {
          "bar": [
           {
            "error_x": {
             "color": "#2a3f5f"
            },
            "error_y": {
             "color": "#2a3f5f"
            },
            "marker": {
             "line": {
              "color": "#E5ECF6",
              "width": 0.5
             },
             "pattern": {
              "fillmode": "overlay",
              "size": 10,
              "solidity": 0.2
             }
            },
            "type": "bar"
           }
          ],
          "barpolar": [
           {
            "marker": {
             "line": {
              "color": "#E5ECF6",
              "width": 0.5
             },
             "pattern": {
              "fillmode": "overlay",
              "size": 10,
              "solidity": 0.2
             }
            },
            "type": "barpolar"
           }
          ],
          "carpet": [
           {
            "aaxis": {
             "endlinecolor": "#2a3f5f",
             "gridcolor": "white",
             "linecolor": "white",
             "minorgridcolor": "white",
             "startlinecolor": "#2a3f5f"
            },
            "baxis": {
             "endlinecolor": "#2a3f5f",
             "gridcolor": "white",
             "linecolor": "white",
             "minorgridcolor": "white",
             "startlinecolor": "#2a3f5f"
            },
            "type": "carpet"
           }
          ],
          "choropleth": [
           {
            "colorbar": {
             "outlinewidth": 0,
             "ticks": ""
            },
            "type": "choropleth"
           }
          ],
          "contour": [
           {
            "colorbar": {
             "outlinewidth": 0,
             "ticks": ""
            },
            "colorscale": [
             [
              0,
              "#0d0887"
             ],
             [
              0.1111111111111111,
              "#46039f"
             ],
             [
              0.2222222222222222,
              "#7201a8"
             ],
             [
              0.3333333333333333,
              "#9c179e"
             ],
             [
              0.4444444444444444,
              "#bd3786"
             ],
             [
              0.5555555555555556,
              "#d8576b"
             ],
             [
              0.6666666666666666,
              "#ed7953"
             ],
             [
              0.7777777777777778,
              "#fb9f3a"
             ],
             [
              0.8888888888888888,
              "#fdca26"
             ],
             [
              1,
              "#f0f921"
             ]
            ],
            "type": "contour"
           }
          ],
          "contourcarpet": [
           {
            "colorbar": {
             "outlinewidth": 0,
             "ticks": ""
            },
            "type": "contourcarpet"
           }
          ],
          "heatmap": [
           {
            "colorbar": {
             "outlinewidth": 0,
             "ticks": ""
            },
            "colorscale": [
             [
              0,
              "#0d0887"
             ],
             [
              0.1111111111111111,
              "#46039f"
             ],
             [
              0.2222222222222222,
              "#7201a8"
             ],
             [
              0.3333333333333333,
              "#9c179e"
             ],
             [
              0.4444444444444444,
              "#bd3786"
             ],
             [
              0.5555555555555556,
              "#d8576b"
             ],
             [
              0.6666666666666666,
              "#ed7953"
             ],
             [
              0.7777777777777778,
              "#fb9f3a"
             ],
             [
              0.8888888888888888,
              "#fdca26"
             ],
             [
              1,
              "#f0f921"
             ]
            ],
            "type": "heatmap"
           }
          ],
          "heatmapgl": [
           {
            "colorbar": {
             "outlinewidth": 0,
             "ticks": ""
            },
            "colorscale": [
             [
              0,
              "#0d0887"
             ],
             [
              0.1111111111111111,
              "#46039f"
             ],
             [
              0.2222222222222222,
              "#7201a8"
             ],
             [
              0.3333333333333333,
              "#9c179e"
             ],
             [
              0.4444444444444444,
              "#bd3786"
             ],
             [
              0.5555555555555556,
              "#d8576b"
             ],
             [
              0.6666666666666666,
              "#ed7953"
             ],
             [
              0.7777777777777778,
              "#fb9f3a"
             ],
             [
              0.8888888888888888,
              "#fdca26"
             ],
             [
              1,
              "#f0f921"
             ]
            ],
            "type": "heatmapgl"
           }
          ],
          "histogram": [
           {
            "marker": {
             "pattern": {
              "fillmode": "overlay",
              "size": 10,
              "solidity": 0.2
             }
            },
            "type": "histogram"
           }
          ],
          "histogram2d": [
           {
            "colorbar": {
             "outlinewidth": 0,
             "ticks": ""
            },
            "colorscale": [
             [
              0,
              "#0d0887"
             ],
             [
              0.1111111111111111,
              "#46039f"
             ],
             [
              0.2222222222222222,
              "#7201a8"
             ],
             [
              0.3333333333333333,
              "#9c179e"
             ],
             [
              0.4444444444444444,
              "#bd3786"
             ],
             [
              0.5555555555555556,
              "#d8576b"
             ],
             [
              0.6666666666666666,
              "#ed7953"
             ],
             [
              0.7777777777777778,
              "#fb9f3a"
             ],
             [
              0.8888888888888888,
              "#fdca26"
             ],
             [
              1,
              "#f0f921"
             ]
            ],
            "type": "histogram2d"
           }
          ],
          "histogram2dcontour": [
           {
            "colorbar": {
             "outlinewidth": 0,
             "ticks": ""
            },
            "colorscale": [
             [
              0,
              "#0d0887"
             ],
             [
              0.1111111111111111,
              "#46039f"
             ],
             [
              0.2222222222222222,
              "#7201a8"
             ],
             [
              0.3333333333333333,
              "#9c179e"
             ],
             [
              0.4444444444444444,
              "#bd3786"
             ],
             [
              0.5555555555555556,
              "#d8576b"
             ],
             [
              0.6666666666666666,
              "#ed7953"
             ],
             [
              0.7777777777777778,
              "#fb9f3a"
             ],
             [
              0.8888888888888888,
              "#fdca26"
             ],
             [
              1,
              "#f0f921"
             ]
            ],
            "type": "histogram2dcontour"
           }
          ],
          "mesh3d": [
           {
            "colorbar": {
             "outlinewidth": 0,
             "ticks": ""
            },
            "type": "mesh3d"
           }
          ],
          "parcoords": [
           {
            "line": {
             "colorbar": {
              "outlinewidth": 0,
              "ticks": ""
             }
            },
            "type": "parcoords"
           }
          ],
          "pie": [
           {
            "automargin": true,
            "type": "pie"
           }
          ],
          "scatter": [
           {
            "fillpattern": {
             "fillmode": "overlay",
             "size": 10,
             "solidity": 0.2
            },
            "type": "scatter"
           }
          ],
          "scatter3d": [
           {
            "line": {
             "colorbar": {
              "outlinewidth": 0,
              "ticks": ""
             }
            },
            "marker": {
             "colorbar": {
              "outlinewidth": 0,
              "ticks": ""
             }
            },
            "type": "scatter3d"
           }
          ],
          "scattercarpet": [
           {
            "marker": {
             "colorbar": {
              "outlinewidth": 0,
              "ticks": ""
             }
            },
            "type": "scattercarpet"
           }
          ],
          "scattergeo": [
           {
            "marker": {
             "colorbar": {
              "outlinewidth": 0,
              "ticks": ""
             }
            },
            "type": "scattergeo"
           }
          ],
          "scattergl": [
           {
            "marker": {
             "colorbar": {
              "outlinewidth": 0,
              "ticks": ""
             }
            },
            "type": "scattergl"
           }
          ],
          "scattermapbox": [
           {
            "marker": {
             "colorbar": {
              "outlinewidth": 0,
              "ticks": ""
             }
            },
            "type": "scattermapbox"
           }
          ],
          "scatterpolar": [
           {
            "marker": {
             "colorbar": {
              "outlinewidth": 0,
              "ticks": ""
             }
            },
            "type": "scatterpolar"
           }
          ],
          "scatterpolargl": [
           {
            "marker": {
             "colorbar": {
              "outlinewidth": 0,
              "ticks": ""
             }
            },
            "type": "scatterpolargl"
           }
          ],
          "scatterternary": [
           {
            "marker": {
             "colorbar": {
              "outlinewidth": 0,
              "ticks": ""
             }
            },
            "type": "scatterternary"
           }
          ],
          "surface": [
           {
            "colorbar": {
             "outlinewidth": 0,
             "ticks": ""
            },
            "colorscale": [
             [
              0,
              "#0d0887"
             ],
             [
              0.1111111111111111,
              "#46039f"
             ],
             [
              0.2222222222222222,
              "#7201a8"
             ],
             [
              0.3333333333333333,
              "#9c179e"
             ],
             [
              0.4444444444444444,
              "#bd3786"
             ],
             [
              0.5555555555555556,
              "#d8576b"
             ],
             [
              0.6666666666666666,
              "#ed7953"
             ],
             [
              0.7777777777777778,
              "#fb9f3a"
             ],
             [
              0.8888888888888888,
              "#fdca26"
             ],
             [
              1,
              "#f0f921"
             ]
            ],
            "type": "surface"
           }
          ],
          "table": [
           {
            "cells": {
             "fill": {
              "color": "#EBF0F8"
             },
             "line": {
              "color": "white"
             }
            },
            "header": {
             "fill": {
              "color": "#C8D4E3"
             },
             "line": {
              "color": "white"
             }
            },
            "type": "table"
           }
          ]
         },
         "layout": {
          "annotationdefaults": {
           "arrowcolor": "#2a3f5f",
           "arrowhead": 0,
           "arrowwidth": 1
          },
          "autotypenumbers": "strict",
          "coloraxis": {
           "colorbar": {
            "outlinewidth": 0,
            "ticks": ""
           }
          },
          "colorscale": {
           "diverging": [
            [
             0,
             "#8e0152"
            ],
            [
             0.1,
             "#c51b7d"
            ],
            [
             0.2,
             "#de77ae"
            ],
            [
             0.3,
             "#f1b6da"
            ],
            [
             0.4,
             "#fde0ef"
            ],
            [
             0.5,
             "#f7f7f7"
            ],
            [
             0.6,
             "#e6f5d0"
            ],
            [
             0.7,
             "#b8e186"
            ],
            [
             0.8,
             "#7fbc41"
            ],
            [
             0.9,
             "#4d9221"
            ],
            [
             1,
             "#276419"
            ]
           ],
           "sequential": [
            [
             0,
             "#0d0887"
            ],
            [
             0.1111111111111111,
             "#46039f"
            ],
            [
             0.2222222222222222,
             "#7201a8"
            ],
            [
             0.3333333333333333,
             "#9c179e"
            ],
            [
             0.4444444444444444,
             "#bd3786"
            ],
            [
             0.5555555555555556,
             "#d8576b"
            ],
            [
             0.6666666666666666,
             "#ed7953"
            ],
            [
             0.7777777777777778,
             "#fb9f3a"
            ],
            [
             0.8888888888888888,
             "#fdca26"
            ],
            [
             1,
             "#f0f921"
            ]
           ],
           "sequentialminus": [
            [
             0,
             "#0d0887"
            ],
            [
             0.1111111111111111,
             "#46039f"
            ],
            [
             0.2222222222222222,
             "#7201a8"
            ],
            [
             0.3333333333333333,
             "#9c179e"
            ],
            [
             0.4444444444444444,
             "#bd3786"
            ],
            [
             0.5555555555555556,
             "#d8576b"
            ],
            [
             0.6666666666666666,
             "#ed7953"
            ],
            [
             0.7777777777777778,
             "#fb9f3a"
            ],
            [
             0.8888888888888888,
             "#fdca26"
            ],
            [
             1,
             "#f0f921"
            ]
           ]
          },
          "colorway": [
           "#636efa",
           "#EF553B",
           "#00cc96",
           "#ab63fa",
           "#FFA15A",
           "#19d3f3",
           "#FF6692",
           "#B6E880",
           "#FF97FF",
           "#FECB52"
          ],
          "font": {
           "color": "#2a3f5f"
          },
          "geo": {
           "bgcolor": "white",
           "lakecolor": "white",
           "landcolor": "#E5ECF6",
           "showlakes": true,
           "showland": true,
           "subunitcolor": "white"
          },
          "hoverlabel": {
           "align": "left"
          },
          "hovermode": "closest",
          "mapbox": {
           "style": "light"
          },
          "paper_bgcolor": "white",
          "plot_bgcolor": "#E5ECF6",
          "polar": {
           "angularaxis": {
            "gridcolor": "white",
            "linecolor": "white",
            "ticks": ""
           },
           "bgcolor": "#E5ECF6",
           "radialaxis": {
            "gridcolor": "white",
            "linecolor": "white",
            "ticks": ""
           }
          },
          "scene": {
           "xaxis": {
            "backgroundcolor": "#E5ECF6",
            "gridcolor": "white",
            "gridwidth": 2,
            "linecolor": "white",
            "showbackground": true,
            "ticks": "",
            "zerolinecolor": "white"
           },
           "yaxis": {
            "backgroundcolor": "#E5ECF6",
            "gridcolor": "white",
            "gridwidth": 2,
            "linecolor": "white",
            "showbackground": true,
            "ticks": "",
            "zerolinecolor": "white"
           },
           "zaxis": {
            "backgroundcolor": "#E5ECF6",
            "gridcolor": "white",
            "gridwidth": 2,
            "linecolor": "white",
            "showbackground": true,
            "ticks": "",
            "zerolinecolor": "white"
           }
          },
          "shapedefaults": {
           "line": {
            "color": "#2a3f5f"
           }
          },
          "ternary": {
           "aaxis": {
            "gridcolor": "white",
            "linecolor": "white",
            "ticks": ""
           },
           "baxis": {
            "gridcolor": "white",
            "linecolor": "white",
            "ticks": ""
           },
           "bgcolor": "#E5ECF6",
           "caxis": {
            "gridcolor": "white",
            "linecolor": "white",
            "ticks": ""
           }
          },
          "title": {
           "x": 0.05
          },
          "xaxis": {
           "automargin": true,
           "gridcolor": "white",
           "linecolor": "white",
           "ticks": "",
           "title": {
            "standoff": 15
           },
           "zerolinecolor": "white",
           "zerolinewidth": 2
          },
          "yaxis": {
           "automargin": true,
           "gridcolor": "white",
           "linecolor": "white",
           "ticks": "",
           "title": {
            "standoff": 15
           },
           "zerolinecolor": "white",
           "zerolinewidth": 2
          }
         }
        },
        "title": {
         "text": "",
         "x": 0.5
        },
        "xaxis": {
         "anchor": "y",
         "domain": [
          0,
          0.485
         ],
         "showticklabels": false,
         "title": {
          "text": ""
         }
        },
        "xaxis2": {
         "anchor": "y2",
         "domain": [
          0.515,
          1
         ],
         "matches": "x",
         "showticklabels": false,
         "title": {
          "text": ""
         }
        },
        "yaxis": {
         "anchor": "x",
         "domain": [
          0,
          1
         ],
         "tickcolor": "white",
         "ticks": "outside",
         "title": {
          "text": "Cohort"
         }
        },
        "yaxis2": {
         "anchor": "x2",
         "domain": [
          0,
          1
         ],
         "matches": "y",
         "showticklabels": false,
         "tickcolor": "white",
         "ticks": "outside"
        }
       }
      },
      "text/html": [
       "<div>                            <div id=\"81325174-4cf2-4069-a578-93a391b93160\" class=\"plotly-graph-div\" style=\"height:525px; width:100%;\"></div>            <script type=\"text/javascript\">                require([\"plotly\"], function(Plotly) {                    window.PLOTLYENV=window.PLOTLYENV || {};                                    if (document.getElementById(\"81325174-4cf2-4069-a578-93a391b93160\")) {                    Plotly.newPlot(                        \"81325174-4cf2-4069-a578-93a391b93160\",                        [{\"alignmentgroup\":\"True\",\"hovertemplate\":\"Haplotype=hapA\\u003cbr\\u003ephenotype=aFTLD-U\\u003cbr\\u003eProportion=%{x}\\u003cbr\\u003eCohort=%{y}\\u003cextra\\u003e\\u003c\\u002fextra\\u003e\",\"legendgroup\":\"hapA\",\"marker\":{\"color\":\"red\",\"pattern\":{\"shape\":\"\"}},\"name\":\"hapA\",\"offsetgroup\":\"hapA\",\"orientation\":\"h\",\"showlegend\":true,\"textposition\":\"auto\",\"x\":[0.4367816091954023,0.32142857142857145,0.4915254237288136,0.5277777777777778,0.43478260869565216],\"xaxis\":\"x\",\"y\":[\"Cohort 1+2+3\",\"Cohort 3\",\"Cohort 1+2\",\"Cohort 2\",\"Cohort 1\"],\"yaxis\":\"y\",\"type\":\"bar\"},{\"alignmentgroup\":\"True\",\"hovertemplate\":\"Haplotype=hapA\\u003cbr\\u003ephenotype=Controls\\u003cbr\\u003eProportion=%{x}\\u003cbr\\u003eCohort=%{y}\\u003cextra\\u003e\\u003c\\u002fextra\\u003e\",\"legendgroup\":\"hapA\",\"marker\":{\"color\":\"red\",\"pattern\":{\"shape\":\"\"}},\"name\":\"hapA\",\"offsetgroup\":\"hapA\",\"orientation\":\"h\",\"showlegend\":false,\"textposition\":\"auto\",\"x\":[0.014914243102162566,0.015968063872255488,0.014564713670969877,0.01658890616899948,0.01098901098901099],\"xaxis\":\"x2\",\"y\":[\"Cohort 1+2+3\",\"Cohort 3\",\"Cohort 1+2\",\"Cohort 2\",\"Cohort 1\"],\"yaxis\":\"y2\",\"type\":\"bar\"},{\"alignmentgroup\":\"True\",\"hovertemplate\":\"Haplotype=hapB\\u003cbr\\u003ephenotype=aFTLD-U\\u003cbr\\u003eProportion=%{x}\\u003cbr\\u003eCohort=%{y}\\u003cextra\\u003e\\u003c\\u002fextra\\u003e\",\"legendgroup\":\"hapB\",\"marker\":{\"color\":\"orange\",\"pattern\":{\"shape\":\"\"}},\"name\":\"hapB\",\"offsetgroup\":\"hapB\",\"orientation\":\"h\",\"showlegend\":true,\"textposition\":\"auto\",\"x\":[0.14942528735632185,0.03571428571428571,0.2033898305084746,0.19444444444444445,0.21739130434782608],\"xaxis\":\"x\",\"y\":[\"Cohort 1+2+3\",\"Cohort 3\",\"Cohort 1+2\",\"Cohort 2\",\"Cohort 1\"],\"yaxis\":\"y\",\"type\":\"bar\"},{\"alignmentgroup\":\"True\",\"hovertemplate\":\"Haplotype=hapB\\u003cbr\\u003ephenotype=Controls\\u003cbr\\u003eProportion=%{x}\\u003cbr\\u003eCohort=%{y}\\u003cextra\\u003e\\u003c\\u002fextra\\u003e\",\"legendgroup\":\"hapB\",\"marker\":{\"color\":\"orange\",\"pattern\":{\"shape\":\"\"}},\"name\":\"hapB\",\"offsetgroup\":\"hapB\",\"orientation\":\"h\",\"showlegend\":false,\"textposition\":\"auto\",\"x\":[0.05791697738006463,0.059880239520958084,0.0572658060244952,0.05287713841368585,0.06501831501831502],\"xaxis\":\"x2\",\"y\":[\"Cohort 1+2+3\",\"Cohort 3\",\"Cohort 1+2\",\"Cohort 2\",\"Cohort 1\"],\"yaxis\":\"y2\",\"type\":\"bar\"},{\"alignmentgroup\":\"True\",\"hovertemplate\":\"Haplotype=none\\u003cbr\\u003ephenotype=aFTLD-U\\u003cbr\\u003eProportion=%{x}\\u003cbr\\u003eCohort=%{y}\\u003cextra\\u003e\\u003c\\u002fextra\\u003e\",\"legendgroup\":\"none\",\"marker\":{\"color\":\"green\",\"pattern\":{\"shape\":\"\"}},\"name\":\"none\",\"offsetgroup\":\"none\",\"orientation\":\"h\",\"showlegend\":true,\"textposition\":\"auto\",\"x\":[0.41379310344827586,0.6428571428571429,0.3050847457627119,0.2777777777777778,0.34782608695652173],\"xaxis\":\"x\",\"y\":[\"Cohort 1+2+3\",\"Cohort 3\",\"Cohort 1+2\",\"Cohort 2\",\"Cohort 1\"],\"yaxis\":\"y\",\"type\":\"bar\"},{\"alignmentgroup\":\"True\",\"hovertemplate\":\"Haplotype=none\\u003cbr\\u003ephenotype=Controls\\u003cbr\\u003eProportion=%{x}\\u003cbr\\u003eCohort=%{y}\\u003cextra\\u003e\\u003c\\u002fextra\\u003e\",\"legendgroup\":\"none\",\"marker\":{\"color\":\"green\",\"pattern\":{\"shape\":\"\"}},\"name\":\"none\",\"offsetgroup\":\"none\",\"orientation\":\"h\",\"showlegend\":false,\"textposition\":\"auto\",\"x\":[0.9271687795177728,0.9241516966067864,0.9281694803045349,0.9305339554173147,0.923992673992674],\"xaxis\":\"x2\",\"y\":[\"Cohort 1+2+3\",\"Cohort 3\",\"Cohort 1+2\",\"Cohort 2\",\"Cohort 1\"],\"yaxis\":\"y2\",\"type\":\"bar\"}],                        {\"template\":{\"data\":{\"histogram2dcontour\":[{\"type\":\"histogram2dcontour\",\"colorbar\":{\"outlinewidth\":0,\"ticks\":\"\"},\"colorscale\":[[0.0,\"#0d0887\"],[0.1111111111111111,\"#46039f\"],[0.2222222222222222,\"#7201a8\"],[0.3333333333333333,\"#9c179e\"],[0.4444444444444444,\"#bd3786\"],[0.5555555555555556,\"#d8576b\"],[0.6666666666666666,\"#ed7953\"],[0.7777777777777778,\"#fb9f3a\"],[0.8888888888888888,\"#fdca26\"],[1.0,\"#f0f921\"]]}],\"choropleth\":[{\"type\":\"choropleth\",\"colorbar\":{\"outlinewidth\":0,\"ticks\":\"\"}}],\"histogram2d\":[{\"type\":\"histogram2d\",\"colorbar\":{\"outlinewidth\":0,\"ticks\":\"\"},\"colorscale\":[[0.0,\"#0d0887\"],[0.1111111111111111,\"#46039f\"],[0.2222222222222222,\"#7201a8\"],[0.3333333333333333,\"#9c179e\"],[0.4444444444444444,\"#bd3786\"],[0.5555555555555556,\"#d8576b\"],[0.6666666666666666,\"#ed7953\"],[0.7777777777777778,\"#fb9f3a\"],[0.8888888888888888,\"#fdca26\"],[1.0,\"#f0f921\"]]}],\"heatmap\":[{\"type\":\"heatmap\",\"colorbar\":{\"outlinewidth\":0,\"ticks\":\"\"},\"colorscale\":[[0.0,\"#0d0887\"],[0.1111111111111111,\"#46039f\"],[0.2222222222222222,\"#7201a8\"],[0.3333333333333333,\"#9c179e\"],[0.4444444444444444,\"#bd3786\"],[0.5555555555555556,\"#d8576b\"],[0.6666666666666666,\"#ed7953\"],[0.7777777777777778,\"#fb9f3a\"],[0.8888888888888888,\"#fdca26\"],[1.0,\"#f0f921\"]]}],\"heatmapgl\":[{\"type\":\"heatmapgl\",\"colorbar\":{\"outlinewidth\":0,\"ticks\":\"\"},\"colorscale\":[[0.0,\"#0d0887\"],[0.1111111111111111,\"#46039f\"],[0.2222222222222222,\"#7201a8\"],[0.3333333333333333,\"#9c179e\"],[0.4444444444444444,\"#bd3786\"],[0.5555555555555556,\"#d8576b\"],[0.6666666666666666,\"#ed7953\"],[0.7777777777777778,\"#fb9f3a\"],[0.8888888888888888,\"#fdca26\"],[1.0,\"#f0f921\"]]}],\"contourcarpet\":[{\"type\":\"contourcarpet\",\"colorbar\":{\"outlinewidth\":0,\"ticks\":\"\"}}],\"contour\":[{\"type\":\"contour\",\"colorbar\":{\"outlinewidth\":0,\"ticks\":\"\"},\"colorscale\":[[0.0,\"#0d0887\"],[0.1111111111111111,\"#46039f\"],[0.2222222222222222,\"#7201a8\"],[0.3333333333333333,\"#9c179e\"],[0.4444444444444444,\"#bd3786\"],[0.5555555555555556,\"#d8576b\"],[0.6666666666666666,\"#ed7953\"],[0.7777777777777778,\"#fb9f3a\"],[0.8888888888888888,\"#fdca26\"],[1.0,\"#f0f921\"]]}],\"surface\":[{\"type\":\"surface\",\"colorbar\":{\"outlinewidth\":0,\"ticks\":\"\"},\"colorscale\":[[0.0,\"#0d0887\"],[0.1111111111111111,\"#46039f\"],[0.2222222222222222,\"#7201a8\"],[0.3333333333333333,\"#9c179e\"],[0.4444444444444444,\"#bd3786\"],[0.5555555555555556,\"#d8576b\"],[0.6666666666666666,\"#ed7953\"],[0.7777777777777778,\"#fb9f3a\"],[0.8888888888888888,\"#fdca26\"],[1.0,\"#f0f921\"]]}],\"mesh3d\":[{\"type\":\"mesh3d\",\"colorbar\":{\"outlinewidth\":0,\"ticks\":\"\"}}],\"scatter\":[{\"fillpattern\":{\"fillmode\":\"overlay\",\"size\":10,\"solidity\":0.2},\"type\":\"scatter\"}],\"parcoords\":[{\"type\":\"parcoords\",\"line\":{\"colorbar\":{\"outlinewidth\":0,\"ticks\":\"\"}}}],\"scatterpolargl\":[{\"type\":\"scatterpolargl\",\"marker\":{\"colorbar\":{\"outlinewidth\":0,\"ticks\":\"\"}}}],\"bar\":[{\"error_x\":{\"color\":\"#2a3f5f\"},\"error_y\":{\"color\":\"#2a3f5f\"},\"marker\":{\"line\":{\"color\":\"#E5ECF6\",\"width\":0.5},\"pattern\":{\"fillmode\":\"overlay\",\"size\":10,\"solidity\":0.2}},\"type\":\"bar\"}],\"scattergeo\":[{\"type\":\"scattergeo\",\"marker\":{\"colorbar\":{\"outlinewidth\":0,\"ticks\":\"\"}}}],\"scatterpolar\":[{\"type\":\"scatterpolar\",\"marker\":{\"colorbar\":{\"outlinewidth\":0,\"ticks\":\"\"}}}],\"histogram\":[{\"marker\":{\"pattern\":{\"fillmode\":\"overlay\",\"size\":10,\"solidity\":0.2}},\"type\":\"histogram\"}],\"scattergl\":[{\"type\":\"scattergl\",\"marker\":{\"colorbar\":{\"outlinewidth\":0,\"ticks\":\"\"}}}],\"scatter3d\":[{\"type\":\"scatter3d\",\"line\":{\"colorbar\":{\"outlinewidth\":0,\"ticks\":\"\"}},\"marker\":{\"colorbar\":{\"outlinewidth\":0,\"ticks\":\"\"}}}],\"scattermapbox\":[{\"type\":\"scattermapbox\",\"marker\":{\"colorbar\":{\"outlinewidth\":0,\"ticks\":\"\"}}}],\"scatterternary\":[{\"type\":\"scatterternary\",\"marker\":{\"colorbar\":{\"outlinewidth\":0,\"ticks\":\"\"}}}],\"scattercarpet\":[{\"type\":\"scattercarpet\",\"marker\":{\"colorbar\":{\"outlinewidth\":0,\"ticks\":\"\"}}}],\"carpet\":[{\"aaxis\":{\"endlinecolor\":\"#2a3f5f\",\"gridcolor\":\"white\",\"linecolor\":\"white\",\"minorgridcolor\":\"white\",\"startlinecolor\":\"#2a3f5f\"},\"baxis\":{\"endlinecolor\":\"#2a3f5f\",\"gridcolor\":\"white\",\"linecolor\":\"white\",\"minorgridcolor\":\"white\",\"startlinecolor\":\"#2a3f5f\"},\"type\":\"carpet\"}],\"table\":[{\"cells\":{\"fill\":{\"color\":\"#EBF0F8\"},\"line\":{\"color\":\"white\"}},\"header\":{\"fill\":{\"color\":\"#C8D4E3\"},\"line\":{\"color\":\"white\"}},\"type\":\"table\"}],\"barpolar\":[{\"marker\":{\"line\":{\"color\":\"#E5ECF6\",\"width\":0.5},\"pattern\":{\"fillmode\":\"overlay\",\"size\":10,\"solidity\":0.2}},\"type\":\"barpolar\"}],\"pie\":[{\"automargin\":true,\"type\":\"pie\"}]},\"layout\":{\"autotypenumbers\":\"strict\",\"colorway\":[\"#636efa\",\"#EF553B\",\"#00cc96\",\"#ab63fa\",\"#FFA15A\",\"#19d3f3\",\"#FF6692\",\"#B6E880\",\"#FF97FF\",\"#FECB52\"],\"font\":{\"color\":\"#2a3f5f\"},\"hovermode\":\"closest\",\"hoverlabel\":{\"align\":\"left\"},\"paper_bgcolor\":\"white\",\"plot_bgcolor\":\"#E5ECF6\",\"polar\":{\"bgcolor\":\"#E5ECF6\",\"angularaxis\":{\"gridcolor\":\"white\",\"linecolor\":\"white\",\"ticks\":\"\"},\"radialaxis\":{\"gridcolor\":\"white\",\"linecolor\":\"white\",\"ticks\":\"\"}},\"ternary\":{\"bgcolor\":\"#E5ECF6\",\"aaxis\":{\"gridcolor\":\"white\",\"linecolor\":\"white\",\"ticks\":\"\"},\"baxis\":{\"gridcolor\":\"white\",\"linecolor\":\"white\",\"ticks\":\"\"},\"caxis\":{\"gridcolor\":\"white\",\"linecolor\":\"white\",\"ticks\":\"\"}},\"coloraxis\":{\"colorbar\":{\"outlinewidth\":0,\"ticks\":\"\"}},\"colorscale\":{\"sequential\":[[0.0,\"#0d0887\"],[0.1111111111111111,\"#46039f\"],[0.2222222222222222,\"#7201a8\"],[0.3333333333333333,\"#9c179e\"],[0.4444444444444444,\"#bd3786\"],[0.5555555555555556,\"#d8576b\"],[0.6666666666666666,\"#ed7953\"],[0.7777777777777778,\"#fb9f3a\"],[0.8888888888888888,\"#fdca26\"],[1.0,\"#f0f921\"]],\"sequentialminus\":[[0.0,\"#0d0887\"],[0.1111111111111111,\"#46039f\"],[0.2222222222222222,\"#7201a8\"],[0.3333333333333333,\"#9c179e\"],[0.4444444444444444,\"#bd3786\"],[0.5555555555555556,\"#d8576b\"],[0.6666666666666666,\"#ed7953\"],[0.7777777777777778,\"#fb9f3a\"],[0.8888888888888888,\"#fdca26\"],[1.0,\"#f0f921\"]],\"diverging\":[[0,\"#8e0152\"],[0.1,\"#c51b7d\"],[0.2,\"#de77ae\"],[0.3,\"#f1b6da\"],[0.4,\"#fde0ef\"],[0.5,\"#f7f7f7\"],[0.6,\"#e6f5d0\"],[0.7,\"#b8e186\"],[0.8,\"#7fbc41\"],[0.9,\"#4d9221\"],[1,\"#276419\"]]},\"xaxis\":{\"gridcolor\":\"white\",\"linecolor\":\"white\",\"ticks\":\"\",\"title\":{\"standoff\":15},\"zerolinecolor\":\"white\",\"automargin\":true,\"zerolinewidth\":2},\"yaxis\":{\"gridcolor\":\"white\",\"linecolor\":\"white\",\"ticks\":\"\",\"title\":{\"standoff\":15},\"zerolinecolor\":\"white\",\"automargin\":true,\"zerolinewidth\":2},\"scene\":{\"xaxis\":{\"backgroundcolor\":\"#E5ECF6\",\"gridcolor\":\"white\",\"linecolor\":\"white\",\"showbackground\":true,\"ticks\":\"\",\"zerolinecolor\":\"white\",\"gridwidth\":2},\"yaxis\":{\"backgroundcolor\":\"#E5ECF6\",\"gridcolor\":\"white\",\"linecolor\":\"white\",\"showbackground\":true,\"ticks\":\"\",\"zerolinecolor\":\"white\",\"gridwidth\":2},\"zaxis\":{\"backgroundcolor\":\"#E5ECF6\",\"gridcolor\":\"white\",\"linecolor\":\"white\",\"showbackground\":true,\"ticks\":\"\",\"zerolinecolor\":\"white\",\"gridwidth\":2}},\"shapedefaults\":{\"line\":{\"color\":\"#2a3f5f\"}},\"annotationdefaults\":{\"arrowcolor\":\"#2a3f5f\",\"arrowhead\":0,\"arrowwidth\":1},\"geo\":{\"bgcolor\":\"white\",\"landcolor\":\"#E5ECF6\",\"subunitcolor\":\"white\",\"showland\":true,\"showlakes\":true,\"lakecolor\":\"white\"},\"title\":{\"x\":0.05},\"mapbox\":{\"style\":\"light\"}}},\"xaxis\":{\"anchor\":\"y\",\"domain\":[0.0,0.485],\"title\":{\"text\":\"\"},\"showticklabels\":false},\"yaxis\":{\"anchor\":\"x\",\"domain\":[0.0,1.0],\"title\":{\"text\":\"Cohort\"},\"ticks\":\"outside\",\"tickcolor\":\"white\"},\"xaxis2\":{\"anchor\":\"y2\",\"domain\":[0.515,1.0],\"matches\":\"x\",\"title\":{\"text\":\"\"},\"showticklabels\":false},\"yaxis2\":{\"anchor\":\"x2\",\"domain\":[0.0,1.0],\"matches\":\"y\",\"showticklabels\":false,\"ticks\":\"outside\",\"tickcolor\":\"white\"},\"annotations\":[{\"font\":{\"size\":24},\"showarrow\":false,\"text\":\"aFTLD-U\",\"x\":0.2425,\"xanchor\":\"left\",\"xref\":\"paper\",\"y\":1.0,\"yanchor\":\"bottom\",\"yref\":\"paper\"},{\"font\":{\"size\":24},\"showarrow\":false,\"text\":\"Controls\",\"x\":0.7575000000000001,\"xanchor\":\"left\",\"xref\":\"paper\",\"y\":1.0,\"yanchor\":\"bottom\",\"yref\":\"paper\"},{\"font\":{\"color\":\"white\",\"size\":16},\"showarrow\":false,\"text\":\"10\",\"x\":0.21739130434782608,\"xref\":\"x\",\"y\":\"Cohort 1\",\"yref\":\"y\"},{\"font\":{\"color\":\"white\",\"size\":16},\"showarrow\":false,\"text\":\"5\",\"x\":0.5434782608695652,\"xref\":\"x\",\"y\":\"Cohort 1\",\"yref\":\"y\"},{\"font\":{\"color\":\"white\",\"size\":16},\"showarrow\":false,\"text\":\"8\",\"x\":0.8260869565217391,\"xref\":\"x\",\"y\":\"Cohort 1\",\"yref\":\"y\"},{\"font\":{\"color\":\"black\",\"size\":16},\"showarrow\":false,\"text\":\"N=23\",\"x\":-0.1,\"xref\":\"x\",\"y\":\"Cohort 1\",\"yref\":\"y\"},{\"font\":{\"color\":\"white\",\"size\":16},\"showarrow\":false,\"text\":\"19\",\"x\":0.2638888888888889,\"xref\":\"x\",\"y\":\"Cohort 2\",\"yref\":\"y\"},{\"font\":{\"color\":\"white\",\"size\":16},\"showarrow\":false,\"text\":\"7\",\"x\":0.625,\"xref\":\"x\",\"y\":\"Cohort 2\",\"yref\":\"y\"},{\"font\":{\"color\":\"white\",\"size\":16},\"showarrow\":false,\"text\":\"10\",\"x\":0.8611111111111112,\"xref\":\"x\",\"y\":\"Cohort 2\",\"yref\":\"y\"},{\"font\":{\"color\":\"black\",\"size\":16},\"showarrow\":false,\"text\":\"N=36\",\"x\":-0.1,\"xref\":\"x\",\"y\":\"Cohort 2\",\"yref\":\"y\"},{\"font\":{\"color\":\"white\",\"size\":16},\"showarrow\":false,\"text\":\"29\",\"x\":0.2457627118644068,\"xref\":\"x\",\"y\":\"Cohort 1+2\",\"yref\":\"y\"},{\"font\":{\"color\":\"white\",\"size\":16},\"showarrow\":false,\"text\":\"12\",\"x\":0.5932203389830508,\"xref\":\"x\",\"y\":\"Cohort 1+2\",\"yref\":\"y\"},{\"font\":{\"color\":\"white\",\"size\":16},\"showarrow\":false,\"text\":\"18\",\"x\":0.8474576271186441,\"xref\":\"x\",\"y\":\"Cohort 1+2\",\"yref\":\"y\"},{\"font\":{\"color\":\"black\",\"size\":16},\"showarrow\":false,\"text\":\"N=59\",\"x\":-0.1,\"xref\":\"x\",\"y\":\"Cohort 1+2\",\"yref\":\"y\"},{\"font\":{\"color\":\"white\",\"size\":16},\"showarrow\":false,\"text\":\"9\",\"x\":0.16071428571428573,\"xref\":\"x\",\"y\":\"Cohort 3\",\"yref\":\"y\"},{\"font\":{\"color\":\"white\",\"size\":16},\"showarrow\":false,\"text\":\"1\",\"x\":0.3392857142857143,\"xref\":\"x\",\"y\":\"Cohort 3\",\"yref\":\"y\"},{\"font\":{\"color\":\"white\",\"size\":16},\"showarrow\":false,\"text\":\"18\",\"x\":0.6785714285714286,\"xref\":\"x\",\"y\":\"Cohort 3\",\"yref\":\"y\"},{\"font\":{\"color\":\"black\",\"size\":16},\"showarrow\":false,\"text\":\"N=28\",\"x\":-0.1,\"xref\":\"x\",\"y\":\"Cohort 3\",\"yref\":\"y\"},{\"font\":{\"color\":\"white\",\"size\":16},\"showarrow\":false,\"text\":\"38\",\"x\":0.21839080459770116,\"xref\":\"x\",\"y\":\"Cohort 1+2+3\",\"yref\":\"y\"},{\"font\":{\"color\":\"white\",\"size\":16},\"showarrow\":false,\"text\":\"13\",\"x\":0.5114942528735632,\"xref\":\"x\",\"y\":\"Cohort 1+2+3\",\"yref\":\"y\"},{\"font\":{\"color\":\"white\",\"size\":16},\"showarrow\":false,\"text\":\"36\",\"x\":0.7931034482758621,\"xref\":\"x\",\"y\":\"Cohort 1+2+3\",\"yref\":\"y\"},{\"font\":{\"color\":\"black\",\"size\":16},\"showarrow\":false,\"text\":\"N=87\",\"x\":-0.1,\"xref\":\"x\",\"y\":\"Cohort 1+2+3\",\"yref\":\"y\"},{\"arrowhead\":1,\"ax\":-20,\"ay\":-15,\"font\":{\"color\":\"black\",\"size\":16},\"showarrow\":true,\"text\":\"12\",\"x\":0.005494505494505495,\"xref\":\"x2\",\"y\":\"Cohort 1\",\"yref\":\"y2\",\"yshift\":0},{\"font\":{\"color\":\"white\",\"size\":16},\"showarrow\":false,\"text\":\"71\",\"textangle\":-60,\"x\":0.0434981684981685,\"xref\":\"x2\",\"y\":\"Cohort 1\",\"yref\":\"y2\"},{\"font\":{\"color\":\"white\",\"size\":16},\"showarrow\":false,\"text\":\"1009\",\"x\":0.5380036630036631,\"xref\":\"x2\",\"y\":\"Cohort 1\",\"yref\":\"y2\"},{\"font\":{\"color\":\"black\",\"size\":16},\"showarrow\":false,\"text\":\"N=1092\",\"x\":-0.16,\"xref\":\"x2\",\"y\":\"Cohort 1\",\"yref\":\"y2\"},{\"arrowhead\":1,\"ax\":-20,\"ay\":-15,\"font\":{\"color\":\"black\",\"size\":16},\"showarrow\":true,\"text\":\"32\",\"x\":0.00829445308449974,\"xref\":\"x2\",\"y\":\"Cohort 2\",\"yref\":\"y2\",\"yshift\":0},{\"font\":{\"color\":\"white\",\"size\":16},\"showarrow\":false,\"text\":\"102\",\"textangle\":-60,\"x\":0.04302747537584241,\"xref\":\"x2\",\"y\":\"Cohort 2\",\"yref\":\"y2\"},{\"font\":{\"color\":\"white\",\"size\":16},\"showarrow\":false,\"text\":\"1795\",\"x\":0.5347330222913427,\"xref\":\"x2\",\"y\":\"Cohort 2\",\"yref\":\"y2\"},{\"font\":{\"color\":\"black\",\"size\":16},\"showarrow\":false,\"text\":\"N=1929\",\"x\":-0.16,\"xref\":\"x2\",\"y\":\"Cohort 2\",\"yref\":\"y2\"},{\"arrowhead\":1,\"ax\":-20,\"ay\":-15,\"font\":{\"color\":\"black\",\"size\":16},\"showarrow\":true,\"text\":\"44\",\"x\":0.007282356835484938,\"xref\":\"x2\",\"y\":\"Cohort 1+2\",\"yref\":\"y2\",\"yshift\":0},{\"font\":{\"color\":\"white\",\"size\":16},\"showarrow\":false,\"text\":\"173\",\"textangle\":-60,\"x\":0.04319761668321748,\"xref\":\"x2\",\"y\":\"Cohort 1+2\",\"yref\":\"y2\"},{\"font\":{\"color\":\"white\",\"size\":16},\"showarrow\":false,\"text\":\"2804\",\"x\":0.5359152598477326,\"xref\":\"x2\",\"y\":\"Cohort 1+2\",\"yref\":\"y2\"},{\"font\":{\"color\":\"black\",\"size\":16},\"showarrow\":false,\"text\":\"N=3021\",\"x\":-0.16,\"xref\":\"x2\",\"y\":\"Cohort 1+2\",\"yref\":\"y2\"},{\"arrowhead\":1,\"ax\":-20,\"ay\":-15,\"font\":{\"color\":\"black\",\"size\":16},\"showarrow\":true,\"text\":\"16\",\"x\":0.007984031936127744,\"xref\":\"x2\",\"y\":\"Cohort 3\",\"yref\":\"y2\",\"yshift\":0},{\"font\":{\"color\":\"white\",\"size\":16},\"showarrow\":false,\"text\":\"60\",\"textangle\":-60,\"x\":0.04590818363273453,\"xref\":\"x2\",\"y\":\"Cohort 3\",\"yref\":\"y2\"},{\"font\":{\"color\":\"white\",\"size\":16},\"showarrow\":false,\"text\":\"926\",\"x\":0.5379241516966068,\"xref\":\"x2\",\"y\":\"Cohort 3\",\"yref\":\"y2\"},{\"font\":{\"color\":\"black\",\"size\":16},\"showarrow\":false,\"text\":\"N=1002\",\"x\":-0.16,\"xref\":\"x2\",\"y\":\"Cohort 3\",\"yref\":\"y2\"},{\"arrowhead\":1,\"ax\":-20,\"ay\":-15,\"font\":{\"color\":\"black\",\"size\":16},\"showarrow\":true,\"text\":\"60\",\"x\":0.007457121551081283,\"xref\":\"x2\",\"y\":\"Cohort 1+2+3\",\"yref\":\"y2\",\"yshift\":0},{\"font\":{\"color\":\"white\",\"size\":16},\"showarrow\":false,\"text\":\"233\",\"textangle\":-60,\"x\":0.04387273179219488,\"xref\":\"x2\",\"y\":\"Cohort 1+2+3\",\"yref\":\"y2\"},{\"font\":{\"color\":\"white\",\"size\":16},\"showarrow\":false,\"text\":\"3730\",\"x\":0.5364156102411136,\"xref\":\"x2\",\"y\":\"Cohort 1+2+3\",\"yref\":\"y2\"},{\"font\":{\"color\":\"black\",\"size\":16},\"showarrow\":false,\"text\":\"N=4023\",\"x\":-0.16,\"xref\":\"x2\",\"y\":\"Cohort 1+2+3\",\"yref\":\"y2\"}],\"legend\":{\"title\":{\"text\":\"Carrier frequency\"},\"tracegroupgap\":0,\"orientation\":\"h\",\"yanchor\":\"bottom\",\"y\":-0.15,\"xanchor\":\"center\",\"x\":0.5},\"margin\":{\"t\":60,\"l\":0,\"r\":0,\"b\":0},\"barmode\":\"relative\",\"title\":{\"text\":\"\",\"x\":0.5},\"font\":{\"size\":16},\"plot_bgcolor\":\"white\"},                        {\"responsive\": true}                    ).then(function(){\n",
       "                            \n",
       "var gd = document.getElementById('81325174-4cf2-4069-a578-93a391b93160');\n",
       "var x = new MutationObserver(function (mutations, observer) {{\n",
       "        var display = window.getComputedStyle(gd).display;\n",
       "        if (!display || display === 'none') {{\n",
       "            console.log([gd, 'removed!']);\n",
       "            Plotly.purge(gd);\n",
       "            observer.disconnect();\n",
       "        }}\n",
       "}});\n",
       "\n",
       "// Listen for the removal of the full notebook cells\n",
       "var notebookContainer = gd.closest('#notebook-container');\n",
       "if (notebookContainer) {{\n",
       "    x.observe(notebookContainer, {childList: true});\n",
       "}}\n",
       "\n",
       "// Listen for the clearing of the current output cell\n",
       "var outputEl = gd.closest('.output');\n",
       "if (outputEl) {{\n",
       "    x.observe(outputEl, {childList: true});\n",
       "}}\n",
       "\n",
       "                        })                };                });            </script>        </div>"
      ]
     },
     "metadata": {},
     "output_type": "display_data"
    }
   ],
   "source": [
    "fig = px.bar(pats,\n",
    "             x=\"value\", y=\"cohort\", color=\"variable\", orientation=\"h\", \n",
    "             color_discrete_map={\"hapA\": \"red\", \"hapB\": \"orange\", \"none\": \"green\"},\n",
    "             labels={\"value\": \"Proportion\", \"variable\": \"Haplotype\", \"cohort\": \"Cohort\"},\n",
    "             facet_col=\"phenotype\",\n",
    "             facet_col_spacing=0.03,\n",
    "             )\n",
    "fig.for_each_annotation(lambda a: a.update(text=a.text.split(\"=\")[-1], font=dict(size=24), xanchor=\"left\"))\n",
    "\n",
    "fig.update_layout(\n",
    "    title=\"\",\n",
    "    xaxis_title=\"\",\n",
    "    xaxis2_title=\"\",\n",
    "    yaxis_title=\"Cohort\",\n",
    "    title_x=0.5,\n",
    "    plot_bgcolor=\"white\",\n",
    "    font=dict(size=16),\n",
    "    margin=dict(l=0, r=0, b=0),\n",
    ") \n",
    "\n",
    "# put the legend horizontal, centered, below the plotting area\n",
    "fig.update_layout(\n",
    "    legend=dict(\n",
    "        orientation=\"h\",\n",
    "        yanchor=\"bottom\",\n",
    "        y=-0.15,\n",
    "        xanchor=\"center\",\n",
    "        x=0.5,\n",
    "        title=\"Carrier frequency\",\n",
    "    )\n",
    ")\n",
    "\n",
    "# hide x-axis labels\n",
    "fig.update_xaxes(showticklabels=False)\n",
    "fig.update_yaxes(\n",
    "    ticks=\"outside\",\n",
    "    tickcolor=\"white\",  # adjust color of the tick\n",
    ")\n",
    "\n",
    "pats_vals = df[df[\"phenotype\"] == \"aFTLD-U\"].copy()\n",
    "pats_vals[\"hapA_loc\"] = pats_vals[\"hapA_f\"] / 2  # center of hapA block\n",
    "pats_vals[\"hapB_loc\"] = (\n",
    "    pats_vals[\"hapA_f\"] + pats_vals[\"hapB_f\"] / 2\n",
    ")  # center of hapB block\n",
    "pats_vals[\"none_loc\"] = (\n",
    "    pats_vals[\"hapA_f\"] + pats_vals[\"hapB_f\"] + pats_vals[\"none_f\"] / 2\n",
    ")  # center of none block\n",
    "\n",
    "for i, row in pats_vals.iterrows():\n",
    "    fig.add_annotation(\n",
    "        x=row[\"hapA_loc\"],\n",
    "        y=row[\"cohort\"],\n",
    "        text=f\"{row['hapA']}\",\n",
    "        showarrow=False,\n",
    "        font=dict(color=\"white\", size=16),\n",
    "        col=1, row=1\n",
    "    )\n",
    "    fig.add_annotation(\n",
    "        x=row[\"hapB_loc\"],\n",
    "        y=row[\"cohort\"],\n",
    "        text=f\"{row['hapB']}\",\n",
    "        showarrow=False,\n",
    "        font=dict(color=\"white\", size=16),\n",
    "        col=1, row=1\n",
    "    )\n",
    "    fig.add_annotation(\n",
    "        x=row[\"none_loc\"],\n",
    "        y=row[\"cohort\"],\n",
    "        text=f\"{row['none']}\",\n",
    "        showarrow=False,\n",
    "        font=dict(color=\"white\", size = 16),\n",
    "        col=1, row=1\n",
    "    )\n",
    "\n",
    "    fig.add_annotation(\n",
    "        x=-0.1,\n",
    "        y=row[\"cohort\"],\n",
    "        text=f\"N={row['sum']}\",\n",
    "        font=dict(color=\"black\", size=16),\n",
    "        col=1, row=1,\n",
    "        showarrow=False,\n",
    "    )\n",
    "\n",
    "con_vals = df[df[\"phenotype\"] == \"Controls\"].copy()\n",
    "con_vals[\"hapA_loc\"] = con_vals[\"hapA_f\"] / 2  # center of hapA block\n",
    "con_vals[\"hapB_loc\"] = (\n",
    "    con_vals[\"hapA_f\"] + con_vals[\"hapB_f\"] / 2\n",
    ")  # center of hapB block\n",
    "con_vals[\"none_loc\"] = (\n",
    "    con_vals[\"hapA_f\"] + con_vals[\"hapB_f\"] + con_vals[\"none_f\"] / 2\n",
    ")  # center of none block\n",
    "\n",
    "for i, row in con_vals.iterrows():\n",
    "    fig.add_annotation(\n",
    "        x=row[\"hapA_loc\"],\n",
    "        y=row[\"cohort\"],\n",
    "        text=f\"{row['hapA']}\",\n",
    "        showarrow=True,\n",
    "        arrowhead=1,\n",
    "        font=dict(color=\"black\", size=16),\n",
    "        yshift=0,\n",
    "        ax=-20,\n",
    "        ay=-15,\n",
    "        col=2, row=1\n",
    "    )\n",
    "    fig.add_annotation(\n",
    "        x=row[\"hapB_loc\"],\n",
    "        y=row[\"cohort\"],\n",
    "        text=f\"{row['hapB']}\",\n",
    "        showarrow=False,\n",
    "        font=dict(color=\"white\", size=16),\n",
    "        textangle=-60, \n",
    "        col=2, row=1\n",
    "    )\n",
    "    fig.add_annotation(\n",
    "        x=row[\"none_loc\"],\n",
    "        y=row[\"cohort\"],\n",
    "        text=f\"{row['none']}\",\n",
    "        showarrow=False,\n",
    "        font=dict(color=\"white\", size=16),\n",
    "        col=2, row=1\n",
    "    )\n",
    "\n",
    "    fig.add_annotation(\n",
    "        x=-0.16,\n",
    "        y=row[\"cohort\"],\n",
    "        text=f\"N={row['sum']}\",\n",
    "        font=dict(color=\"black\", size=16),\n",
    "        col=2, row=1,\n",
    "        showarrow=False,\n",
    "    )\n",
    "\n",
    "\n",
    "\n",
    "fig.show()"
   ]
  },
  {
   "cell_type": "code",
   "execution_count": null,
   "metadata": {},
   "outputs": [],
   "source": []
  }
 ],
 "metadata": {
  "kernelspec": {
   "display_name": "data-analysis",
   "language": "python",
   "name": "python3"
  },
  "language_info": {
   "codemirror_mode": {
    "name": "ipython",
    "version": 3
   },
   "file_extension": ".py",
   "mimetype": "text/x-python",
   "name": "python",
   "nbconvert_exporter": "python",
   "pygments_lexer": "ipython3",
   "version": "3.10.10"
  }
 },
 "nbformat": 4,
 "nbformat_minor": 2
}
