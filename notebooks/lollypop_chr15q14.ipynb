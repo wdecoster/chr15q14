{
 "cells": [
  {
   "cell_type": "code",
   "execution_count": 1,
   "metadata": {},
   "outputs": [],
   "source": [
    "import plotly.graph_objects as go"
   ]
  },
  {
   "cell_type": "code",
   "execution_count": 7,
   "metadata": {},
   "outputs": [
    {
     "name": "stdout",
     "output_type": "stream",
     "text": [
      "Note: you may need to restart the kernel to use updated packages.\n"
     ]
    },
    {
     "name": "stderr",
     "output_type": "stream",
     "text": [
      "WARNING: You are using pip version 22.0.4; however, version 24.2 is available.\n",
      "You should consider upgrading via the 'C:\\Users\\wdecoster\\AppData\\Local\\Microsoft\\WindowsApps\\PythonSoftwareFoundation.Python.3.9_qbz5n2kfra8p0\\python.exe -m pip install --upgrade pip' command.\n"
     ]
    }
   ],
   "source": [
    "%pip install nbformat>=4.2.0"
   ]
  },
  {
   "cell_type": "code",
   "execution_count": 8,
   "metadata": {},
   "outputs": [
    {
     "data": {
      "application/vnd.plotly.v1+json": {
       "config": {
        "plotlyServerURL": "https://plot.ly"
       },
       "data": [
        {
         "line": {
          "color": "black"
         },
         "marker": {
          "size": 10,
          "symbol": "arrow-left"
         },
         "mode": "lines+markers",
         "name": "GOLGA8A",
         "type": "scatter",
         "x": [
          34379068,
          34393753,
          34408438,
          34423123,
          34437808
         ],
         "y": [
          0,
          0,
          0,
          0,
          0
         ]
        },
        {
         "line": {
          "color": "black"
         },
         "marker": {
          "size": 10,
          "symbol": "arrow-left"
         },
         "mode": "lines+markers",
         "name": "GOLGA8B",
         "type": "scatter",
         "x": [
          34525095,
          34539734,
          34554373,
          34569012,
          34583651
         ],
         "y": [
          0,
          0,
          0,
          0,
          0
         ]
        },
        {
         "line": {
          "color": "red",
          "width": 5
         },
         "mode": "lines",
         "name": "deletion",
         "type": "scatter",
         "x": [
          34416680,
          34568563
         ],
         "y": [
          -5,
          -5
         ]
        },
        {
         "line": {
          "color": "orange"
         },
         "marker": {
          "size": 8,
          "symbol": "triangle-left"
         },
         "mode": "lines+markers",
         "name": "segmental duplication",
         "type": "scatter",
         "x": [
          34378802,
          34381754.45,
          34384706.9,
          34387659.35,
          34390611.8,
          34393564.25,
          34396516.7,
          34399469.15,
          34402421.6,
          34405374.05,
          34408326.5,
          34411278.95,
          34414231.4,
          34417183.85,
          34420136.3,
          34423088.75,
          34426041.2,
          34428993.65,
          34431946.1,
          34434898.55,
          34437851
         ],
         "y": [
          -3,
          -3,
          -3,
          -3,
          -3,
          -3,
          -3,
          -3,
          -3,
          -3,
          -3,
          -3,
          -3,
          -3,
          -3,
          -3,
          -3,
          -3,
          -3,
          -3,
          -3
         ]
        },
        {
         "line": {
          "color": "orange"
         },
         "marker": {
          "size": 8,
          "symbol": "triangle-left"
         },
         "mode": "lines+markers",
         "name": "segmental duplication",
         "type": "scatter",
         "x": [
          34525014,
          34527948.15,
          34530882.3,
          34533816.45,
          34536750.6,
          34539684.75,
          34542618.9,
          34545553.05,
          34548487.2,
          34551421.35,
          34554355.5,
          34557289.65,
          34560223.8,
          34563157.95,
          34566092.1,
          34569026.25,
          34571960.4,
          34574894.55,
          34577828.7,
          34580762.85,
          34583697
         ],
         "y": [
          -3,
          -3,
          -3,
          -3,
          -3,
          -3,
          -3,
          -3,
          -3,
          -3,
          -3,
          -3,
          -3,
          -3,
          -3,
          -3,
          -3,
          -3,
          -3,
          -3,
          -3
         ]
        },
        {
         "line": {
          "color": "black"
         },
         "mode": "lines",
         "name": "TTTTT>TTTT",
         "type": "scatter",
         "x": [
          34612468,
          34612468
         ],
         "y": [
          20.5,
          23.5
         ]
        },
        {
         "line": {
          "color": "black"
         },
         "mode": "lines",
         "name": "T>C",
         "type": "scatter",
         "x": [
          34426625,
          34426625
         ],
         "y": [
          15.5,
          23.5
         ]
        },
        {
         "line": {
          "color": "black",
          "dash": "dash"
         },
         "mode": "lines",
         "name": "Haplotype A",
         "type": "scatter",
         "x": [
          34359068,
          34622468
         ],
         "y": [
          20.5,
          20.5
         ]
        },
        {
         "line": {
          "color": "black",
          "dash": "dash"
         },
         "mode": "lines",
         "name": "Haplotype B",
         "type": "scatter",
         "x": [
          34359068,
          34622468
         ],
         "y": [
          15.5,
          15.5
         ]
        },
        {
         "line": {
          "color": "purple",
          "width": 10
         },
         "marker": {
          "size": 10,
          "symbol": "x"
         },
         "mode": "lines+markers",
         "name": "CT-rich expansion",
         "type": "scatter",
         "x": [
          34418925,
          34419925
         ],
         "y": [
          20.5,
          20.5
         ]
        },
        {
         "line": {
          "color": "purple",
          "width": 10
         },
         "marker": {
          "size": 10,
          "symbol": "x"
         },
         "mode": "lines+markers",
         "name": "CT-rich expansion",
         "type": "scatter",
         "x": [
          34418925,
          34419925
         ],
         "y": [
          15.5,
          15.5
         ]
        },
        {
         "line": {
          "color": "deeppink",
          "width": 10
         },
         "marker": {
          "size": 10,
          "symbol": "x"
         },
         "mode": "lines+markers",
         "name": "CCTT-rich expansion",
         "type": "scatter",
         "x": [
          34418925,
          34419925
         ],
         "y": [
          10.5,
          10.5
         ]
        },
        {
         "line": {
          "color": "black",
          "dash": "dash"
         },
         "mode": "lines",
         "name": "no association",
         "type": "scatter",
         "x": [
          34359068,
          34622468
         ],
         "y": [
          10.5,
          10.5
         ]
        },
        {
         "line": {
          "color": "black",
          "dash": "dash"
         },
         "mode": "lines",
         "name": "no association",
         "type": "scatter",
         "x": [
          34359068,
          34622468
         ],
         "y": [
          5.5,
          5.5
         ]
        }
       ],
       "layout": {
        "annotations": [
         {
          "font": {
           "color": "black",
           "size": 14
          },
          "showarrow": false,
          "text": "GOLGA8A",
          "x": 34408438,
          "y": 1,
          "yshift": 10
         },
         {
          "font": {
           "color": "black",
           "size": 14
          },
          "showarrow": false,
          "text": "GOLGA8B",
          "x": 34554373,
          "y": 1,
          "yshift": 10
         },
         {
          "font": {
           "color": "black",
           "size": 14
          },
          "showarrow": false,
          "text": "rs549846383<br>TTTTT>TTTT",
          "x": 34612468,
          "y": 24.5,
          "yshift": 10
         },
         {
          "font": {
           "color": "black",
           "size": 14
          },
          "showarrow": false,
          "text": "Haplotype A:",
          "x": 34334068,
          "y": 20.5
         },
         {
          "font": {
           "color": "black",
           "size": 14
          },
          "showarrow": false,
          "text": "rs148687709<br>T>C",
          "x": 34426625,
          "y": 24.5,
          "yshift": 10
         },
         {
          "font": {
           "color": "black",
           "size": 14
          },
          "showarrow": false,
          "text": "Haplotype B:",
          "x": 34334068,
          "y": 15.5
         },
         {
          "font": {
           "color": "black",
           "size": 14
          },
          "showarrow": false,
          "text": "no assocation:",
          "x": 34334068,
          "y": 10.5
         },
         {
          "font": {
           "color": "black",
           "size": 14
          },
          "showarrow": false,
          "text": "no association:",
          "x": 34334068,
          "y": 5.5
         },
         {
          "font": {
           "color": "black",
           "size": 14
          },
          "showarrow": false,
          "text": "(CT)<sub>n</sub>",
          "x": 34418425,
          "y": 21,
          "yshift": 10
         },
         {
          "font": {
           "color": "black",
           "size": 14
          },
          "showarrow": false,
          "text": "(CT)<sub>n</sub>",
          "x": 34418925,
          "y": 16,
          "yshift": 10
         },
         {
          "font": {
           "color": "black",
           "size": 14
          },
          "showarrow": false,
          "text": "(CCTT)<sub>n</sub>",
          "x": 34418925,
          "y": 11,
          "yshift": 10
         },
         {
          "font": {
           "color": "red",
           "size": 14
          },
          "showarrow": false,
          "text": "Deletion [HPRC]",
          "x": 34492621.5,
          "y": -5,
          "yshift": -10
         }
        ],
        "font": {
         "size": 16
        },
        "plot_bgcolor": "white",
        "showlegend": false,
        "template": {
         "data": {
          "bar": [
           {
            "error_x": {
             "color": "#2a3f5f"
            },
            "error_y": {
             "color": "#2a3f5f"
            },
            "marker": {
             "line": {
              "color": "#E5ECF6",
              "width": 0.5
             },
             "pattern": {
              "fillmode": "overlay",
              "size": 10,
              "solidity": 0.2
             }
            },
            "type": "bar"
           }
          ],
          "barpolar": [
           {
            "marker": {
             "line": {
              "color": "#E5ECF6",
              "width": 0.5
             },
             "pattern": {
              "fillmode": "overlay",
              "size": 10,
              "solidity": 0.2
             }
            },
            "type": "barpolar"
           }
          ],
          "carpet": [
           {
            "aaxis": {
             "endlinecolor": "#2a3f5f",
             "gridcolor": "white",
             "linecolor": "white",
             "minorgridcolor": "white",
             "startlinecolor": "#2a3f5f"
            },
            "baxis": {
             "endlinecolor": "#2a3f5f",
             "gridcolor": "white",
             "linecolor": "white",
             "minorgridcolor": "white",
             "startlinecolor": "#2a3f5f"
            },
            "type": "carpet"
           }
          ],
          "choropleth": [
           {
            "colorbar": {
             "outlinewidth": 0,
             "ticks": ""
            },
            "type": "choropleth"
           }
          ],
          "contour": [
           {
            "colorbar": {
             "outlinewidth": 0,
             "ticks": ""
            },
            "colorscale": [
             [
              0,
              "#0d0887"
             ],
             [
              0.1111111111111111,
              "#46039f"
             ],
             [
              0.2222222222222222,
              "#7201a8"
             ],
             [
              0.3333333333333333,
              "#9c179e"
             ],
             [
              0.4444444444444444,
              "#bd3786"
             ],
             [
              0.5555555555555556,
              "#d8576b"
             ],
             [
              0.6666666666666666,
              "#ed7953"
             ],
             [
              0.7777777777777778,
              "#fb9f3a"
             ],
             [
              0.8888888888888888,
              "#fdca26"
             ],
             [
              1,
              "#f0f921"
             ]
            ],
            "type": "contour"
           }
          ],
          "contourcarpet": [
           {
            "colorbar": {
             "outlinewidth": 0,
             "ticks": ""
            },
            "type": "contourcarpet"
           }
          ],
          "heatmap": [
           {
            "colorbar": {
             "outlinewidth": 0,
             "ticks": ""
            },
            "colorscale": [
             [
              0,
              "#0d0887"
             ],
             [
              0.1111111111111111,
              "#46039f"
             ],
             [
              0.2222222222222222,
              "#7201a8"
             ],
             [
              0.3333333333333333,
              "#9c179e"
             ],
             [
              0.4444444444444444,
              "#bd3786"
             ],
             [
              0.5555555555555556,
              "#d8576b"
             ],
             [
              0.6666666666666666,
              "#ed7953"
             ],
             [
              0.7777777777777778,
              "#fb9f3a"
             ],
             [
              0.8888888888888888,
              "#fdca26"
             ],
             [
              1,
              "#f0f921"
             ]
            ],
            "type": "heatmap"
           }
          ],
          "heatmapgl": [
           {
            "colorbar": {
             "outlinewidth": 0,
             "ticks": ""
            },
            "colorscale": [
             [
              0,
              "#0d0887"
             ],
             [
              0.1111111111111111,
              "#46039f"
             ],
             [
              0.2222222222222222,
              "#7201a8"
             ],
             [
              0.3333333333333333,
              "#9c179e"
             ],
             [
              0.4444444444444444,
              "#bd3786"
             ],
             [
              0.5555555555555556,
              "#d8576b"
             ],
             [
              0.6666666666666666,
              "#ed7953"
             ],
             [
              0.7777777777777778,
              "#fb9f3a"
             ],
             [
              0.8888888888888888,
              "#fdca26"
             ],
             [
              1,
              "#f0f921"
             ]
            ],
            "type": "heatmapgl"
           }
          ],
          "histogram": [
           {
            "marker": {
             "pattern": {
              "fillmode": "overlay",
              "size": 10,
              "solidity": 0.2
             }
            },
            "type": "histogram"
           }
          ],
          "histogram2d": [
           {
            "colorbar": {
             "outlinewidth": 0,
             "ticks": ""
            },
            "colorscale": [
             [
              0,
              "#0d0887"
             ],
             [
              0.1111111111111111,
              "#46039f"
             ],
             [
              0.2222222222222222,
              "#7201a8"
             ],
             [
              0.3333333333333333,
              "#9c179e"
             ],
             [
              0.4444444444444444,
              "#bd3786"
             ],
             [
              0.5555555555555556,
              "#d8576b"
             ],
             [
              0.6666666666666666,
              "#ed7953"
             ],
             [
              0.7777777777777778,
              "#fb9f3a"
             ],
             [
              0.8888888888888888,
              "#fdca26"
             ],
             [
              1,
              "#f0f921"
             ]
            ],
            "type": "histogram2d"
           }
          ],
          "histogram2dcontour": [
           {
            "colorbar": {
             "outlinewidth": 0,
             "ticks": ""
            },
            "colorscale": [
             [
              0,
              "#0d0887"
             ],
             [
              0.1111111111111111,
              "#46039f"
             ],
             [
              0.2222222222222222,
              "#7201a8"
             ],
             [
              0.3333333333333333,
              "#9c179e"
             ],
             [
              0.4444444444444444,
              "#bd3786"
             ],
             [
              0.5555555555555556,
              "#d8576b"
             ],
             [
              0.6666666666666666,
              "#ed7953"
             ],
             [
              0.7777777777777778,
              "#fb9f3a"
             ],
             [
              0.8888888888888888,
              "#fdca26"
             ],
             [
              1,
              "#f0f921"
             ]
            ],
            "type": "histogram2dcontour"
           }
          ],
          "mesh3d": [
           {
            "colorbar": {
             "outlinewidth": 0,
             "ticks": ""
            },
            "type": "mesh3d"
           }
          ],
          "parcoords": [
           {
            "line": {
             "colorbar": {
              "outlinewidth": 0,
              "ticks": ""
             }
            },
            "type": "parcoords"
           }
          ],
          "pie": [
           {
            "automargin": true,
            "type": "pie"
           }
          ],
          "scatter": [
           {
            "fillpattern": {
             "fillmode": "overlay",
             "size": 10,
             "solidity": 0.2
            },
            "type": "scatter"
           }
          ],
          "scatter3d": [
           {
            "line": {
             "colorbar": {
              "outlinewidth": 0,
              "ticks": ""
             }
            },
            "marker": {
             "colorbar": {
              "outlinewidth": 0,
              "ticks": ""
             }
            },
            "type": "scatter3d"
           }
          ],
          "scattercarpet": [
           {
            "marker": {
             "colorbar": {
              "outlinewidth": 0,
              "ticks": ""
             }
            },
            "type": "scattercarpet"
           }
          ],
          "scattergeo": [
           {
            "marker": {
             "colorbar": {
              "outlinewidth": 0,
              "ticks": ""
             }
            },
            "type": "scattergeo"
           }
          ],
          "scattergl": [
           {
            "marker": {
             "colorbar": {
              "outlinewidth": 0,
              "ticks": ""
             }
            },
            "type": "scattergl"
           }
          ],
          "scattermapbox": [
           {
            "marker": {
             "colorbar": {
              "outlinewidth": 0,
              "ticks": ""
             }
            },
            "type": "scattermapbox"
           }
          ],
          "scatterpolar": [
           {
            "marker": {
             "colorbar": {
              "outlinewidth": 0,
              "ticks": ""
             }
            },
            "type": "scatterpolar"
           }
          ],
          "scatterpolargl": [
           {
            "marker": {
             "colorbar": {
              "outlinewidth": 0,
              "ticks": ""
             }
            },
            "type": "scatterpolargl"
           }
          ],
          "scatterternary": [
           {
            "marker": {
             "colorbar": {
              "outlinewidth": 0,
              "ticks": ""
             }
            },
            "type": "scatterternary"
           }
          ],
          "surface": [
           {
            "colorbar": {
             "outlinewidth": 0,
             "ticks": ""
            },
            "colorscale": [
             [
              0,
              "#0d0887"
             ],
             [
              0.1111111111111111,
              "#46039f"
             ],
             [
              0.2222222222222222,
              "#7201a8"
             ],
             [
              0.3333333333333333,
              "#9c179e"
             ],
             [
              0.4444444444444444,
              "#bd3786"
             ],
             [
              0.5555555555555556,
              "#d8576b"
             ],
             [
              0.6666666666666666,
              "#ed7953"
             ],
             [
              0.7777777777777778,
              "#fb9f3a"
             ],
             [
              0.8888888888888888,
              "#fdca26"
             ],
             [
              1,
              "#f0f921"
             ]
            ],
            "type": "surface"
           }
          ],
          "table": [
           {
            "cells": {
             "fill": {
              "color": "#EBF0F8"
             },
             "line": {
              "color": "white"
             }
            },
            "header": {
             "fill": {
              "color": "#C8D4E3"
             },
             "line": {
              "color": "white"
             }
            },
            "type": "table"
           }
          ]
         },
         "layout": {
          "annotationdefaults": {
           "arrowcolor": "#2a3f5f",
           "arrowhead": 0,
           "arrowwidth": 1
          },
          "autotypenumbers": "strict",
          "coloraxis": {
           "colorbar": {
            "outlinewidth": 0,
            "ticks": ""
           }
          },
          "colorscale": {
           "diverging": [
            [
             0,
             "#8e0152"
            ],
            [
             0.1,
             "#c51b7d"
            ],
            [
             0.2,
             "#de77ae"
            ],
            [
             0.3,
             "#f1b6da"
            ],
            [
             0.4,
             "#fde0ef"
            ],
            [
             0.5,
             "#f7f7f7"
            ],
            [
             0.6,
             "#e6f5d0"
            ],
            [
             0.7,
             "#b8e186"
            ],
            [
             0.8,
             "#7fbc41"
            ],
            [
             0.9,
             "#4d9221"
            ],
            [
             1,
             "#276419"
            ]
           ],
           "sequential": [
            [
             0,
             "#0d0887"
            ],
            [
             0.1111111111111111,
             "#46039f"
            ],
            [
             0.2222222222222222,
             "#7201a8"
            ],
            [
             0.3333333333333333,
             "#9c179e"
            ],
            [
             0.4444444444444444,
             "#bd3786"
            ],
            [
             0.5555555555555556,
             "#d8576b"
            ],
            [
             0.6666666666666666,
             "#ed7953"
            ],
            [
             0.7777777777777778,
             "#fb9f3a"
            ],
            [
             0.8888888888888888,
             "#fdca26"
            ],
            [
             1,
             "#f0f921"
            ]
           ],
           "sequentialminus": [
            [
             0,
             "#0d0887"
            ],
            [
             0.1111111111111111,
             "#46039f"
            ],
            [
             0.2222222222222222,
             "#7201a8"
            ],
            [
             0.3333333333333333,
             "#9c179e"
            ],
            [
             0.4444444444444444,
             "#bd3786"
            ],
            [
             0.5555555555555556,
             "#d8576b"
            ],
            [
             0.6666666666666666,
             "#ed7953"
            ],
            [
             0.7777777777777778,
             "#fb9f3a"
            ],
            [
             0.8888888888888888,
             "#fdca26"
            ],
            [
             1,
             "#f0f921"
            ]
           ]
          },
          "colorway": [
           "#636efa",
           "#EF553B",
           "#00cc96",
           "#ab63fa",
           "#FFA15A",
           "#19d3f3",
           "#FF6692",
           "#B6E880",
           "#FF97FF",
           "#FECB52"
          ],
          "font": {
           "color": "#2a3f5f"
          },
          "geo": {
           "bgcolor": "white",
           "lakecolor": "white",
           "landcolor": "#E5ECF6",
           "showlakes": true,
           "showland": true,
           "subunitcolor": "white"
          },
          "hoverlabel": {
           "align": "left"
          },
          "hovermode": "closest",
          "mapbox": {
           "style": "light"
          },
          "paper_bgcolor": "white",
          "plot_bgcolor": "#E5ECF6",
          "polar": {
           "angularaxis": {
            "gridcolor": "white",
            "linecolor": "white",
            "ticks": ""
           },
           "bgcolor": "#E5ECF6",
           "radialaxis": {
            "gridcolor": "white",
            "linecolor": "white",
            "ticks": ""
           }
          },
          "scene": {
           "xaxis": {
            "backgroundcolor": "#E5ECF6",
            "gridcolor": "white",
            "gridwidth": 2,
            "linecolor": "white",
            "showbackground": true,
            "ticks": "",
            "zerolinecolor": "white"
           },
           "yaxis": {
            "backgroundcolor": "#E5ECF6",
            "gridcolor": "white",
            "gridwidth": 2,
            "linecolor": "white",
            "showbackground": true,
            "ticks": "",
            "zerolinecolor": "white"
           },
           "zaxis": {
            "backgroundcolor": "#E5ECF6",
            "gridcolor": "white",
            "gridwidth": 2,
            "linecolor": "white",
            "showbackground": true,
            "ticks": "",
            "zerolinecolor": "white"
           }
          },
          "shapedefaults": {
           "line": {
            "color": "#2a3f5f"
           }
          },
          "ternary": {
           "aaxis": {
            "gridcolor": "white",
            "linecolor": "white",
            "ticks": ""
           },
           "baxis": {
            "gridcolor": "white",
            "linecolor": "white",
            "ticks": ""
           },
           "bgcolor": "#E5ECF6",
           "caxis": {
            "gridcolor": "white",
            "linecolor": "white",
            "ticks": ""
           }
          },
          "title": {
           "x": 0.05
          },
          "xaxis": {
           "automargin": true,
           "gridcolor": "white",
           "linecolor": "white",
           "ticks": "",
           "title": {
            "standoff": 15
           },
           "zerolinecolor": "white",
           "zerolinewidth": 2
          },
          "yaxis": {
           "automargin": true,
           "gridcolor": "white",
           "linecolor": "white",
           "ticks": "",
           "title": {
            "standoff": 15
           },
           "zerolinecolor": "white",
           "zerolinewidth": 2
          }
         }
        },
        "title": {
         "text": "Overview of the chr15q14 associated locus"
        },
        "width": 1000,
        "xaxis": {
         "range": [
          34329068,
          34622468
         ],
         "title": {
          "text": "chromosome 15 position (bp)"
         }
        },
        "yaxis": {
         "range": [
          -10,
          25.5
         ],
         "showticklabels": false
        }
       }
      }
     },
     "metadata": {},
     "output_type": "display_data"
    }
   ],
   "source": [
    "# make several lines of a lolly pop plot of the chr15q14 locus, showing the location of the GOLGA8A and GOLGA8B genes, as well as the major and minor haplotypes and repeat expansion\n",
    "# the major haplotype has both variants and the CT-rich expansion\n",
    "# the minor haplotype has just the minor variant and the CT-rich expansion\n",
    "# also include a haplotype without any variants but with a CCTT expansion\n",
    "# and a haplotype without any variants without an expansion\n",
    "major_variant = \"TTTTT>TTTT\"\n",
    "major_haplotype_tag = 34612468\n",
    "minor_variant = \"T>C\"\n",
    "minor_haplotype_tag = 34426625\n",
    "\n",
    "golga8a_left = 34379068\n",
    "golga8a_right = 34437808\n",
    "golga8a_length = golga8a_right - golga8a_left\n",
    "golga8b_left = 34525095\n",
    "golga8b_right = 34583651\n",
    "golga8b_length = golga8b_right - golga8b_left\n",
    "\n",
    "segdup_a = [34378802, 34437851]\n",
    "segdup_b = [34525014, 34583697]\n",
    "\n",
    "deletion = [34416680, 34568563]\n",
    "\n",
    "repeat_expansion = 34419425\n",
    "\n",
    "left = golga8a_left - 20000\n",
    "right = major_haplotype_tag + 10000\n",
    "\n",
    "height_major = 20.5\n",
    "height_minor = 15.5\n",
    "height_no_cctt = 10.5\n",
    "height_no = 5.5\n",
    "\n",
    "fig = go.Figure(\n",
    "    data=[\n",
    "        go.Scatter(\n",
    "            x=[\n",
    "                golga8a_left,\n",
    "                golga8a_left + golga8a_length * 1 / 4,\n",
    "                (golga8a_left + golga8a_right) / 2,\n",
    "                golga8a_left + golga8a_length * 3 / 4,\n",
    "                golga8a_right,\n",
    "            ],\n",
    "            y=[0, 0, 0, 0, 0],\n",
    "            mode=\"lines+markers\",\n",
    "            name=\"GOLGA8A\",\n",
    "            line=dict(color=\"black\"),\n",
    "            marker=dict(size=10, symbol=\"arrow-left\"),\n",
    "        ),\n",
    "        go.Scatter(\n",
    "            x=[\n",
    "                golga8b_left,\n",
    "                golga8b_left + golga8b_length * 1 / 4,\n",
    "                (golga8b_left + golga8b_right) / 2,\n",
    "                golga8b_left + golga8b_length * 3 / 4,\n",
    "                golga8b_right,\n",
    "            ],\n",
    "            y=[0, 0, 0, 0, 0],\n",
    "            mode=\"lines+markers\",\n",
    "            name=\"GOLGA8B\",\n",
    "            line=dict(color=\"black\"),\n",
    "            marker=dict(size=10, symbol=\"arrow-left\"),\n",
    "        ),\n",
    "        # show the deletion as a thick red bar\n",
    "        go.Scatter(\n",
    "            x=[deletion[0], deletion[1]],\n",
    "            y=[-5, -5],\n",
    "            mode=\"lines\",\n",
    "            name=\"deletion\",\n",
    "            line=dict(color=\"red\", width=5),\n",
    "        ),\n",
    "        go.Scatter(\n",
    "            x=[\n",
    "                segdup_a[0],\n",
    "                segdup_a[0] + (segdup_a[1] - segdup_a[0]) * 1 / 20,\n",
    "                segdup_a[0] + (segdup_a[1] - segdup_a[0]) * 2 / 20,\n",
    "                segdup_a[0] + (segdup_a[1] - segdup_a[0]) * 3 / 20,\n",
    "                segdup_a[0] + (segdup_a[1] - segdup_a[0]) * 4 / 20,\n",
    "                segdup_a[0] + (segdup_a[1] - segdup_a[0]) * 5 / 20,\n",
    "                segdup_a[0] + (segdup_a[1] - segdup_a[0]) * 6 / 20,\n",
    "                segdup_a[0] + (segdup_a[1] - segdup_a[0]) * 7 / 20,\n",
    "                segdup_a[0] + (segdup_a[1] - segdup_a[0]) * 8 / 20,\n",
    "                segdup_a[0] + (segdup_a[1] - segdup_a[0]) * 9 / 20,\n",
    "                segdup_a[0] + (segdup_a[1] - segdup_a[0]) * 10 / 20,\n",
    "                segdup_a[0] + (segdup_a[1] - segdup_a[0]) * 11 / 20,\n",
    "                segdup_a[0] + (segdup_a[1] - segdup_a[0]) * 12 / 20,\n",
    "                segdup_a[0] + (segdup_a[1] - segdup_a[0]) * 13 / 20,\n",
    "                segdup_a[0] + (segdup_a[1] - segdup_a[0]) * 14 / 20,\n",
    "                segdup_a[0] + (segdup_a[1] - segdup_a[0]) * 15 / 20,\n",
    "                segdup_a[0] + (segdup_a[1] - segdup_a[0]) * 16 / 20,\n",
    "                segdup_a[0] + (segdup_a[1] - segdup_a[0]) * 17 / 20,\n",
    "                segdup_a[0] + (segdup_a[1] - segdup_a[0]) * 18 / 20,\n",
    "                segdup_a[0] + (segdup_a[1] - segdup_a[0]) * 19 / 20,\n",
    "                segdup_a[1],\n",
    "            ],\n",
    "            y=[-3] * 21,\n",
    "            mode=\"lines+markers\",\n",
    "            name=\"segmental duplication\",\n",
    "            line=dict(color=\"orange\"),\n",
    "            marker=dict(size=8, symbol=\"triangle-left\"),\n",
    "        ),\n",
    "        go.Scatter(\n",
    "            x=[\n",
    "                segdup_b[0],\n",
    "                segdup_b[0] + (segdup_b[1] - segdup_b[0]) * 1 / 20,\n",
    "                segdup_b[0] + (segdup_b[1] - segdup_b[0]) * 2 / 20,\n",
    "                segdup_b[0] + (segdup_b[1] - segdup_b[0]) * 3 / 20,\n",
    "                segdup_b[0] + (segdup_b[1] - segdup_b[0]) * 4 / 20,\n",
    "                segdup_b[0] + (segdup_b[1] - segdup_b[0]) * 5 / 20,\n",
    "                segdup_b[0] + (segdup_b[1] - segdup_b[0]) * 6 / 20,\n",
    "                segdup_b[0] + (segdup_b[1] - segdup_b[0]) * 7 / 20,\n",
    "                segdup_b[0] + (segdup_b[1] - segdup_b[0]) * 8 / 20,\n",
    "                segdup_b[0] + (segdup_b[1] - segdup_b[0]) * 9 / 20,\n",
    "                segdup_b[0] + (segdup_b[1] - segdup_b[0]) * 10 / 20,\n",
    "                segdup_b[0] + (segdup_b[1] - segdup_b[0]) * 11 / 20,\n",
    "                segdup_b[0] + (segdup_b[1] - segdup_b[0]) * 12 / 20,\n",
    "                segdup_b[0] + (segdup_b[1] - segdup_b[0]) * 13 / 20,\n",
    "                segdup_b[0] + (segdup_b[1] - segdup_b[0]) * 14 / 20,\n",
    "                segdup_b[0] + (segdup_b[1] - segdup_b[0]) * 15 / 20,\n",
    "                segdup_b[0] + (segdup_b[1] - segdup_b[0]) * 16 / 20,\n",
    "                segdup_b[0] + (segdup_b[1] - segdup_b[0]) * 17 / 20,\n",
    "                segdup_b[0] + (segdup_b[1] - segdup_b[0]) * 18 / 20,\n",
    "                segdup_b[0] + (segdup_b[1] - segdup_b[0]) * 19 / 20,\n",
    "                segdup_b[1],\n",
    "            ],\n",
    "            y=[-3] * 21,\n",
    "            mode=\"lines+markers\",\n",
    "            name=\"segmental duplication\",\n",
    "            line=dict(color=\"orange\"),\n",
    "            marker=dict(size=8, symbol=\"triangle-left\"),\n",
    "        ),\n",
    "        go.Scatter(\n",
    "            x=[major_haplotype_tag, major_haplotype_tag],\n",
    "            y=[height_major, height_major + 3],\n",
    "            mode=\"lines\",\n",
    "            name=major_variant,\n",
    "            line=dict(color=\"black\"),\n",
    "        ),\n",
    "        go.Scatter(\n",
    "            x=[minor_haplotype_tag, minor_haplotype_tag],\n",
    "            y=[height_minor, height_major + 3],\n",
    "            mode=\"lines\",\n",
    "            name=minor_variant,\n",
    "            line=dict(color=\"black\"),\n",
    "        ),\n",
    "        go.Scatter(\n",
    "            x=[left, right],\n",
    "            y=[height_major, height_major],\n",
    "            mode=\"lines\",\n",
    "            name=\"Haplotype A\",\n",
    "            line=dict(color=\"black\", dash=\"dash\"),\n",
    "        ),\n",
    "        go.Scatter(\n",
    "            x=[left, right],\n",
    "            y=[height_minor, height_minor],\n",
    "            mode=\"lines\",\n",
    "            name=\"Haplotype B\",\n",
    "            line=dict(color=\"black\", dash=\"dash\"),\n",
    "        ),\n",
    "        go.Scatter(\n",
    "            x=[repeat_expansion - 500, repeat_expansion + 500],\n",
    "            y=[height_major, height_major],\n",
    "            mode=\"lines+markers\",\n",
    "            name=\"CT-rich expansion\",\n",
    "            line=dict(color=\"purple\", width=10),\n",
    "            marker=dict(size=10, symbol=\"x\"),\n",
    "        ),\n",
    "        go.Scatter(\n",
    "            x=[repeat_expansion - 500, repeat_expansion + 500],\n",
    "            y=[height_minor, height_minor],\n",
    "            mode=\"lines+markers\",\n",
    "            name=\"CT-rich expansion\",\n",
    "            line=dict(color=\"purple\", width=10),\n",
    "            marker=dict(size=10, symbol=\"x\"),\n",
    "        ),\n",
    "        go.Scatter(\n",
    "            x=[repeat_expansion - 500, repeat_expansion + 500],\n",
    "            y=[height_no_cctt, height_no_cctt],\n",
    "            mode=\"lines+markers\",\n",
    "            name=\"CCTT-rich expansion\",\n",
    "            line=dict(color=\"deeppink\", width=10),\n",
    "            marker=dict(size=10, symbol=\"x\"),\n",
    "        ),\n",
    "        go.Scatter(\n",
    "            x=[left, right],\n",
    "            y=[height_no_cctt, height_no_cctt],\n",
    "            mode=\"lines\",\n",
    "            name=\"no association\",\n",
    "            line=dict(color=\"black\", dash=\"dash\"),\n",
    "        ),\n",
    "        go.Scatter(\n",
    "            x=[left, right],\n",
    "            y=[height_no, height_no],\n",
    "            mode=\"lines\",\n",
    "            name=\"no association\",\n",
    "            line=dict(color=\"black\", dash=\"dash\"),\n",
    "        ),\n",
    "    ]\n",
    ")\n",
    "\n",
    "# also add text annotations to each element\n",
    "fig.add_annotation(\n",
    "    x=(golga8a_left+golga8a_right)/2,\n",
    "    y=1,\n",
    "    text=\"GOLGA8A\",\n",
    "    showarrow=False,\n",
    "    yshift=10,\n",
    "    font=dict(size=14, color=\"black\"),\n",
    ")\n",
    "fig.add_annotation(\n",
    "    x=(golga8b_left+golga8b_right)/2,\n",
    "    y=1,\n",
    "    text=\"GOLGA8B\",\n",
    "    showarrow=False,\n",
    "    yshift=10,\n",
    "    font=dict(size=14, color=\"black\"),\n",
    ")\n",
    "fig.add_annotation(\n",
    "    x=major_haplotype_tag,\n",
    "    y=height_major + 4,\n",
    "    text=\"rs549846383<br>TTTTT>TTTT\",\n",
    "    showarrow=False,\n",
    "    yshift=10,\n",
    "    font=dict(size=14, color=\"black\"),\n",
    ")\n",
    "fig.add_annotation(\n",
    "    x=left - 25000,\n",
    "    y=height_major,\n",
    "    text=\"Haplotype A:\",\n",
    "    showarrow=False,\n",
    "    font=dict(size=14, color=\"black\"),\n",
    ")\n",
    "fig.add_annotation(\n",
    "    x=minor_haplotype_tag,\n",
    "    y=height_major + 4,\n",
    "    text=\"rs148687709<br>T>C\",\n",
    "    showarrow=False,\n",
    "    yshift=10,\n",
    "    font=dict(size=14, color=\"black\"),\n",
    ")\n",
    "\n",
    "fig.add_annotation(\n",
    "    x=left - 25000,\n",
    "    y=height_minor,\n",
    "    text=\"Haplotype B:\",\n",
    "    showarrow=False,\n",
    "    font=dict(size=14, color=\"black\"),\n",
    ")\n",
    "\n",
    "fig.add_annotation(\n",
    "    x=left - 25000,\n",
    "    y=height_no_cctt,\n",
    "    text=\"no assocation:\",\n",
    "    showarrow=False,\n",
    "    font=dict(size=14, color=\"black\"),\n",
    ")\n",
    "\n",
    "fig.add_annotation(\n",
    "    x=left - 25000,\n",
    "    y=height_no,\n",
    "    text=\"no association:\",\n",
    "    showarrow=False,\n",
    "    font=dict(size=14, color=\"black\"),\n",
    ")\n",
    "\n",
    "fig.add_annotation(\n",
    "    x = repeat_expansion-1000,\n",
    "    y = height_major+0.5,\n",
    "    text = \"(CT)<sub>n</sub>\",\n",
    "    showarrow = False,\n",
    "    yshift = 10,\n",
    "    font = dict(size=14, color=\"black\"),\n",
    ")\n",
    "fig.add_annotation(\n",
    "    x=repeat_expansion - 500,\n",
    "    y=height_minor + 0.5,\n",
    "    text=\"(CT)<sub>n</sub>\",\n",
    "    showarrow=False,\n",
    "    yshift=10,\n",
    "    font=dict(size=14, color=\"black\"),\n",
    ")\n",
    "\n",
    "fig.add_annotation(\n",
    "    x = repeat_expansion-500,\n",
    "    y = height_no_cctt+0.5,\n",
    "    text = \"(CCTT)<sub>n</sub>\",\n",
    "    showarrow = False,\n",
    "    yshift = 10,\n",
    "    font = dict(size=14, color=\"black\"),\n",
    ")\n",
    "# add an annotation for the deletion\n",
    "fig.add_annotation(\n",
    "    x=(deletion[0]+deletion[1])/2,\n",
    "    y=-5,\n",
    "    text=\"Deletion [HPRC]\",\n",
    "    showarrow=False,\n",
    "    yshift=-10,\n",
    "    font=dict(size=14, color=\"red\"),\n",
    ")\n",
    "\n",
    "# create a legend like item for the repeat expansion\n",
    "\n",
    "\n",
    "\n",
    "\n",
    "fig.update_xaxes(range=[left - 30000, right], title_text=\"chromosome 15 position (bp)\")\n",
    "fig.update_yaxes(range=[-10, height_major+5], showticklabels=False)\n",
    "fig.update_layout(plot_bgcolor='white', width=1000, title=\"Overview of the chr15q14 associated locus\", showlegend=False, font=dict(size=16))\n",
    "fig.show()"
   ]
  },
  {
   "cell_type": "code",
   "execution_count": 7,
   "metadata": {},
   "outputs": [
    {
     "data": {
      "application/vnd.plotly.v1+json": {
       "config": {
        "plotlyServerURL": "https://plot.ly"
       },
       "data": [
        {
         "line": {
          "color": "black"
         },
         "marker": {
          "size": 10,
          "symbol": "arrow-left"
         },
         "mode": "lines+markers",
         "name": "GOLGA8A",
         "type": "scatter",
         "x": [
          34379068,
          34393753,
          34408438,
          34423123,
          34437808
         ],
         "y": [
          0,
          0,
          0,
          0,
          0
         ]
        },
        {
         "line": {
          "color": "black"
         },
         "marker": {
          "size": 10,
          "symbol": "arrow-left"
         },
         "mode": "lines+markers",
         "name": "GOLGA8B",
         "type": "scatter",
         "x": [
          34525095,
          34539734,
          34554373,
          34569012,
          34583651
         ],
         "y": [
          0,
          0,
          0,
          0,
          0
         ]
        },
        {
         "line": {
          "color": "red",
          "width": 5
         },
         "mode": "lines",
         "name": "deletion",
         "type": "scatter",
         "x": [
          34416680,
          34568563
         ],
         "y": [
          -5,
          -5
         ]
        },
        {
         "line": {
          "color": "orange"
         },
         "marker": {
          "size": 8,
          "symbol": "triangle-left"
         },
         "mode": "lines+markers",
         "name": "segmental duplication",
         "type": "scatter",
         "x": [
          34378802,
          34381754.45,
          34384706.9,
          34387659.35,
          34390611.8,
          34393564.25,
          34396516.7,
          34399469.15,
          34402421.6,
          34405374.05,
          34408326.5,
          34411278.95,
          34414231.4,
          34417183.85,
          34420136.3,
          34423088.75,
          34426041.2,
          34428993.65,
          34431946.1,
          34434898.55,
          34437851
         ],
         "y": [
          -3,
          -3,
          -3,
          -3,
          -3,
          -3,
          -3,
          -3,
          -3,
          -3,
          -3,
          -3,
          -3,
          -3,
          -3,
          -3,
          -3,
          -3,
          -3,
          -3,
          -3
         ]
        },
        {
         "line": {
          "color": "orange"
         },
         "marker": {
          "size": 8,
          "symbol": "triangle-left"
         },
         "mode": "lines+markers",
         "name": "segmental duplication",
         "type": "scatter",
         "x": [
          34525014,
          34527948.15,
          34530882.3,
          34533816.45,
          34536750.6,
          34539684.75,
          34542618.9,
          34545553.05,
          34548487.2,
          34551421.35,
          34554355.5,
          34557289.65,
          34560223.8,
          34563157.95,
          34566092.1,
          34569026.25,
          34571960.4,
          34574894.55,
          34577828.7,
          34580762.85,
          34583697
         ],
         "y": [
          -3,
          -3,
          -3,
          -3,
          -3,
          -3,
          -3,
          -3,
          -3,
          -3,
          -3,
          -3,
          -3,
          -3,
          -3,
          -3,
          -3,
          -3,
          -3,
          -3,
          -3
         ]
        },
        {
         "line": {
          "color": "black"
         },
         "mode": "lines",
         "name": "AT>A",
         "type": "scatter",
         "x": [
          34612468,
          34612468
         ],
         "y": [
          20.5,
          23.5
         ]
        },
        {
         "line": {
          "color": "black"
         },
         "mode": "lines",
         "name": "T>C",
         "type": "scatter",
         "x": [
          34426625,
          34426625
         ],
         "y": [
          15.5,
          23.5
         ]
        },
        {
         "line": {
          "color": "black",
          "dash": "dash"
         },
         "mode": "lines",
         "name": "Haplotype A",
         "type": "scatter",
         "x": [
          34359068,
          34622468
         ],
         "y": [
          20.5,
          20.5
         ]
        },
        {
         "line": {
          "color": "black",
          "dash": "dash"
         },
         "mode": "lines",
         "name": "Haplotype B",
         "type": "scatter",
         "x": [
          34359068,
          34622468
         ],
         "y": [
          15.5,
          15.5
         ]
        },
        {
         "line": {
          "color": "black",
          "dash": "dash"
         },
         "mode": "lines",
         "name": "no association",
         "type": "scatter",
         "x": [
          34359068,
          34622468
         ],
         "y": [
          10.5,
          10.5
         ]
        }
       ],
       "layout": {
        "annotations": [
         {
          "font": {
           "color": "black",
           "size": 14
          },
          "showarrow": false,
          "text": "GOLGA8A",
          "x": 34408438,
          "y": 1,
          "yshift": 10
         },
         {
          "font": {
           "color": "black",
           "size": 14
          },
          "showarrow": false,
          "text": "GOLGA8B",
          "x": 34554373,
          "y": 1,
          "yshift": 10
         },
         {
          "font": {
           "color": "black",
           "size": 14
          },
          "showarrow": false,
          "text": "rs549846383<br>TTTTT>TTTT",
          "x": 34612468,
          "y": 24.5,
          "yshift": 10
         },
         {
          "font": {
           "color": "black",
           "size": 14
          },
          "showarrow": false,
          "text": "Haplotype A:",
          "x": 34334068,
          "y": 20.5
         },
         {
          "font": {
           "color": "black",
           "size": 14
          },
          "showarrow": false,
          "text": "rs148687709<br>T>C",
          "x": 34426625,
          "y": 24.5,
          "yshift": 10
         },
         {
          "font": {
           "color": "black",
           "size": 14
          },
          "showarrow": false,
          "text": "Haplotype B:",
          "x": 34334068,
          "y": 15.5
         },
         {
          "font": {
           "color": "black",
           "size": 14
          },
          "showarrow": false,
          "text": "no assocation:",
          "x": 34334068,
          "y": 10.5
         },
         {
          "font": {
           "color": "red",
           "size": 14
          },
          "showarrow": false,
          "text": "Deletion [HPRC]",
          "x": 34492621.5,
          "y": -5,
          "yshift": -10
         }
        ],
        "font": {
         "size": 16
        },
        "plot_bgcolor": "white",
        "showlegend": false,
        "template": {
         "data": {
          "bar": [
           {
            "error_x": {
             "color": "#2a3f5f"
            },
            "error_y": {
             "color": "#2a3f5f"
            },
            "marker": {
             "line": {
              "color": "#E5ECF6",
              "width": 0.5
             },
             "pattern": {
              "fillmode": "overlay",
              "size": 10,
              "solidity": 0.2
             }
            },
            "type": "bar"
           }
          ],
          "barpolar": [
           {
            "marker": {
             "line": {
              "color": "#E5ECF6",
              "width": 0.5
             },
             "pattern": {
              "fillmode": "overlay",
              "size": 10,
              "solidity": 0.2
             }
            },
            "type": "barpolar"
           }
          ],
          "carpet": [
           {
            "aaxis": {
             "endlinecolor": "#2a3f5f",
             "gridcolor": "white",
             "linecolor": "white",
             "minorgridcolor": "white",
             "startlinecolor": "#2a3f5f"
            },
            "baxis": {
             "endlinecolor": "#2a3f5f",
             "gridcolor": "white",
             "linecolor": "white",
             "minorgridcolor": "white",
             "startlinecolor": "#2a3f5f"
            },
            "type": "carpet"
           }
          ],
          "choropleth": [
           {
            "colorbar": {
             "outlinewidth": 0,
             "ticks": ""
            },
            "type": "choropleth"
           }
          ],
          "contour": [
           {
            "colorbar": {
             "outlinewidth": 0,
             "ticks": ""
            },
            "colorscale": [
             [
              0,
              "#0d0887"
             ],
             [
              0.1111111111111111,
              "#46039f"
             ],
             [
              0.2222222222222222,
              "#7201a8"
             ],
             [
              0.3333333333333333,
              "#9c179e"
             ],
             [
              0.4444444444444444,
              "#bd3786"
             ],
             [
              0.5555555555555556,
              "#d8576b"
             ],
             [
              0.6666666666666666,
              "#ed7953"
             ],
             [
              0.7777777777777778,
              "#fb9f3a"
             ],
             [
              0.8888888888888888,
              "#fdca26"
             ],
             [
              1,
              "#f0f921"
             ]
            ],
            "type": "contour"
           }
          ],
          "contourcarpet": [
           {
            "colorbar": {
             "outlinewidth": 0,
             "ticks": ""
            },
            "type": "contourcarpet"
           }
          ],
          "heatmap": [
           {
            "colorbar": {
             "outlinewidth": 0,
             "ticks": ""
            },
            "colorscale": [
             [
              0,
              "#0d0887"
             ],
             [
              0.1111111111111111,
              "#46039f"
             ],
             [
              0.2222222222222222,
              "#7201a8"
             ],
             [
              0.3333333333333333,
              "#9c179e"
             ],
             [
              0.4444444444444444,
              "#bd3786"
             ],
             [
              0.5555555555555556,
              "#d8576b"
             ],
             [
              0.6666666666666666,
              "#ed7953"
             ],
             [
              0.7777777777777778,
              "#fb9f3a"
             ],
             [
              0.8888888888888888,
              "#fdca26"
             ],
             [
              1,
              "#f0f921"
             ]
            ],
            "type": "heatmap"
           }
          ],
          "heatmapgl": [
           {
            "colorbar": {
             "outlinewidth": 0,
             "ticks": ""
            },
            "colorscale": [
             [
              0,
              "#0d0887"
             ],
             [
              0.1111111111111111,
              "#46039f"
             ],
             [
              0.2222222222222222,
              "#7201a8"
             ],
             [
              0.3333333333333333,
              "#9c179e"
             ],
             [
              0.4444444444444444,
              "#bd3786"
             ],
             [
              0.5555555555555556,
              "#d8576b"
             ],
             [
              0.6666666666666666,
              "#ed7953"
             ],
             [
              0.7777777777777778,
              "#fb9f3a"
             ],
             [
              0.8888888888888888,
              "#fdca26"
             ],
             [
              1,
              "#f0f921"
             ]
            ],
            "type": "heatmapgl"
           }
          ],
          "histogram": [
           {
            "marker": {
             "pattern": {
              "fillmode": "overlay",
              "size": 10,
              "solidity": 0.2
             }
            },
            "type": "histogram"
           }
          ],
          "histogram2d": [
           {
            "colorbar": {
             "outlinewidth": 0,
             "ticks": ""
            },
            "colorscale": [
             [
              0,
              "#0d0887"
             ],
             [
              0.1111111111111111,
              "#46039f"
             ],
             [
              0.2222222222222222,
              "#7201a8"
             ],
             [
              0.3333333333333333,
              "#9c179e"
             ],
             [
              0.4444444444444444,
              "#bd3786"
             ],
             [
              0.5555555555555556,
              "#d8576b"
             ],
             [
              0.6666666666666666,
              "#ed7953"
             ],
             [
              0.7777777777777778,
              "#fb9f3a"
             ],
             [
              0.8888888888888888,
              "#fdca26"
             ],
             [
              1,
              "#f0f921"
             ]
            ],
            "type": "histogram2d"
           }
          ],
          "histogram2dcontour": [
           {
            "colorbar": {
             "outlinewidth": 0,
             "ticks": ""
            },
            "colorscale": [
             [
              0,
              "#0d0887"
             ],
             [
              0.1111111111111111,
              "#46039f"
             ],
             [
              0.2222222222222222,
              "#7201a8"
             ],
             [
              0.3333333333333333,
              "#9c179e"
             ],
             [
              0.4444444444444444,
              "#bd3786"
             ],
             [
              0.5555555555555556,
              "#d8576b"
             ],
             [
              0.6666666666666666,
              "#ed7953"
             ],
             [
              0.7777777777777778,
              "#fb9f3a"
             ],
             [
              0.8888888888888888,
              "#fdca26"
             ],
             [
              1,
              "#f0f921"
             ]
            ],
            "type": "histogram2dcontour"
           }
          ],
          "mesh3d": [
           {
            "colorbar": {
             "outlinewidth": 0,
             "ticks": ""
            },
            "type": "mesh3d"
           }
          ],
          "parcoords": [
           {
            "line": {
             "colorbar": {
              "outlinewidth": 0,
              "ticks": ""
             }
            },
            "type": "parcoords"
           }
          ],
          "pie": [
           {
            "automargin": true,
            "type": "pie"
           }
          ],
          "scatter": [
           {
            "fillpattern": {
             "fillmode": "overlay",
             "size": 10,
             "solidity": 0.2
            },
            "type": "scatter"
           }
          ],
          "scatter3d": [
           {
            "line": {
             "colorbar": {
              "outlinewidth": 0,
              "ticks": ""
             }
            },
            "marker": {
             "colorbar": {
              "outlinewidth": 0,
              "ticks": ""
             }
            },
            "type": "scatter3d"
           }
          ],
          "scattercarpet": [
           {
            "marker": {
             "colorbar": {
              "outlinewidth": 0,
              "ticks": ""
             }
            },
            "type": "scattercarpet"
           }
          ],
          "scattergeo": [
           {
            "marker": {
             "colorbar": {
              "outlinewidth": 0,
              "ticks": ""
             }
            },
            "type": "scattergeo"
           }
          ],
          "scattergl": [
           {
            "marker": {
             "colorbar": {
              "outlinewidth": 0,
              "ticks": ""
             }
            },
            "type": "scattergl"
           }
          ],
          "scattermapbox": [
           {
            "marker": {
             "colorbar": {
              "outlinewidth": 0,
              "ticks": ""
             }
            },
            "type": "scattermapbox"
           }
          ],
          "scatterpolar": [
           {
            "marker": {
             "colorbar": {
              "outlinewidth": 0,
              "ticks": ""
             }
            },
            "type": "scatterpolar"
           }
          ],
          "scatterpolargl": [
           {
            "marker": {
             "colorbar": {
              "outlinewidth": 0,
              "ticks": ""
             }
            },
            "type": "scatterpolargl"
           }
          ],
          "scatterternary": [
           {
            "marker": {
             "colorbar": {
              "outlinewidth": 0,
              "ticks": ""
             }
            },
            "type": "scatterternary"
           }
          ],
          "surface": [
           {
            "colorbar": {
             "outlinewidth": 0,
             "ticks": ""
            },
            "colorscale": [
             [
              0,
              "#0d0887"
             ],
             [
              0.1111111111111111,
              "#46039f"
             ],
             [
              0.2222222222222222,
              "#7201a8"
             ],
             [
              0.3333333333333333,
              "#9c179e"
             ],
             [
              0.4444444444444444,
              "#bd3786"
             ],
             [
              0.5555555555555556,
              "#d8576b"
             ],
             [
              0.6666666666666666,
              "#ed7953"
             ],
             [
              0.7777777777777778,
              "#fb9f3a"
             ],
             [
              0.8888888888888888,
              "#fdca26"
             ],
             [
              1,
              "#f0f921"
             ]
            ],
            "type": "surface"
           }
          ],
          "table": [
           {
            "cells": {
             "fill": {
              "color": "#EBF0F8"
             },
             "line": {
              "color": "white"
             }
            },
            "header": {
             "fill": {
              "color": "#C8D4E3"
             },
             "line": {
              "color": "white"
             }
            },
            "type": "table"
           }
          ]
         },
         "layout": {
          "annotationdefaults": {
           "arrowcolor": "#2a3f5f",
           "arrowhead": 0,
           "arrowwidth": 1
          },
          "autotypenumbers": "strict",
          "coloraxis": {
           "colorbar": {
            "outlinewidth": 0,
            "ticks": ""
           }
          },
          "colorscale": {
           "diverging": [
            [
             0,
             "#8e0152"
            ],
            [
             0.1,
             "#c51b7d"
            ],
            [
             0.2,
             "#de77ae"
            ],
            [
             0.3,
             "#f1b6da"
            ],
            [
             0.4,
             "#fde0ef"
            ],
            [
             0.5,
             "#f7f7f7"
            ],
            [
             0.6,
             "#e6f5d0"
            ],
            [
             0.7,
             "#b8e186"
            ],
            [
             0.8,
             "#7fbc41"
            ],
            [
             0.9,
             "#4d9221"
            ],
            [
             1,
             "#276419"
            ]
           ],
           "sequential": [
            [
             0,
             "#0d0887"
            ],
            [
             0.1111111111111111,
             "#46039f"
            ],
            [
             0.2222222222222222,
             "#7201a8"
            ],
            [
             0.3333333333333333,
             "#9c179e"
            ],
            [
             0.4444444444444444,
             "#bd3786"
            ],
            [
             0.5555555555555556,
             "#d8576b"
            ],
            [
             0.6666666666666666,
             "#ed7953"
            ],
            [
             0.7777777777777778,
             "#fb9f3a"
            ],
            [
             0.8888888888888888,
             "#fdca26"
            ],
            [
             1,
             "#f0f921"
            ]
           ],
           "sequentialminus": [
            [
             0,
             "#0d0887"
            ],
            [
             0.1111111111111111,
             "#46039f"
            ],
            [
             0.2222222222222222,
             "#7201a8"
            ],
            [
             0.3333333333333333,
             "#9c179e"
            ],
            [
             0.4444444444444444,
             "#bd3786"
            ],
            [
             0.5555555555555556,
             "#d8576b"
            ],
            [
             0.6666666666666666,
             "#ed7953"
            ],
            [
             0.7777777777777778,
             "#fb9f3a"
            ],
            [
             0.8888888888888888,
             "#fdca26"
            ],
            [
             1,
             "#f0f921"
            ]
           ]
          },
          "colorway": [
           "#636efa",
           "#EF553B",
           "#00cc96",
           "#ab63fa",
           "#FFA15A",
           "#19d3f3",
           "#FF6692",
           "#B6E880",
           "#FF97FF",
           "#FECB52"
          ],
          "font": {
           "color": "#2a3f5f"
          },
          "geo": {
           "bgcolor": "white",
           "lakecolor": "white",
           "landcolor": "#E5ECF6",
           "showlakes": true,
           "showland": true,
           "subunitcolor": "white"
          },
          "hoverlabel": {
           "align": "left"
          },
          "hovermode": "closest",
          "mapbox": {
           "style": "light"
          },
          "paper_bgcolor": "white",
          "plot_bgcolor": "#E5ECF6",
          "polar": {
           "angularaxis": {
            "gridcolor": "white",
            "linecolor": "white",
            "ticks": ""
           },
           "bgcolor": "#E5ECF6",
           "radialaxis": {
            "gridcolor": "white",
            "linecolor": "white",
            "ticks": ""
           }
          },
          "scene": {
           "xaxis": {
            "backgroundcolor": "#E5ECF6",
            "gridcolor": "white",
            "gridwidth": 2,
            "linecolor": "white",
            "showbackground": true,
            "ticks": "",
            "zerolinecolor": "white"
           },
           "yaxis": {
            "backgroundcolor": "#E5ECF6",
            "gridcolor": "white",
            "gridwidth": 2,
            "linecolor": "white",
            "showbackground": true,
            "ticks": "",
            "zerolinecolor": "white"
           },
           "zaxis": {
            "backgroundcolor": "#E5ECF6",
            "gridcolor": "white",
            "gridwidth": 2,
            "linecolor": "white",
            "showbackground": true,
            "ticks": "",
            "zerolinecolor": "white"
           }
          },
          "shapedefaults": {
           "line": {
            "color": "#2a3f5f"
           }
          },
          "ternary": {
           "aaxis": {
            "gridcolor": "white",
            "linecolor": "white",
            "ticks": ""
           },
           "baxis": {
            "gridcolor": "white",
            "linecolor": "white",
            "ticks": ""
           },
           "bgcolor": "#E5ECF6",
           "caxis": {
            "gridcolor": "white",
            "linecolor": "white",
            "ticks": ""
           }
          },
          "title": {
           "x": 0.05
          },
          "xaxis": {
           "automargin": true,
           "gridcolor": "white",
           "linecolor": "white",
           "ticks": "",
           "title": {
            "standoff": 15
           },
           "zerolinecolor": "white",
           "zerolinewidth": 2
          },
          "yaxis": {
           "automargin": true,
           "gridcolor": "white",
           "linecolor": "white",
           "ticks": "",
           "title": {
            "standoff": 15
           },
           "zerolinecolor": "white",
           "zerolinewidth": 2
          }
         }
        },
        "title": {
         "text": "Overview of the chr15q14 associated locus"
        },
        "width": 1000,
        "xaxis": {
         "range": [
          34329068,
          34622468
         ],
         "title": {
          "text": "chromosome 15 position (bp)"
         }
        },
        "yaxis": {
         "range": [
          -10,
          25.5
         ],
         "showticklabels": false
        }
       }
      }
     },
     "metadata": {},
     "output_type": "display_data"
    }
   ],
   "source": [
    "major_variant = \"AT>A\"\n",
    "major_haplotype_tag = 34612468\n",
    "minor_variant = \"T>C\"\n",
    "minor_haplotype_tag = 34426625\n",
    "\n",
    "golga8a_left = 34379068\n",
    "golga8a_right = 34437808\n",
    "golga8a_length = golga8a_right - golga8a_left\n",
    "golga8b_left = 34525095\n",
    "golga8b_right = 34583651\n",
    "golga8b_length = golga8b_right - golga8b_left\n",
    "\n",
    "segdup_a = [34378802, 34437851]\n",
    "segdup_b = [34525014, 34583697]\n",
    "\n",
    "deletion = [34416680, 34568563]\n",
    "\n",
    "repeat_expansion = 34419425\n",
    "\n",
    "left = golga8a_left - 20000\n",
    "right = major_haplotype_tag + 10000\n",
    "\n",
    "height_major = 20.5\n",
    "height_minor = 15.5\n",
    "height_no_cctt = 10.5\n",
    "height_no = 5.5\n",
    "\n",
    "fig = go.Figure(\n",
    "    data=[\n",
    "        go.Scatter(\n",
    "            x=[\n",
    "                golga8a_left,\n",
    "                golga8a_left + golga8a_length * 1 / 4,\n",
    "                (golga8a_left + golga8a_right) / 2,\n",
    "                golga8a_left + golga8a_length * 3 / 4,\n",
    "                golga8a_right,\n",
    "            ],\n",
    "            y=[0, 0, 0, 0, 0],\n",
    "            mode=\"lines+markers\",\n",
    "            name=\"GOLGA8A\",\n",
    "            line=dict(color=\"black\"),\n",
    "            marker=dict(size=10, symbol=\"arrow-left\"),\n",
    "        ),\n",
    "        go.Scatter(\n",
    "            x=[\n",
    "                golga8b_left,\n",
    "                golga8b_left + golga8b_length * 1 / 4,\n",
    "                (golga8b_left + golga8b_right) / 2,\n",
    "                golga8b_left + golga8b_length * 3 / 4,\n",
    "                golga8b_right,\n",
    "            ],\n",
    "            y=[0, 0, 0, 0, 0],\n",
    "            mode=\"lines+markers\",\n",
    "            name=\"GOLGA8B\",\n",
    "            line=dict(color=\"black\"),\n",
    "            marker=dict(size=10, symbol=\"arrow-left\"),\n",
    "        ),\n",
    "        # show the deletion as a thick red bar\n",
    "        go.Scatter(\n",
    "            x=[deletion[0], deletion[1]],\n",
    "            y=[-5, -5],\n",
    "            mode=\"lines\",\n",
    "            name=\"deletion\",\n",
    "            line=dict(color=\"red\", width=5),\n",
    "        ),\n",
    "        go.Scatter(\n",
    "            x=[\n",
    "                segdup_a[0],\n",
    "                segdup_a[0] + (segdup_a[1] - segdup_a[0]) * 1 / 20,\n",
    "                segdup_a[0] + (segdup_a[1] - segdup_a[0]) * 2 / 20,\n",
    "                segdup_a[0] + (segdup_a[1] - segdup_a[0]) * 3 / 20,\n",
    "                segdup_a[0] + (segdup_a[1] - segdup_a[0]) * 4 / 20,\n",
    "                segdup_a[0] + (segdup_a[1] - segdup_a[0]) * 5 / 20,\n",
    "                segdup_a[0] + (segdup_a[1] - segdup_a[0]) * 6 / 20,\n",
    "                segdup_a[0] + (segdup_a[1] - segdup_a[0]) * 7 / 20,\n",
    "                segdup_a[0] + (segdup_a[1] - segdup_a[0]) * 8 / 20,\n",
    "                segdup_a[0] + (segdup_a[1] - segdup_a[0]) * 9 / 20,\n",
    "                segdup_a[0] + (segdup_a[1] - segdup_a[0]) * 10 / 20,\n",
    "                segdup_a[0] + (segdup_a[1] - segdup_a[0]) * 11 / 20,\n",
    "                segdup_a[0] + (segdup_a[1] - segdup_a[0]) * 12 / 20,\n",
    "                segdup_a[0] + (segdup_a[1] - segdup_a[0]) * 13 / 20,\n",
    "                segdup_a[0] + (segdup_a[1] - segdup_a[0]) * 14 / 20,\n",
    "                segdup_a[0] + (segdup_a[1] - segdup_a[0]) * 15 / 20,\n",
    "                segdup_a[0] + (segdup_a[1] - segdup_a[0]) * 16 / 20,\n",
    "                segdup_a[0] + (segdup_a[1] - segdup_a[0]) * 17 / 20,\n",
    "                segdup_a[0] + (segdup_a[1] - segdup_a[0]) * 18 / 20,\n",
    "                segdup_a[0] + (segdup_a[1] - segdup_a[0]) * 19 / 20,\n",
    "                segdup_a[1],\n",
    "            ],\n",
    "            y=[-3] * 21,\n",
    "            mode=\"lines+markers\",\n",
    "            name=\"segmental duplication\",\n",
    "            line=dict(color=\"orange\"),\n",
    "            marker=dict(size=8, symbol=\"triangle-left\"),\n",
    "        ),\n",
    "        go.Scatter(\n",
    "            x=[\n",
    "                segdup_b[0],\n",
    "                segdup_b[0] + (segdup_b[1] - segdup_b[0]) * 1 / 20,\n",
    "                segdup_b[0] + (segdup_b[1] - segdup_b[0]) * 2 / 20,\n",
    "                segdup_b[0] + (segdup_b[1] - segdup_b[0]) * 3 / 20,\n",
    "                segdup_b[0] + (segdup_b[1] - segdup_b[0]) * 4 / 20,\n",
    "                segdup_b[0] + (segdup_b[1] - segdup_b[0]) * 5 / 20,\n",
    "                segdup_b[0] + (segdup_b[1] - segdup_b[0]) * 6 / 20,\n",
    "                segdup_b[0] + (segdup_b[1] - segdup_b[0]) * 7 / 20,\n",
    "                segdup_b[0] + (segdup_b[1] - segdup_b[0]) * 8 / 20,\n",
    "                segdup_b[0] + (segdup_b[1] - segdup_b[0]) * 9 / 20,\n",
    "                segdup_b[0] + (segdup_b[1] - segdup_b[0]) * 10 / 20,\n",
    "                segdup_b[0] + (segdup_b[1] - segdup_b[0]) * 11 / 20,\n",
    "                segdup_b[0] + (segdup_b[1] - segdup_b[0]) * 12 / 20,\n",
    "                segdup_b[0] + (segdup_b[1] - segdup_b[0]) * 13 / 20,\n",
    "                segdup_b[0] + (segdup_b[1] - segdup_b[0]) * 14 / 20,\n",
    "                segdup_b[0] + (segdup_b[1] - segdup_b[0]) * 15 / 20,\n",
    "                segdup_b[0] + (segdup_b[1] - segdup_b[0]) * 16 / 20,\n",
    "                segdup_b[0] + (segdup_b[1] - segdup_b[0]) * 17 / 20,\n",
    "                segdup_b[0] + (segdup_b[1] - segdup_b[0]) * 18 / 20,\n",
    "                segdup_b[0] + (segdup_b[1] - segdup_b[0]) * 19 / 20,\n",
    "                segdup_b[1],\n",
    "            ],\n",
    "            y=[-3] * 21,\n",
    "            mode=\"lines+markers\",\n",
    "            name=\"segmental duplication\",\n",
    "            line=dict(color=\"orange\"),\n",
    "            marker=dict(size=8, symbol=\"triangle-left\"),\n",
    "        ),\n",
    "        go.Scatter(\n",
    "            x=[major_haplotype_tag, major_haplotype_tag],\n",
    "            y=[height_major, height_major + 3],\n",
    "            mode=\"lines\",\n",
    "            name=major_variant,\n",
    "            line=dict(color=\"black\"),\n",
    "        ),\n",
    "        go.Scatter(\n",
    "            x=[minor_haplotype_tag, minor_haplotype_tag],\n",
    "            y=[height_minor, height_major + 3],\n",
    "            mode=\"lines\",\n",
    "            name=minor_variant,\n",
    "            line=dict(color=\"black\"),\n",
    "        ),\n",
    "        go.Scatter(\n",
    "            x=[left, right],\n",
    "            y=[height_major, height_major],\n",
    "            mode=\"lines\",\n",
    "            name=\"Haplotype A\",\n",
    "            line=dict(color=\"black\", dash=\"dash\"),\n",
    "        ),\n",
    "        go.Scatter(\n",
    "            x=[left, right],\n",
    "            y=[height_minor, height_minor],\n",
    "            mode=\"lines\",\n",
    "            name=\"Haplotype B\",\n",
    "            line=dict(color=\"black\", dash=\"dash\"),\n",
    "        ),\n",
    "        go.Scatter(\n",
    "            x=[left, right],\n",
    "            y=[height_no_cctt, height_no_cctt],\n",
    "            mode=\"lines\",\n",
    "            name=\"no association\",\n",
    "            line=dict(color=\"black\", dash=\"dash\"),\n",
    "        ),\n",
    "    ]\n",
    ")\n",
    "\n",
    "# also add text annotations to each element\n",
    "fig.add_annotation(\n",
    "    x=(golga8a_left+golga8a_right)/2,\n",
    "    y=1,\n",
    "    text=\"GOLGA8A\",\n",
    "    showarrow=False,\n",
    "    yshift=10,\n",
    "    font=dict(size=14, color=\"black\"),\n",
    ")\n",
    "fig.add_annotation(\n",
    "    x=(golga8b_left+golga8b_right)/2,\n",
    "    y=1,\n",
    "    text=\"GOLGA8B\",\n",
    "    showarrow=False,\n",
    "    yshift=10,\n",
    "    font=dict(size=14, color=\"black\"),\n",
    ")\n",
    "fig.add_annotation(\n",
    "    x=major_haplotype_tag,\n",
    "    y=height_major + 4,\n",
    "    text=\"rs549846383<br>TTTTT>TTTT\",\n",
    "    showarrow=False,\n",
    "    yshift=10,\n",
    "    font=dict(size=14, color=\"black\"),\n",
    ")\n",
    "fig.add_annotation(\n",
    "    x=left - 25000,\n",
    "    y=height_major,\n",
    "    text=\"Haplotype A:\",\n",
    "    showarrow=False,\n",
    "    font=dict(size=14, color=\"black\"),\n",
    ")\n",
    "fig.add_annotation(\n",
    "    x=minor_haplotype_tag,\n",
    "    y=height_major + 4,\n",
    "    text=\"rs148687709<br>T>C\",\n",
    "    showarrow=False,\n",
    "    yshift=10,\n",
    "    font=dict(size=14, color=\"black\"),\n",
    ")\n",
    "\n",
    "fig.add_annotation(\n",
    "    x=left - 25000,\n",
    "    y=height_minor,\n",
    "    text=\"Haplotype B:\",\n",
    "    showarrow=False,\n",
    "    font=dict(size=14, color=\"black\"),\n",
    ")\n",
    "\n",
    "fig.add_annotation(\n",
    "    x=left - 25000,\n",
    "    y=height_no_cctt,\n",
    "    text=\"no assocation:\",\n",
    "    showarrow=False,\n",
    "    font=dict(size=14, color=\"black\"),\n",
    ")\n",
    "\n",
    "\n",
    "\n",
    "# add an annotation for the deletion\n",
    "fig.add_annotation(\n",
    "    x=(deletion[0]+deletion[1])/2,\n",
    "    y=-5,\n",
    "    text=\"Deletion [HPRC]\",\n",
    "    showarrow=False,\n",
    "    yshift=-10,\n",
    "    font=dict(size=14, color=\"red\"),\n",
    ")\n",
    "\n",
    "# create a legend like item for the repeat expansion\n",
    "\n",
    "\n",
    "\n",
    "\n",
    "fig.update_xaxes(range=[left - 30000, right], title_text=\"chromosome 15 position (bp)\")\n",
    "fig.update_yaxes(range=[-10, height_major+5], showticklabels=False)\n",
    "fig.update_layout(plot_bgcolor='white', width=1000, title=\"Overview of the chr15q14 associated locus\", showlegend=False, font=dict(size=16))\n",
    "fig.show()"
   ]
  },
  {
   "cell_type": "code",
   "execution_count": null,
   "metadata": {},
   "outputs": [],
   "source": []
  }
 ],
 "metadata": {
  "kernelspec": {
   "display_name": "Python 3",
   "language": "python",
   "name": "python3"
  },
  "language_info": {
   "codemirror_mode": {
    "name": "ipython",
    "version": 3
   },
   "file_extension": ".py",
   "mimetype": "text/x-python",
   "name": "python",
   "nbconvert_exporter": "python",
   "pygments_lexer": "ipython3",
   "version": "3.9.13"
  }
 },
 "nbformat": 4,
 "nbformat_minor": 2
}
