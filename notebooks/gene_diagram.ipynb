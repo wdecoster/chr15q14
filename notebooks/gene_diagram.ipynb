{
 "cells": [
  {
   "cell_type": "code",
   "execution_count": 3,
   "metadata": {},
   "outputs": [],
   "source": [
    "import pandas as pd\n",
    "import plotly.express as px\n",
    "import plotly.graph_objects as go"
   ]
  },
  {
   "cell_type": "code",
   "execution_count": 4,
   "metadata": {},
   "outputs": [],
   "source": [
    "df = pd.read_csv(\"~/chr15q14/GOLGA8A_MANE.GRCh38.v1.4.ensembl_genomic.gff\", sep=\"\\t\", header=None, names=[\"seqname\", \"source\", \"feature\", \"start\", \"end\", \"score\", \"strand\", \"frame\", \"attribute\"], usecols=[2, 3, 4])"
   ]
  },
  {
   "cell_type": "code",
   "execution_count": 15,
   "metadata": {},
   "outputs": [
    {
     "data": {
      "application/vnd.plotly.v1+json": {
       "config": {
        "plotlyServerURL": "https://plot.ly"
       },
       "data": [
        {
         "line": {
          "color": "black"
         },
         "mode": "lines",
         "name": "transcript",
         "type": "scatter",
         "x": [
          34379068,
          34437808
         ],
         "y": [
          0,
          0
         ]
        },
        {
         "line": {
          "color": "black",
          "width": 30
         },
         "mode": "lines",
         "name": "exon",
         "type": "scatter",
         "x": [
          34389644,
          34389691
         ],
         "y": [
          0,
          0
         ]
        },
        {
         "line": {
          "color": "black",
          "width": 30
         },
         "mode": "lines",
         "name": "exon",
         "type": "scatter",
         "x": [
          34387833,
          34387952
         ],
         "y": [
          0,
          0
         ]
        },
        {
         "line": {
          "color": "black",
          "width": 30
         },
         "mode": "lines",
         "name": "exon",
         "type": "scatter",
         "x": [
          34386625,
          34386741
         ],
         "y": [
          0,
          0
         ]
        },
        {
         "line": {
          "color": "black",
          "width": 30
         },
         "mode": "lines",
         "name": "exon",
         "type": "scatter",
         "x": [
          34385740,
          34385778
         ],
         "y": [
          0,
          0
         ]
        },
        {
         "line": {
          "color": "black",
          "width": 30
         },
         "mode": "lines",
         "name": "exon",
         "type": "scatter",
         "x": [
          34385427,
          34385474
         ],
         "y": [
          0,
          0
         ]
        },
        {
         "line": {
          "color": "black",
          "width": 30
         },
         "mode": "lines",
         "name": "exon",
         "type": "scatter",
         "x": [
          34385254,
          34385338
         ],
         "y": [
          0,
          0
         ]
        },
        {
         "line": {
          "color": "black",
          "width": 30
         },
         "mode": "lines",
         "name": "exon",
         "type": "scatter",
         "x": [
          34385048,
          34385157
         ],
         "y": [
          0,
          0
         ]
        },
        {
         "line": {
          "color": "black",
          "width": 30
         },
         "mode": "lines",
         "name": "exon",
         "type": "scatter",
         "x": [
          34383961,
          34384047
         ],
         "y": [
          0,
          0
         ]
        },
        {
         "line": {
          "color": "black",
          "width": 30
         },
         "mode": "lines",
         "name": "exon",
         "type": "scatter",
         "x": [
          34383746,
          34383853
         ],
         "y": [
          0,
          0
         ]
        },
        {
         "line": {
          "color": "black",
          "width": 30
         },
         "mode": "lines",
         "name": "exon",
         "type": "scatter",
         "x": [
          34383441,
          34383528
         ],
         "y": [
          0,
          0
         ]
        },
        {
         "line": {
          "color": "black",
          "width": 30
         },
         "mode": "lines",
         "name": "exon",
         "type": "scatter",
         "x": [
          34382797,
          34383053
         ],
         "y": [
          0,
          0
         ]
        },
        {
         "line": {
          "color": "black",
          "width": 30
         },
         "mode": "lines",
         "name": "exon",
         "type": "scatter",
         "x": [
          34382386,
          34382529
         ],
         "y": [
          0,
          0
         ]
        },
        {
         "line": {
          "color": "black",
          "width": 30
         },
         "mode": "lines",
         "name": "exon",
         "type": "scatter",
         "x": [
          34382151,
          34382251
         ],
         "y": [
          0,
          0
         ]
        },
        {
         "line": {
          "color": "black",
          "width": 30
         },
         "mode": "lines",
         "name": "exon",
         "type": "scatter",
         "x": [
          34381968,
          34382068
         ],
         "y": [
          0,
          0
         ]
        },
        {
         "line": {
          "color": "black",
          "width": 30
         },
         "mode": "lines",
         "name": "exon",
         "type": "scatter",
         "x": [
          34381701,
          34381856
         ],
         "y": [
          0,
          0
         ]
        },
        {
         "line": {
          "color": "black",
          "width": 30
         },
         "mode": "lines",
         "name": "exon",
         "type": "scatter",
         "x": [
          34381411,
          34381613
         ],
         "y": [
          0,
          0
         ]
        },
        {
         "line": {
          "color": "black",
          "width": 10
         },
         "mode": "lines",
         "name": "5' UTR",
         "type": "scatter",
         "x": [
          34437398,
          34437808
         ],
         "y": [
          0,
          0
         ]
        },
        {
         "line": {
          "color": "black",
          "width": 10
         },
         "mode": "lines",
         "name": "5' UTR",
         "type": "scatter",
         "x": [
          34435383,
          34435471
         ],
         "y": [
          0,
          0
         ]
        },
        {
         "line": {
          "color": "black",
          "width": 10
         },
         "mode": "lines",
         "name": "5' UTR",
         "type": "scatter",
         "x": [
          34407524,
          34407735
         ],
         "y": [
          0,
          0
         ]
        },
        {
         "line": {
          "color": "black",
          "width": 10
         },
         "mode": "lines",
         "name": "5' UTR",
         "type": "scatter",
         "x": [
          34406674,
          34406870
         ],
         "y": [
          0,
          0
         ]
        },
        {
         "line": {
          "color": "black",
          "width": 10
         },
         "mode": "lines",
         "name": "5' UTR",
         "type": "scatter",
         "x": [
          34404917,
          34405055
         ],
         "y": [
          0,
          0
         ]
        },
        {
         "line": {
          "color": "black",
          "width": 10
         },
         "mode": "lines",
         "name": "5' UTR",
         "type": "scatter",
         "x": [
          34400712,
          34400759
         ],
         "y": [
          0,
          0
         ]
        },
        {
         "line": {
          "color": "black",
          "width": 10
         },
         "mode": "lines",
         "name": "5' UTR",
         "type": "scatter",
         "x": [
          34399155,
          34399203
         ],
         "y": [
          0,
          0
         ]
        },
        {
         "line": {
          "color": "black",
          "width": 10
         },
         "mode": "lines",
         "name": "5' UTR",
         "type": "scatter",
         "x": [
          34398634,
          34398729
         ],
         "y": [
          0,
          0
         ]
        },
        {
         "line": {
          "color": "black",
          "width": 10
         },
         "mode": "lines",
         "name": "5' UTR",
         "type": "scatter",
         "x": [
          34391123,
          34391426
         ],
         "y": [
          0,
          0
         ]
        },
        {
         "line": {
          "color": "black",
          "width": 10
         },
         "mode": "lines",
         "name": "5' UTR",
         "type": "scatter",
         "x": [
          34389692,
          34389768
         ],
         "y": [
          0,
          0
         ]
        },
        {
         "line": {
          "color": "black",
          "width": 10
         },
         "mode": "lines",
         "name": "3' UTR",
         "type": "scatter",
         "x": [
          34379068,
          34381410
         ],
         "y": [
          0,
          0
         ]
        },
        {
         "marker": {
          "color": "red",
          "size": 10,
          "symbol": "x"
         },
         "mode": "markers",
         "name": "repeat",
         "type": "scatter",
         "x": [
          34419425,
          34419425
         ],
         "y": [
          0,
          0
         ]
        },
        {
         "marker": {
          "color": "blue",
          "size": 10,
          "symbol": "diamond"
         },
         "mode": "markers",
         "name": "rs148687709",
         "type": "scatter",
         "x": [
          34426625,
          34426625
         ],
         "y": [
          0,
          0
         ]
        },
        {
         "line": {
          "color": "red",
          "width": 5
         },
         "mode": "lines",
         "name": "deletion",
         "type": "scatter",
         "x": [
          34416680,
          34568563
         ],
         "y": [
          -1,
          -1
         ]
        },
        {
         "marker": {
          "color": "black",
          "size": 10,
          "symbol": "arrow-left"
         },
         "mode": "markers",
         "name": "GOLGA8A",
         "type": "scatter",
         "x": [
          34431400,
          34431400
         ],
         "y": [
          1,
          1
         ]
        }
       ],
       "layout": {
        "annotations": [
         {
          "ax": 0,
          "ay": 0,
          "font": {
           "color": "black",
           "size": 20
          },
          "text": "rs148687709",
          "x": 34426625,
          "y": 1
         },
         {
          "ax": 0,
          "ay": 0,
          "font": {
           "color": "black",
           "size": 20
          },
          "text": "Deletion",
          "x": 34427244,
          "y": -1.75
         },
         {
          "ax": 0,
          "ay": 0,
          "font": {
           "color": "black",
           "size": 20
          },
          "text": "STR",
          "x": 34419425,
          "y": 1
         },
         {
          "ax": 0,
          "ay": 0,
          "font": {
           "color": "black",
           "size": 20
          },
          "text": "<i>GOLGA8A</i>",
          "x": 34435000,
          "y": 1
         }
        ],
        "height": 80,
        "margin": {
         "b": 5,
         "l": 10,
         "r": 10,
         "t": 0
        },
        "plot_bgcolor": "white",
        "showlegend": false,
        "template": {
         "data": {
          "bar": [
           {
            "error_x": {
             "color": "#2a3f5f"
            },
            "error_y": {
             "color": "#2a3f5f"
            },
            "marker": {
             "line": {
              "color": "#E5ECF6",
              "width": 0.5
             },
             "pattern": {
              "fillmode": "overlay",
              "size": 10,
              "solidity": 0.2
             }
            },
            "type": "bar"
           }
          ],
          "barpolar": [
           {
            "marker": {
             "line": {
              "color": "#E5ECF6",
              "width": 0.5
             },
             "pattern": {
              "fillmode": "overlay",
              "size": 10,
              "solidity": 0.2
             }
            },
            "type": "barpolar"
           }
          ],
          "carpet": [
           {
            "aaxis": {
             "endlinecolor": "#2a3f5f",
             "gridcolor": "white",
             "linecolor": "white",
             "minorgridcolor": "white",
             "startlinecolor": "#2a3f5f"
            },
            "baxis": {
             "endlinecolor": "#2a3f5f",
             "gridcolor": "white",
             "linecolor": "white",
             "minorgridcolor": "white",
             "startlinecolor": "#2a3f5f"
            },
            "type": "carpet"
           }
          ],
          "choropleth": [
           {
            "colorbar": {
             "outlinewidth": 0,
             "ticks": ""
            },
            "type": "choropleth"
           }
          ],
          "contour": [
           {
            "colorbar": {
             "outlinewidth": 0,
             "ticks": ""
            },
            "colorscale": [
             [
              0,
              "#0d0887"
             ],
             [
              0.1111111111111111,
              "#46039f"
             ],
             [
              0.2222222222222222,
              "#7201a8"
             ],
             [
              0.3333333333333333,
              "#9c179e"
             ],
             [
              0.4444444444444444,
              "#bd3786"
             ],
             [
              0.5555555555555556,
              "#d8576b"
             ],
             [
              0.6666666666666666,
              "#ed7953"
             ],
             [
              0.7777777777777778,
              "#fb9f3a"
             ],
             [
              0.8888888888888888,
              "#fdca26"
             ],
             [
              1,
              "#f0f921"
             ]
            ],
            "type": "contour"
           }
          ],
          "contourcarpet": [
           {
            "colorbar": {
             "outlinewidth": 0,
             "ticks": ""
            },
            "type": "contourcarpet"
           }
          ],
          "heatmap": [
           {
            "colorbar": {
             "outlinewidth": 0,
             "ticks": ""
            },
            "colorscale": [
             [
              0,
              "#0d0887"
             ],
             [
              0.1111111111111111,
              "#46039f"
             ],
             [
              0.2222222222222222,
              "#7201a8"
             ],
             [
              0.3333333333333333,
              "#9c179e"
             ],
             [
              0.4444444444444444,
              "#bd3786"
             ],
             [
              0.5555555555555556,
              "#d8576b"
             ],
             [
              0.6666666666666666,
              "#ed7953"
             ],
             [
              0.7777777777777778,
              "#fb9f3a"
             ],
             [
              0.8888888888888888,
              "#fdca26"
             ],
             [
              1,
              "#f0f921"
             ]
            ],
            "type": "heatmap"
           }
          ],
          "heatmapgl": [
           {
            "colorbar": {
             "outlinewidth": 0,
             "ticks": ""
            },
            "colorscale": [
             [
              0,
              "#0d0887"
             ],
             [
              0.1111111111111111,
              "#46039f"
             ],
             [
              0.2222222222222222,
              "#7201a8"
             ],
             [
              0.3333333333333333,
              "#9c179e"
             ],
             [
              0.4444444444444444,
              "#bd3786"
             ],
             [
              0.5555555555555556,
              "#d8576b"
             ],
             [
              0.6666666666666666,
              "#ed7953"
             ],
             [
              0.7777777777777778,
              "#fb9f3a"
             ],
             [
              0.8888888888888888,
              "#fdca26"
             ],
             [
              1,
              "#f0f921"
             ]
            ],
            "type": "heatmapgl"
           }
          ],
          "histogram": [
           {
            "marker": {
             "pattern": {
              "fillmode": "overlay",
              "size": 10,
              "solidity": 0.2
             }
            },
            "type": "histogram"
           }
          ],
          "histogram2d": [
           {
            "colorbar": {
             "outlinewidth": 0,
             "ticks": ""
            },
            "colorscale": [
             [
              0,
              "#0d0887"
             ],
             [
              0.1111111111111111,
              "#46039f"
             ],
             [
              0.2222222222222222,
              "#7201a8"
             ],
             [
              0.3333333333333333,
              "#9c179e"
             ],
             [
              0.4444444444444444,
              "#bd3786"
             ],
             [
              0.5555555555555556,
              "#d8576b"
             ],
             [
              0.6666666666666666,
              "#ed7953"
             ],
             [
              0.7777777777777778,
              "#fb9f3a"
             ],
             [
              0.8888888888888888,
              "#fdca26"
             ],
             [
              1,
              "#f0f921"
             ]
            ],
            "type": "histogram2d"
           }
          ],
          "histogram2dcontour": [
           {
            "colorbar": {
             "outlinewidth": 0,
             "ticks": ""
            },
            "colorscale": [
             [
              0,
              "#0d0887"
             ],
             [
              0.1111111111111111,
              "#46039f"
             ],
             [
              0.2222222222222222,
              "#7201a8"
             ],
             [
              0.3333333333333333,
              "#9c179e"
             ],
             [
              0.4444444444444444,
              "#bd3786"
             ],
             [
              0.5555555555555556,
              "#d8576b"
             ],
             [
              0.6666666666666666,
              "#ed7953"
             ],
             [
              0.7777777777777778,
              "#fb9f3a"
             ],
             [
              0.8888888888888888,
              "#fdca26"
             ],
             [
              1,
              "#f0f921"
             ]
            ],
            "type": "histogram2dcontour"
           }
          ],
          "mesh3d": [
           {
            "colorbar": {
             "outlinewidth": 0,
             "ticks": ""
            },
            "type": "mesh3d"
           }
          ],
          "parcoords": [
           {
            "line": {
             "colorbar": {
              "outlinewidth": 0,
              "ticks": ""
             }
            },
            "type": "parcoords"
           }
          ],
          "pie": [
           {
            "automargin": true,
            "type": "pie"
           }
          ],
          "scatter": [
           {
            "fillpattern": {
             "fillmode": "overlay",
             "size": 10,
             "solidity": 0.2
            },
            "type": "scatter"
           }
          ],
          "scatter3d": [
           {
            "line": {
             "colorbar": {
              "outlinewidth": 0,
              "ticks": ""
             }
            },
            "marker": {
             "colorbar": {
              "outlinewidth": 0,
              "ticks": ""
             }
            },
            "type": "scatter3d"
           }
          ],
          "scattercarpet": [
           {
            "marker": {
             "colorbar": {
              "outlinewidth": 0,
              "ticks": ""
             }
            },
            "type": "scattercarpet"
           }
          ],
          "scattergeo": [
           {
            "marker": {
             "colorbar": {
              "outlinewidth": 0,
              "ticks": ""
             }
            },
            "type": "scattergeo"
           }
          ],
          "scattergl": [
           {
            "marker": {
             "colorbar": {
              "outlinewidth": 0,
              "ticks": ""
             }
            },
            "type": "scattergl"
           }
          ],
          "scattermapbox": [
           {
            "marker": {
             "colorbar": {
              "outlinewidth": 0,
              "ticks": ""
             }
            },
            "type": "scattermapbox"
           }
          ],
          "scatterpolar": [
           {
            "marker": {
             "colorbar": {
              "outlinewidth": 0,
              "ticks": ""
             }
            },
            "type": "scatterpolar"
           }
          ],
          "scatterpolargl": [
           {
            "marker": {
             "colorbar": {
              "outlinewidth": 0,
              "ticks": ""
             }
            },
            "type": "scatterpolargl"
           }
          ],
          "scatterternary": [
           {
            "marker": {
             "colorbar": {
              "outlinewidth": 0,
              "ticks": ""
             }
            },
            "type": "scatterternary"
           }
          ],
          "surface": [
           {
            "colorbar": {
             "outlinewidth": 0,
             "ticks": ""
            },
            "colorscale": [
             [
              0,
              "#0d0887"
             ],
             [
              0.1111111111111111,
              "#46039f"
             ],
             [
              0.2222222222222222,
              "#7201a8"
             ],
             [
              0.3333333333333333,
              "#9c179e"
             ],
             [
              0.4444444444444444,
              "#bd3786"
             ],
             [
              0.5555555555555556,
              "#d8576b"
             ],
             [
              0.6666666666666666,
              "#ed7953"
             ],
             [
              0.7777777777777778,
              "#fb9f3a"
             ],
             [
              0.8888888888888888,
              "#fdca26"
             ],
             [
              1,
              "#f0f921"
             ]
            ],
            "type": "surface"
           }
          ],
          "table": [
           {
            "cells": {
             "fill": {
              "color": "#EBF0F8"
             },
             "line": {
              "color": "white"
             }
            },
            "header": {
             "fill": {
              "color": "#C8D4E3"
             },
             "line": {
              "color": "white"
             }
            },
            "type": "table"
           }
          ]
         },
         "layout": {
          "annotationdefaults": {
           "arrowcolor": "#2a3f5f",
           "arrowhead": 0,
           "arrowwidth": 1
          },
          "autotypenumbers": "strict",
          "coloraxis": {
           "colorbar": {
            "outlinewidth": 0,
            "ticks": ""
           }
          },
          "colorscale": {
           "diverging": [
            [
             0,
             "#8e0152"
            ],
            [
             0.1,
             "#c51b7d"
            ],
            [
             0.2,
             "#de77ae"
            ],
            [
             0.3,
             "#f1b6da"
            ],
            [
             0.4,
             "#fde0ef"
            ],
            [
             0.5,
             "#f7f7f7"
            ],
            [
             0.6,
             "#e6f5d0"
            ],
            [
             0.7,
             "#b8e186"
            ],
            [
             0.8,
             "#7fbc41"
            ],
            [
             0.9,
             "#4d9221"
            ],
            [
             1,
             "#276419"
            ]
           ],
           "sequential": [
            [
             0,
             "#0d0887"
            ],
            [
             0.1111111111111111,
             "#46039f"
            ],
            [
             0.2222222222222222,
             "#7201a8"
            ],
            [
             0.3333333333333333,
             "#9c179e"
            ],
            [
             0.4444444444444444,
             "#bd3786"
            ],
            [
             0.5555555555555556,
             "#d8576b"
            ],
            [
             0.6666666666666666,
             "#ed7953"
            ],
            [
             0.7777777777777778,
             "#fb9f3a"
            ],
            [
             0.8888888888888888,
             "#fdca26"
            ],
            [
             1,
             "#f0f921"
            ]
           ],
           "sequentialminus": [
            [
             0,
             "#0d0887"
            ],
            [
             0.1111111111111111,
             "#46039f"
            ],
            [
             0.2222222222222222,
             "#7201a8"
            ],
            [
             0.3333333333333333,
             "#9c179e"
            ],
            [
             0.4444444444444444,
             "#bd3786"
            ],
            [
             0.5555555555555556,
             "#d8576b"
            ],
            [
             0.6666666666666666,
             "#ed7953"
            ],
            [
             0.7777777777777778,
             "#fb9f3a"
            ],
            [
             0.8888888888888888,
             "#fdca26"
            ],
            [
             1,
             "#f0f921"
            ]
           ]
          },
          "colorway": [
           "#636efa",
           "#EF553B",
           "#00cc96",
           "#ab63fa",
           "#FFA15A",
           "#19d3f3",
           "#FF6692",
           "#B6E880",
           "#FF97FF",
           "#FECB52"
          ],
          "font": {
           "color": "#2a3f5f"
          },
          "geo": {
           "bgcolor": "white",
           "lakecolor": "white",
           "landcolor": "#E5ECF6",
           "showlakes": true,
           "showland": true,
           "subunitcolor": "white"
          },
          "hoverlabel": {
           "align": "left"
          },
          "hovermode": "closest",
          "mapbox": {
           "style": "light"
          },
          "paper_bgcolor": "white",
          "plot_bgcolor": "#E5ECF6",
          "polar": {
           "angularaxis": {
            "gridcolor": "white",
            "linecolor": "white",
            "ticks": ""
           },
           "bgcolor": "#E5ECF6",
           "radialaxis": {
            "gridcolor": "white",
            "linecolor": "white",
            "ticks": ""
           }
          },
          "scene": {
           "xaxis": {
            "backgroundcolor": "#E5ECF6",
            "gridcolor": "white",
            "gridwidth": 2,
            "linecolor": "white",
            "showbackground": true,
            "ticks": "",
            "zerolinecolor": "white"
           },
           "yaxis": {
            "backgroundcolor": "#E5ECF6",
            "gridcolor": "white",
            "gridwidth": 2,
            "linecolor": "white",
            "showbackground": true,
            "ticks": "",
            "zerolinecolor": "white"
           },
           "zaxis": {
            "backgroundcolor": "#E5ECF6",
            "gridcolor": "white",
            "gridwidth": 2,
            "linecolor": "white",
            "showbackground": true,
            "ticks": "",
            "zerolinecolor": "white"
           }
          },
          "shapedefaults": {
           "line": {
            "color": "#2a3f5f"
           }
          },
          "ternary": {
           "aaxis": {
            "gridcolor": "white",
            "linecolor": "white",
            "ticks": ""
           },
           "baxis": {
            "gridcolor": "white",
            "linecolor": "white",
            "ticks": ""
           },
           "bgcolor": "#E5ECF6",
           "caxis": {
            "gridcolor": "white",
            "linecolor": "white",
            "ticks": ""
           }
          },
          "title": {
           "x": 0.05
          },
          "xaxis": {
           "automargin": true,
           "gridcolor": "white",
           "linecolor": "white",
           "ticks": "",
           "title": {
            "standoff": 15
           },
           "zerolinecolor": "white",
           "zerolinewidth": 2
          },
          "yaxis": {
           "automargin": true,
           "gridcolor": "white",
           "linecolor": "white",
           "ticks": "",
           "title": {
            "standoff": 15
           },
           "zerolinecolor": "white",
           "zerolinewidth": 2
          }
         }
        },
        "width": 1000,
        "xaxis": {
         "range": [
          34379068,
          34437808
         ],
         "showgrid": false,
         "showline": false,
         "showticklabels": false,
         "zeroline": false
        },
        "yaxis": {
         "showgrid": false,
         "showline": false,
         "showticklabels": false,
         "zeroline": false
        }
       }
      },
      "text/html": [
       "<div>                            <div id=\"35815ad1-3492-432c-ae2c-e44771e79d4b\" class=\"plotly-graph-div\" style=\"height:80px; width:1000px;\"></div>            <script type=\"text/javascript\">                require([\"plotly\"], function(Plotly) {                    window.PLOTLYENV=window.PLOTLYENV || {};                                    if (document.getElementById(\"35815ad1-3492-432c-ae2c-e44771e79d4b\")) {                    Plotly.newPlot(                        \"35815ad1-3492-432c-ae2c-e44771e79d4b\",                        [{\"line\":{\"color\":\"black\"},\"mode\":\"lines\",\"name\":\"transcript\",\"x\":[34379068,34437808],\"y\":[0,0],\"type\":\"scatter\"},{\"line\":{\"color\":\"black\",\"width\":30},\"mode\":\"lines\",\"name\":\"exon\",\"x\":[34389644,34389691],\"y\":[0,0],\"type\":\"scatter\"},{\"line\":{\"color\":\"black\",\"width\":30},\"mode\":\"lines\",\"name\":\"exon\",\"x\":[34387833,34387952],\"y\":[0,0],\"type\":\"scatter\"},{\"line\":{\"color\":\"black\",\"width\":30},\"mode\":\"lines\",\"name\":\"exon\",\"x\":[34386625,34386741],\"y\":[0,0],\"type\":\"scatter\"},{\"line\":{\"color\":\"black\",\"width\":30},\"mode\":\"lines\",\"name\":\"exon\",\"x\":[34385740,34385778],\"y\":[0,0],\"type\":\"scatter\"},{\"line\":{\"color\":\"black\",\"width\":30},\"mode\":\"lines\",\"name\":\"exon\",\"x\":[34385427,34385474],\"y\":[0,0],\"type\":\"scatter\"},{\"line\":{\"color\":\"black\",\"width\":30},\"mode\":\"lines\",\"name\":\"exon\",\"x\":[34385254,34385338],\"y\":[0,0],\"type\":\"scatter\"},{\"line\":{\"color\":\"black\",\"width\":30},\"mode\":\"lines\",\"name\":\"exon\",\"x\":[34385048,34385157],\"y\":[0,0],\"type\":\"scatter\"},{\"line\":{\"color\":\"black\",\"width\":30},\"mode\":\"lines\",\"name\":\"exon\",\"x\":[34383961,34384047],\"y\":[0,0],\"type\":\"scatter\"},{\"line\":{\"color\":\"black\",\"width\":30},\"mode\":\"lines\",\"name\":\"exon\",\"x\":[34383746,34383853],\"y\":[0,0],\"type\":\"scatter\"},{\"line\":{\"color\":\"black\",\"width\":30},\"mode\":\"lines\",\"name\":\"exon\",\"x\":[34383441,34383528],\"y\":[0,0],\"type\":\"scatter\"},{\"line\":{\"color\":\"black\",\"width\":30},\"mode\":\"lines\",\"name\":\"exon\",\"x\":[34382797,34383053],\"y\":[0,0],\"type\":\"scatter\"},{\"line\":{\"color\":\"black\",\"width\":30},\"mode\":\"lines\",\"name\":\"exon\",\"x\":[34382386,34382529],\"y\":[0,0],\"type\":\"scatter\"},{\"line\":{\"color\":\"black\",\"width\":30},\"mode\":\"lines\",\"name\":\"exon\",\"x\":[34382151,34382251],\"y\":[0,0],\"type\":\"scatter\"},{\"line\":{\"color\":\"black\",\"width\":30},\"mode\":\"lines\",\"name\":\"exon\",\"x\":[34381968,34382068],\"y\":[0,0],\"type\":\"scatter\"},{\"line\":{\"color\":\"black\",\"width\":30},\"mode\":\"lines\",\"name\":\"exon\",\"x\":[34381701,34381856],\"y\":[0,0],\"type\":\"scatter\"},{\"line\":{\"color\":\"black\",\"width\":30},\"mode\":\"lines\",\"name\":\"exon\",\"x\":[34381411,34381613],\"y\":[0,0],\"type\":\"scatter\"},{\"line\":{\"color\":\"black\",\"width\":10},\"mode\":\"lines\",\"name\":\"5' UTR\",\"x\":[34437398,34437808],\"y\":[0,0],\"type\":\"scatter\"},{\"line\":{\"color\":\"black\",\"width\":10},\"mode\":\"lines\",\"name\":\"5' UTR\",\"x\":[34435383,34435471],\"y\":[0,0],\"type\":\"scatter\"},{\"line\":{\"color\":\"black\",\"width\":10},\"mode\":\"lines\",\"name\":\"5' UTR\",\"x\":[34407524,34407735],\"y\":[0,0],\"type\":\"scatter\"},{\"line\":{\"color\":\"black\",\"width\":10},\"mode\":\"lines\",\"name\":\"5' UTR\",\"x\":[34406674,34406870],\"y\":[0,0],\"type\":\"scatter\"},{\"line\":{\"color\":\"black\",\"width\":10},\"mode\":\"lines\",\"name\":\"5' UTR\",\"x\":[34404917,34405055],\"y\":[0,0],\"type\":\"scatter\"},{\"line\":{\"color\":\"black\",\"width\":10},\"mode\":\"lines\",\"name\":\"5' UTR\",\"x\":[34400712,34400759],\"y\":[0,0],\"type\":\"scatter\"},{\"line\":{\"color\":\"black\",\"width\":10},\"mode\":\"lines\",\"name\":\"5' UTR\",\"x\":[34399155,34399203],\"y\":[0,0],\"type\":\"scatter\"},{\"line\":{\"color\":\"black\",\"width\":10},\"mode\":\"lines\",\"name\":\"5' UTR\",\"x\":[34398634,34398729],\"y\":[0,0],\"type\":\"scatter\"},{\"line\":{\"color\":\"black\",\"width\":10},\"mode\":\"lines\",\"name\":\"5' UTR\",\"x\":[34391123,34391426],\"y\":[0,0],\"type\":\"scatter\"},{\"line\":{\"color\":\"black\",\"width\":10},\"mode\":\"lines\",\"name\":\"5' UTR\",\"x\":[34389692,34389768],\"y\":[0,0],\"type\":\"scatter\"},{\"line\":{\"color\":\"black\",\"width\":10},\"mode\":\"lines\",\"name\":\"3' UTR\",\"x\":[34379068,34381410],\"y\":[0,0],\"type\":\"scatter\"},{\"marker\":{\"color\":\"red\",\"size\":10,\"symbol\":\"x\"},\"mode\":\"markers\",\"name\":\"repeat\",\"x\":[34419425,34419425],\"y\":[0,0],\"type\":\"scatter\"},{\"marker\":{\"color\":\"blue\",\"size\":10,\"symbol\":\"diamond\"},\"mode\":\"markers\",\"name\":\"rs148687709\",\"x\":[34426625,34426625],\"y\":[0,0],\"type\":\"scatter\"},{\"line\":{\"color\":\"red\",\"width\":5},\"mode\":\"lines\",\"name\":\"deletion\",\"x\":[34416680,34568563],\"y\":[-1,-1],\"type\":\"scatter\"},{\"marker\":{\"color\":\"black\",\"size\":10,\"symbol\":\"arrow-left\"},\"mode\":\"markers\",\"name\":\"GOLGA8A\",\"x\":[34431400,34431400],\"y\":[1,1],\"type\":\"scatter\"}],                        {\"template\":{\"data\":{\"histogram2dcontour\":[{\"type\":\"histogram2dcontour\",\"colorbar\":{\"outlinewidth\":0,\"ticks\":\"\"},\"colorscale\":[[0.0,\"#0d0887\"],[0.1111111111111111,\"#46039f\"],[0.2222222222222222,\"#7201a8\"],[0.3333333333333333,\"#9c179e\"],[0.4444444444444444,\"#bd3786\"],[0.5555555555555556,\"#d8576b\"],[0.6666666666666666,\"#ed7953\"],[0.7777777777777778,\"#fb9f3a\"],[0.8888888888888888,\"#fdca26\"],[1.0,\"#f0f921\"]]}],\"choropleth\":[{\"type\":\"choropleth\",\"colorbar\":{\"outlinewidth\":0,\"ticks\":\"\"}}],\"histogram2d\":[{\"type\":\"histogram2d\",\"colorbar\":{\"outlinewidth\":0,\"ticks\":\"\"},\"colorscale\":[[0.0,\"#0d0887\"],[0.1111111111111111,\"#46039f\"],[0.2222222222222222,\"#7201a8\"],[0.3333333333333333,\"#9c179e\"],[0.4444444444444444,\"#bd3786\"],[0.5555555555555556,\"#d8576b\"],[0.6666666666666666,\"#ed7953\"],[0.7777777777777778,\"#fb9f3a\"],[0.8888888888888888,\"#fdca26\"],[1.0,\"#f0f921\"]]}],\"heatmap\":[{\"type\":\"heatmap\",\"colorbar\":{\"outlinewidth\":0,\"ticks\":\"\"},\"colorscale\":[[0.0,\"#0d0887\"],[0.1111111111111111,\"#46039f\"],[0.2222222222222222,\"#7201a8\"],[0.3333333333333333,\"#9c179e\"],[0.4444444444444444,\"#bd3786\"],[0.5555555555555556,\"#d8576b\"],[0.6666666666666666,\"#ed7953\"],[0.7777777777777778,\"#fb9f3a\"],[0.8888888888888888,\"#fdca26\"],[1.0,\"#f0f921\"]]}],\"heatmapgl\":[{\"type\":\"heatmapgl\",\"colorbar\":{\"outlinewidth\":0,\"ticks\":\"\"},\"colorscale\":[[0.0,\"#0d0887\"],[0.1111111111111111,\"#46039f\"],[0.2222222222222222,\"#7201a8\"],[0.3333333333333333,\"#9c179e\"],[0.4444444444444444,\"#bd3786\"],[0.5555555555555556,\"#d8576b\"],[0.6666666666666666,\"#ed7953\"],[0.7777777777777778,\"#fb9f3a\"],[0.8888888888888888,\"#fdca26\"],[1.0,\"#f0f921\"]]}],\"contourcarpet\":[{\"type\":\"contourcarpet\",\"colorbar\":{\"outlinewidth\":0,\"ticks\":\"\"}}],\"contour\":[{\"type\":\"contour\",\"colorbar\":{\"outlinewidth\":0,\"ticks\":\"\"},\"colorscale\":[[0.0,\"#0d0887\"],[0.1111111111111111,\"#46039f\"],[0.2222222222222222,\"#7201a8\"],[0.3333333333333333,\"#9c179e\"],[0.4444444444444444,\"#bd3786\"],[0.5555555555555556,\"#d8576b\"],[0.6666666666666666,\"#ed7953\"],[0.7777777777777778,\"#fb9f3a\"],[0.8888888888888888,\"#fdca26\"],[1.0,\"#f0f921\"]]}],\"surface\":[{\"type\":\"surface\",\"colorbar\":{\"outlinewidth\":0,\"ticks\":\"\"},\"colorscale\":[[0.0,\"#0d0887\"],[0.1111111111111111,\"#46039f\"],[0.2222222222222222,\"#7201a8\"],[0.3333333333333333,\"#9c179e\"],[0.4444444444444444,\"#bd3786\"],[0.5555555555555556,\"#d8576b\"],[0.6666666666666666,\"#ed7953\"],[0.7777777777777778,\"#fb9f3a\"],[0.8888888888888888,\"#fdca26\"],[1.0,\"#f0f921\"]]}],\"mesh3d\":[{\"type\":\"mesh3d\",\"colorbar\":{\"outlinewidth\":0,\"ticks\":\"\"}}],\"scatter\":[{\"fillpattern\":{\"fillmode\":\"overlay\",\"size\":10,\"solidity\":0.2},\"type\":\"scatter\"}],\"parcoords\":[{\"type\":\"parcoords\",\"line\":{\"colorbar\":{\"outlinewidth\":0,\"ticks\":\"\"}}}],\"scatterpolargl\":[{\"type\":\"scatterpolargl\",\"marker\":{\"colorbar\":{\"outlinewidth\":0,\"ticks\":\"\"}}}],\"bar\":[{\"error_x\":{\"color\":\"#2a3f5f\"},\"error_y\":{\"color\":\"#2a3f5f\"},\"marker\":{\"line\":{\"color\":\"#E5ECF6\",\"width\":0.5},\"pattern\":{\"fillmode\":\"overlay\",\"size\":10,\"solidity\":0.2}},\"type\":\"bar\"}],\"scattergeo\":[{\"type\":\"scattergeo\",\"marker\":{\"colorbar\":{\"outlinewidth\":0,\"ticks\":\"\"}}}],\"scatterpolar\":[{\"type\":\"scatterpolar\",\"marker\":{\"colorbar\":{\"outlinewidth\":0,\"ticks\":\"\"}}}],\"histogram\":[{\"marker\":{\"pattern\":{\"fillmode\":\"overlay\",\"size\":10,\"solidity\":0.2}},\"type\":\"histogram\"}],\"scattergl\":[{\"type\":\"scattergl\",\"marker\":{\"colorbar\":{\"outlinewidth\":0,\"ticks\":\"\"}}}],\"scatter3d\":[{\"type\":\"scatter3d\",\"line\":{\"colorbar\":{\"outlinewidth\":0,\"ticks\":\"\"}},\"marker\":{\"colorbar\":{\"outlinewidth\":0,\"ticks\":\"\"}}}],\"scattermapbox\":[{\"type\":\"scattermapbox\",\"marker\":{\"colorbar\":{\"outlinewidth\":0,\"ticks\":\"\"}}}],\"scatterternary\":[{\"type\":\"scatterternary\",\"marker\":{\"colorbar\":{\"outlinewidth\":0,\"ticks\":\"\"}}}],\"scattercarpet\":[{\"type\":\"scattercarpet\",\"marker\":{\"colorbar\":{\"outlinewidth\":0,\"ticks\":\"\"}}}],\"carpet\":[{\"aaxis\":{\"endlinecolor\":\"#2a3f5f\",\"gridcolor\":\"white\",\"linecolor\":\"white\",\"minorgridcolor\":\"white\",\"startlinecolor\":\"#2a3f5f\"},\"baxis\":{\"endlinecolor\":\"#2a3f5f\",\"gridcolor\":\"white\",\"linecolor\":\"white\",\"minorgridcolor\":\"white\",\"startlinecolor\":\"#2a3f5f\"},\"type\":\"carpet\"}],\"table\":[{\"cells\":{\"fill\":{\"color\":\"#EBF0F8\"},\"line\":{\"color\":\"white\"}},\"header\":{\"fill\":{\"color\":\"#C8D4E3\"},\"line\":{\"color\":\"white\"}},\"type\":\"table\"}],\"barpolar\":[{\"marker\":{\"line\":{\"color\":\"#E5ECF6\",\"width\":0.5},\"pattern\":{\"fillmode\":\"overlay\",\"size\":10,\"solidity\":0.2}},\"type\":\"barpolar\"}],\"pie\":[{\"automargin\":true,\"type\":\"pie\"}]},\"layout\":{\"autotypenumbers\":\"strict\",\"colorway\":[\"#636efa\",\"#EF553B\",\"#00cc96\",\"#ab63fa\",\"#FFA15A\",\"#19d3f3\",\"#FF6692\",\"#B6E880\",\"#FF97FF\",\"#FECB52\"],\"font\":{\"color\":\"#2a3f5f\"},\"hovermode\":\"closest\",\"hoverlabel\":{\"align\":\"left\"},\"paper_bgcolor\":\"white\",\"plot_bgcolor\":\"#E5ECF6\",\"polar\":{\"bgcolor\":\"#E5ECF6\",\"angularaxis\":{\"gridcolor\":\"white\",\"linecolor\":\"white\",\"ticks\":\"\"},\"radialaxis\":{\"gridcolor\":\"white\",\"linecolor\":\"white\",\"ticks\":\"\"}},\"ternary\":{\"bgcolor\":\"#E5ECF6\",\"aaxis\":{\"gridcolor\":\"white\",\"linecolor\":\"white\",\"ticks\":\"\"},\"baxis\":{\"gridcolor\":\"white\",\"linecolor\":\"white\",\"ticks\":\"\"},\"caxis\":{\"gridcolor\":\"white\",\"linecolor\":\"white\",\"ticks\":\"\"}},\"coloraxis\":{\"colorbar\":{\"outlinewidth\":0,\"ticks\":\"\"}},\"colorscale\":{\"sequential\":[[0.0,\"#0d0887\"],[0.1111111111111111,\"#46039f\"],[0.2222222222222222,\"#7201a8\"],[0.3333333333333333,\"#9c179e\"],[0.4444444444444444,\"#bd3786\"],[0.5555555555555556,\"#d8576b\"],[0.6666666666666666,\"#ed7953\"],[0.7777777777777778,\"#fb9f3a\"],[0.8888888888888888,\"#fdca26\"],[1.0,\"#f0f921\"]],\"sequentialminus\":[[0.0,\"#0d0887\"],[0.1111111111111111,\"#46039f\"],[0.2222222222222222,\"#7201a8\"],[0.3333333333333333,\"#9c179e\"],[0.4444444444444444,\"#bd3786\"],[0.5555555555555556,\"#d8576b\"],[0.6666666666666666,\"#ed7953\"],[0.7777777777777778,\"#fb9f3a\"],[0.8888888888888888,\"#fdca26\"],[1.0,\"#f0f921\"]],\"diverging\":[[0,\"#8e0152\"],[0.1,\"#c51b7d\"],[0.2,\"#de77ae\"],[0.3,\"#f1b6da\"],[0.4,\"#fde0ef\"],[0.5,\"#f7f7f7\"],[0.6,\"#e6f5d0\"],[0.7,\"#b8e186\"],[0.8,\"#7fbc41\"],[0.9,\"#4d9221\"],[1,\"#276419\"]]},\"xaxis\":{\"gridcolor\":\"white\",\"linecolor\":\"white\",\"ticks\":\"\",\"title\":{\"standoff\":15},\"zerolinecolor\":\"white\",\"automargin\":true,\"zerolinewidth\":2},\"yaxis\":{\"gridcolor\":\"white\",\"linecolor\":\"white\",\"ticks\":\"\",\"title\":{\"standoff\":15},\"zerolinecolor\":\"white\",\"automargin\":true,\"zerolinewidth\":2},\"scene\":{\"xaxis\":{\"backgroundcolor\":\"#E5ECF6\",\"gridcolor\":\"white\",\"linecolor\":\"white\",\"showbackground\":true,\"ticks\":\"\",\"zerolinecolor\":\"white\",\"gridwidth\":2},\"yaxis\":{\"backgroundcolor\":\"#E5ECF6\",\"gridcolor\":\"white\",\"linecolor\":\"white\",\"showbackground\":true,\"ticks\":\"\",\"zerolinecolor\":\"white\",\"gridwidth\":2},\"zaxis\":{\"backgroundcolor\":\"#E5ECF6\",\"gridcolor\":\"white\",\"linecolor\":\"white\",\"showbackground\":true,\"ticks\":\"\",\"zerolinecolor\":\"white\",\"gridwidth\":2}},\"shapedefaults\":{\"line\":{\"color\":\"#2a3f5f\"}},\"annotationdefaults\":{\"arrowcolor\":\"#2a3f5f\",\"arrowhead\":0,\"arrowwidth\":1},\"geo\":{\"bgcolor\":\"white\",\"landcolor\":\"#E5ECF6\",\"subunitcolor\":\"white\",\"showland\":true,\"showlakes\":true,\"lakecolor\":\"white\"},\"title\":{\"x\":0.05},\"mapbox\":{\"style\":\"light\"}}},\"annotations\":[{\"ax\":0,\"ay\":0,\"font\":{\"color\":\"black\",\"size\":20},\"text\":\"rs148687709\",\"x\":34426625,\"y\":1},{\"ax\":0,\"ay\":0,\"font\":{\"color\":\"black\",\"size\":20},\"text\":\"Deletion\",\"x\":34427244.0,\"y\":-1.75},{\"ax\":0,\"ay\":0,\"font\":{\"color\":\"black\",\"size\":20},\"text\":\"STR\",\"x\":34419425,\"y\":1},{\"ax\":0,\"ay\":0,\"font\":{\"color\":\"black\",\"size\":20},\"text\":\"<i>GOLGA8A</i>\",\"x\":34435000,\"y\":1}],\"margin\":{\"l\":10,\"r\":10,\"t\":0,\"b\":5},\"plot_bgcolor\":\"white\",\"width\":1000,\"height\":80,\"showlegend\":false,\"xaxis\":{\"showgrid\":false,\"zeroline\":false,\"showline\":false,\"showticklabels\":false,\"range\":[34379068,34437808]},\"yaxis\":{\"showgrid\":false,\"zeroline\":false,\"showline\":false,\"showticklabels\":false}},                        {\"responsive\": true}                    ).then(function(){\n",
       "                            \n",
       "var gd = document.getElementById('35815ad1-3492-432c-ae2c-e44771e79d4b');\n",
       "var x = new MutationObserver(function (mutations, observer) {{\n",
       "        var display = window.getComputedStyle(gd).display;\n",
       "        if (!display || display === 'none') {{\n",
       "            console.log([gd, 'removed!']);\n",
       "            Plotly.purge(gd);\n",
       "            observer.disconnect();\n",
       "        }}\n",
       "}});\n",
       "\n",
       "// Listen for the removal of the full notebook cells\n",
       "var notebookContainer = gd.closest('#notebook-container');\n",
       "if (notebookContainer) {{\n",
       "    x.observe(notebookContainer, {childList: true});\n",
       "}}\n",
       "\n",
       "// Listen for the clearing of the current output cell\n",
       "var outputEl = gd.closest('.output');\n",
       "if (outputEl) {{\n",
       "    x.observe(outputEl, {childList: true});\n",
       "}}\n",
       "\n",
       "                        })                };                });            </script>        </div>"
      ]
     },
     "metadata": {},
     "output_type": "display_data"
    }
   ],
   "source": [
    "transcript = df[df[\"feature\"] == \"transcript\"]\n",
    "\n",
    "fig = go.Figure()\n",
    "# transcript\n",
    "fig.add_trace(go.Scatter(x=[transcript[\"start\"].values[0], transcript[\"end\"].values[0]], y=[0, 0], mode=\"lines\", line=dict(color=\"black\"), name=\"transcript\"))\n",
    "\n",
    "\n",
    "# exons\n",
    "for exon in df[df[\"feature\"] == \"CDS\"].iterrows():\n",
    "    fig.add_trace(\n",
    "        go.Scatter(\n",
    "            x=[exon[1][\"start\"], exon[1][\"end\"]], y=[0, 0], mode=\"lines\", line=dict(color=\"black\", width=30), name=\"exon\")\n",
    "    )\n",
    "\n",
    "# UTRs\n",
    "for utr in df[df[\"feature\"] == \"five_prime_UTR\"].iterrows():\n",
    "    fig.add_trace(\n",
    "        go.Scatter(\n",
    "            x=[utr[1][\"start\"], utr[1][\"end\"]], y=[0, 0], mode=\"lines\", line=dict(color=\"black\", width=10), name=\"5' UTR\"\n",
    "        )\n",
    "    )\n",
    "for utr in df[df[\"feature\"] == \"three_prime_UTR\"].iterrows():\n",
    "    fig.add_trace(\n",
    "        go.Scatter(\n",
    "            x=[utr[1][\"start\"], utr[1][\"end\"]], y=[0, 0], mode=\"lines\", line=dict(color=\"black\", width=10), name=\"3' UTR\"\n",
    "        )\n",
    "    )\n",
    "\n",
    "# location of the repeat\n",
    "fig.add_trace(\n",
    "    go.Scatter(\n",
    "        x=[34419425, 34419425],\n",
    "        y=[0, 0],\n",
    "        mode=\"markers\",\n",
    "        marker=dict(color=\"red\", size=10, symbol=\"x\"),\n",
    "        name=\"repeat\",\n",
    "    )\n",
    ")\n",
    "# location of the 625 variant\n",
    "fig.add_trace(\n",
    "    go.Scatter(\n",
    "        x=[34426625, 34426625],\n",
    "        y=[0, 0],\n",
    "        mode=\"markers\",\n",
    "        marker=dict(color=\"blue\", size=10, symbol=\"diamond\"),\n",
    "        name=\"rs148687709\",\n",
    "    )\n",
    ")\n",
    "fig.add_annotation(\n",
    "    x=34426625, y=1, text=\"rs148687709\", ax=0, ay=0, font=dict(color=\"black\", size=20)\n",
    ")\n",
    "\n",
    "# location of the deletion at 34416680 - 34568563\n",
    "fig.add_trace(\n",
    "    go.Scatter(\n",
    "        x=[34416680, 34568563],\n",
    "        y=[-1, -1],\n",
    "        mode=\"lines\",\n",
    "        line=dict(color=\"red\", width=5),\n",
    "        name=\"deletion\",\n",
    "    )\n",
    ")\n",
    "fig.add_annotation(\n",
    "    x=(34416680 + transcript[\"end\"].values[0])/2,\n",
    "    y=-1.75,\n",
    "    text=\"Deletion\",\n",
    "    ax=0,\n",
    "    ay=0,\n",
    "    font=dict(color=\"black\", size=20),\n",
    ")\n",
    "\n",
    "fig.update_layout(plot_bgcolor=\"white\", width=1000, height=80, showlegend=False, margin=dict(l=10, r=10, t=0, b=5))\n",
    "\n",
    "fig.add_annotation(x=34419425, y=1, text=\"STR\",  ax=0, ay=0, font=dict(color=\"black\", size=20))\n",
    "fig.add_annotation(\n",
    "    x=34435000, y=1, text=\"<i>GOLGA8A</i>\", ax=0, ay=0, font=dict(color=\"black\", size=20)\n",
    ")\n",
    "\n",
    "fig.add_trace(go.Scatter(x=[34431400, 34431400], y=[1, 1], mode=\"markers\", marker=dict(color=\"black\", size=10, symbol=\"arrow-left\"), name=\"GOLGA8A\"))\n",
    "\n",
    "fig.update_xaxes(showgrid=False, zeroline=False, showline=False, showticklabels=False, range=[transcript[\"start\"].values[0], transcript[\"end\"].values[0]])\n",
    "fig.update_yaxes(showgrid=False, zeroline=False, showline=False, showticklabels=False)\n",
    "\n",
    "\n",
    "fig.show()"
   ]
  },
  {
   "cell_type": "code",
   "execution_count": null,
   "metadata": {},
   "outputs": [],
   "source": []
  }
 ],
 "metadata": {
  "kernelspec": {
   "display_name": "Python 3",
   "language": "python",
   "name": "python3"
  },
  "language_info": {
   "codemirror_mode": {
    "name": "ipython",
    "version": 3
   },
   "file_extension": ".py",
   "mimetype": "text/x-python",
   "name": "python",
   "nbconvert_exporter": "python",
   "pygments_lexer": "ipython3",
   "version": "3.10.11"
  }
 },
 "nbformat": 4,
 "nbformat_minor": 2
}
