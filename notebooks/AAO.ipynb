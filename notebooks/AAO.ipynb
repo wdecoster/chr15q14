{
 "cells": [
  {
   "cell_type": "code",
   "execution_count": 1,
   "metadata": {},
   "outputs": [],
   "source": [
    "import pandas as pd\n",
    "import plotly.express as px\n",
    "import plotly.graph_objects as go"
   ]
  },
  {
   "cell_type": "code",
   "execution_count": 82,
   "metadata": {},
   "outputs": [],
   "source": [
    "# if rerunning this, make sure to remove the first row of the excel file, as it cannot be properly parsed\n",
    "df = pd.read_excel(\n",
    "    \"/home/wdecoster/local/fus-assoc/FTLD-FUS cohort 26-06-2023.xlsx\",\n",
    "    sheet_name=\"Cases in cohort\",\n",
    ")\n",
    "df = df[\n",
    "    (df[\"AGEATONSET\"] > 0) & (df[\"Type of case\"] == \"path\") & (df[\"Path\"] == \"aFTLD-U\")\n",
    "]\n",
    "\n",
    "df.loc[\n",
    "    (df[\"chr15:rs148687709\"] == \"TT\") & (df[\"chr15: rs549846383\"] == \"AT/AT\"), \"haplotype\"\n",
    "] = \"none\"\n",
    "df.loc[df[\"chr15:rs148687709\"].isin([\"TC\", \"CC\"]), \"haplotype\"] = \"HapB\"\n",
    "df.loc[df[\"chr15: rs549846383\"].isin([\"AT/A\", \"A/A\"]), \"haplotype\"] = \"HapA\"\n",
    "\n",
    "# df.loc[df[\"Gentli_ID\"] == \"rr_PIDN4463\", \"haplotype\"] = \"none\"\n",
    "\n",
    "df = df[[\"Gentli_ID\", \"AGEATONSET\", \"AGEATDEATH\", \"haplotype\"]]\n",
    "df = df[(df[\"haplotype\"] != \"nan\") & (~df[\"haplotype\"].isna())]\n",
    "\n",
    "df[\"issue\"] = df[\"Gentli_ID\"].apply(lambda x: \"Y\" if x == \"rr_PIDN4463\" else \"N\")\n",
    "df[\"Haplotype\"] = df[\"haplotype\"].replace(\n",
    "    {\"HapA\": \"chr15q14\", \"none\": \"Unknown\", \"HapB\": \"chr15q14\"}\n",
    ")"
   ]
  },
  {
   "cell_type": "code",
   "execution_count": 30,
   "metadata": {},
   "outputs": [
    {
     "data": {
      "application/vnd.plotly.v1+json": {
       "config": {
        "plotlyServerURL": "https://plot.ly",
        "toImageButtonOptions": {
         "filename": "",
         "format": "png",
         "height": 800,
         "scale": 5,
         "width": 800
        }
       },
       "data": [
        {
         "alignmentgroup": "True",
         "boxpoints": "all",
         "customdata": [
          [
           "rr_NA21_285"
          ],
          [
           "rr_EMC13_65"
          ],
          [
           "rr_EMC2013_098"
          ],
          [
           "rr_NHB14_059"
          ],
          [
           "rr_NHB15_114"
          ],
          [
           "rr_NHB16_047"
          ],
          [
           "rr_NHB18_068"
          ],
          [
           "rr_NHB94_068"
          ],
          [
           "rr_NHB95_041"
          ],
          [
           "rr_IB6387"
          ],
          [
           "rr_KCLA061_16"
          ],
          [
           "rr_KCLA156_17"
          ],
          [
           "rr_KULA_22549"
          ],
          [
           "rr_KULA_24063"
          ],
          [
           "rr_A15-074"
          ],
          [
           "rr_Muk49"
          ],
          [
           "rr_FTD196_1"
          ],
          [
           "rr_FTD397_1"
          ],
          [
           "rr_7965"
          ],
          [
           "rr_NA01_027"
          ],
          [
           "rr_NA09_238"
          ],
          [
           "rr_NA14_199"
          ],
          [
           "rr_NA19_291"
          ],
          [
           "rr_NA19_309"
          ],
          [
           "rr_NA20_415"
          ],
          [
           "rr_NA22_425"
          ],
          [
           "rr_NA22_197"
          ],
          [
           "rr_NA23_161"
          ],
          [
           "rr_A02_164"
          ],
          [
           "rr_UCL12461"
          ],
          [
           "rr_UCL1506"
          ],
          [
           "rr_UCL19247"
          ],
          [
           "rr_UCL2783"
          ],
          [
           "rr_UBC66_1"
          ],
          [
           "rr_X5929"
          ],
          [
           "rr_PIDN106"
          ],
          [
           "rr_PIDN1734"
          ],
          [
           "rr_PIDN19525"
          ],
          [
           "rr_PIDN2662"
          ],
          [
           "rr_PIDN3794"
          ],
          [
           "rr_PIDN4463"
          ],
          [
           "rr_PIDN6543"
          ],
          [
           "rr_PIDN9402"
          ],
          [
           "rr_UP101220"
          ],
          [
           "rr_NRA22654"
          ],
          [
           "rr_UNSW2220"
          ],
          [
           "rr_UNSW22478"
          ],
          [
           "rr_UNSW22488"
          ],
          [
           "rr_NP18739"
          ],
          [
           "rr_LN_C10_25594"
          ],
          [
           "rr_LN_C12_07006"
          ],
          [
           "rr_Pt_8482"
          ],
          [
           "rr_E13_56"
          ],
          [
           "rr_PIDN17760"
          ],
          [
           "rr_QSBB51_18"
          ],
          [
           "rr_QSBB81_17"
          ],
          [
           "rr_X5817"
          ],
          [
           "rr_NA22_365"
          ],
          [
           "rr_2132"
          ],
          [
           "rr_KCLA311_98"
          ],
          [
           "rr_CW05_004"
          ],
          [
           "rr_NHB15_065"
          ],
          [
           "rr_2005_044"
          ]
         ],
         "fillcolor": "rgba(255,255,255,0)",
         "hoveron": "points",
         "hovertemplate": "Sex=%{y}<br>Age at symptom onset=%{x}<br>Gentli_ID=%{customdata[0]}<extra></extra>",
         "jitter": 1,
         "legendgroup": "M",
         "line": {
          "color": "rgba(255,255,255,0)"
         },
         "marker": {
          "color": "#636efa",
          "opacity": 0.5,
          "size": 12
         },
         "name": "M",
         "offsetgroup": "M",
         "orientation": "h",
         "pointpos": 0,
         "showlegend": true,
         "type": "box",
         "x": [
          59,
          42,
          44,
          44,
          73,
          40,
          54,
          56,
          49,
          50,
          43,
          36,
          42,
          42,
          43,
          28,
          66,
          51,
          46,
          38,
          48,
          30,
          41,
          47,
          55,
          49,
          41,
          38,
          59,
          46,
          51,
          43,
          44,
          46,
          34,
          48,
          55,
          26,
          37,
          32,
          27,
          46,
          44,
          46,
          46,
          56,
          59,
          33,
          39,
          40,
          48,
          59,
          26,
          63,
          61,
          49,
          54,
          44,
          63,
          59,
          41,
          50,
          45
         ],
         "x0": " ",
         "xaxis": "x",
         "y": [
          "M",
          "M",
          "M",
          "M",
          "M",
          "M",
          "M",
          "M",
          "M",
          "M",
          "M",
          "M",
          "M",
          "M",
          "M",
          "M",
          "M",
          "M",
          "M",
          "M",
          "M",
          "M",
          "M",
          "M",
          "M",
          "M",
          "M",
          "M",
          "M",
          "M",
          "M",
          "M",
          "M",
          "M",
          "M",
          "M",
          "M",
          "M",
          "M",
          "M",
          "M",
          "M",
          "M",
          "M",
          "M",
          "M",
          "M",
          "M",
          "M",
          "M",
          "M",
          "M",
          "M",
          "M",
          "M",
          "M",
          "M",
          "M",
          "M",
          "M",
          "M",
          "M",
          "M"
         ],
         "y0": " ",
         "yaxis": "y"
        },
        {
         "alignmentgroup": "True",
         "boxpoints": "all",
         "customdata": [
          [
           "rr_NHB03_018"
          ],
          [
           "rr_NHB05_059"
          ],
          [
           "rr_NHB05_082"
          ],
          [
           "rr_IB5534"
          ],
          [
           "rr_KULA_23717"
          ],
          [
           "rr_R556"
          ],
          [
           "rr_RZ257"
          ],
          [
           "rr_RZ462"
          ],
          [
           "rr_A06_120"
          ],
          [
           "rr_A17_05"
          ],
          [
           "rr_2T7T4"
          ],
          [
           "rr_VA05_109"
          ],
          [
           "rr_PIDN12322"
          ],
          [
           "rr_PIDN738"
          ],
          [
           "rr_CW00_009"
          ],
          [
           "rr_UNSW2185"
          ],
          [
           "rr_RNBC-22_16"
          ],
          [
           "rr_LN_N00_1835"
          ],
          [
           "rr_LN_C14_36644"
          ],
          [
           "rr_Ro_AH11.2"
          ],
          [
           "rr_Pt_3303"
          ],
          [
           "rr_2021_017"
          ],
          [
           "rr_NA23_005"
          ],
          [
           "rr_NP43508"
          ]
         ],
         "fillcolor": "rgba(255,255,255,0)",
         "hoveron": "points",
         "hovertemplate": "Sex=%{y}<br>Age at symptom onset=%{x}<br>Gentli_ID=%{customdata[0]}<extra></extra>",
         "jitter": 1,
         "legendgroup": "F",
         "line": {
          "color": "rgba(255,255,255,0)"
         },
         "marker": {
          "color": "#EF553B",
          "opacity": 0.5,
          "size": 12
         },
         "name": "F",
         "offsetgroup": "F",
         "orientation": "h",
         "pointpos": 0,
         "showlegend": true,
         "type": "box",
         "x": [
          35,
          32,
          30,
          29,
          39,
          38,
          46,
          39,
          33,
          33,
          36,
          38,
          57,
          43,
          48,
          60,
          53,
          31,
          50,
          39,
          52,
          21,
          55,
          57
         ],
         "x0": " ",
         "xaxis": "x",
         "y": [
          "F",
          "F",
          "F",
          "F",
          "F",
          "F",
          "F",
          "F",
          "F",
          "F",
          "F",
          "F",
          "F",
          "F",
          "F",
          "F",
          "F",
          "F",
          "F",
          "F",
          "F",
          "F",
          "F",
          "F"
         ],
         "y0": " ",
         "yaxis": "y"
        }
       ],
       "layout": {
        "boxmode": "overlay",
        "font": {
         "size": 20
        },
        "height": 800,
        "legend": {
         "title": {
          "text": "Sex"
         },
         "tracegroupgap": 0
        },
        "plot_bgcolor": "rgba(0, 0, 0, 0)",
        "template": {
         "data": {
          "bar": [
           {
            "error_x": {
             "color": "#2a3f5f"
            },
            "error_y": {
             "color": "#2a3f5f"
            },
            "marker": {
             "line": {
              "color": "#E5ECF6",
              "width": 0.5
             },
             "pattern": {
              "fillmode": "overlay",
              "size": 10,
              "solidity": 0.2
             }
            },
            "type": "bar"
           }
          ],
          "barpolar": [
           {
            "marker": {
             "line": {
              "color": "#E5ECF6",
              "width": 0.5
             },
             "pattern": {
              "fillmode": "overlay",
              "size": 10,
              "solidity": 0.2
             }
            },
            "type": "barpolar"
           }
          ],
          "carpet": [
           {
            "aaxis": {
             "endlinecolor": "#2a3f5f",
             "gridcolor": "white",
             "linecolor": "white",
             "minorgridcolor": "white",
             "startlinecolor": "#2a3f5f"
            },
            "baxis": {
             "endlinecolor": "#2a3f5f",
             "gridcolor": "white",
             "linecolor": "white",
             "minorgridcolor": "white",
             "startlinecolor": "#2a3f5f"
            },
            "type": "carpet"
           }
          ],
          "choropleth": [
           {
            "colorbar": {
             "outlinewidth": 0,
             "ticks": ""
            },
            "type": "choropleth"
           }
          ],
          "contour": [
           {
            "colorbar": {
             "outlinewidth": 0,
             "ticks": ""
            },
            "colorscale": [
             [
              0,
              "#0d0887"
             ],
             [
              0.1111111111111111,
              "#46039f"
             ],
             [
              0.2222222222222222,
              "#7201a8"
             ],
             [
              0.3333333333333333,
              "#9c179e"
             ],
             [
              0.4444444444444444,
              "#bd3786"
             ],
             [
              0.5555555555555556,
              "#d8576b"
             ],
             [
              0.6666666666666666,
              "#ed7953"
             ],
             [
              0.7777777777777778,
              "#fb9f3a"
             ],
             [
              0.8888888888888888,
              "#fdca26"
             ],
             [
              1,
              "#f0f921"
             ]
            ],
            "type": "contour"
           }
          ],
          "contourcarpet": [
           {
            "colorbar": {
             "outlinewidth": 0,
             "ticks": ""
            },
            "type": "contourcarpet"
           }
          ],
          "heatmap": [
           {
            "colorbar": {
             "outlinewidth": 0,
             "ticks": ""
            },
            "colorscale": [
             [
              0,
              "#0d0887"
             ],
             [
              0.1111111111111111,
              "#46039f"
             ],
             [
              0.2222222222222222,
              "#7201a8"
             ],
             [
              0.3333333333333333,
              "#9c179e"
             ],
             [
              0.4444444444444444,
              "#bd3786"
             ],
             [
              0.5555555555555556,
              "#d8576b"
             ],
             [
              0.6666666666666666,
              "#ed7953"
             ],
             [
              0.7777777777777778,
              "#fb9f3a"
             ],
             [
              0.8888888888888888,
              "#fdca26"
             ],
             [
              1,
              "#f0f921"
             ]
            ],
            "type": "heatmap"
           }
          ],
          "heatmapgl": [
           {
            "colorbar": {
             "outlinewidth": 0,
             "ticks": ""
            },
            "colorscale": [
             [
              0,
              "#0d0887"
             ],
             [
              0.1111111111111111,
              "#46039f"
             ],
             [
              0.2222222222222222,
              "#7201a8"
             ],
             [
              0.3333333333333333,
              "#9c179e"
             ],
             [
              0.4444444444444444,
              "#bd3786"
             ],
             [
              0.5555555555555556,
              "#d8576b"
             ],
             [
              0.6666666666666666,
              "#ed7953"
             ],
             [
              0.7777777777777778,
              "#fb9f3a"
             ],
             [
              0.8888888888888888,
              "#fdca26"
             ],
             [
              1,
              "#f0f921"
             ]
            ],
            "type": "heatmapgl"
           }
          ],
          "histogram": [
           {
            "marker": {
             "pattern": {
              "fillmode": "overlay",
              "size": 10,
              "solidity": 0.2
             }
            },
            "type": "histogram"
           }
          ],
          "histogram2d": [
           {
            "colorbar": {
             "outlinewidth": 0,
             "ticks": ""
            },
            "colorscale": [
             [
              0,
              "#0d0887"
             ],
             [
              0.1111111111111111,
              "#46039f"
             ],
             [
              0.2222222222222222,
              "#7201a8"
             ],
             [
              0.3333333333333333,
              "#9c179e"
             ],
             [
              0.4444444444444444,
              "#bd3786"
             ],
             [
              0.5555555555555556,
              "#d8576b"
             ],
             [
              0.6666666666666666,
              "#ed7953"
             ],
             [
              0.7777777777777778,
              "#fb9f3a"
             ],
             [
              0.8888888888888888,
              "#fdca26"
             ],
             [
              1,
              "#f0f921"
             ]
            ],
            "type": "histogram2d"
           }
          ],
          "histogram2dcontour": [
           {
            "colorbar": {
             "outlinewidth": 0,
             "ticks": ""
            },
            "colorscale": [
             [
              0,
              "#0d0887"
             ],
             [
              0.1111111111111111,
              "#46039f"
             ],
             [
              0.2222222222222222,
              "#7201a8"
             ],
             [
              0.3333333333333333,
              "#9c179e"
             ],
             [
              0.4444444444444444,
              "#bd3786"
             ],
             [
              0.5555555555555556,
              "#d8576b"
             ],
             [
              0.6666666666666666,
              "#ed7953"
             ],
             [
              0.7777777777777778,
              "#fb9f3a"
             ],
             [
              0.8888888888888888,
              "#fdca26"
             ],
             [
              1,
              "#f0f921"
             ]
            ],
            "type": "histogram2dcontour"
           }
          ],
          "mesh3d": [
           {
            "colorbar": {
             "outlinewidth": 0,
             "ticks": ""
            },
            "type": "mesh3d"
           }
          ],
          "parcoords": [
           {
            "line": {
             "colorbar": {
              "outlinewidth": 0,
              "ticks": ""
             }
            },
            "type": "parcoords"
           }
          ],
          "pie": [
           {
            "automargin": true,
            "type": "pie"
           }
          ],
          "scatter": [
           {
            "fillpattern": {
             "fillmode": "overlay",
             "size": 10,
             "solidity": 0.2
            },
            "type": "scatter"
           }
          ],
          "scatter3d": [
           {
            "line": {
             "colorbar": {
              "outlinewidth": 0,
              "ticks": ""
             }
            },
            "marker": {
             "colorbar": {
              "outlinewidth": 0,
              "ticks": ""
             }
            },
            "type": "scatter3d"
           }
          ],
          "scattercarpet": [
           {
            "marker": {
             "colorbar": {
              "outlinewidth": 0,
              "ticks": ""
             }
            },
            "type": "scattercarpet"
           }
          ],
          "scattergeo": [
           {
            "marker": {
             "colorbar": {
              "outlinewidth": 0,
              "ticks": ""
             }
            },
            "type": "scattergeo"
           }
          ],
          "scattergl": [
           {
            "marker": {
             "colorbar": {
              "outlinewidth": 0,
              "ticks": ""
             }
            },
            "type": "scattergl"
           }
          ],
          "scattermapbox": [
           {
            "marker": {
             "colorbar": {
              "outlinewidth": 0,
              "ticks": ""
             }
            },
            "type": "scattermapbox"
           }
          ],
          "scatterpolar": [
           {
            "marker": {
             "colorbar": {
              "outlinewidth": 0,
              "ticks": ""
             }
            },
            "type": "scatterpolar"
           }
          ],
          "scatterpolargl": [
           {
            "marker": {
             "colorbar": {
              "outlinewidth": 0,
              "ticks": ""
             }
            },
            "type": "scatterpolargl"
           }
          ],
          "scatterternary": [
           {
            "marker": {
             "colorbar": {
              "outlinewidth": 0,
              "ticks": ""
             }
            },
            "type": "scatterternary"
           }
          ],
          "surface": [
           {
            "colorbar": {
             "outlinewidth": 0,
             "ticks": ""
            },
            "colorscale": [
             [
              0,
              "#0d0887"
             ],
             [
              0.1111111111111111,
              "#46039f"
             ],
             [
              0.2222222222222222,
              "#7201a8"
             ],
             [
              0.3333333333333333,
              "#9c179e"
             ],
             [
              0.4444444444444444,
              "#bd3786"
             ],
             [
              0.5555555555555556,
              "#d8576b"
             ],
             [
              0.6666666666666666,
              "#ed7953"
             ],
             [
              0.7777777777777778,
              "#fb9f3a"
             ],
             [
              0.8888888888888888,
              "#fdca26"
             ],
             [
              1,
              "#f0f921"
             ]
            ],
            "type": "surface"
           }
          ],
          "table": [
           {
            "cells": {
             "fill": {
              "color": "#EBF0F8"
             },
             "line": {
              "color": "white"
             }
            },
            "header": {
             "fill": {
              "color": "#C8D4E3"
             },
             "line": {
              "color": "white"
             }
            },
            "type": "table"
           }
          ]
         },
         "layout": {
          "annotationdefaults": {
           "arrowcolor": "#2a3f5f",
           "arrowhead": 0,
           "arrowwidth": 1
          },
          "autotypenumbers": "strict",
          "coloraxis": {
           "colorbar": {
            "outlinewidth": 0,
            "ticks": ""
           }
          },
          "colorscale": {
           "diverging": [
            [
             0,
             "#8e0152"
            ],
            [
             0.1,
             "#c51b7d"
            ],
            [
             0.2,
             "#de77ae"
            ],
            [
             0.3,
             "#f1b6da"
            ],
            [
             0.4,
             "#fde0ef"
            ],
            [
             0.5,
             "#f7f7f7"
            ],
            [
             0.6,
             "#e6f5d0"
            ],
            [
             0.7,
             "#b8e186"
            ],
            [
             0.8,
             "#7fbc41"
            ],
            [
             0.9,
             "#4d9221"
            ],
            [
             1,
             "#276419"
            ]
           ],
           "sequential": [
            [
             0,
             "#0d0887"
            ],
            [
             0.1111111111111111,
             "#46039f"
            ],
            [
             0.2222222222222222,
             "#7201a8"
            ],
            [
             0.3333333333333333,
             "#9c179e"
            ],
            [
             0.4444444444444444,
             "#bd3786"
            ],
            [
             0.5555555555555556,
             "#d8576b"
            ],
            [
             0.6666666666666666,
             "#ed7953"
            ],
            [
             0.7777777777777778,
             "#fb9f3a"
            ],
            [
             0.8888888888888888,
             "#fdca26"
            ],
            [
             1,
             "#f0f921"
            ]
           ],
           "sequentialminus": [
            [
             0,
             "#0d0887"
            ],
            [
             0.1111111111111111,
             "#46039f"
            ],
            [
             0.2222222222222222,
             "#7201a8"
            ],
            [
             0.3333333333333333,
             "#9c179e"
            ],
            [
             0.4444444444444444,
             "#bd3786"
            ],
            [
             0.5555555555555556,
             "#d8576b"
            ],
            [
             0.6666666666666666,
             "#ed7953"
            ],
            [
             0.7777777777777778,
             "#fb9f3a"
            ],
            [
             0.8888888888888888,
             "#fdca26"
            ],
            [
             1,
             "#f0f921"
            ]
           ]
          },
          "colorway": [
           "#636efa",
           "#EF553B",
           "#00cc96",
           "#ab63fa",
           "#FFA15A",
           "#19d3f3",
           "#FF6692",
           "#B6E880",
           "#FF97FF",
           "#FECB52"
          ],
          "font": {
           "color": "#2a3f5f"
          },
          "geo": {
           "bgcolor": "white",
           "lakecolor": "white",
           "landcolor": "#E5ECF6",
           "showlakes": true,
           "showland": true,
           "subunitcolor": "white"
          },
          "hoverlabel": {
           "align": "left"
          },
          "hovermode": "closest",
          "mapbox": {
           "style": "light"
          },
          "paper_bgcolor": "white",
          "plot_bgcolor": "#E5ECF6",
          "polar": {
           "angularaxis": {
            "gridcolor": "white",
            "linecolor": "white",
            "ticks": ""
           },
           "bgcolor": "#E5ECF6",
           "radialaxis": {
            "gridcolor": "white",
            "linecolor": "white",
            "ticks": ""
           }
          },
          "scene": {
           "xaxis": {
            "backgroundcolor": "#E5ECF6",
            "gridcolor": "white",
            "gridwidth": 2,
            "linecolor": "white",
            "showbackground": true,
            "ticks": "",
            "zerolinecolor": "white"
           },
           "yaxis": {
            "backgroundcolor": "#E5ECF6",
            "gridcolor": "white",
            "gridwidth": 2,
            "linecolor": "white",
            "showbackground": true,
            "ticks": "",
            "zerolinecolor": "white"
           },
           "zaxis": {
            "backgroundcolor": "#E5ECF6",
            "gridcolor": "white",
            "gridwidth": 2,
            "linecolor": "white",
            "showbackground": true,
            "ticks": "",
            "zerolinecolor": "white"
           }
          },
          "shapedefaults": {
           "line": {
            "color": "#2a3f5f"
           }
          },
          "ternary": {
           "aaxis": {
            "gridcolor": "white",
            "linecolor": "white",
            "ticks": ""
           },
           "baxis": {
            "gridcolor": "white",
            "linecolor": "white",
            "ticks": ""
           },
           "bgcolor": "#E5ECF6",
           "caxis": {
            "gridcolor": "white",
            "linecolor": "white",
            "ticks": ""
           }
          },
          "title": {
           "x": 0.05
          },
          "xaxis": {
           "automargin": true,
           "gridcolor": "white",
           "linecolor": "white",
           "ticks": "",
           "title": {
            "standoff": 15
           },
           "zerolinecolor": "white",
           "zerolinewidth": 2
          },
          "yaxis": {
           "automargin": true,
           "gridcolor": "white",
           "linecolor": "white",
           "ticks": "",
           "title": {
            "standoff": 15
           },
           "zerolinecolor": "white",
           "zerolinewidth": 2
          }
         }
        },
        "title": {
         "text": "Age at symptom onset"
        },
        "width": 800,
        "xaxis": {
         "anchor": "y",
         "domain": [
          0,
          1
         ],
         "linecolor": "black",
         "linewidth": 2,
         "mirror": true,
         "showline": true,
         "title": {
          "text": "Age at symptom onset"
         }
        },
        "yaxis": {
         "anchor": "x",
         "categoryarray": [
          "F",
          "M"
         ],
         "categoryorder": "array",
         "domain": [
          0,
          1
         ],
         "linecolor": "black",
         "linewidth": 2,
         "mirror": true,
         "showline": true,
         "title": {
          "text": "Sex"
         }
        }
       }
      },
      "text/html": [
       "<div>                            <div id=\"3b22b072-f84f-437c-8133-2d226a0b4f22\" class=\"plotly-graph-div\" style=\"height:800px; width:800px;\"></div>            <script type=\"text/javascript\">                require([\"plotly\"], function(Plotly) {                    window.PLOTLYENV=window.PLOTLYENV || {};                                    if (document.getElementById(\"3b22b072-f84f-437c-8133-2d226a0b4f22\")) {                    Plotly.newPlot(                        \"3b22b072-f84f-437c-8133-2d226a0b4f22\",                        [{\"alignmentgroup\":\"True\",\"boxpoints\":\"all\",\"customdata\":[[\"rr_NA21_285\"],[\"rr_EMC13_65\"],[\"rr_EMC2013_098\"],[\"rr_NHB14_059\"],[\"rr_NHB15_114\"],[\"rr_NHB16_047\"],[\"rr_NHB18_068\"],[\"rr_NHB94_068\"],[\"rr_NHB95_041\"],[\"rr_IB6387\"],[\"rr_KCLA061_16\"],[\"rr_KCLA156_17\"],[\"rr_KULA_22549\"],[\"rr_KULA_24063\"],[\"rr_A15-074\"],[\"rr_Muk49\"],[\"rr_FTD196_1\"],[\"rr_FTD397_1\"],[\"rr_7965\"],[\"rr_NA01_027\"],[\"rr_NA09_238\"],[\"rr_NA14_199\"],[\"rr_NA19_291\"],[\"rr_NA19_309\"],[\"rr_NA20_415\"],[\"rr_NA22_425\"],[\"rr_NA22_197\"],[\"rr_NA23_161\"],[\"rr_A02_164\"],[\"rr_UCL12461\"],[\"rr_UCL1506\"],[\"rr_UCL19247\"],[\"rr_UCL2783\"],[\"rr_UBC66_1\"],[\"rr_X5929\"],[\"rr_PIDN106\"],[\"rr_PIDN1734\"],[\"rr_PIDN19525\"],[\"rr_PIDN2662\"],[\"rr_PIDN3794\"],[\"rr_PIDN4463\"],[\"rr_PIDN6543\"],[\"rr_PIDN9402\"],[\"rr_UP101220\"],[\"rr_NRA22654\"],[\"rr_UNSW2220\"],[\"rr_UNSW22478\"],[\"rr_UNSW22488\"],[\"rr_NP18739\"],[\"rr_LN_C10_25594\"],[\"rr_LN_C12_07006\"],[\"rr_Pt_8482\"],[\"rr_E13_56\"],[\"rr_PIDN17760\"],[\"rr_QSBB51_18\"],[\"rr_QSBB81_17\"],[\"rr_X5817\"],[\"rr_NA22_365\"],[\"rr_2132\"],[\"rr_KCLA311_98\"],[\"rr_CW05_004\"],[\"rr_NHB15_065\"],[\"rr_2005_044\"]],\"fillcolor\":\"rgba(255,255,255,0)\",\"hoveron\":\"points\",\"hovertemplate\":\"Sex=%{y}\\u003cbr\\u003eAge at symptom onset=%{x}\\u003cbr\\u003eGentli_ID=%{customdata[0]}\\u003cextra\\u003e\\u003c\\u002fextra\\u003e\",\"legendgroup\":\"M\",\"line\":{\"color\":\"rgba(255,255,255,0)\"},\"marker\":{\"color\":\"#636efa\",\"opacity\":0.5,\"size\":12},\"name\":\"M\",\"offsetgroup\":\"M\",\"orientation\":\"h\",\"pointpos\":0,\"showlegend\":true,\"x\":[59,42,44,44,73,40,54,56,49,50,43,36,42,42,43,28,66,51,46,38,48,30,41,47,55,49,41,38,59,46,51,43,44,46,34,48,55,26,37,32,27,46,44,46,46,56,59,33,39,40,48,59,26,63,61,49,54,44,63,59,41,50,45],\"x0\":\" \",\"xaxis\":\"x\",\"y\":[\"M\",\"M\",\"M\",\"M\",\"M\",\"M\",\"M\",\"M\",\"M\",\"M\",\"M\",\"M\",\"M\",\"M\",\"M\",\"M\",\"M\",\"M\",\"M\",\"M\",\"M\",\"M\",\"M\",\"M\",\"M\",\"M\",\"M\",\"M\",\"M\",\"M\",\"M\",\"M\",\"M\",\"M\",\"M\",\"M\",\"M\",\"M\",\"M\",\"M\",\"M\",\"M\",\"M\",\"M\",\"M\",\"M\",\"M\",\"M\",\"M\",\"M\",\"M\",\"M\",\"M\",\"M\",\"M\",\"M\",\"M\",\"M\",\"M\",\"M\",\"M\",\"M\",\"M\"],\"y0\":\" \",\"yaxis\":\"y\",\"type\":\"box\",\"jitter\":1},{\"alignmentgroup\":\"True\",\"boxpoints\":\"all\",\"customdata\":[[\"rr_NHB03_018\"],[\"rr_NHB05_059\"],[\"rr_NHB05_082\"],[\"rr_IB5534\"],[\"rr_KULA_23717\"],[\"rr_R556\"],[\"rr_RZ257\"],[\"rr_RZ462\"],[\"rr_A06_120\"],[\"rr_A17_05\"],[\"rr_2T7T4\"],[\"rr_VA05_109\"],[\"rr_PIDN12322\"],[\"rr_PIDN738\"],[\"rr_CW00_009\"],[\"rr_UNSW2185\"],[\"rr_RNBC-22_16\"],[\"rr_LN_N00_1835\"],[\"rr_LN_C14_36644\"],[\"rr_Ro_AH11.2\"],[\"rr_Pt_3303\"],[\"rr_2021_017\"],[\"rr_NA23_005\"],[\"rr_NP43508\"]],\"fillcolor\":\"rgba(255,255,255,0)\",\"hoveron\":\"points\",\"hovertemplate\":\"Sex=%{y}\\u003cbr\\u003eAge at symptom onset=%{x}\\u003cbr\\u003eGentli_ID=%{customdata[0]}\\u003cextra\\u003e\\u003c\\u002fextra\\u003e\",\"legendgroup\":\"F\",\"line\":{\"color\":\"rgba(255,255,255,0)\"},\"marker\":{\"color\":\"#EF553B\",\"opacity\":0.5,\"size\":12},\"name\":\"F\",\"offsetgroup\":\"F\",\"orientation\":\"h\",\"pointpos\":0,\"showlegend\":true,\"x\":[35,32,30,29,39,38,46,39,33,33,36,38,57,43,48,60,53,31,50,39,52,21,55,57],\"x0\":\" \",\"xaxis\":\"x\",\"y\":[\"F\",\"F\",\"F\",\"F\",\"F\",\"F\",\"F\",\"F\",\"F\",\"F\",\"F\",\"F\",\"F\",\"F\",\"F\",\"F\",\"F\",\"F\",\"F\",\"F\",\"F\",\"F\",\"F\",\"F\"],\"y0\":\" \",\"yaxis\":\"y\",\"type\":\"box\",\"jitter\":1}],                        {\"template\":{\"data\":{\"histogram2dcontour\":[{\"type\":\"histogram2dcontour\",\"colorbar\":{\"outlinewidth\":0,\"ticks\":\"\"},\"colorscale\":[[0.0,\"#0d0887\"],[0.1111111111111111,\"#46039f\"],[0.2222222222222222,\"#7201a8\"],[0.3333333333333333,\"#9c179e\"],[0.4444444444444444,\"#bd3786\"],[0.5555555555555556,\"#d8576b\"],[0.6666666666666666,\"#ed7953\"],[0.7777777777777778,\"#fb9f3a\"],[0.8888888888888888,\"#fdca26\"],[1.0,\"#f0f921\"]]}],\"choropleth\":[{\"type\":\"choropleth\",\"colorbar\":{\"outlinewidth\":0,\"ticks\":\"\"}}],\"histogram2d\":[{\"type\":\"histogram2d\",\"colorbar\":{\"outlinewidth\":0,\"ticks\":\"\"},\"colorscale\":[[0.0,\"#0d0887\"],[0.1111111111111111,\"#46039f\"],[0.2222222222222222,\"#7201a8\"],[0.3333333333333333,\"#9c179e\"],[0.4444444444444444,\"#bd3786\"],[0.5555555555555556,\"#d8576b\"],[0.6666666666666666,\"#ed7953\"],[0.7777777777777778,\"#fb9f3a\"],[0.8888888888888888,\"#fdca26\"],[1.0,\"#f0f921\"]]}],\"heatmap\":[{\"type\":\"heatmap\",\"colorbar\":{\"outlinewidth\":0,\"ticks\":\"\"},\"colorscale\":[[0.0,\"#0d0887\"],[0.1111111111111111,\"#46039f\"],[0.2222222222222222,\"#7201a8\"],[0.3333333333333333,\"#9c179e\"],[0.4444444444444444,\"#bd3786\"],[0.5555555555555556,\"#d8576b\"],[0.6666666666666666,\"#ed7953\"],[0.7777777777777778,\"#fb9f3a\"],[0.8888888888888888,\"#fdca26\"],[1.0,\"#f0f921\"]]}],\"heatmapgl\":[{\"type\":\"heatmapgl\",\"colorbar\":{\"outlinewidth\":0,\"ticks\":\"\"},\"colorscale\":[[0.0,\"#0d0887\"],[0.1111111111111111,\"#46039f\"],[0.2222222222222222,\"#7201a8\"],[0.3333333333333333,\"#9c179e\"],[0.4444444444444444,\"#bd3786\"],[0.5555555555555556,\"#d8576b\"],[0.6666666666666666,\"#ed7953\"],[0.7777777777777778,\"#fb9f3a\"],[0.8888888888888888,\"#fdca26\"],[1.0,\"#f0f921\"]]}],\"contourcarpet\":[{\"type\":\"contourcarpet\",\"colorbar\":{\"outlinewidth\":0,\"ticks\":\"\"}}],\"contour\":[{\"type\":\"contour\",\"colorbar\":{\"outlinewidth\":0,\"ticks\":\"\"},\"colorscale\":[[0.0,\"#0d0887\"],[0.1111111111111111,\"#46039f\"],[0.2222222222222222,\"#7201a8\"],[0.3333333333333333,\"#9c179e\"],[0.4444444444444444,\"#bd3786\"],[0.5555555555555556,\"#d8576b\"],[0.6666666666666666,\"#ed7953\"],[0.7777777777777778,\"#fb9f3a\"],[0.8888888888888888,\"#fdca26\"],[1.0,\"#f0f921\"]]}],\"surface\":[{\"type\":\"surface\",\"colorbar\":{\"outlinewidth\":0,\"ticks\":\"\"},\"colorscale\":[[0.0,\"#0d0887\"],[0.1111111111111111,\"#46039f\"],[0.2222222222222222,\"#7201a8\"],[0.3333333333333333,\"#9c179e\"],[0.4444444444444444,\"#bd3786\"],[0.5555555555555556,\"#d8576b\"],[0.6666666666666666,\"#ed7953\"],[0.7777777777777778,\"#fb9f3a\"],[0.8888888888888888,\"#fdca26\"],[1.0,\"#f0f921\"]]}],\"mesh3d\":[{\"type\":\"mesh3d\",\"colorbar\":{\"outlinewidth\":0,\"ticks\":\"\"}}],\"scatter\":[{\"fillpattern\":{\"fillmode\":\"overlay\",\"size\":10,\"solidity\":0.2},\"type\":\"scatter\"}],\"parcoords\":[{\"type\":\"parcoords\",\"line\":{\"colorbar\":{\"outlinewidth\":0,\"ticks\":\"\"}}}],\"scatterpolargl\":[{\"type\":\"scatterpolargl\",\"marker\":{\"colorbar\":{\"outlinewidth\":0,\"ticks\":\"\"}}}],\"bar\":[{\"error_x\":{\"color\":\"#2a3f5f\"},\"error_y\":{\"color\":\"#2a3f5f\"},\"marker\":{\"line\":{\"color\":\"#E5ECF6\",\"width\":0.5},\"pattern\":{\"fillmode\":\"overlay\",\"size\":10,\"solidity\":0.2}},\"type\":\"bar\"}],\"scattergeo\":[{\"type\":\"scattergeo\",\"marker\":{\"colorbar\":{\"outlinewidth\":0,\"ticks\":\"\"}}}],\"scatterpolar\":[{\"type\":\"scatterpolar\",\"marker\":{\"colorbar\":{\"outlinewidth\":0,\"ticks\":\"\"}}}],\"histogram\":[{\"marker\":{\"pattern\":{\"fillmode\":\"overlay\",\"size\":10,\"solidity\":0.2}},\"type\":\"histogram\"}],\"scattergl\":[{\"type\":\"scattergl\",\"marker\":{\"colorbar\":{\"outlinewidth\":0,\"ticks\":\"\"}}}],\"scatter3d\":[{\"type\":\"scatter3d\",\"line\":{\"colorbar\":{\"outlinewidth\":0,\"ticks\":\"\"}},\"marker\":{\"colorbar\":{\"outlinewidth\":0,\"ticks\":\"\"}}}],\"scattermapbox\":[{\"type\":\"scattermapbox\",\"marker\":{\"colorbar\":{\"outlinewidth\":0,\"ticks\":\"\"}}}],\"scatterternary\":[{\"type\":\"scatterternary\",\"marker\":{\"colorbar\":{\"outlinewidth\":0,\"ticks\":\"\"}}}],\"scattercarpet\":[{\"type\":\"scattercarpet\",\"marker\":{\"colorbar\":{\"outlinewidth\":0,\"ticks\":\"\"}}}],\"carpet\":[{\"aaxis\":{\"endlinecolor\":\"#2a3f5f\",\"gridcolor\":\"white\",\"linecolor\":\"white\",\"minorgridcolor\":\"white\",\"startlinecolor\":\"#2a3f5f\"},\"baxis\":{\"endlinecolor\":\"#2a3f5f\",\"gridcolor\":\"white\",\"linecolor\":\"white\",\"minorgridcolor\":\"white\",\"startlinecolor\":\"#2a3f5f\"},\"type\":\"carpet\"}],\"table\":[{\"cells\":{\"fill\":{\"color\":\"#EBF0F8\"},\"line\":{\"color\":\"white\"}},\"header\":{\"fill\":{\"color\":\"#C8D4E3\"},\"line\":{\"color\":\"white\"}},\"type\":\"table\"}],\"barpolar\":[{\"marker\":{\"line\":{\"color\":\"#E5ECF6\",\"width\":0.5},\"pattern\":{\"fillmode\":\"overlay\",\"size\":10,\"solidity\":0.2}},\"type\":\"barpolar\"}],\"pie\":[{\"automargin\":true,\"type\":\"pie\"}]},\"layout\":{\"autotypenumbers\":\"strict\",\"colorway\":[\"#636efa\",\"#EF553B\",\"#00cc96\",\"#ab63fa\",\"#FFA15A\",\"#19d3f3\",\"#FF6692\",\"#B6E880\",\"#FF97FF\",\"#FECB52\"],\"font\":{\"color\":\"#2a3f5f\"},\"hovermode\":\"closest\",\"hoverlabel\":{\"align\":\"left\"},\"paper_bgcolor\":\"white\",\"plot_bgcolor\":\"#E5ECF6\",\"polar\":{\"bgcolor\":\"#E5ECF6\",\"angularaxis\":{\"gridcolor\":\"white\",\"linecolor\":\"white\",\"ticks\":\"\"},\"radialaxis\":{\"gridcolor\":\"white\",\"linecolor\":\"white\",\"ticks\":\"\"}},\"ternary\":{\"bgcolor\":\"#E5ECF6\",\"aaxis\":{\"gridcolor\":\"white\",\"linecolor\":\"white\",\"ticks\":\"\"},\"baxis\":{\"gridcolor\":\"white\",\"linecolor\":\"white\",\"ticks\":\"\"},\"caxis\":{\"gridcolor\":\"white\",\"linecolor\":\"white\",\"ticks\":\"\"}},\"coloraxis\":{\"colorbar\":{\"outlinewidth\":0,\"ticks\":\"\"}},\"colorscale\":{\"sequential\":[[0.0,\"#0d0887\"],[0.1111111111111111,\"#46039f\"],[0.2222222222222222,\"#7201a8\"],[0.3333333333333333,\"#9c179e\"],[0.4444444444444444,\"#bd3786\"],[0.5555555555555556,\"#d8576b\"],[0.6666666666666666,\"#ed7953\"],[0.7777777777777778,\"#fb9f3a\"],[0.8888888888888888,\"#fdca26\"],[1.0,\"#f0f921\"]],\"sequentialminus\":[[0.0,\"#0d0887\"],[0.1111111111111111,\"#46039f\"],[0.2222222222222222,\"#7201a8\"],[0.3333333333333333,\"#9c179e\"],[0.4444444444444444,\"#bd3786\"],[0.5555555555555556,\"#d8576b\"],[0.6666666666666666,\"#ed7953\"],[0.7777777777777778,\"#fb9f3a\"],[0.8888888888888888,\"#fdca26\"],[1.0,\"#f0f921\"]],\"diverging\":[[0,\"#8e0152\"],[0.1,\"#c51b7d\"],[0.2,\"#de77ae\"],[0.3,\"#f1b6da\"],[0.4,\"#fde0ef\"],[0.5,\"#f7f7f7\"],[0.6,\"#e6f5d0\"],[0.7,\"#b8e186\"],[0.8,\"#7fbc41\"],[0.9,\"#4d9221\"],[1,\"#276419\"]]},\"xaxis\":{\"gridcolor\":\"white\",\"linecolor\":\"white\",\"ticks\":\"\",\"title\":{\"standoff\":15},\"zerolinecolor\":\"white\",\"automargin\":true,\"zerolinewidth\":2},\"yaxis\":{\"gridcolor\":\"white\",\"linecolor\":\"white\",\"ticks\":\"\",\"title\":{\"standoff\":15},\"zerolinecolor\":\"white\",\"automargin\":true,\"zerolinewidth\":2},\"scene\":{\"xaxis\":{\"backgroundcolor\":\"#E5ECF6\",\"gridcolor\":\"white\",\"linecolor\":\"white\",\"showbackground\":true,\"ticks\":\"\",\"zerolinecolor\":\"white\",\"gridwidth\":2},\"yaxis\":{\"backgroundcolor\":\"#E5ECF6\",\"gridcolor\":\"white\",\"linecolor\":\"white\",\"showbackground\":true,\"ticks\":\"\",\"zerolinecolor\":\"white\",\"gridwidth\":2},\"zaxis\":{\"backgroundcolor\":\"#E5ECF6\",\"gridcolor\":\"white\",\"linecolor\":\"white\",\"showbackground\":true,\"ticks\":\"\",\"zerolinecolor\":\"white\",\"gridwidth\":2}},\"shapedefaults\":{\"line\":{\"color\":\"#2a3f5f\"}},\"annotationdefaults\":{\"arrowcolor\":\"#2a3f5f\",\"arrowhead\":0,\"arrowwidth\":1},\"geo\":{\"bgcolor\":\"white\",\"landcolor\":\"#E5ECF6\",\"subunitcolor\":\"white\",\"showland\":true,\"showlakes\":true,\"lakecolor\":\"white\"},\"title\":{\"x\":0.05},\"mapbox\":{\"style\":\"light\"}}},\"xaxis\":{\"anchor\":\"y\",\"domain\":[0.0,1.0],\"title\":{\"text\":\"Age at symptom onset\"},\"showline\":true,\"linewidth\":2,\"linecolor\":\"black\",\"mirror\":true},\"yaxis\":{\"anchor\":\"x\",\"domain\":[0.0,1.0],\"title\":{\"text\":\"Sex\"},\"categoryorder\":\"array\",\"categoryarray\":[\"F\",\"M\"],\"showline\":true,\"linewidth\":2,\"linecolor\":\"black\",\"mirror\":true},\"legend\":{\"title\":{\"text\":\"Sex\"},\"tracegroupgap\":0},\"title\":{\"text\":\"Age at symptom onset\"},\"boxmode\":\"overlay\",\"height\":800,\"width\":800,\"font\":{\"size\":20},\"plot_bgcolor\":\"rgba(0, 0, 0, 0)\"},                        {\"toImageButtonOptions\": {\"format\": \"png\", \"filename\": \"\", \"height\": 800, \"width\": 800, \"scale\": 5}, \"responsive\": true}                    ).then(function(){\n",
       "                            \n",
       "var gd = document.getElementById('3b22b072-f84f-437c-8133-2d226a0b4f22');\n",
       "var x = new MutationObserver(function (mutations, observer) {{\n",
       "        var display = window.getComputedStyle(gd).display;\n",
       "        if (!display || display === 'none') {{\n",
       "            console.log([gd, 'removed!']);\n",
       "            Plotly.purge(gd);\n",
       "            observer.disconnect();\n",
       "        }}\n",
       "}});\n",
       "\n",
       "// Listen for the removal of the full notebook cells\n",
       "var notebookContainer = gd.closest('#notebook-container');\n",
       "if (notebookContainer) {{\n",
       "    x.observe(notebookContainer, {childList: true});\n",
       "}}\n",
       "\n",
       "// Listen for the clearing of the current output cell\n",
       "var outputEl = gd.closest('.output');\n",
       "if (outputEl) {{\n",
       "    x.observe(outputEl, {childList: true});\n",
       "}}\n",
       "\n",
       "                        })                };                });            </script>        </div>"
      ]
     },
     "metadata": {},
     "output_type": "display_data"
    }
   ],
   "source": [
    "fig = px.strip(\n",
    "    data_frame=df,\n",
    "    y=\"SEXatBirth\",\n",
    "    x=\"AGEATONSET\",\n",
    "    width=600,\n",
    "    height=300,\n",
    "    color=\"SEXatBirth\",\n",
    "    labels={\"AGEATONSET\": \"Age at symptom onset\", \"SEXatBirth\": \"Sex\"},\n",
    "    hover_data=[\"Gentli_ID\"],\n",
    "    title=\"Age at symptom onset\",\n",
    ")\n",
    "fig.update_layout(\n",
    "    width=800,\n",
    "    height=800,\n",
    "    plot_bgcolor=\"rgba(0, 0, 0, 0)\",\n",
    "    font=dict(size=20),\n",
    ")\n",
    "\n",
    "fig.update_xaxes(\n",
    "    showline=True,\n",
    "    linewidth=2,\n",
    "    linecolor=\"black\",\n",
    "    mirror=True,\n",
    ")\n",
    "\n",
    "fig.update_yaxes(\n",
    "    showline=True,\n",
    "    linewidth=2,\n",
    "    linecolor=\"black\",\n",
    "    mirror=True,\n",
    ")\n",
    "\n",
    "fig.update_traces(marker=dict(size=12, opacity=0.5), jitter=1)\n",
    "\n",
    "fig.show(\n",
    "    config={\n",
    "        \"toImageButtonOptions\": {\n",
    "            \"format\": \"png\",\n",
    "            \"filename\": \"\",\n",
    "            \"height\": 800,\n",
    "            \"width\": 800,\n",
    "            \"scale\": 5,\n",
    "        }\n",
    "    }\n",
    ")"
   ]
  },
  {
   "cell_type": "code",
   "execution_count": 53,
   "metadata": {},
   "outputs": [
    {
     "data": {
      "application/vnd.plotly.v1+json": {
       "config": {
        "plotlyServerURL": "https://plot.ly",
        "toImageButtonOptions": {
         "filename": "",
         "format": "png",
         "height": 800,
         "scale": 5,
         "width": 800
        }
       },
       "data": [
        {
         "alignmentgroup": "True",
         "boxpoints": "all",
         "customdata": [
          [
           "rr_NA21_285"
          ],
          [
           "rr_NA01_027"
          ],
          [
           "rr_NA09_238"
          ],
          [
           "rr_UNSW2220"
          ],
          [
           "rr_NA19_291"
          ],
          [
           "rr_NA19_309"
          ],
          [
           "rr_QSBB51_18"
          ],
          [
           "rr_NA23_161"
          ],
          [
           "rr_A02_164"
          ],
          [
           "rr_PIDN17760"
          ],
          [
           "rr_Pt_3303"
          ],
          [
           "rr_LN_C12_07006"
          ],
          [
           "rr_UBC66_1"
          ],
          [
           "rr_PIDN12322"
          ],
          [
           "rr_RNBC-22_16"
          ],
          [
           "rr_NP18739"
          ],
          [
           "rr_UNSW22478"
          ],
          [
           "rr_PIDN6543"
          ],
          [
           "rr_PIDN9402"
          ],
          [
           "rr_UP101220"
          ],
          [
           "rr_NA23_005"
          ],
          [
           "rr_FTD196_1"
          ],
          [
           "rr_NA14_199"
          ],
          [
           "rr_UNSW2185"
          ],
          [
           "rr_NHB18_068"
          ],
          [
           "rr_IB5534"
          ],
          [
           "rr_NHB15_114"
          ],
          [
           "rr_NHB14_059"
          ],
          [
           "rr_NHB05_082"
          ],
          [
           "rr_NHB05_059"
          ],
          [
           "rr_KCLA156_17"
          ],
          [
           "rr_KULA_23717"
          ],
          [
           "rr_NHB03_018"
          ],
          [
           "rr_EMC2013_098"
          ],
          [
           "rr_X5817"
          ],
          [
           "rr_EMC13_65"
          ],
          [
           "rr_KULA_22549"
          ],
          [
           "rr_CW05_004"
          ]
         ],
         "fillcolor": "rgba(255,255,255,0)",
         "hoveron": "points",
         "hovertemplate": "Chr15q14 haplotype=major<br>Age at symptom onset=%{x}<br>Sex=%{y}<br>Gentli_ID=%{customdata[0]}<extra></extra>",
         "jitter": 1,
         "legendgroup": "major",
         "line": {
          "color": "rgba(255,255,255,0)"
         },
         "marker": {
          "color": "#636efa",
          "opacity": 0.5,
          "size": 12
         },
         "name": "major",
         "offsetgroup": "major",
         "orientation": "h",
         "pointpos": 0,
         "showlegend": true,
         "type": "box",
         "x": [
          59,
          38,
          48,
          56,
          41,
          47,
          61,
          38,
          59,
          63,
          52,
          48,
          46,
          57,
          53,
          39,
          59,
          46,
          44,
          46,
          55,
          66,
          30,
          60,
          54,
          29,
          73,
          44,
          30,
          32,
          36,
          39,
          35,
          44,
          54,
          42,
          42,
          41
         ],
         "x0": " ",
         "xaxis": "x",
         "y": [
          "M",
          "M",
          "M",
          "M",
          "M",
          "M",
          "M",
          "M",
          "M",
          "M",
          "F",
          "M",
          "M",
          "F",
          "F",
          "M",
          "M",
          "M",
          "M",
          "M",
          "F",
          "M",
          "M",
          "F",
          "M",
          "F",
          "M",
          "M",
          "F",
          "F",
          "M",
          "F",
          "F",
          "M",
          "M",
          "M",
          "M",
          "M"
         ],
         "y0": " ",
         "yaxis": "y"
        },
        {
         "alignmentgroup": "True",
         "boxpoints": "all",
         "customdata": [
          [
           "rr_UCL2783"
          ],
          [
           "rr_PIDN106"
          ],
          [
           "rr_PIDN738"
          ],
          [
           "rr_RZ462"
          ],
          [
           "rr_R556"
          ],
          [
           "rr_FTD397_1"
          ],
          [
           "rr_A15-074"
          ],
          [
           "rr_NHB95_041"
          ],
          [
           "rr_KCLA311_98"
          ],
          [
           "rr_RZ257"
          ]
         ],
         "fillcolor": "rgba(255,255,255,0)",
         "hoveron": "points",
         "hovertemplate": "Chr15q14 haplotype=minor<br>Age at symptom onset=%{x}<br>Sex=%{y}<br>Gentli_ID=%{customdata[0]}<extra></extra>",
         "jitter": 1,
         "legendgroup": "minor",
         "line": {
          "color": "rgba(255,255,255,0)"
         },
         "marker": {
          "color": "#EF553B",
          "opacity": 0.5,
          "size": 12
         },
         "name": "minor",
         "offsetgroup": "minor",
         "orientation": "h",
         "pointpos": 0,
         "showlegend": true,
         "type": "box",
         "x": [
          44,
          48,
          43,
          39,
          38,
          51,
          43,
          49,
          59,
          46
         ],
         "x0": " ",
         "xaxis": "x",
         "y": [
          "M",
          "M",
          "F",
          "F",
          "F",
          "M",
          "M",
          "M",
          "M",
          "F"
         ],
         "y0": " ",
         "yaxis": "y"
        },
        {
         "alignmentgroup": "True",
         "boxpoints": "all",
         "customdata": [
          [
           "rr_Pt_8482"
          ],
          [
           "rr_NA22_365"
          ],
          [
           "rr_2021_017"
          ],
          [
           "rr_UNSW22488"
          ],
          [
           "rr_2132"
          ],
          [
           "rr_LN_N00_1835"
          ],
          [
           "rr_LN_C14_36644"
          ],
          [
           "rr_LN_C10_25594"
          ],
          [
           "rr_NP43508"
          ],
          [
           "rr_E13_56"
          ],
          [
           "rr_QSBB81_17"
          ],
          [
           "rr_Ro_AH11.2"
          ],
          [
           "rr_2T7T4"
          ],
          [
           "rr_CW00_009"
          ],
          [
           "rr_NHB16_047"
          ],
          [
           "rr_NHB94_068"
          ],
          [
           "rr_IB6387"
          ],
          [
           "rr_KCLA061_16"
          ],
          [
           "rr_KULA_24063"
          ],
          [
           "rr_Muk49"
          ],
          [
           "rr_7965"
          ],
          [
           "rr_NA20_415"
          ],
          [
           "rr_NA22_425"
          ],
          [
           "rr_NA22_197"
          ],
          [
           "rr_A06_120"
          ],
          [
           "rr_A17_05"
          ],
          [
           "rr_UCL12461"
          ],
          [
           "rr_UCL1506"
          ],
          [
           "rr_UCL19247"
          ],
          [
           "rr_NHB15_065"
          ],
          [
           "rr_VA05_109"
          ],
          [
           "rr_X5929"
          ],
          [
           "rr_PIDN1734"
          ],
          [
           "rr_PIDN19525"
          ],
          [
           "rr_PIDN2662"
          ],
          [
           "rr_PIDN3794"
          ],
          [
           "rr_PIDN4463"
          ],
          [
           "rr_NRA22654"
          ],
          [
           "rr_2005_044"
          ]
         ],
         "fillcolor": "rgba(255,255,255,0)",
         "hoveron": "points",
         "hovertemplate": "Chr15q14 haplotype=none<br>Age at symptom onset=%{x}<br>Sex=%{y}<br>Gentli_ID=%{customdata[0]}<extra></extra>",
         "jitter": 1,
         "legendgroup": "none",
         "line": {
          "color": "rgba(255,255,255,0)"
         },
         "marker": {
          "color": "#00cc96",
          "opacity": 0.5,
          "size": 12
         },
         "name": "none",
         "offsetgroup": "none",
         "orientation": "h",
         "pointpos": 0,
         "showlegend": true,
         "type": "box",
         "x": [
          59,
          44,
          21,
          33,
          63,
          31,
          50,
          40,
          57,
          26,
          49,
          39,
          36,
          48,
          40,
          56,
          50,
          43,
          42,
          28,
          46,
          55,
          49,
          41,
          33,
          33,
          46,
          51,
          43,
          50,
          38,
          34,
          55,
          26,
          37,
          32,
          27,
          46,
          45
         ],
         "x0": " ",
         "xaxis": "x",
         "y": [
          "M",
          "M",
          "F",
          "M",
          "M",
          "F",
          "F",
          "M",
          "F",
          "M",
          "M",
          "F",
          "F",
          "F",
          "M",
          "M",
          "M",
          "M",
          "M",
          "M",
          "M",
          "M",
          "M",
          "M",
          "F",
          "F",
          "M",
          "M",
          "M",
          "M",
          "F",
          "M",
          "M",
          "M",
          "M",
          "M",
          "M",
          "M",
          "M"
         ],
         "y0": " ",
         "yaxis": "y"
        }
       ],
       "layout": {
        "boxmode": "group",
        "font": {
         "size": 20
        },
        "height": 800,
        "legend": {
         "title": {
          "text": "Chr15q14 haplotype"
         },
         "tracegroupgap": 0
        },
        "plot_bgcolor": "rgba(0, 0, 0, 0)",
        "template": {
         "data": {
          "bar": [
           {
            "error_x": {
             "color": "#2a3f5f"
            },
            "error_y": {
             "color": "#2a3f5f"
            },
            "marker": {
             "line": {
              "color": "#E5ECF6",
              "width": 0.5
             },
             "pattern": {
              "fillmode": "overlay",
              "size": 10,
              "solidity": 0.2
             }
            },
            "type": "bar"
           }
          ],
          "barpolar": [
           {
            "marker": {
             "line": {
              "color": "#E5ECF6",
              "width": 0.5
             },
             "pattern": {
              "fillmode": "overlay",
              "size": 10,
              "solidity": 0.2
             }
            },
            "type": "barpolar"
           }
          ],
          "carpet": [
           {
            "aaxis": {
             "endlinecolor": "#2a3f5f",
             "gridcolor": "white",
             "linecolor": "white",
             "minorgridcolor": "white",
             "startlinecolor": "#2a3f5f"
            },
            "baxis": {
             "endlinecolor": "#2a3f5f",
             "gridcolor": "white",
             "linecolor": "white",
             "minorgridcolor": "white",
             "startlinecolor": "#2a3f5f"
            },
            "type": "carpet"
           }
          ],
          "choropleth": [
           {
            "colorbar": {
             "outlinewidth": 0,
             "ticks": ""
            },
            "type": "choropleth"
           }
          ],
          "contour": [
           {
            "colorbar": {
             "outlinewidth": 0,
             "ticks": ""
            },
            "colorscale": [
             [
              0,
              "#0d0887"
             ],
             [
              0.1111111111111111,
              "#46039f"
             ],
             [
              0.2222222222222222,
              "#7201a8"
             ],
             [
              0.3333333333333333,
              "#9c179e"
             ],
             [
              0.4444444444444444,
              "#bd3786"
             ],
             [
              0.5555555555555556,
              "#d8576b"
             ],
             [
              0.6666666666666666,
              "#ed7953"
             ],
             [
              0.7777777777777778,
              "#fb9f3a"
             ],
             [
              0.8888888888888888,
              "#fdca26"
             ],
             [
              1,
              "#f0f921"
             ]
            ],
            "type": "contour"
           }
          ],
          "contourcarpet": [
           {
            "colorbar": {
             "outlinewidth": 0,
             "ticks": ""
            },
            "type": "contourcarpet"
           }
          ],
          "heatmap": [
           {
            "colorbar": {
             "outlinewidth": 0,
             "ticks": ""
            },
            "colorscale": [
             [
              0,
              "#0d0887"
             ],
             [
              0.1111111111111111,
              "#46039f"
             ],
             [
              0.2222222222222222,
              "#7201a8"
             ],
             [
              0.3333333333333333,
              "#9c179e"
             ],
             [
              0.4444444444444444,
              "#bd3786"
             ],
             [
              0.5555555555555556,
              "#d8576b"
             ],
             [
              0.6666666666666666,
              "#ed7953"
             ],
             [
              0.7777777777777778,
              "#fb9f3a"
             ],
             [
              0.8888888888888888,
              "#fdca26"
             ],
             [
              1,
              "#f0f921"
             ]
            ],
            "type": "heatmap"
           }
          ],
          "heatmapgl": [
           {
            "colorbar": {
             "outlinewidth": 0,
             "ticks": ""
            },
            "colorscale": [
             [
              0,
              "#0d0887"
             ],
             [
              0.1111111111111111,
              "#46039f"
             ],
             [
              0.2222222222222222,
              "#7201a8"
             ],
             [
              0.3333333333333333,
              "#9c179e"
             ],
             [
              0.4444444444444444,
              "#bd3786"
             ],
             [
              0.5555555555555556,
              "#d8576b"
             ],
             [
              0.6666666666666666,
              "#ed7953"
             ],
             [
              0.7777777777777778,
              "#fb9f3a"
             ],
             [
              0.8888888888888888,
              "#fdca26"
             ],
             [
              1,
              "#f0f921"
             ]
            ],
            "type": "heatmapgl"
           }
          ],
          "histogram": [
           {
            "marker": {
             "pattern": {
              "fillmode": "overlay",
              "size": 10,
              "solidity": 0.2
             }
            },
            "type": "histogram"
           }
          ],
          "histogram2d": [
           {
            "colorbar": {
             "outlinewidth": 0,
             "ticks": ""
            },
            "colorscale": [
             [
              0,
              "#0d0887"
             ],
             [
              0.1111111111111111,
              "#46039f"
             ],
             [
              0.2222222222222222,
              "#7201a8"
             ],
             [
              0.3333333333333333,
              "#9c179e"
             ],
             [
              0.4444444444444444,
              "#bd3786"
             ],
             [
              0.5555555555555556,
              "#d8576b"
             ],
             [
              0.6666666666666666,
              "#ed7953"
             ],
             [
              0.7777777777777778,
              "#fb9f3a"
             ],
             [
              0.8888888888888888,
              "#fdca26"
             ],
             [
              1,
              "#f0f921"
             ]
            ],
            "type": "histogram2d"
           }
          ],
          "histogram2dcontour": [
           {
            "colorbar": {
             "outlinewidth": 0,
             "ticks": ""
            },
            "colorscale": [
             [
              0,
              "#0d0887"
             ],
             [
              0.1111111111111111,
              "#46039f"
             ],
             [
              0.2222222222222222,
              "#7201a8"
             ],
             [
              0.3333333333333333,
              "#9c179e"
             ],
             [
              0.4444444444444444,
              "#bd3786"
             ],
             [
              0.5555555555555556,
              "#d8576b"
             ],
             [
              0.6666666666666666,
              "#ed7953"
             ],
             [
              0.7777777777777778,
              "#fb9f3a"
             ],
             [
              0.8888888888888888,
              "#fdca26"
             ],
             [
              1,
              "#f0f921"
             ]
            ],
            "type": "histogram2dcontour"
           }
          ],
          "mesh3d": [
           {
            "colorbar": {
             "outlinewidth": 0,
             "ticks": ""
            },
            "type": "mesh3d"
           }
          ],
          "parcoords": [
           {
            "line": {
             "colorbar": {
              "outlinewidth": 0,
              "ticks": ""
             }
            },
            "type": "parcoords"
           }
          ],
          "pie": [
           {
            "automargin": true,
            "type": "pie"
           }
          ],
          "scatter": [
           {
            "fillpattern": {
             "fillmode": "overlay",
             "size": 10,
             "solidity": 0.2
            },
            "type": "scatter"
           }
          ],
          "scatter3d": [
           {
            "line": {
             "colorbar": {
              "outlinewidth": 0,
              "ticks": ""
             }
            },
            "marker": {
             "colorbar": {
              "outlinewidth": 0,
              "ticks": ""
             }
            },
            "type": "scatter3d"
           }
          ],
          "scattercarpet": [
           {
            "marker": {
             "colorbar": {
              "outlinewidth": 0,
              "ticks": ""
             }
            },
            "type": "scattercarpet"
           }
          ],
          "scattergeo": [
           {
            "marker": {
             "colorbar": {
              "outlinewidth": 0,
              "ticks": ""
             }
            },
            "type": "scattergeo"
           }
          ],
          "scattergl": [
           {
            "marker": {
             "colorbar": {
              "outlinewidth": 0,
              "ticks": ""
             }
            },
            "type": "scattergl"
           }
          ],
          "scattermapbox": [
           {
            "marker": {
             "colorbar": {
              "outlinewidth": 0,
              "ticks": ""
             }
            },
            "type": "scattermapbox"
           }
          ],
          "scatterpolar": [
           {
            "marker": {
             "colorbar": {
              "outlinewidth": 0,
              "ticks": ""
             }
            },
            "type": "scatterpolar"
           }
          ],
          "scatterpolargl": [
           {
            "marker": {
             "colorbar": {
              "outlinewidth": 0,
              "ticks": ""
             }
            },
            "type": "scatterpolargl"
           }
          ],
          "scatterternary": [
           {
            "marker": {
             "colorbar": {
              "outlinewidth": 0,
              "ticks": ""
             }
            },
            "type": "scatterternary"
           }
          ],
          "surface": [
           {
            "colorbar": {
             "outlinewidth": 0,
             "ticks": ""
            },
            "colorscale": [
             [
              0,
              "#0d0887"
             ],
             [
              0.1111111111111111,
              "#46039f"
             ],
             [
              0.2222222222222222,
              "#7201a8"
             ],
             [
              0.3333333333333333,
              "#9c179e"
             ],
             [
              0.4444444444444444,
              "#bd3786"
             ],
             [
              0.5555555555555556,
              "#d8576b"
             ],
             [
              0.6666666666666666,
              "#ed7953"
             ],
             [
              0.7777777777777778,
              "#fb9f3a"
             ],
             [
              0.8888888888888888,
              "#fdca26"
             ],
             [
              1,
              "#f0f921"
             ]
            ],
            "type": "surface"
           }
          ],
          "table": [
           {
            "cells": {
             "fill": {
              "color": "#EBF0F8"
             },
             "line": {
              "color": "white"
             }
            },
            "header": {
             "fill": {
              "color": "#C8D4E3"
             },
             "line": {
              "color": "white"
             }
            },
            "type": "table"
           }
          ]
         },
         "layout": {
          "annotationdefaults": {
           "arrowcolor": "#2a3f5f",
           "arrowhead": 0,
           "arrowwidth": 1
          },
          "autotypenumbers": "strict",
          "coloraxis": {
           "colorbar": {
            "outlinewidth": 0,
            "ticks": ""
           }
          },
          "colorscale": {
           "diverging": [
            [
             0,
             "#8e0152"
            ],
            [
             0.1,
             "#c51b7d"
            ],
            [
             0.2,
             "#de77ae"
            ],
            [
             0.3,
             "#f1b6da"
            ],
            [
             0.4,
             "#fde0ef"
            ],
            [
             0.5,
             "#f7f7f7"
            ],
            [
             0.6,
             "#e6f5d0"
            ],
            [
             0.7,
             "#b8e186"
            ],
            [
             0.8,
             "#7fbc41"
            ],
            [
             0.9,
             "#4d9221"
            ],
            [
             1,
             "#276419"
            ]
           ],
           "sequential": [
            [
             0,
             "#0d0887"
            ],
            [
             0.1111111111111111,
             "#46039f"
            ],
            [
             0.2222222222222222,
             "#7201a8"
            ],
            [
             0.3333333333333333,
             "#9c179e"
            ],
            [
             0.4444444444444444,
             "#bd3786"
            ],
            [
             0.5555555555555556,
             "#d8576b"
            ],
            [
             0.6666666666666666,
             "#ed7953"
            ],
            [
             0.7777777777777778,
             "#fb9f3a"
            ],
            [
             0.8888888888888888,
             "#fdca26"
            ],
            [
             1,
             "#f0f921"
            ]
           ],
           "sequentialminus": [
            [
             0,
             "#0d0887"
            ],
            [
             0.1111111111111111,
             "#46039f"
            ],
            [
             0.2222222222222222,
             "#7201a8"
            ],
            [
             0.3333333333333333,
             "#9c179e"
            ],
            [
             0.4444444444444444,
             "#bd3786"
            ],
            [
             0.5555555555555556,
             "#d8576b"
            ],
            [
             0.6666666666666666,
             "#ed7953"
            ],
            [
             0.7777777777777778,
             "#fb9f3a"
            ],
            [
             0.8888888888888888,
             "#fdca26"
            ],
            [
             1,
             "#f0f921"
            ]
           ]
          },
          "colorway": [
           "#636efa",
           "#EF553B",
           "#00cc96",
           "#ab63fa",
           "#FFA15A",
           "#19d3f3",
           "#FF6692",
           "#B6E880",
           "#FF97FF",
           "#FECB52"
          ],
          "font": {
           "color": "#2a3f5f"
          },
          "geo": {
           "bgcolor": "white",
           "lakecolor": "white",
           "landcolor": "#E5ECF6",
           "showlakes": true,
           "showland": true,
           "subunitcolor": "white"
          },
          "hoverlabel": {
           "align": "left"
          },
          "hovermode": "closest",
          "mapbox": {
           "style": "light"
          },
          "paper_bgcolor": "white",
          "plot_bgcolor": "#E5ECF6",
          "polar": {
           "angularaxis": {
            "gridcolor": "white",
            "linecolor": "white",
            "ticks": ""
           },
           "bgcolor": "#E5ECF6",
           "radialaxis": {
            "gridcolor": "white",
            "linecolor": "white",
            "ticks": ""
           }
          },
          "scene": {
           "xaxis": {
            "backgroundcolor": "#E5ECF6",
            "gridcolor": "white",
            "gridwidth": 2,
            "linecolor": "white",
            "showbackground": true,
            "ticks": "",
            "zerolinecolor": "white"
           },
           "yaxis": {
            "backgroundcolor": "#E5ECF6",
            "gridcolor": "white",
            "gridwidth": 2,
            "linecolor": "white",
            "showbackground": true,
            "ticks": "",
            "zerolinecolor": "white"
           },
           "zaxis": {
            "backgroundcolor": "#E5ECF6",
            "gridcolor": "white",
            "gridwidth": 2,
            "linecolor": "white",
            "showbackground": true,
            "ticks": "",
            "zerolinecolor": "white"
           }
          },
          "shapedefaults": {
           "line": {
            "color": "#2a3f5f"
           }
          },
          "ternary": {
           "aaxis": {
            "gridcolor": "white",
            "linecolor": "white",
            "ticks": ""
           },
           "baxis": {
            "gridcolor": "white",
            "linecolor": "white",
            "ticks": ""
           },
           "bgcolor": "#E5ECF6",
           "caxis": {
            "gridcolor": "white",
            "linecolor": "white",
            "ticks": ""
           }
          },
          "title": {
           "x": 0.05
          },
          "xaxis": {
           "automargin": true,
           "gridcolor": "white",
           "linecolor": "white",
           "ticks": "",
           "title": {
            "standoff": 15
           },
           "zerolinecolor": "white",
           "zerolinewidth": 2
          },
          "yaxis": {
           "automargin": true,
           "gridcolor": "white",
           "linecolor": "white",
           "ticks": "",
           "title": {
            "standoff": 15
           },
           "zerolinecolor": "white",
           "zerolinewidth": 2
          }
         }
        },
        "title": {
         "text": "Age at symptom onset"
        },
        "width": 800,
        "xaxis": {
         "anchor": "y",
         "domain": [
          0,
          1
         ],
         "linecolor": "black",
         "linewidth": 2,
         "mirror": true,
         "showline": true,
         "title": {
          "text": "Age at symptom onset"
         }
        },
        "yaxis": {
         "anchor": "x",
         "domain": [
          0,
          1
         ],
         "linecolor": "black",
         "linewidth": 2,
         "mirror": true,
         "showline": true,
         "title": {
          "text": "Sex"
         }
        }
       }
      },
      "text/html": [
       "<div>                            <div id=\"cba7b4ec-e2f1-4be7-b1bf-a71972302263\" class=\"plotly-graph-div\" style=\"height:800px; width:800px;\"></div>            <script type=\"text/javascript\">                require([\"plotly\"], function(Plotly) {                    window.PLOTLYENV=window.PLOTLYENV || {};                                    if (document.getElementById(\"cba7b4ec-e2f1-4be7-b1bf-a71972302263\")) {                    Plotly.newPlot(                        \"cba7b4ec-e2f1-4be7-b1bf-a71972302263\",                        [{\"alignmentgroup\":\"True\",\"boxpoints\":\"all\",\"customdata\":[[\"rr_NA21_285\"],[\"rr_NA01_027\"],[\"rr_NA09_238\"],[\"rr_UNSW2220\"],[\"rr_NA19_291\"],[\"rr_NA19_309\"],[\"rr_QSBB51_18\"],[\"rr_NA23_161\"],[\"rr_A02_164\"],[\"rr_PIDN17760\"],[\"rr_Pt_3303\"],[\"rr_LN_C12_07006\"],[\"rr_UBC66_1\"],[\"rr_PIDN12322\"],[\"rr_RNBC-22_16\"],[\"rr_NP18739\"],[\"rr_UNSW22478\"],[\"rr_PIDN6543\"],[\"rr_PIDN9402\"],[\"rr_UP101220\"],[\"rr_NA23_005\"],[\"rr_FTD196_1\"],[\"rr_NA14_199\"],[\"rr_UNSW2185\"],[\"rr_NHB18_068\"],[\"rr_IB5534\"],[\"rr_NHB15_114\"],[\"rr_NHB14_059\"],[\"rr_NHB05_082\"],[\"rr_NHB05_059\"],[\"rr_KCLA156_17\"],[\"rr_KULA_23717\"],[\"rr_NHB03_018\"],[\"rr_EMC2013_098\"],[\"rr_X5817\"],[\"rr_EMC13_65\"],[\"rr_KULA_22549\"],[\"rr_CW05_004\"]],\"fillcolor\":\"rgba(255,255,255,0)\",\"hoveron\":\"points\",\"hovertemplate\":\"Chr15q14 haplotype=major\\u003cbr\\u003eAge at symptom onset=%{x}\\u003cbr\\u003eSex=%{y}\\u003cbr\\u003eGentli_ID=%{customdata[0]}\\u003cextra\\u003e\\u003c\\u002fextra\\u003e\",\"legendgroup\":\"major\",\"line\":{\"color\":\"rgba(255,255,255,0)\"},\"marker\":{\"color\":\"#636efa\",\"opacity\":0.5,\"size\":12},\"name\":\"major\",\"offsetgroup\":\"major\",\"orientation\":\"h\",\"pointpos\":0,\"showlegend\":true,\"x\":[59,38,48,56,41,47,61,38,59,63,52,48,46,57,53,39,59,46,44,46,55,66,30,60,54,29,73,44,30,32,36,39,35,44,54,42,42,41],\"x0\":\" \",\"xaxis\":\"x\",\"y\":[\"M\",\"M\",\"M\",\"M\",\"M\",\"M\",\"M\",\"M\",\"M\",\"M\",\"F\",\"M\",\"M\",\"F\",\"F\",\"M\",\"M\",\"M\",\"M\",\"M\",\"F\",\"M\",\"M\",\"F\",\"M\",\"F\",\"M\",\"M\",\"F\",\"F\",\"M\",\"F\",\"F\",\"M\",\"M\",\"M\",\"M\",\"M\"],\"y0\":\" \",\"yaxis\":\"y\",\"type\":\"box\",\"jitter\":1},{\"alignmentgroup\":\"True\",\"boxpoints\":\"all\",\"customdata\":[[\"rr_UCL2783\"],[\"rr_PIDN106\"],[\"rr_PIDN738\"],[\"rr_RZ462\"],[\"rr_R556\"],[\"rr_FTD397_1\"],[\"rr_A15-074\"],[\"rr_NHB95_041\"],[\"rr_KCLA311_98\"],[\"rr_RZ257\"]],\"fillcolor\":\"rgba(255,255,255,0)\",\"hoveron\":\"points\",\"hovertemplate\":\"Chr15q14 haplotype=minor\\u003cbr\\u003eAge at symptom onset=%{x}\\u003cbr\\u003eSex=%{y}\\u003cbr\\u003eGentli_ID=%{customdata[0]}\\u003cextra\\u003e\\u003c\\u002fextra\\u003e\",\"legendgroup\":\"minor\",\"line\":{\"color\":\"rgba(255,255,255,0)\"},\"marker\":{\"color\":\"#EF553B\",\"opacity\":0.5,\"size\":12},\"name\":\"minor\",\"offsetgroup\":\"minor\",\"orientation\":\"h\",\"pointpos\":0,\"showlegend\":true,\"x\":[44,48,43,39,38,51,43,49,59,46],\"x0\":\" \",\"xaxis\":\"x\",\"y\":[\"M\",\"M\",\"F\",\"F\",\"F\",\"M\",\"M\",\"M\",\"M\",\"F\"],\"y0\":\" \",\"yaxis\":\"y\",\"type\":\"box\",\"jitter\":1},{\"alignmentgroup\":\"True\",\"boxpoints\":\"all\",\"customdata\":[[\"rr_Pt_8482\"],[\"rr_NA22_365\"],[\"rr_2021_017\"],[\"rr_UNSW22488\"],[\"rr_2132\"],[\"rr_LN_N00_1835\"],[\"rr_LN_C14_36644\"],[\"rr_LN_C10_25594\"],[\"rr_NP43508\"],[\"rr_E13_56\"],[\"rr_QSBB81_17\"],[\"rr_Ro_AH11.2\"],[\"rr_2T7T4\"],[\"rr_CW00_009\"],[\"rr_NHB16_047\"],[\"rr_NHB94_068\"],[\"rr_IB6387\"],[\"rr_KCLA061_16\"],[\"rr_KULA_24063\"],[\"rr_Muk49\"],[\"rr_7965\"],[\"rr_NA20_415\"],[\"rr_NA22_425\"],[\"rr_NA22_197\"],[\"rr_A06_120\"],[\"rr_A17_05\"],[\"rr_UCL12461\"],[\"rr_UCL1506\"],[\"rr_UCL19247\"],[\"rr_NHB15_065\"],[\"rr_VA05_109\"],[\"rr_X5929\"],[\"rr_PIDN1734\"],[\"rr_PIDN19525\"],[\"rr_PIDN2662\"],[\"rr_PIDN3794\"],[\"rr_PIDN4463\"],[\"rr_NRA22654\"],[\"rr_2005_044\"]],\"fillcolor\":\"rgba(255,255,255,0)\",\"hoveron\":\"points\",\"hovertemplate\":\"Chr15q14 haplotype=none\\u003cbr\\u003eAge at symptom onset=%{x}\\u003cbr\\u003eSex=%{y}\\u003cbr\\u003eGentli_ID=%{customdata[0]}\\u003cextra\\u003e\\u003c\\u002fextra\\u003e\",\"legendgroup\":\"none\",\"line\":{\"color\":\"rgba(255,255,255,0)\"},\"marker\":{\"color\":\"#00cc96\",\"opacity\":0.5,\"size\":12},\"name\":\"none\",\"offsetgroup\":\"none\",\"orientation\":\"h\",\"pointpos\":0,\"showlegend\":true,\"x\":[59,44,21,33,63,31,50,40,57,26,49,39,36,48,40,56,50,43,42,28,46,55,49,41,33,33,46,51,43,50,38,34,55,26,37,32,27,46,45],\"x0\":\" \",\"xaxis\":\"x\",\"y\":[\"M\",\"M\",\"F\",\"M\",\"M\",\"F\",\"F\",\"M\",\"F\",\"M\",\"M\",\"F\",\"F\",\"F\",\"M\",\"M\",\"M\",\"M\",\"M\",\"M\",\"M\",\"M\",\"M\",\"M\",\"F\",\"F\",\"M\",\"M\",\"M\",\"M\",\"F\",\"M\",\"M\",\"M\",\"M\",\"M\",\"M\",\"M\",\"M\"],\"y0\":\" \",\"yaxis\":\"y\",\"type\":\"box\",\"jitter\":1}],                        {\"template\":{\"data\":{\"histogram2dcontour\":[{\"type\":\"histogram2dcontour\",\"colorbar\":{\"outlinewidth\":0,\"ticks\":\"\"},\"colorscale\":[[0.0,\"#0d0887\"],[0.1111111111111111,\"#46039f\"],[0.2222222222222222,\"#7201a8\"],[0.3333333333333333,\"#9c179e\"],[0.4444444444444444,\"#bd3786\"],[0.5555555555555556,\"#d8576b\"],[0.6666666666666666,\"#ed7953\"],[0.7777777777777778,\"#fb9f3a\"],[0.8888888888888888,\"#fdca26\"],[1.0,\"#f0f921\"]]}],\"choropleth\":[{\"type\":\"choropleth\",\"colorbar\":{\"outlinewidth\":0,\"ticks\":\"\"}}],\"histogram2d\":[{\"type\":\"histogram2d\",\"colorbar\":{\"outlinewidth\":0,\"ticks\":\"\"},\"colorscale\":[[0.0,\"#0d0887\"],[0.1111111111111111,\"#46039f\"],[0.2222222222222222,\"#7201a8\"],[0.3333333333333333,\"#9c179e\"],[0.4444444444444444,\"#bd3786\"],[0.5555555555555556,\"#d8576b\"],[0.6666666666666666,\"#ed7953\"],[0.7777777777777778,\"#fb9f3a\"],[0.8888888888888888,\"#fdca26\"],[1.0,\"#f0f921\"]]}],\"heatmap\":[{\"type\":\"heatmap\",\"colorbar\":{\"outlinewidth\":0,\"ticks\":\"\"},\"colorscale\":[[0.0,\"#0d0887\"],[0.1111111111111111,\"#46039f\"],[0.2222222222222222,\"#7201a8\"],[0.3333333333333333,\"#9c179e\"],[0.4444444444444444,\"#bd3786\"],[0.5555555555555556,\"#d8576b\"],[0.6666666666666666,\"#ed7953\"],[0.7777777777777778,\"#fb9f3a\"],[0.8888888888888888,\"#fdca26\"],[1.0,\"#f0f921\"]]}],\"heatmapgl\":[{\"type\":\"heatmapgl\",\"colorbar\":{\"outlinewidth\":0,\"ticks\":\"\"},\"colorscale\":[[0.0,\"#0d0887\"],[0.1111111111111111,\"#46039f\"],[0.2222222222222222,\"#7201a8\"],[0.3333333333333333,\"#9c179e\"],[0.4444444444444444,\"#bd3786\"],[0.5555555555555556,\"#d8576b\"],[0.6666666666666666,\"#ed7953\"],[0.7777777777777778,\"#fb9f3a\"],[0.8888888888888888,\"#fdca26\"],[1.0,\"#f0f921\"]]}],\"contourcarpet\":[{\"type\":\"contourcarpet\",\"colorbar\":{\"outlinewidth\":0,\"ticks\":\"\"}}],\"contour\":[{\"type\":\"contour\",\"colorbar\":{\"outlinewidth\":0,\"ticks\":\"\"},\"colorscale\":[[0.0,\"#0d0887\"],[0.1111111111111111,\"#46039f\"],[0.2222222222222222,\"#7201a8\"],[0.3333333333333333,\"#9c179e\"],[0.4444444444444444,\"#bd3786\"],[0.5555555555555556,\"#d8576b\"],[0.6666666666666666,\"#ed7953\"],[0.7777777777777778,\"#fb9f3a\"],[0.8888888888888888,\"#fdca26\"],[1.0,\"#f0f921\"]]}],\"surface\":[{\"type\":\"surface\",\"colorbar\":{\"outlinewidth\":0,\"ticks\":\"\"},\"colorscale\":[[0.0,\"#0d0887\"],[0.1111111111111111,\"#46039f\"],[0.2222222222222222,\"#7201a8\"],[0.3333333333333333,\"#9c179e\"],[0.4444444444444444,\"#bd3786\"],[0.5555555555555556,\"#d8576b\"],[0.6666666666666666,\"#ed7953\"],[0.7777777777777778,\"#fb9f3a\"],[0.8888888888888888,\"#fdca26\"],[1.0,\"#f0f921\"]]}],\"mesh3d\":[{\"type\":\"mesh3d\",\"colorbar\":{\"outlinewidth\":0,\"ticks\":\"\"}}],\"scatter\":[{\"fillpattern\":{\"fillmode\":\"overlay\",\"size\":10,\"solidity\":0.2},\"type\":\"scatter\"}],\"parcoords\":[{\"type\":\"parcoords\",\"line\":{\"colorbar\":{\"outlinewidth\":0,\"ticks\":\"\"}}}],\"scatterpolargl\":[{\"type\":\"scatterpolargl\",\"marker\":{\"colorbar\":{\"outlinewidth\":0,\"ticks\":\"\"}}}],\"bar\":[{\"error_x\":{\"color\":\"#2a3f5f\"},\"error_y\":{\"color\":\"#2a3f5f\"},\"marker\":{\"line\":{\"color\":\"#E5ECF6\",\"width\":0.5},\"pattern\":{\"fillmode\":\"overlay\",\"size\":10,\"solidity\":0.2}},\"type\":\"bar\"}],\"scattergeo\":[{\"type\":\"scattergeo\",\"marker\":{\"colorbar\":{\"outlinewidth\":0,\"ticks\":\"\"}}}],\"scatterpolar\":[{\"type\":\"scatterpolar\",\"marker\":{\"colorbar\":{\"outlinewidth\":0,\"ticks\":\"\"}}}],\"histogram\":[{\"marker\":{\"pattern\":{\"fillmode\":\"overlay\",\"size\":10,\"solidity\":0.2}},\"type\":\"histogram\"}],\"scattergl\":[{\"type\":\"scattergl\",\"marker\":{\"colorbar\":{\"outlinewidth\":0,\"ticks\":\"\"}}}],\"scatter3d\":[{\"type\":\"scatter3d\",\"line\":{\"colorbar\":{\"outlinewidth\":0,\"ticks\":\"\"}},\"marker\":{\"colorbar\":{\"outlinewidth\":0,\"ticks\":\"\"}}}],\"scattermapbox\":[{\"type\":\"scattermapbox\",\"marker\":{\"colorbar\":{\"outlinewidth\":0,\"ticks\":\"\"}}}],\"scatterternary\":[{\"type\":\"scatterternary\",\"marker\":{\"colorbar\":{\"outlinewidth\":0,\"ticks\":\"\"}}}],\"scattercarpet\":[{\"type\":\"scattercarpet\",\"marker\":{\"colorbar\":{\"outlinewidth\":0,\"ticks\":\"\"}}}],\"carpet\":[{\"aaxis\":{\"endlinecolor\":\"#2a3f5f\",\"gridcolor\":\"white\",\"linecolor\":\"white\",\"minorgridcolor\":\"white\",\"startlinecolor\":\"#2a3f5f\"},\"baxis\":{\"endlinecolor\":\"#2a3f5f\",\"gridcolor\":\"white\",\"linecolor\":\"white\",\"minorgridcolor\":\"white\",\"startlinecolor\":\"#2a3f5f\"},\"type\":\"carpet\"}],\"table\":[{\"cells\":{\"fill\":{\"color\":\"#EBF0F8\"},\"line\":{\"color\":\"white\"}},\"header\":{\"fill\":{\"color\":\"#C8D4E3\"},\"line\":{\"color\":\"white\"}},\"type\":\"table\"}],\"barpolar\":[{\"marker\":{\"line\":{\"color\":\"#E5ECF6\",\"width\":0.5},\"pattern\":{\"fillmode\":\"overlay\",\"size\":10,\"solidity\":0.2}},\"type\":\"barpolar\"}],\"pie\":[{\"automargin\":true,\"type\":\"pie\"}]},\"layout\":{\"autotypenumbers\":\"strict\",\"colorway\":[\"#636efa\",\"#EF553B\",\"#00cc96\",\"#ab63fa\",\"#FFA15A\",\"#19d3f3\",\"#FF6692\",\"#B6E880\",\"#FF97FF\",\"#FECB52\"],\"font\":{\"color\":\"#2a3f5f\"},\"hovermode\":\"closest\",\"hoverlabel\":{\"align\":\"left\"},\"paper_bgcolor\":\"white\",\"plot_bgcolor\":\"#E5ECF6\",\"polar\":{\"bgcolor\":\"#E5ECF6\",\"angularaxis\":{\"gridcolor\":\"white\",\"linecolor\":\"white\",\"ticks\":\"\"},\"radialaxis\":{\"gridcolor\":\"white\",\"linecolor\":\"white\",\"ticks\":\"\"}},\"ternary\":{\"bgcolor\":\"#E5ECF6\",\"aaxis\":{\"gridcolor\":\"white\",\"linecolor\":\"white\",\"ticks\":\"\"},\"baxis\":{\"gridcolor\":\"white\",\"linecolor\":\"white\",\"ticks\":\"\"},\"caxis\":{\"gridcolor\":\"white\",\"linecolor\":\"white\",\"ticks\":\"\"}},\"coloraxis\":{\"colorbar\":{\"outlinewidth\":0,\"ticks\":\"\"}},\"colorscale\":{\"sequential\":[[0.0,\"#0d0887\"],[0.1111111111111111,\"#46039f\"],[0.2222222222222222,\"#7201a8\"],[0.3333333333333333,\"#9c179e\"],[0.4444444444444444,\"#bd3786\"],[0.5555555555555556,\"#d8576b\"],[0.6666666666666666,\"#ed7953\"],[0.7777777777777778,\"#fb9f3a\"],[0.8888888888888888,\"#fdca26\"],[1.0,\"#f0f921\"]],\"sequentialminus\":[[0.0,\"#0d0887\"],[0.1111111111111111,\"#46039f\"],[0.2222222222222222,\"#7201a8\"],[0.3333333333333333,\"#9c179e\"],[0.4444444444444444,\"#bd3786\"],[0.5555555555555556,\"#d8576b\"],[0.6666666666666666,\"#ed7953\"],[0.7777777777777778,\"#fb9f3a\"],[0.8888888888888888,\"#fdca26\"],[1.0,\"#f0f921\"]],\"diverging\":[[0,\"#8e0152\"],[0.1,\"#c51b7d\"],[0.2,\"#de77ae\"],[0.3,\"#f1b6da\"],[0.4,\"#fde0ef\"],[0.5,\"#f7f7f7\"],[0.6,\"#e6f5d0\"],[0.7,\"#b8e186\"],[0.8,\"#7fbc41\"],[0.9,\"#4d9221\"],[1,\"#276419\"]]},\"xaxis\":{\"gridcolor\":\"white\",\"linecolor\":\"white\",\"ticks\":\"\",\"title\":{\"standoff\":15},\"zerolinecolor\":\"white\",\"automargin\":true,\"zerolinewidth\":2},\"yaxis\":{\"gridcolor\":\"white\",\"linecolor\":\"white\",\"ticks\":\"\",\"title\":{\"standoff\":15},\"zerolinecolor\":\"white\",\"automargin\":true,\"zerolinewidth\":2},\"scene\":{\"xaxis\":{\"backgroundcolor\":\"#E5ECF6\",\"gridcolor\":\"white\",\"linecolor\":\"white\",\"showbackground\":true,\"ticks\":\"\",\"zerolinecolor\":\"white\",\"gridwidth\":2},\"yaxis\":{\"backgroundcolor\":\"#E5ECF6\",\"gridcolor\":\"white\",\"linecolor\":\"white\",\"showbackground\":true,\"ticks\":\"\",\"zerolinecolor\":\"white\",\"gridwidth\":2},\"zaxis\":{\"backgroundcolor\":\"#E5ECF6\",\"gridcolor\":\"white\",\"linecolor\":\"white\",\"showbackground\":true,\"ticks\":\"\",\"zerolinecolor\":\"white\",\"gridwidth\":2}},\"shapedefaults\":{\"line\":{\"color\":\"#2a3f5f\"}},\"annotationdefaults\":{\"arrowcolor\":\"#2a3f5f\",\"arrowhead\":0,\"arrowwidth\":1},\"geo\":{\"bgcolor\":\"white\",\"landcolor\":\"#E5ECF6\",\"subunitcolor\":\"white\",\"showland\":true,\"showlakes\":true,\"lakecolor\":\"white\"},\"title\":{\"x\":0.05},\"mapbox\":{\"style\":\"light\"}}},\"xaxis\":{\"anchor\":\"y\",\"domain\":[0.0,1.0],\"title\":{\"text\":\"Age at symptom onset\"},\"showline\":true,\"linewidth\":2,\"linecolor\":\"black\",\"mirror\":true},\"yaxis\":{\"anchor\":\"x\",\"domain\":[0.0,1.0],\"title\":{\"text\":\"Sex\"},\"showline\":true,\"linewidth\":2,\"linecolor\":\"black\",\"mirror\":true},\"legend\":{\"title\":{\"text\":\"Chr15q14 haplotype\"},\"tracegroupgap\":0},\"title\":{\"text\":\"Age at symptom onset\"},\"boxmode\":\"group\",\"height\":800,\"width\":800,\"font\":{\"size\":20},\"plot_bgcolor\":\"rgba(0, 0, 0, 0)\"},                        {\"toImageButtonOptions\": {\"format\": \"png\", \"filename\": \"\", \"height\": 800, \"width\": 800, \"scale\": 5}, \"responsive\": true}                    ).then(function(){\n",
       "                            \n",
       "var gd = document.getElementById('cba7b4ec-e2f1-4be7-b1bf-a71972302263');\n",
       "var x = new MutationObserver(function (mutations, observer) {{\n",
       "        var display = window.getComputedStyle(gd).display;\n",
       "        if (!display || display === 'none') {{\n",
       "            console.log([gd, 'removed!']);\n",
       "            Plotly.purge(gd);\n",
       "            observer.disconnect();\n",
       "        }}\n",
       "}});\n",
       "\n",
       "// Listen for the removal of the full notebook cells\n",
       "var notebookContainer = gd.closest('#notebook-container');\n",
       "if (notebookContainer) {{\n",
       "    x.observe(notebookContainer, {childList: true});\n",
       "}}\n",
       "\n",
       "// Listen for the clearing of the current output cell\n",
       "var outputEl = gd.closest('.output');\n",
       "if (outputEl) {{\n",
       "    x.observe(outputEl, {childList: true});\n",
       "}}\n",
       "\n",
       "                        })                };                });            </script>        </div>"
      ]
     },
     "metadata": {},
     "output_type": "display_data"
    }
   ],
   "source": [
    "df = df[df[\"haplotype\"] != \"nan\"]\n",
    "\n",
    "fig = px.strip(\n",
    "    data_frame=df.sort_values(\"haplotype\"),\n",
    "    y=\"SEXatBirth\",\n",
    "    x=\"AGEATONSET\",\n",
    "    width=600,\n",
    "    height=300,\n",
    "    color=\"haplotype\",\n",
    "    labels={\"AGEATONSET\": \"Age at symptom onset\", \"SEXatBirth\": \"Sex\", \"haplotype\": \"Chr15q14 haplotype\"},\n",
    "    hover_data=[\"Gentli_ID\"],\n",
    "    title=\"Age at symptom onset\",\n",
    ")\n",
    "fig.update_layout(\n",
    "    width=800,\n",
    "    height=800,\n",
    "    plot_bgcolor=\"rgba(0, 0, 0, 0)\",\n",
    "    font=dict(size=20),\n",
    ")\n",
    "\n",
    "fig.update_xaxes(\n",
    "    showline=True,\n",
    "    linewidth=2,\n",
    "    linecolor=\"black\",\n",
    "    mirror=True,\n",
    ")\n",
    "\n",
    "fig.update_yaxes(\n",
    "    showline=True,\n",
    "    linewidth=2,\n",
    "    linecolor=\"black\",\n",
    "    mirror=True,\n",
    ")\n",
    "\n",
    "fig.update_traces(marker=dict(size=12, opacity=0.5), jitter=1)\n",
    "\n",
    "fig.show(\n",
    "    config={\n",
    "        \"toImageButtonOptions\": {\n",
    "            \"format\": \"png\",\n",
    "            \"filename\": \"\",\n",
    "            \"height\": 800,\n",
    "            \"width\": 800,\n",
    "            \"scale\": 5,\n",
    "        }\n",
    "    }\n",
    ")"
   ]
  },
  {
   "cell_type": "code",
   "execution_count": 77,
   "metadata": {},
   "outputs": [
    {
     "name": "stdout",
     "output_type": "stream",
     "text": [
      "T-test for major vs none: TtestResult(statistic=2.101784140161494, pvalue=0.03899497651926687, df=73.59301028904439)\n",
      "T-test for minor vs none: TtestResult(statistic=0.5996534118884191, pvalue=0.5556145489168454, df=19.577593105434186)\n",
      "T-test for major vs minor: TtestResult(statistic=1.0747382291248397, pvalue=0.2945877519470608, df=21.17266211899469)\n"
     ]
    },
    {
     "data": {
      "application/vnd.plotly.v1+json": {
       "config": {
        "plotlyServerURL": "https://plot.ly",
        "toImageButtonOptions": {
         "filename": "",
         "format": "png",
         "height": 800,
         "scale": 5,
         "width": 800
        }
       },
       "data": [
        {
         "alignmentgroup": "True",
         "boxpoints": "all",
         "customdata": [
          [
           "rr_NA21_285"
          ],
          [
           "rr_NA01_027"
          ],
          [
           "rr_NA09_238"
          ],
          [
           "rr_NA14_199"
          ],
          [
           "rr_UNSW2220"
          ],
          [
           "rr_NA19_309"
          ],
          [
           "rr_QSBB51_18"
          ],
          [
           "rr_NA23_161"
          ],
          [
           "rr_A02_164"
          ],
          [
           "rr_PIDN17760"
          ],
          [
           "rr_Pt_3303"
          ],
          [
           "rr_LN_C12_07006"
          ],
          [
           "rr_UBC66_1"
          ],
          [
           "rr_PIDN12322"
          ],
          [
           "rr_RNBC-22_16"
          ],
          [
           "rr_NP18739"
          ],
          [
           "rr_PIDN6543"
          ],
          [
           "rr_PIDN9402"
          ],
          [
           "rr_UP101220"
          ],
          [
           "rr_UNSW22478"
          ],
          [
           "rr_NA23_005"
          ],
          [
           "rr_FTD196_1"
          ],
          [
           "rr_NA19_291"
          ],
          [
           "rr_UNSW2185"
          ],
          [
           "rr_NHB18_068"
          ],
          [
           "rr_NHB15_114"
          ],
          [
           "rr_IB5534"
          ],
          [
           "rr_NHB14_059"
          ],
          [
           "rr_NHB05_082"
          ],
          [
           "rr_CW05_004"
          ],
          [
           "rr_KCLA156_17"
          ],
          [
           "rr_NHB05_059"
          ],
          [
           "rr_KULA_23717"
          ],
          [
           "rr_NHB03_018"
          ],
          [
           "rr_EMC2013_098"
          ],
          [
           "rr_X5817"
          ],
          [
           "rr_EMC13_65"
          ],
          [
           "rr_KULA_22549"
          ],
          [
           "rr_PIDN738"
          ],
          [
           "rr_PIDN106"
          ],
          [
           "rr_UCL2783"
          ],
          [
           "rr_RZ462"
          ],
          [
           "rr_R556"
          ],
          [
           "rr_FTD397_1"
          ],
          [
           "rr_A15-074"
          ],
          [
           "rr_NHB95_041"
          ],
          [
           "rr_KCLA311_98"
          ],
          [
           "rr_RZ257"
          ],
          [
           "rr_Pt_8482"
          ],
          [
           "rr_NA22_365"
          ],
          [
           "rr_2021_017"
          ],
          [
           "rr_QSBB81_17"
          ],
          [
           "rr_2132"
          ],
          [
           "rr_LN_N00_1835"
          ],
          [
           "rr_E13_56"
          ],
          [
           "rr_LN_C14_36644"
          ],
          [
           "rr_LN_C10_25594"
          ],
          [
           "rr_NP43508"
          ],
          [
           "rr_UNSW22488"
          ],
          [
           "rr_Ro_AH11.2"
          ],
          [
           "rr_2T7T4"
          ],
          [
           "rr_CW00_009"
          ],
          [
           "rr_NHB16_047"
          ],
          [
           "rr_NHB94_068"
          ],
          [
           "rr_IB6387"
          ],
          [
           "rr_KCLA061_16"
          ],
          [
           "rr_KULA_24063"
          ],
          [
           "rr_Muk49"
          ],
          [
           "rr_7965"
          ],
          [
           "rr_NA20_415"
          ],
          [
           "rr_NA22_425"
          ],
          [
           "rr_NA22_197"
          ],
          [
           "rr_NRA22654"
          ],
          [
           "rr_A06_120"
          ],
          [
           "rr_UCL12461"
          ],
          [
           "rr_UCL1506"
          ],
          [
           "rr_UCL19247"
          ],
          [
           "rr_NHB15_065"
          ],
          [
           "rr_VA05_109"
          ],
          [
           "rr_X5929"
          ],
          [
           "rr_PIDN1734"
          ],
          [
           "rr_PIDN19525"
          ],
          [
           "rr_PIDN2662"
          ],
          [
           "rr_PIDN3794"
          ],
          [
           "rr_A17_05"
          ],
          [
           "rr_2005_044"
          ]
         ],
         "fillcolor": "rgba(255,255,255,0)",
         "hoveron": "points",
         "hovertemplate": "issue=N<br>Age at symptom onset=%{x}<br>Chr15q14 haplotype=%{y}<br>Gentli_ID=%{customdata[0]}<extra></extra>",
         "jitter": 1,
         "legendgroup": "N",
         "line": {
          "color": "rgba(255,255,255,0)"
         },
         "marker": {
          "color": "red",
          "opacity": 0.5,
          "size": 12
         },
         "name": "N",
         "offsetgroup": "N",
         "orientation": "h",
         "pointpos": 0,
         "showlegend": true,
         "type": "box",
         "x": [
          59,
          38,
          48,
          30,
          56,
          47,
          61,
          38,
          59,
          63,
          52,
          48,
          46,
          57,
          53,
          39,
          46,
          44,
          46,
          59,
          55,
          66,
          41,
          60,
          54,
          73,
          29,
          44,
          30,
          41,
          36,
          32,
          39,
          35,
          44,
          54,
          42,
          42,
          43,
          48,
          44,
          39,
          38,
          51,
          43,
          49,
          59,
          46,
          59,
          44,
          21,
          49,
          63,
          31,
          26,
          50,
          40,
          57,
          33,
          39,
          36,
          48,
          40,
          56,
          50,
          43,
          42,
          28,
          46,
          55,
          49,
          41,
          46,
          33,
          46,
          51,
          43,
          50,
          38,
          34,
          55,
          26,
          37,
          32,
          33,
          45
         ],
         "x0": " ",
         "xaxis": "x",
         "y": [
          "HapA",
          "HapA",
          "HapA",
          "HapA",
          "HapA",
          "HapA",
          "HapA",
          "HapA",
          "HapA",
          "HapA",
          "HapA",
          "HapA",
          "HapA",
          "HapA",
          "HapA",
          "HapA",
          "HapA",
          "HapA",
          "HapA",
          "HapA",
          "HapA",
          "HapA",
          "HapA",
          "HapA",
          "HapA",
          "HapA",
          "HapA",
          "HapA",
          "HapA",
          "HapA",
          "HapA",
          "HapA",
          "HapA",
          "HapA",
          "HapA",
          "HapA",
          "HapA",
          "HapA",
          "HapB",
          "HapB",
          "HapB",
          "HapB",
          "HapB",
          "HapB",
          "HapB",
          "HapB",
          "HapB",
          "HapB",
          "none",
          "none",
          "none",
          "none",
          "none",
          "none",
          "none",
          "none",
          "none",
          "none",
          "none",
          "none",
          "none",
          "none",
          "none",
          "none",
          "none",
          "none",
          "none",
          "none",
          "none",
          "none",
          "none",
          "none",
          "none",
          "none",
          "none",
          "none",
          "none",
          "none",
          "none",
          "none",
          "none",
          "none",
          "none",
          "none",
          "none",
          "none"
         ],
         "y0": " ",
         "yaxis": "y"
        },
        {
         "alignmentgroup": "True",
         "boxpoints": "all",
         "customdata": [
          [
           "rr_PIDN4463"
          ]
         ],
         "fillcolor": "rgba(255,255,255,0)",
         "hoveron": "points",
         "hovertemplate": "issue=Y<br>Age at symptom onset=%{x}<br>Chr15q14 haplotype=%{y}<br>Gentli_ID=%{customdata[0]}<extra></extra>",
         "jitter": 1,
         "legendgroup": "Y",
         "line": {
          "color": "rgba(255,255,255,0)"
         },
         "marker": {
          "color": "grey",
          "opacity": 0.5,
          "size": 12
         },
         "name": "Y",
         "offsetgroup": "Y",
         "orientation": "h",
         "pointpos": 0,
         "showlegend": true,
         "type": "box",
         "x": [
          27
         ],
         "x0": " ",
         "xaxis": "x",
         "y": [
          "HapB"
         ],
         "y0": " ",
         "yaxis": "y"
        },
        {
         "line": {
          "color": "grey",
          "width": 1
         },
         "mode": "lines",
         "showlegend": false,
         "type": "scatter",
         "x": [
          76,
          77,
          77,
          76
         ],
         "y": [
          "none",
          "none",
          "HapA",
          "HapA"
         ]
        }
       ],
       "layout": {
        "annotations": [
         {
          "font": {
           "size": 20
          },
          "showarrow": false,
          "text": "*",
          "x": 0.98,
          "xref": "paper",
          "y": 0.5,
          "yref": "paper"
         }
        ],
        "boxmode": "overlay",
        "font": {
         "size": 20
        },
        "height": 800,
        "legend": {
         "title": {
          "text": "issue"
         },
         "tracegroupgap": 0
        },
        "plot_bgcolor": "rgba(0, 0, 0, 0)",
        "showlegend": false,
        "template": {
         "data": {
          "bar": [
           {
            "error_x": {
             "color": "#2a3f5f"
            },
            "error_y": {
             "color": "#2a3f5f"
            },
            "marker": {
             "line": {
              "color": "#E5ECF6",
              "width": 0.5
             },
             "pattern": {
              "fillmode": "overlay",
              "size": 10,
              "solidity": 0.2
             }
            },
            "type": "bar"
           }
          ],
          "barpolar": [
           {
            "marker": {
             "line": {
              "color": "#E5ECF6",
              "width": 0.5
             },
             "pattern": {
              "fillmode": "overlay",
              "size": 10,
              "solidity": 0.2
             }
            },
            "type": "barpolar"
           }
          ],
          "carpet": [
           {
            "aaxis": {
             "endlinecolor": "#2a3f5f",
             "gridcolor": "white",
             "linecolor": "white",
             "minorgridcolor": "white",
             "startlinecolor": "#2a3f5f"
            },
            "baxis": {
             "endlinecolor": "#2a3f5f",
             "gridcolor": "white",
             "linecolor": "white",
             "minorgridcolor": "white",
             "startlinecolor": "#2a3f5f"
            },
            "type": "carpet"
           }
          ],
          "choropleth": [
           {
            "colorbar": {
             "outlinewidth": 0,
             "ticks": ""
            },
            "type": "choropleth"
           }
          ],
          "contour": [
           {
            "colorbar": {
             "outlinewidth": 0,
             "ticks": ""
            },
            "colorscale": [
             [
              0,
              "#0d0887"
             ],
             [
              0.1111111111111111,
              "#46039f"
             ],
             [
              0.2222222222222222,
              "#7201a8"
             ],
             [
              0.3333333333333333,
              "#9c179e"
             ],
             [
              0.4444444444444444,
              "#bd3786"
             ],
             [
              0.5555555555555556,
              "#d8576b"
             ],
             [
              0.6666666666666666,
              "#ed7953"
             ],
             [
              0.7777777777777778,
              "#fb9f3a"
             ],
             [
              0.8888888888888888,
              "#fdca26"
             ],
             [
              1,
              "#f0f921"
             ]
            ],
            "type": "contour"
           }
          ],
          "contourcarpet": [
           {
            "colorbar": {
             "outlinewidth": 0,
             "ticks": ""
            },
            "type": "contourcarpet"
           }
          ],
          "heatmap": [
           {
            "colorbar": {
             "outlinewidth": 0,
             "ticks": ""
            },
            "colorscale": [
             [
              0,
              "#0d0887"
             ],
             [
              0.1111111111111111,
              "#46039f"
             ],
             [
              0.2222222222222222,
              "#7201a8"
             ],
             [
              0.3333333333333333,
              "#9c179e"
             ],
             [
              0.4444444444444444,
              "#bd3786"
             ],
             [
              0.5555555555555556,
              "#d8576b"
             ],
             [
              0.6666666666666666,
              "#ed7953"
             ],
             [
              0.7777777777777778,
              "#fb9f3a"
             ],
             [
              0.8888888888888888,
              "#fdca26"
             ],
             [
              1,
              "#f0f921"
             ]
            ],
            "type": "heatmap"
           }
          ],
          "heatmapgl": [
           {
            "colorbar": {
             "outlinewidth": 0,
             "ticks": ""
            },
            "colorscale": [
             [
              0,
              "#0d0887"
             ],
             [
              0.1111111111111111,
              "#46039f"
             ],
             [
              0.2222222222222222,
              "#7201a8"
             ],
             [
              0.3333333333333333,
              "#9c179e"
             ],
             [
              0.4444444444444444,
              "#bd3786"
             ],
             [
              0.5555555555555556,
              "#d8576b"
             ],
             [
              0.6666666666666666,
              "#ed7953"
             ],
             [
              0.7777777777777778,
              "#fb9f3a"
             ],
             [
              0.8888888888888888,
              "#fdca26"
             ],
             [
              1,
              "#f0f921"
             ]
            ],
            "type": "heatmapgl"
           }
          ],
          "histogram": [
           {
            "marker": {
             "pattern": {
              "fillmode": "overlay",
              "size": 10,
              "solidity": 0.2
             }
            },
            "type": "histogram"
           }
          ],
          "histogram2d": [
           {
            "colorbar": {
             "outlinewidth": 0,
             "ticks": ""
            },
            "colorscale": [
             [
              0,
              "#0d0887"
             ],
             [
              0.1111111111111111,
              "#46039f"
             ],
             [
              0.2222222222222222,
              "#7201a8"
             ],
             [
              0.3333333333333333,
              "#9c179e"
             ],
             [
              0.4444444444444444,
              "#bd3786"
             ],
             [
              0.5555555555555556,
              "#d8576b"
             ],
             [
              0.6666666666666666,
              "#ed7953"
             ],
             [
              0.7777777777777778,
              "#fb9f3a"
             ],
             [
              0.8888888888888888,
              "#fdca26"
             ],
             [
              1,
              "#f0f921"
             ]
            ],
            "type": "histogram2d"
           }
          ],
          "histogram2dcontour": [
           {
            "colorbar": {
             "outlinewidth": 0,
             "ticks": ""
            },
            "colorscale": [
             [
              0,
              "#0d0887"
             ],
             [
              0.1111111111111111,
              "#46039f"
             ],
             [
              0.2222222222222222,
              "#7201a8"
             ],
             [
              0.3333333333333333,
              "#9c179e"
             ],
             [
              0.4444444444444444,
              "#bd3786"
             ],
             [
              0.5555555555555556,
              "#d8576b"
             ],
             [
              0.6666666666666666,
              "#ed7953"
             ],
             [
              0.7777777777777778,
              "#fb9f3a"
             ],
             [
              0.8888888888888888,
              "#fdca26"
             ],
             [
              1,
              "#f0f921"
             ]
            ],
            "type": "histogram2dcontour"
           }
          ],
          "mesh3d": [
           {
            "colorbar": {
             "outlinewidth": 0,
             "ticks": ""
            },
            "type": "mesh3d"
           }
          ],
          "parcoords": [
           {
            "line": {
             "colorbar": {
              "outlinewidth": 0,
              "ticks": ""
             }
            },
            "type": "parcoords"
           }
          ],
          "pie": [
           {
            "automargin": true,
            "type": "pie"
           }
          ],
          "scatter": [
           {
            "fillpattern": {
             "fillmode": "overlay",
             "size": 10,
             "solidity": 0.2
            },
            "type": "scatter"
           }
          ],
          "scatter3d": [
           {
            "line": {
             "colorbar": {
              "outlinewidth": 0,
              "ticks": ""
             }
            },
            "marker": {
             "colorbar": {
              "outlinewidth": 0,
              "ticks": ""
             }
            },
            "type": "scatter3d"
           }
          ],
          "scattercarpet": [
           {
            "marker": {
             "colorbar": {
              "outlinewidth": 0,
              "ticks": ""
             }
            },
            "type": "scattercarpet"
           }
          ],
          "scattergeo": [
           {
            "marker": {
             "colorbar": {
              "outlinewidth": 0,
              "ticks": ""
             }
            },
            "type": "scattergeo"
           }
          ],
          "scattergl": [
           {
            "marker": {
             "colorbar": {
              "outlinewidth": 0,
              "ticks": ""
             }
            },
            "type": "scattergl"
           }
          ],
          "scattermapbox": [
           {
            "marker": {
             "colorbar": {
              "outlinewidth": 0,
              "ticks": ""
             }
            },
            "type": "scattermapbox"
           }
          ],
          "scatterpolar": [
           {
            "marker": {
             "colorbar": {
              "outlinewidth": 0,
              "ticks": ""
             }
            },
            "type": "scatterpolar"
           }
          ],
          "scatterpolargl": [
           {
            "marker": {
             "colorbar": {
              "outlinewidth": 0,
              "ticks": ""
             }
            },
            "type": "scatterpolargl"
           }
          ],
          "scatterternary": [
           {
            "marker": {
             "colorbar": {
              "outlinewidth": 0,
              "ticks": ""
             }
            },
            "type": "scatterternary"
           }
          ],
          "surface": [
           {
            "colorbar": {
             "outlinewidth": 0,
             "ticks": ""
            },
            "colorscale": [
             [
              0,
              "#0d0887"
             ],
             [
              0.1111111111111111,
              "#46039f"
             ],
             [
              0.2222222222222222,
              "#7201a8"
             ],
             [
              0.3333333333333333,
              "#9c179e"
             ],
             [
              0.4444444444444444,
              "#bd3786"
             ],
             [
              0.5555555555555556,
              "#d8576b"
             ],
             [
              0.6666666666666666,
              "#ed7953"
             ],
             [
              0.7777777777777778,
              "#fb9f3a"
             ],
             [
              0.8888888888888888,
              "#fdca26"
             ],
             [
              1,
              "#f0f921"
             ]
            ],
            "type": "surface"
           }
          ],
          "table": [
           {
            "cells": {
             "fill": {
              "color": "#EBF0F8"
             },
             "line": {
              "color": "white"
             }
            },
            "header": {
             "fill": {
              "color": "#C8D4E3"
             },
             "line": {
              "color": "white"
             }
            },
            "type": "table"
           }
          ]
         },
         "layout": {
          "annotationdefaults": {
           "arrowcolor": "#2a3f5f",
           "arrowhead": 0,
           "arrowwidth": 1
          },
          "autotypenumbers": "strict",
          "coloraxis": {
           "colorbar": {
            "outlinewidth": 0,
            "ticks": ""
           }
          },
          "colorscale": {
           "diverging": [
            [
             0,
             "#8e0152"
            ],
            [
             0.1,
             "#c51b7d"
            ],
            [
             0.2,
             "#de77ae"
            ],
            [
             0.3,
             "#f1b6da"
            ],
            [
             0.4,
             "#fde0ef"
            ],
            [
             0.5,
             "#f7f7f7"
            ],
            [
             0.6,
             "#e6f5d0"
            ],
            [
             0.7,
             "#b8e186"
            ],
            [
             0.8,
             "#7fbc41"
            ],
            [
             0.9,
             "#4d9221"
            ],
            [
             1,
             "#276419"
            ]
           ],
           "sequential": [
            [
             0,
             "#0d0887"
            ],
            [
             0.1111111111111111,
             "#46039f"
            ],
            [
             0.2222222222222222,
             "#7201a8"
            ],
            [
             0.3333333333333333,
             "#9c179e"
            ],
            [
             0.4444444444444444,
             "#bd3786"
            ],
            [
             0.5555555555555556,
             "#d8576b"
            ],
            [
             0.6666666666666666,
             "#ed7953"
            ],
            [
             0.7777777777777778,
             "#fb9f3a"
            ],
            [
             0.8888888888888888,
             "#fdca26"
            ],
            [
             1,
             "#f0f921"
            ]
           ],
           "sequentialminus": [
            [
             0,
             "#0d0887"
            ],
            [
             0.1111111111111111,
             "#46039f"
            ],
            [
             0.2222222222222222,
             "#7201a8"
            ],
            [
             0.3333333333333333,
             "#9c179e"
            ],
            [
             0.4444444444444444,
             "#bd3786"
            ],
            [
             0.5555555555555556,
             "#d8576b"
            ],
            [
             0.6666666666666666,
             "#ed7953"
            ],
            [
             0.7777777777777778,
             "#fb9f3a"
            ],
            [
             0.8888888888888888,
             "#fdca26"
            ],
            [
             1,
             "#f0f921"
            ]
           ]
          },
          "colorway": [
           "#636efa",
           "#EF553B",
           "#00cc96",
           "#ab63fa",
           "#FFA15A",
           "#19d3f3",
           "#FF6692",
           "#B6E880",
           "#FF97FF",
           "#FECB52"
          ],
          "font": {
           "color": "#2a3f5f"
          },
          "geo": {
           "bgcolor": "white",
           "lakecolor": "white",
           "landcolor": "#E5ECF6",
           "showlakes": true,
           "showland": true,
           "subunitcolor": "white"
          },
          "hoverlabel": {
           "align": "left"
          },
          "hovermode": "closest",
          "mapbox": {
           "style": "light"
          },
          "paper_bgcolor": "white",
          "plot_bgcolor": "#E5ECF6",
          "polar": {
           "angularaxis": {
            "gridcolor": "white",
            "linecolor": "white",
            "ticks": ""
           },
           "bgcolor": "#E5ECF6",
           "radialaxis": {
            "gridcolor": "white",
            "linecolor": "white",
            "ticks": ""
           }
          },
          "scene": {
           "xaxis": {
            "backgroundcolor": "#E5ECF6",
            "gridcolor": "white",
            "gridwidth": 2,
            "linecolor": "white",
            "showbackground": true,
            "ticks": "",
            "zerolinecolor": "white"
           },
           "yaxis": {
            "backgroundcolor": "#E5ECF6",
            "gridcolor": "white",
            "gridwidth": 2,
            "linecolor": "white",
            "showbackground": true,
            "ticks": "",
            "zerolinecolor": "white"
           },
           "zaxis": {
            "backgroundcolor": "#E5ECF6",
            "gridcolor": "white",
            "gridwidth": 2,
            "linecolor": "white",
            "showbackground": true,
            "ticks": "",
            "zerolinecolor": "white"
           }
          },
          "shapedefaults": {
           "line": {
            "color": "#2a3f5f"
           }
          },
          "ternary": {
           "aaxis": {
            "gridcolor": "white",
            "linecolor": "white",
            "ticks": ""
           },
           "baxis": {
            "gridcolor": "white",
            "linecolor": "white",
            "ticks": ""
           },
           "bgcolor": "#E5ECF6",
           "caxis": {
            "gridcolor": "white",
            "linecolor": "white",
            "ticks": ""
           }
          },
          "title": {
           "x": 0.05
          },
          "xaxis": {
           "automargin": true,
           "gridcolor": "white",
           "linecolor": "white",
           "ticks": "",
           "title": {
            "standoff": 15
           },
           "zerolinecolor": "white",
           "zerolinewidth": 2
          },
          "yaxis": {
           "automargin": true,
           "gridcolor": "white",
           "linecolor": "white",
           "ticks": "",
           "title": {
            "standoff": 15
           },
           "zerolinecolor": "white",
           "zerolinewidth": 2
          }
         }
        },
        "title": {
         "text": "Age at symptom onset"
        },
        "width": 800,
        "xaxis": {
         "anchor": "y",
         "domain": [
          0,
          1
         ],
         "linecolor": "black",
         "linewidth": 2,
         "mirror": true,
         "range": [
          18,
          80
         ],
         "showline": true,
         "title": {
          "text": "Age at symptom onset"
         }
        },
        "yaxis": {
         "anchor": "x",
         "domain": [
          0,
          1
         ],
         "linecolor": "black",
         "linewidth": 2,
         "mirror": true,
         "showline": true,
         "title": {
          "text": "Chr15q14 haplotype"
         }
        }
       }
      },
      "text/html": [
       "<div>                            <div id=\"461492f2-17c9-4763-ac55-e32c2486e832\" class=\"plotly-graph-div\" style=\"height:800px; width:800px;\"></div>            <script type=\"text/javascript\">                require([\"plotly\"], function(Plotly) {                    window.PLOTLYENV=window.PLOTLYENV || {};                                    if (document.getElementById(\"461492f2-17c9-4763-ac55-e32c2486e832\")) {                    Plotly.newPlot(                        \"461492f2-17c9-4763-ac55-e32c2486e832\",                        [{\"alignmentgroup\":\"True\",\"boxpoints\":\"all\",\"customdata\":[[\"rr_NA21_285\"],[\"rr_NA01_027\"],[\"rr_NA09_238\"],[\"rr_NA14_199\"],[\"rr_UNSW2220\"],[\"rr_NA19_309\"],[\"rr_QSBB51_18\"],[\"rr_NA23_161\"],[\"rr_A02_164\"],[\"rr_PIDN17760\"],[\"rr_Pt_3303\"],[\"rr_LN_C12_07006\"],[\"rr_UBC66_1\"],[\"rr_PIDN12322\"],[\"rr_RNBC-22_16\"],[\"rr_NP18739\"],[\"rr_PIDN6543\"],[\"rr_PIDN9402\"],[\"rr_UP101220\"],[\"rr_UNSW22478\"],[\"rr_NA23_005\"],[\"rr_FTD196_1\"],[\"rr_NA19_291\"],[\"rr_UNSW2185\"],[\"rr_NHB18_068\"],[\"rr_NHB15_114\"],[\"rr_IB5534\"],[\"rr_NHB14_059\"],[\"rr_NHB05_082\"],[\"rr_CW05_004\"],[\"rr_KCLA156_17\"],[\"rr_NHB05_059\"],[\"rr_KULA_23717\"],[\"rr_NHB03_018\"],[\"rr_EMC2013_098\"],[\"rr_X5817\"],[\"rr_EMC13_65\"],[\"rr_KULA_22549\"],[\"rr_PIDN738\"],[\"rr_PIDN106\"],[\"rr_UCL2783\"],[\"rr_RZ462\"],[\"rr_R556\"],[\"rr_FTD397_1\"],[\"rr_A15-074\"],[\"rr_NHB95_041\"],[\"rr_KCLA311_98\"],[\"rr_RZ257\"],[\"rr_Pt_8482\"],[\"rr_NA22_365\"],[\"rr_2021_017\"],[\"rr_QSBB81_17\"],[\"rr_2132\"],[\"rr_LN_N00_1835\"],[\"rr_E13_56\"],[\"rr_LN_C14_36644\"],[\"rr_LN_C10_25594\"],[\"rr_NP43508\"],[\"rr_UNSW22488\"],[\"rr_Ro_AH11.2\"],[\"rr_2T7T4\"],[\"rr_CW00_009\"],[\"rr_NHB16_047\"],[\"rr_NHB94_068\"],[\"rr_IB6387\"],[\"rr_KCLA061_16\"],[\"rr_KULA_24063\"],[\"rr_Muk49\"],[\"rr_7965\"],[\"rr_NA20_415\"],[\"rr_NA22_425\"],[\"rr_NA22_197\"],[\"rr_NRA22654\"],[\"rr_A06_120\"],[\"rr_UCL12461\"],[\"rr_UCL1506\"],[\"rr_UCL19247\"],[\"rr_NHB15_065\"],[\"rr_VA05_109\"],[\"rr_X5929\"],[\"rr_PIDN1734\"],[\"rr_PIDN19525\"],[\"rr_PIDN2662\"],[\"rr_PIDN3794\"],[\"rr_A17_05\"],[\"rr_2005_044\"]],\"fillcolor\":\"rgba(255,255,255,0)\",\"hoveron\":\"points\",\"hovertemplate\":\"issue=N\\u003cbr\\u003eAge at symptom onset=%{x}\\u003cbr\\u003eChr15q14 haplotype=%{y}\\u003cbr\\u003eGentli_ID=%{customdata[0]}\\u003cextra\\u003e\\u003c\\u002fextra\\u003e\",\"legendgroup\":\"N\",\"line\":{\"color\":\"rgba(255,255,255,0)\"},\"marker\":{\"color\":\"red\",\"opacity\":0.5,\"size\":12},\"name\":\"N\",\"offsetgroup\":\"N\",\"orientation\":\"h\",\"pointpos\":0,\"showlegend\":true,\"x\":[59,38,48,30,56,47,61,38,59,63,52,48,46,57,53,39,46,44,46,59,55,66,41,60,54,73,29,44,30,41,36,32,39,35,44,54,42,42,43,48,44,39,38,51,43,49,59,46,59,44,21,49,63,31,26,50,40,57,33,39,36,48,40,56,50,43,42,28,46,55,49,41,46,33,46,51,43,50,38,34,55,26,37,32,33,45],\"x0\":\" \",\"xaxis\":\"x\",\"y\":[\"HapA\",\"HapA\",\"HapA\",\"HapA\",\"HapA\",\"HapA\",\"HapA\",\"HapA\",\"HapA\",\"HapA\",\"HapA\",\"HapA\",\"HapA\",\"HapA\",\"HapA\",\"HapA\",\"HapA\",\"HapA\",\"HapA\",\"HapA\",\"HapA\",\"HapA\",\"HapA\",\"HapA\",\"HapA\",\"HapA\",\"HapA\",\"HapA\",\"HapA\",\"HapA\",\"HapA\",\"HapA\",\"HapA\",\"HapA\",\"HapA\",\"HapA\",\"HapA\",\"HapA\",\"HapB\",\"HapB\",\"HapB\",\"HapB\",\"HapB\",\"HapB\",\"HapB\",\"HapB\",\"HapB\",\"HapB\",\"none\",\"none\",\"none\",\"none\",\"none\",\"none\",\"none\",\"none\",\"none\",\"none\",\"none\",\"none\",\"none\",\"none\",\"none\",\"none\",\"none\",\"none\",\"none\",\"none\",\"none\",\"none\",\"none\",\"none\",\"none\",\"none\",\"none\",\"none\",\"none\",\"none\",\"none\",\"none\",\"none\",\"none\",\"none\",\"none\",\"none\",\"none\"],\"y0\":\" \",\"yaxis\":\"y\",\"type\":\"box\",\"jitter\":1},{\"alignmentgroup\":\"True\",\"boxpoints\":\"all\",\"customdata\":[[\"rr_PIDN4463\"]],\"fillcolor\":\"rgba(255,255,255,0)\",\"hoveron\":\"points\",\"hovertemplate\":\"issue=Y\\u003cbr\\u003eAge at symptom onset=%{x}\\u003cbr\\u003eChr15q14 haplotype=%{y}\\u003cbr\\u003eGentli_ID=%{customdata[0]}\\u003cextra\\u003e\\u003c\\u002fextra\\u003e\",\"legendgroup\":\"Y\",\"line\":{\"color\":\"rgba(255,255,255,0)\"},\"marker\":{\"color\":\"grey\",\"opacity\":0.5,\"size\":12},\"name\":\"Y\",\"offsetgroup\":\"Y\",\"orientation\":\"h\",\"pointpos\":0,\"showlegend\":true,\"x\":[27],\"x0\":\" \",\"xaxis\":\"x\",\"y\":[\"HapB\"],\"y0\":\" \",\"yaxis\":\"y\",\"type\":\"box\",\"jitter\":1},{\"line\":{\"color\":\"grey\",\"width\":1},\"mode\":\"lines\",\"showlegend\":false,\"x\":[76,77,77,76],\"y\":[\"none\",\"none\",\"HapA\",\"HapA\"],\"type\":\"scatter\"}],                        {\"template\":{\"data\":{\"histogram2dcontour\":[{\"type\":\"histogram2dcontour\",\"colorbar\":{\"outlinewidth\":0,\"ticks\":\"\"},\"colorscale\":[[0.0,\"#0d0887\"],[0.1111111111111111,\"#46039f\"],[0.2222222222222222,\"#7201a8\"],[0.3333333333333333,\"#9c179e\"],[0.4444444444444444,\"#bd3786\"],[0.5555555555555556,\"#d8576b\"],[0.6666666666666666,\"#ed7953\"],[0.7777777777777778,\"#fb9f3a\"],[0.8888888888888888,\"#fdca26\"],[1.0,\"#f0f921\"]]}],\"choropleth\":[{\"type\":\"choropleth\",\"colorbar\":{\"outlinewidth\":0,\"ticks\":\"\"}}],\"histogram2d\":[{\"type\":\"histogram2d\",\"colorbar\":{\"outlinewidth\":0,\"ticks\":\"\"},\"colorscale\":[[0.0,\"#0d0887\"],[0.1111111111111111,\"#46039f\"],[0.2222222222222222,\"#7201a8\"],[0.3333333333333333,\"#9c179e\"],[0.4444444444444444,\"#bd3786\"],[0.5555555555555556,\"#d8576b\"],[0.6666666666666666,\"#ed7953\"],[0.7777777777777778,\"#fb9f3a\"],[0.8888888888888888,\"#fdca26\"],[1.0,\"#f0f921\"]]}],\"heatmap\":[{\"type\":\"heatmap\",\"colorbar\":{\"outlinewidth\":0,\"ticks\":\"\"},\"colorscale\":[[0.0,\"#0d0887\"],[0.1111111111111111,\"#46039f\"],[0.2222222222222222,\"#7201a8\"],[0.3333333333333333,\"#9c179e\"],[0.4444444444444444,\"#bd3786\"],[0.5555555555555556,\"#d8576b\"],[0.6666666666666666,\"#ed7953\"],[0.7777777777777778,\"#fb9f3a\"],[0.8888888888888888,\"#fdca26\"],[1.0,\"#f0f921\"]]}],\"heatmapgl\":[{\"type\":\"heatmapgl\",\"colorbar\":{\"outlinewidth\":0,\"ticks\":\"\"},\"colorscale\":[[0.0,\"#0d0887\"],[0.1111111111111111,\"#46039f\"],[0.2222222222222222,\"#7201a8\"],[0.3333333333333333,\"#9c179e\"],[0.4444444444444444,\"#bd3786\"],[0.5555555555555556,\"#d8576b\"],[0.6666666666666666,\"#ed7953\"],[0.7777777777777778,\"#fb9f3a\"],[0.8888888888888888,\"#fdca26\"],[1.0,\"#f0f921\"]]}],\"contourcarpet\":[{\"type\":\"contourcarpet\",\"colorbar\":{\"outlinewidth\":0,\"ticks\":\"\"}}],\"contour\":[{\"type\":\"contour\",\"colorbar\":{\"outlinewidth\":0,\"ticks\":\"\"},\"colorscale\":[[0.0,\"#0d0887\"],[0.1111111111111111,\"#46039f\"],[0.2222222222222222,\"#7201a8\"],[0.3333333333333333,\"#9c179e\"],[0.4444444444444444,\"#bd3786\"],[0.5555555555555556,\"#d8576b\"],[0.6666666666666666,\"#ed7953\"],[0.7777777777777778,\"#fb9f3a\"],[0.8888888888888888,\"#fdca26\"],[1.0,\"#f0f921\"]]}],\"surface\":[{\"type\":\"surface\",\"colorbar\":{\"outlinewidth\":0,\"ticks\":\"\"},\"colorscale\":[[0.0,\"#0d0887\"],[0.1111111111111111,\"#46039f\"],[0.2222222222222222,\"#7201a8\"],[0.3333333333333333,\"#9c179e\"],[0.4444444444444444,\"#bd3786\"],[0.5555555555555556,\"#d8576b\"],[0.6666666666666666,\"#ed7953\"],[0.7777777777777778,\"#fb9f3a\"],[0.8888888888888888,\"#fdca26\"],[1.0,\"#f0f921\"]]}],\"mesh3d\":[{\"type\":\"mesh3d\",\"colorbar\":{\"outlinewidth\":0,\"ticks\":\"\"}}],\"scatter\":[{\"fillpattern\":{\"fillmode\":\"overlay\",\"size\":10,\"solidity\":0.2},\"type\":\"scatter\"}],\"parcoords\":[{\"type\":\"parcoords\",\"line\":{\"colorbar\":{\"outlinewidth\":0,\"ticks\":\"\"}}}],\"scatterpolargl\":[{\"type\":\"scatterpolargl\",\"marker\":{\"colorbar\":{\"outlinewidth\":0,\"ticks\":\"\"}}}],\"bar\":[{\"error_x\":{\"color\":\"#2a3f5f\"},\"error_y\":{\"color\":\"#2a3f5f\"},\"marker\":{\"line\":{\"color\":\"#E5ECF6\",\"width\":0.5},\"pattern\":{\"fillmode\":\"overlay\",\"size\":10,\"solidity\":0.2}},\"type\":\"bar\"}],\"scattergeo\":[{\"type\":\"scattergeo\",\"marker\":{\"colorbar\":{\"outlinewidth\":0,\"ticks\":\"\"}}}],\"scatterpolar\":[{\"type\":\"scatterpolar\",\"marker\":{\"colorbar\":{\"outlinewidth\":0,\"ticks\":\"\"}}}],\"histogram\":[{\"marker\":{\"pattern\":{\"fillmode\":\"overlay\",\"size\":10,\"solidity\":0.2}},\"type\":\"histogram\"}],\"scattergl\":[{\"type\":\"scattergl\",\"marker\":{\"colorbar\":{\"outlinewidth\":0,\"ticks\":\"\"}}}],\"scatter3d\":[{\"type\":\"scatter3d\",\"line\":{\"colorbar\":{\"outlinewidth\":0,\"ticks\":\"\"}},\"marker\":{\"colorbar\":{\"outlinewidth\":0,\"ticks\":\"\"}}}],\"scattermapbox\":[{\"type\":\"scattermapbox\",\"marker\":{\"colorbar\":{\"outlinewidth\":0,\"ticks\":\"\"}}}],\"scatterternary\":[{\"type\":\"scatterternary\",\"marker\":{\"colorbar\":{\"outlinewidth\":0,\"ticks\":\"\"}}}],\"scattercarpet\":[{\"type\":\"scattercarpet\",\"marker\":{\"colorbar\":{\"outlinewidth\":0,\"ticks\":\"\"}}}],\"carpet\":[{\"aaxis\":{\"endlinecolor\":\"#2a3f5f\",\"gridcolor\":\"white\",\"linecolor\":\"white\",\"minorgridcolor\":\"white\",\"startlinecolor\":\"#2a3f5f\"},\"baxis\":{\"endlinecolor\":\"#2a3f5f\",\"gridcolor\":\"white\",\"linecolor\":\"white\",\"minorgridcolor\":\"white\",\"startlinecolor\":\"#2a3f5f\"},\"type\":\"carpet\"}],\"table\":[{\"cells\":{\"fill\":{\"color\":\"#EBF0F8\"},\"line\":{\"color\":\"white\"}},\"header\":{\"fill\":{\"color\":\"#C8D4E3\"},\"line\":{\"color\":\"white\"}},\"type\":\"table\"}],\"barpolar\":[{\"marker\":{\"line\":{\"color\":\"#E5ECF6\",\"width\":0.5},\"pattern\":{\"fillmode\":\"overlay\",\"size\":10,\"solidity\":0.2}},\"type\":\"barpolar\"}],\"pie\":[{\"automargin\":true,\"type\":\"pie\"}]},\"layout\":{\"autotypenumbers\":\"strict\",\"colorway\":[\"#636efa\",\"#EF553B\",\"#00cc96\",\"#ab63fa\",\"#FFA15A\",\"#19d3f3\",\"#FF6692\",\"#B6E880\",\"#FF97FF\",\"#FECB52\"],\"font\":{\"color\":\"#2a3f5f\"},\"hovermode\":\"closest\",\"hoverlabel\":{\"align\":\"left\"},\"paper_bgcolor\":\"white\",\"plot_bgcolor\":\"#E5ECF6\",\"polar\":{\"bgcolor\":\"#E5ECF6\",\"angularaxis\":{\"gridcolor\":\"white\",\"linecolor\":\"white\",\"ticks\":\"\"},\"radialaxis\":{\"gridcolor\":\"white\",\"linecolor\":\"white\",\"ticks\":\"\"}},\"ternary\":{\"bgcolor\":\"#E5ECF6\",\"aaxis\":{\"gridcolor\":\"white\",\"linecolor\":\"white\",\"ticks\":\"\"},\"baxis\":{\"gridcolor\":\"white\",\"linecolor\":\"white\",\"ticks\":\"\"},\"caxis\":{\"gridcolor\":\"white\",\"linecolor\":\"white\",\"ticks\":\"\"}},\"coloraxis\":{\"colorbar\":{\"outlinewidth\":0,\"ticks\":\"\"}},\"colorscale\":{\"sequential\":[[0.0,\"#0d0887\"],[0.1111111111111111,\"#46039f\"],[0.2222222222222222,\"#7201a8\"],[0.3333333333333333,\"#9c179e\"],[0.4444444444444444,\"#bd3786\"],[0.5555555555555556,\"#d8576b\"],[0.6666666666666666,\"#ed7953\"],[0.7777777777777778,\"#fb9f3a\"],[0.8888888888888888,\"#fdca26\"],[1.0,\"#f0f921\"]],\"sequentialminus\":[[0.0,\"#0d0887\"],[0.1111111111111111,\"#46039f\"],[0.2222222222222222,\"#7201a8\"],[0.3333333333333333,\"#9c179e\"],[0.4444444444444444,\"#bd3786\"],[0.5555555555555556,\"#d8576b\"],[0.6666666666666666,\"#ed7953\"],[0.7777777777777778,\"#fb9f3a\"],[0.8888888888888888,\"#fdca26\"],[1.0,\"#f0f921\"]],\"diverging\":[[0,\"#8e0152\"],[0.1,\"#c51b7d\"],[0.2,\"#de77ae\"],[0.3,\"#f1b6da\"],[0.4,\"#fde0ef\"],[0.5,\"#f7f7f7\"],[0.6,\"#e6f5d0\"],[0.7,\"#b8e186\"],[0.8,\"#7fbc41\"],[0.9,\"#4d9221\"],[1,\"#276419\"]]},\"xaxis\":{\"gridcolor\":\"white\",\"linecolor\":\"white\",\"ticks\":\"\",\"title\":{\"standoff\":15},\"zerolinecolor\":\"white\",\"automargin\":true,\"zerolinewidth\":2},\"yaxis\":{\"gridcolor\":\"white\",\"linecolor\":\"white\",\"ticks\":\"\",\"title\":{\"standoff\":15},\"zerolinecolor\":\"white\",\"automargin\":true,\"zerolinewidth\":2},\"scene\":{\"xaxis\":{\"backgroundcolor\":\"#E5ECF6\",\"gridcolor\":\"white\",\"linecolor\":\"white\",\"showbackground\":true,\"ticks\":\"\",\"zerolinecolor\":\"white\",\"gridwidth\":2},\"yaxis\":{\"backgroundcolor\":\"#E5ECF6\",\"gridcolor\":\"white\",\"linecolor\":\"white\",\"showbackground\":true,\"ticks\":\"\",\"zerolinecolor\":\"white\",\"gridwidth\":2},\"zaxis\":{\"backgroundcolor\":\"#E5ECF6\",\"gridcolor\":\"white\",\"linecolor\":\"white\",\"showbackground\":true,\"ticks\":\"\",\"zerolinecolor\":\"white\",\"gridwidth\":2}},\"shapedefaults\":{\"line\":{\"color\":\"#2a3f5f\"}},\"annotationdefaults\":{\"arrowcolor\":\"#2a3f5f\",\"arrowhead\":0,\"arrowwidth\":1},\"geo\":{\"bgcolor\":\"white\",\"landcolor\":\"#E5ECF6\",\"subunitcolor\":\"white\",\"showland\":true,\"showlakes\":true,\"lakecolor\":\"white\"},\"title\":{\"x\":0.05},\"mapbox\":{\"style\":\"light\"}}},\"xaxis\":{\"anchor\":\"y\",\"domain\":[0.0,1.0],\"title\":{\"text\":\"Age at symptom onset\"},\"showline\":true,\"linewidth\":2,\"linecolor\":\"black\",\"mirror\":true,\"range\":[18,80]},\"yaxis\":{\"anchor\":\"x\",\"domain\":[0.0,1.0],\"title\":{\"text\":\"Chr15q14 haplotype\"},\"showline\":true,\"linewidth\":2,\"linecolor\":\"black\",\"mirror\":true},\"legend\":{\"title\":{\"text\":\"issue\"},\"tracegroupgap\":0},\"title\":{\"text\":\"Age at symptom onset\"},\"boxmode\":\"overlay\",\"height\":800,\"width\":800,\"font\":{\"size\":20},\"plot_bgcolor\":\"rgba(0, 0, 0, 0)\",\"showlegend\":false,\"annotations\":[{\"font\":{\"size\":20},\"showarrow\":false,\"text\":\"*\",\"x\":0.98,\"xref\":\"paper\",\"y\":0.5,\"yref\":\"paper\"}]},                        {\"toImageButtonOptions\": {\"format\": \"png\", \"filename\": \"\", \"height\": 800, \"width\": 800, \"scale\": 5}, \"responsive\": true}                    ).then(function(){\n",
       "                            \n",
       "var gd = document.getElementById('461492f2-17c9-4763-ac55-e32c2486e832');\n",
       "var x = new MutationObserver(function (mutations, observer) {{\n",
       "        var display = window.getComputedStyle(gd).display;\n",
       "        if (!display || display === 'none') {{\n",
       "            console.log([gd, 'removed!']);\n",
       "            Plotly.purge(gd);\n",
       "            observer.disconnect();\n",
       "        }}\n",
       "}});\n",
       "\n",
       "// Listen for the removal of the full notebook cells\n",
       "var notebookContainer = gd.closest('#notebook-container');\n",
       "if (notebookContainer) {{\n",
       "    x.observe(notebookContainer, {childList: true});\n",
       "}}\n",
       "\n",
       "// Listen for the clearing of the current output cell\n",
       "var outputEl = gd.closest('.output');\n",
       "if (outputEl) {{\n",
       "    x.observe(outputEl, {childList: true});\n",
       "}}\n",
       "\n",
       "                        })                };                });            </script>        </div>"
      ]
     },
     "metadata": {},
     "output_type": "display_data"
    }
   ],
   "source": [
    "df = df[df[\"haplotype\"] != \"nan\"]\n",
    "\n",
    "fig = px.strip(\n",
    "    data_frame=df.sort_values(\"haplotype\"),\n",
    "    y=\"haplotype\",\n",
    "    x=\"AGEATONSET\",\n",
    "    width=600,\n",
    "    height=300,\n",
    "    labels={\n",
    "        \"AGEATONSET\": \"Age at symptom onset\",\n",
    "        \"SEXatBirth\": \"Sex\",\n",
    "        \"haplotype\": \"Chr15q14 haplotype\",\n",
    "    },\n",
    "    hover_data=[\"Gentli_ID\"],\n",
    "    title=\"Age at symptom onset\",\n",
    "    color=\"issue\",\n",
    "    color_discrete_map={\"Y\": \"grey\", \"N\": \"red\"},\n",
    "    stripmode=\"overlay\",\n",
    ")\n",
    "fig.update_layout(\n",
    "    width=800,\n",
    "    height=800,\n",
    "    plot_bgcolor=\"rgba(0, 0, 0, 0)\",\n",
    "    font=dict(size=20),\n",
    "    showlegend=False,\n",
    ")\n",
    "\n",
    "minage = df[\"AGEATONSET\"].min()\n",
    "\n",
    "fig.update_xaxes(\n",
    "    showline=True,\n",
    "    linewidth=2,\n",
    "    linecolor=\"black\",\n",
    "    mirror=True,\n",
    "    range=[minage-3, 80],\n",
    ")\n",
    "\n",
    "fig.update_yaxes(\n",
    "    showline=True,\n",
    "    linewidth=2,\n",
    "    linecolor=\"black\",\n",
    "    mirror=True,\n",
    ")\n",
    "\n",
    "fig.update_traces(marker=dict(size=12, opacity=0.5), jitter=1)\n",
    "\n",
    "# perform a t-test\n",
    "from scipy.stats import ttest_ind\n",
    "\n",
    "ttest_major_none = ttest_ind(\n",
    "    df[df[\"haplotype\"] == \"HapA\"][\"AGEATONSET\"],\n",
    "    df[df[\"haplotype\"] == \"none\"][\"AGEATONSET\"],\n",
    "    equal_var=False,\n",
    ")\n",
    "\n",
    "print(f\"T-test for major vs none: {ttest_major_none}\")\n",
    "\n",
    "ttest_minor_none = ttest_ind(\n",
    "    df[df[\"haplotype\"] == \"HapB\"][\"AGEATONSET\"],\n",
    "    df[df[\"haplotype\"] == \"none\"][\"AGEATONSET\"],\n",
    "    equal_var=False,\n",
    ")\n",
    "\n",
    "print(f\"T-test for minor vs none: {ttest_minor_none}\")\n",
    "\n",
    "ttest_major_minor = ttest_ind(\n",
    "    df[df[\"haplotype\"] == \"HapA\"][\"AGEATONSET\"],\n",
    "    df[df[\"haplotype\"] == \"HapB\"][\"AGEATONSET\"],\n",
    "    equal_var=False,\n",
    ")\n",
    "\n",
    "print(f\"T-test for major vs minor: {ttest_major_minor}\")\n",
    "\n",
    "# draw annotation showing the p-value of major vs none\n",
    "fig.add_annotation(\n",
    "    x=0.98,\n",
    "    y=0.5,\n",
    "    xref=\"paper\",\n",
    "    yref=\"paper\",\n",
    "    text=f\"*\",\n",
    "    showarrow=False,\n",
    "    font=dict(size=20),\n",
    ")\n",
    "fig.add_trace(go.Scatter(x=[76, 77, 77, 76], y=[\"none\", \"none\", \"HapA\", \"HapA\"], fill=None, mode=\"lines\", showlegend=False, line=dict(color=\"grey\", width=1)))\n",
    "\n",
    "fig.show(\n",
    "    config={\n",
    "        \"toImageButtonOptions\": {\n",
    "            \"format\": \"png\",\n",
    "            \"filename\": \"\",\n",
    "            \"height\": 800,\n",
    "            \"width\": 800,\n",
    "            \"scale\": 5,\n",
    "        }\n",
    "    }\n",
    ")"
   ]
  },
  {
   "cell_type": "code",
   "execution_count": 80,
   "metadata": {},
   "outputs": [
    {
     "name": "stdout",
     "output_type": "stream",
     "text": [
      "T-test for HapA vs none: TtestResult(statistic=2.0519224844627035, pvalue=0.04373596542507367, df=73.57712673868988)\n",
      "T-test for minor vs none: TtestResult(statistic=1.0550168399126014, pvalue=0.30394930169292916, df=20.07630855935336)\n",
      "T-test for minor vs none (excluding rr_PIDN4463): TtestResult(statistic=2.0384380052561064, pvalue=0.05164733944172774, df=26.377161442909017)\n",
      "T-test for major vs minor: TtestResult(statistic=0.6188170956248046, pvalue=0.5424552363303341, df=21.781277731750126)\n",
      "T-test for HapA+HapB vs none: TtestResult(statistic=2.058458184281454, pvalue=0.04278715330066002, df=80.34601803828934)\n"
     ]
    },
    {
     "data": {
      "application/vnd.plotly.v1+json": {
       "config": {
        "plotlyServerURL": "https://plot.ly",
        "toImageButtonOptions": {
         "filename": "",
         "format": "png",
         "height": 800,
         "scale": 5,
         "width": 800
        }
       },
       "data": [
        {
         "alignmentgroup": "True",
         "boxpoints": "all",
         "customdata": [
          [
           "rr_NA21_285"
          ],
          [
           "rr_NA01_027"
          ],
          [
           "rr_NA09_238"
          ],
          [
           "rr_NA14_199"
          ],
          [
           "rr_UNSW2220"
          ],
          [
           "rr_NA19_309"
          ],
          [
           "rr_QSBB51_18"
          ],
          [
           "rr_NA23_161"
          ],
          [
           "rr_A02_164"
          ],
          [
           "rr_PIDN17760"
          ],
          [
           "rr_Pt_3303"
          ],
          [
           "rr_LN_C12_07006"
          ],
          [
           "rr_UBC66_1"
          ],
          [
           "rr_PIDN12322"
          ],
          [
           "rr_RNBC-22_16"
          ],
          [
           "rr_NP18739"
          ],
          [
           "rr_PIDN6543"
          ],
          [
           "rr_PIDN9402"
          ],
          [
           "rr_UP101220"
          ],
          [
           "rr_UNSW22478"
          ],
          [
           "rr_NA23_005"
          ],
          [
           "rr_FTD196_1"
          ],
          [
           "rr_NA19_291"
          ],
          [
           "rr_UNSW2185"
          ],
          [
           "rr_NHB18_068"
          ],
          [
           "rr_NHB15_114"
          ],
          [
           "rr_IB5534"
          ],
          [
           "rr_NHB14_059"
          ],
          [
           "rr_NHB05_082"
          ],
          [
           "rr_CW05_004"
          ],
          [
           "rr_KCLA156_17"
          ],
          [
           "rr_NHB05_059"
          ],
          [
           "rr_KULA_23717"
          ],
          [
           "rr_NHB03_018"
          ],
          [
           "rr_EMC2013_098"
          ],
          [
           "rr_X5817"
          ],
          [
           "rr_EMC13_65"
          ],
          [
           "rr_KULA_22549"
          ],
          [
           "rr_PIDN738"
          ],
          [
           "rr_PIDN106"
          ],
          [
           "rr_UCL2783"
          ],
          [
           "rr_RZ462"
          ],
          [
           "rr_R556"
          ],
          [
           "rr_FTD397_1"
          ],
          [
           "rr_A15-074"
          ],
          [
           "rr_NHB95_041"
          ],
          [
           "rr_KCLA311_98"
          ],
          [
           "rr_RZ257"
          ],
          [
           "rr_Pt_8482"
          ],
          [
           "rr_NA22_365"
          ],
          [
           "rr_2021_017"
          ],
          [
           "rr_QSBB81_17"
          ],
          [
           "rr_2132"
          ],
          [
           "rr_LN_N00_1835"
          ],
          [
           "rr_E13_56"
          ],
          [
           "rr_LN_C14_36644"
          ],
          [
           "rr_LN_C10_25594"
          ],
          [
           "rr_NP43508"
          ],
          [
           "rr_UNSW22488"
          ],
          [
           "rr_Ro_AH11.2"
          ],
          [
           "rr_2T7T4"
          ],
          [
           "rr_CW00_009"
          ],
          [
           "rr_NHB16_047"
          ],
          [
           "rr_NHB94_068"
          ],
          [
           "rr_IB6387"
          ],
          [
           "rr_KCLA061_16"
          ],
          [
           "rr_KULA_24063"
          ],
          [
           "rr_Muk49"
          ],
          [
           "rr_7965"
          ],
          [
           "rr_NA20_415"
          ],
          [
           "rr_NA22_425"
          ],
          [
           "rr_NA22_197"
          ],
          [
           "rr_NRA22654"
          ],
          [
           "rr_A06_120"
          ],
          [
           "rr_UCL12461"
          ],
          [
           "rr_UCL1506"
          ],
          [
           "rr_UCL19247"
          ],
          [
           "rr_NHB15_065"
          ],
          [
           "rr_VA05_109"
          ],
          [
           "rr_X5929"
          ],
          [
           "rr_PIDN1734"
          ],
          [
           "rr_PIDN19525"
          ],
          [
           "rr_PIDN2662"
          ],
          [
           "rr_PIDN3794"
          ],
          [
           "rr_A17_05"
          ],
          [
           "rr_2005_044"
          ]
         ],
         "fillcolor": "rgba(255,255,255,0)",
         "hoveron": "points",
         "hovertemplate": "issue=N<br>Age at death=%{x}<br>Chr15q14 haplotype=%{y}<br>Gentli_ID=%{customdata[0]}<extra></extra>",
         "jitter": 1,
         "legendgroup": "N",
         "line": {
          "color": "rgba(255,255,255,0)"
         },
         "marker": {
          "color": "red",
          "opacity": 0.5,
          "size": 12
         },
         "name": "N",
         "offsetgroup": "N",
         "orientation": "h",
         "pointpos": 0,
         "showlegend": true,
         "type": "box",
         "x": [
          73,
          42,
          58,
          45,
          59,
          49,
          67,
          44,
          64,
          72,
          59,
          54,
          52,
          63,
          59,
          52,
          55,
          47,
          51,
          62,
          57,
          69,
          45,
          68,
          59,
          77,
          34,
          46,
          46,
          48,
          40,
          41,
          45,
          45,
          50,
          58,
          47,
          47,
          48,
          56,
          51,
          54,
          49,
          52.9,
          53,
          60,
          65,
          50,
          62,
          48,
          30,
          59,
          68,
          34,
          31,
          55,
          44,
          60,
          39,
          50,
          40,
          56,
          54,
          58,
          55,
          53,
          46,
          33,
          53.1,
          64,
          56,
          48,
          50,
          41,
          52,
          60,
          51,
          52,
          49,
          44,
          57,
          34,
          51,
          37,
          47,
          51
         ],
         "x0": " ",
         "xaxis": "x",
         "y": [
          "HapA",
          "HapA",
          "HapA",
          "HapA",
          "HapA",
          "HapA",
          "HapA",
          "HapA",
          "HapA",
          "HapA",
          "HapA",
          "HapA",
          "HapA",
          "HapA",
          "HapA",
          "HapA",
          "HapA",
          "HapA",
          "HapA",
          "HapA",
          "HapA",
          "HapA",
          "HapA",
          "HapA",
          "HapA",
          "HapA",
          "HapA",
          "HapA",
          "HapA",
          "HapA",
          "HapA",
          "HapA",
          "HapA",
          "HapA",
          "HapA",
          "HapA",
          "HapA",
          "HapA",
          "HapB",
          "HapB",
          "HapB",
          "HapB",
          "HapB",
          "HapB",
          "HapB",
          "HapB",
          "HapB",
          "HapB",
          "none",
          "none",
          "none",
          "none",
          "none",
          "none",
          "none",
          "none",
          "none",
          "none",
          "none",
          "none",
          "none",
          "none",
          "none",
          "none",
          "none",
          "none",
          "none",
          "none",
          "none",
          "none",
          "none",
          "none",
          "none",
          "none",
          "none",
          "none",
          "none",
          "none",
          "none",
          "none",
          "none",
          "none",
          "none",
          "none",
          "none",
          "none"
         ],
         "y0": " ",
         "yaxis": "y"
        },
        {
         "alignmentgroup": "True",
         "boxpoints": "all",
         "customdata": [
          [
           "rr_PIDN4463"
          ]
         ],
         "fillcolor": "rgba(255,255,255,0)",
         "hoveron": "points",
         "hovertemplate": "issue=Y<br>Age at death=%{x}<br>Chr15q14 haplotype=%{y}<br>Gentli_ID=%{customdata[0]}<extra></extra>",
         "jitter": 1,
         "legendgroup": "Y",
         "line": {
          "color": "rgba(255,255,255,0)"
         },
         "marker": {
          "color": "grey",
          "opacity": 0.5,
          "size": 12
         },
         "name": "Y",
         "offsetgroup": "Y",
         "orientation": "h",
         "pointpos": 0,
         "showlegend": true,
         "type": "box",
         "x": [
          35
         ],
         "x0": " ",
         "xaxis": "x",
         "y": [
          "HapB"
         ],
         "y0": " ",
         "yaxis": "y"
        },
        {
         "line": {
          "color": "grey",
          "width": 1
         },
         "mode": "lines",
         "showlegend": false,
         "type": "scatter",
         "x": [
          79,
          80,
          80,
          79
         ],
         "y": [
          "none",
          "none",
          "HapA",
          "HapA"
         ]
        }
       ],
       "layout": {
        "annotations": [
         {
          "font": {
           "size": 20
          },
          "showarrow": false,
          "text": "*",
          "x": 0.95,
          "xref": "paper",
          "y": 0.5,
          "yref": "paper"
         }
        ],
        "boxmode": "overlay",
        "font": {
         "size": 20
        },
        "height": 800,
        "legend": {
         "title": {
          "text": "issue"
         },
         "tracegroupgap": 0
        },
        "plot_bgcolor": "rgba(0, 0, 0, 0)",
        "showlegend": false,
        "template": {
         "data": {
          "bar": [
           {
            "error_x": {
             "color": "#2a3f5f"
            },
            "error_y": {
             "color": "#2a3f5f"
            },
            "marker": {
             "line": {
              "color": "#E5ECF6",
              "width": 0.5
             },
             "pattern": {
              "fillmode": "overlay",
              "size": 10,
              "solidity": 0.2
             }
            },
            "type": "bar"
           }
          ],
          "barpolar": [
           {
            "marker": {
             "line": {
              "color": "#E5ECF6",
              "width": 0.5
             },
             "pattern": {
              "fillmode": "overlay",
              "size": 10,
              "solidity": 0.2
             }
            },
            "type": "barpolar"
           }
          ],
          "carpet": [
           {
            "aaxis": {
             "endlinecolor": "#2a3f5f",
             "gridcolor": "white",
             "linecolor": "white",
             "minorgridcolor": "white",
             "startlinecolor": "#2a3f5f"
            },
            "baxis": {
             "endlinecolor": "#2a3f5f",
             "gridcolor": "white",
             "linecolor": "white",
             "minorgridcolor": "white",
             "startlinecolor": "#2a3f5f"
            },
            "type": "carpet"
           }
          ],
          "choropleth": [
           {
            "colorbar": {
             "outlinewidth": 0,
             "ticks": ""
            },
            "type": "choropleth"
           }
          ],
          "contour": [
           {
            "colorbar": {
             "outlinewidth": 0,
             "ticks": ""
            },
            "colorscale": [
             [
              0,
              "#0d0887"
             ],
             [
              0.1111111111111111,
              "#46039f"
             ],
             [
              0.2222222222222222,
              "#7201a8"
             ],
             [
              0.3333333333333333,
              "#9c179e"
             ],
             [
              0.4444444444444444,
              "#bd3786"
             ],
             [
              0.5555555555555556,
              "#d8576b"
             ],
             [
              0.6666666666666666,
              "#ed7953"
             ],
             [
              0.7777777777777778,
              "#fb9f3a"
             ],
             [
              0.8888888888888888,
              "#fdca26"
             ],
             [
              1,
              "#f0f921"
             ]
            ],
            "type": "contour"
           }
          ],
          "contourcarpet": [
           {
            "colorbar": {
             "outlinewidth": 0,
             "ticks": ""
            },
            "type": "contourcarpet"
           }
          ],
          "heatmap": [
           {
            "colorbar": {
             "outlinewidth": 0,
             "ticks": ""
            },
            "colorscale": [
             [
              0,
              "#0d0887"
             ],
             [
              0.1111111111111111,
              "#46039f"
             ],
             [
              0.2222222222222222,
              "#7201a8"
             ],
             [
              0.3333333333333333,
              "#9c179e"
             ],
             [
              0.4444444444444444,
              "#bd3786"
             ],
             [
              0.5555555555555556,
              "#d8576b"
             ],
             [
              0.6666666666666666,
              "#ed7953"
             ],
             [
              0.7777777777777778,
              "#fb9f3a"
             ],
             [
              0.8888888888888888,
              "#fdca26"
             ],
             [
              1,
              "#f0f921"
             ]
            ],
            "type": "heatmap"
           }
          ],
          "heatmapgl": [
           {
            "colorbar": {
             "outlinewidth": 0,
             "ticks": ""
            },
            "colorscale": [
             [
              0,
              "#0d0887"
             ],
             [
              0.1111111111111111,
              "#46039f"
             ],
             [
              0.2222222222222222,
              "#7201a8"
             ],
             [
              0.3333333333333333,
              "#9c179e"
             ],
             [
              0.4444444444444444,
              "#bd3786"
             ],
             [
              0.5555555555555556,
              "#d8576b"
             ],
             [
              0.6666666666666666,
              "#ed7953"
             ],
             [
              0.7777777777777778,
              "#fb9f3a"
             ],
             [
              0.8888888888888888,
              "#fdca26"
             ],
             [
              1,
              "#f0f921"
             ]
            ],
            "type": "heatmapgl"
           }
          ],
          "histogram": [
           {
            "marker": {
             "pattern": {
              "fillmode": "overlay",
              "size": 10,
              "solidity": 0.2
             }
            },
            "type": "histogram"
           }
          ],
          "histogram2d": [
           {
            "colorbar": {
             "outlinewidth": 0,
             "ticks": ""
            },
            "colorscale": [
             [
              0,
              "#0d0887"
             ],
             [
              0.1111111111111111,
              "#46039f"
             ],
             [
              0.2222222222222222,
              "#7201a8"
             ],
             [
              0.3333333333333333,
              "#9c179e"
             ],
             [
              0.4444444444444444,
              "#bd3786"
             ],
             [
              0.5555555555555556,
              "#d8576b"
             ],
             [
              0.6666666666666666,
              "#ed7953"
             ],
             [
              0.7777777777777778,
              "#fb9f3a"
             ],
             [
              0.8888888888888888,
              "#fdca26"
             ],
             [
              1,
              "#f0f921"
             ]
            ],
            "type": "histogram2d"
           }
          ],
          "histogram2dcontour": [
           {
            "colorbar": {
             "outlinewidth": 0,
             "ticks": ""
            },
            "colorscale": [
             [
              0,
              "#0d0887"
             ],
             [
              0.1111111111111111,
              "#46039f"
             ],
             [
              0.2222222222222222,
              "#7201a8"
             ],
             [
              0.3333333333333333,
              "#9c179e"
             ],
             [
              0.4444444444444444,
              "#bd3786"
             ],
             [
              0.5555555555555556,
              "#d8576b"
             ],
             [
              0.6666666666666666,
              "#ed7953"
             ],
             [
              0.7777777777777778,
              "#fb9f3a"
             ],
             [
              0.8888888888888888,
              "#fdca26"
             ],
             [
              1,
              "#f0f921"
             ]
            ],
            "type": "histogram2dcontour"
           }
          ],
          "mesh3d": [
           {
            "colorbar": {
             "outlinewidth": 0,
             "ticks": ""
            },
            "type": "mesh3d"
           }
          ],
          "parcoords": [
           {
            "line": {
             "colorbar": {
              "outlinewidth": 0,
              "ticks": ""
             }
            },
            "type": "parcoords"
           }
          ],
          "pie": [
           {
            "automargin": true,
            "type": "pie"
           }
          ],
          "scatter": [
           {
            "fillpattern": {
             "fillmode": "overlay",
             "size": 10,
             "solidity": 0.2
            },
            "type": "scatter"
           }
          ],
          "scatter3d": [
           {
            "line": {
             "colorbar": {
              "outlinewidth": 0,
              "ticks": ""
             }
            },
            "marker": {
             "colorbar": {
              "outlinewidth": 0,
              "ticks": ""
             }
            },
            "type": "scatter3d"
           }
          ],
          "scattercarpet": [
           {
            "marker": {
             "colorbar": {
              "outlinewidth": 0,
              "ticks": ""
             }
            },
            "type": "scattercarpet"
           }
          ],
          "scattergeo": [
           {
            "marker": {
             "colorbar": {
              "outlinewidth": 0,
              "ticks": ""
             }
            },
            "type": "scattergeo"
           }
          ],
          "scattergl": [
           {
            "marker": {
             "colorbar": {
              "outlinewidth": 0,
              "ticks": ""
             }
            },
            "type": "scattergl"
           }
          ],
          "scattermapbox": [
           {
            "marker": {
             "colorbar": {
              "outlinewidth": 0,
              "ticks": ""
             }
            },
            "type": "scattermapbox"
           }
          ],
          "scatterpolar": [
           {
            "marker": {
             "colorbar": {
              "outlinewidth": 0,
              "ticks": ""
             }
            },
            "type": "scatterpolar"
           }
          ],
          "scatterpolargl": [
           {
            "marker": {
             "colorbar": {
              "outlinewidth": 0,
              "ticks": ""
             }
            },
            "type": "scatterpolargl"
           }
          ],
          "scatterternary": [
           {
            "marker": {
             "colorbar": {
              "outlinewidth": 0,
              "ticks": ""
             }
            },
            "type": "scatterternary"
           }
          ],
          "surface": [
           {
            "colorbar": {
             "outlinewidth": 0,
             "ticks": ""
            },
            "colorscale": [
             [
              0,
              "#0d0887"
             ],
             [
              0.1111111111111111,
              "#46039f"
             ],
             [
              0.2222222222222222,
              "#7201a8"
             ],
             [
              0.3333333333333333,
              "#9c179e"
             ],
             [
              0.4444444444444444,
              "#bd3786"
             ],
             [
              0.5555555555555556,
              "#d8576b"
             ],
             [
              0.6666666666666666,
              "#ed7953"
             ],
             [
              0.7777777777777778,
              "#fb9f3a"
             ],
             [
              0.8888888888888888,
              "#fdca26"
             ],
             [
              1,
              "#f0f921"
             ]
            ],
            "type": "surface"
           }
          ],
          "table": [
           {
            "cells": {
             "fill": {
              "color": "#EBF0F8"
             },
             "line": {
              "color": "white"
             }
            },
            "header": {
             "fill": {
              "color": "#C8D4E3"
             },
             "line": {
              "color": "white"
             }
            },
            "type": "table"
           }
          ]
         },
         "layout": {
          "annotationdefaults": {
           "arrowcolor": "#2a3f5f",
           "arrowhead": 0,
           "arrowwidth": 1
          },
          "autotypenumbers": "strict",
          "coloraxis": {
           "colorbar": {
            "outlinewidth": 0,
            "ticks": ""
           }
          },
          "colorscale": {
           "diverging": [
            [
             0,
             "#8e0152"
            ],
            [
             0.1,
             "#c51b7d"
            ],
            [
             0.2,
             "#de77ae"
            ],
            [
             0.3,
             "#f1b6da"
            ],
            [
             0.4,
             "#fde0ef"
            ],
            [
             0.5,
             "#f7f7f7"
            ],
            [
             0.6,
             "#e6f5d0"
            ],
            [
             0.7,
             "#b8e186"
            ],
            [
             0.8,
             "#7fbc41"
            ],
            [
             0.9,
             "#4d9221"
            ],
            [
             1,
             "#276419"
            ]
           ],
           "sequential": [
            [
             0,
             "#0d0887"
            ],
            [
             0.1111111111111111,
             "#46039f"
            ],
            [
             0.2222222222222222,
             "#7201a8"
            ],
            [
             0.3333333333333333,
             "#9c179e"
            ],
            [
             0.4444444444444444,
             "#bd3786"
            ],
            [
             0.5555555555555556,
             "#d8576b"
            ],
            [
             0.6666666666666666,
             "#ed7953"
            ],
            [
             0.7777777777777778,
             "#fb9f3a"
            ],
            [
             0.8888888888888888,
             "#fdca26"
            ],
            [
             1,
             "#f0f921"
            ]
           ],
           "sequentialminus": [
            [
             0,
             "#0d0887"
            ],
            [
             0.1111111111111111,
             "#46039f"
            ],
            [
             0.2222222222222222,
             "#7201a8"
            ],
            [
             0.3333333333333333,
             "#9c179e"
            ],
            [
             0.4444444444444444,
             "#bd3786"
            ],
            [
             0.5555555555555556,
             "#d8576b"
            ],
            [
             0.6666666666666666,
             "#ed7953"
            ],
            [
             0.7777777777777778,
             "#fb9f3a"
            ],
            [
             0.8888888888888888,
             "#fdca26"
            ],
            [
             1,
             "#f0f921"
            ]
           ]
          },
          "colorway": [
           "#636efa",
           "#EF553B",
           "#00cc96",
           "#ab63fa",
           "#FFA15A",
           "#19d3f3",
           "#FF6692",
           "#B6E880",
           "#FF97FF",
           "#FECB52"
          ],
          "font": {
           "color": "#2a3f5f"
          },
          "geo": {
           "bgcolor": "white",
           "lakecolor": "white",
           "landcolor": "#E5ECF6",
           "showlakes": true,
           "showland": true,
           "subunitcolor": "white"
          },
          "hoverlabel": {
           "align": "left"
          },
          "hovermode": "closest",
          "mapbox": {
           "style": "light"
          },
          "paper_bgcolor": "white",
          "plot_bgcolor": "#E5ECF6",
          "polar": {
           "angularaxis": {
            "gridcolor": "white",
            "linecolor": "white",
            "ticks": ""
           },
           "bgcolor": "#E5ECF6",
           "radialaxis": {
            "gridcolor": "white",
            "linecolor": "white",
            "ticks": ""
           }
          },
          "scene": {
           "xaxis": {
            "backgroundcolor": "#E5ECF6",
            "gridcolor": "white",
            "gridwidth": 2,
            "linecolor": "white",
            "showbackground": true,
            "ticks": "",
            "zerolinecolor": "white"
           },
           "yaxis": {
            "backgroundcolor": "#E5ECF6",
            "gridcolor": "white",
            "gridwidth": 2,
            "linecolor": "white",
            "showbackground": true,
            "ticks": "",
            "zerolinecolor": "white"
           },
           "zaxis": {
            "backgroundcolor": "#E5ECF6",
            "gridcolor": "white",
            "gridwidth": 2,
            "linecolor": "white",
            "showbackground": true,
            "ticks": "",
            "zerolinecolor": "white"
           }
          },
          "shapedefaults": {
           "line": {
            "color": "#2a3f5f"
           }
          },
          "ternary": {
           "aaxis": {
            "gridcolor": "white",
            "linecolor": "white",
            "ticks": ""
           },
           "baxis": {
            "gridcolor": "white",
            "linecolor": "white",
            "ticks": ""
           },
           "bgcolor": "#E5ECF6",
           "caxis": {
            "gridcolor": "white",
            "linecolor": "white",
            "ticks": ""
           }
          },
          "title": {
           "x": 0.05
          },
          "xaxis": {
           "automargin": true,
           "gridcolor": "white",
           "linecolor": "white",
           "ticks": "",
           "title": {
            "standoff": 15
           },
           "zerolinecolor": "white",
           "zerolinewidth": 2
          },
          "yaxis": {
           "automargin": true,
           "gridcolor": "white",
           "linecolor": "white",
           "ticks": "",
           "title": {
            "standoff": 15
           },
           "zerolinecolor": "white",
           "zerolinewidth": 2
          }
         }
        },
        "title": {
         "text": "Age at death"
        },
        "width": 800,
        "xaxis": {
         "anchor": "y",
         "domain": [
          0,
          1
         ],
         "linecolor": "black",
         "linewidth": 2,
         "mirror": true,
         "range": [
          27,
          85
         ],
         "showline": true,
         "title": {
          "text": "Age at death"
         }
        },
        "yaxis": {
         "anchor": "x",
         "domain": [
          0,
          1
         ],
         "linecolor": "black",
         "linewidth": 2,
         "mirror": true,
         "showline": true,
         "title": {
          "text": "Chr15q14 haplotype"
         }
        }
       }
      },
      "text/html": [
       "<div>                            <div id=\"526a6fd5-dd26-477e-8d51-2eca8a0c81cc\" class=\"plotly-graph-div\" style=\"height:800px; width:800px;\"></div>            <script type=\"text/javascript\">                require([\"plotly\"], function(Plotly) {                    window.PLOTLYENV=window.PLOTLYENV || {};                                    if (document.getElementById(\"526a6fd5-dd26-477e-8d51-2eca8a0c81cc\")) {                    Plotly.newPlot(                        \"526a6fd5-dd26-477e-8d51-2eca8a0c81cc\",                        [{\"alignmentgroup\":\"True\",\"boxpoints\":\"all\",\"customdata\":[[\"rr_NA21_285\"],[\"rr_NA01_027\"],[\"rr_NA09_238\"],[\"rr_NA14_199\"],[\"rr_UNSW2220\"],[\"rr_NA19_309\"],[\"rr_QSBB51_18\"],[\"rr_NA23_161\"],[\"rr_A02_164\"],[\"rr_PIDN17760\"],[\"rr_Pt_3303\"],[\"rr_LN_C12_07006\"],[\"rr_UBC66_1\"],[\"rr_PIDN12322\"],[\"rr_RNBC-22_16\"],[\"rr_NP18739\"],[\"rr_PIDN6543\"],[\"rr_PIDN9402\"],[\"rr_UP101220\"],[\"rr_UNSW22478\"],[\"rr_NA23_005\"],[\"rr_FTD196_1\"],[\"rr_NA19_291\"],[\"rr_UNSW2185\"],[\"rr_NHB18_068\"],[\"rr_NHB15_114\"],[\"rr_IB5534\"],[\"rr_NHB14_059\"],[\"rr_NHB05_082\"],[\"rr_CW05_004\"],[\"rr_KCLA156_17\"],[\"rr_NHB05_059\"],[\"rr_KULA_23717\"],[\"rr_NHB03_018\"],[\"rr_EMC2013_098\"],[\"rr_X5817\"],[\"rr_EMC13_65\"],[\"rr_KULA_22549\"],[\"rr_PIDN738\"],[\"rr_PIDN106\"],[\"rr_UCL2783\"],[\"rr_RZ462\"],[\"rr_R556\"],[\"rr_FTD397_1\"],[\"rr_A15-074\"],[\"rr_NHB95_041\"],[\"rr_KCLA311_98\"],[\"rr_RZ257\"],[\"rr_Pt_8482\"],[\"rr_NA22_365\"],[\"rr_2021_017\"],[\"rr_QSBB81_17\"],[\"rr_2132\"],[\"rr_LN_N00_1835\"],[\"rr_E13_56\"],[\"rr_LN_C14_36644\"],[\"rr_LN_C10_25594\"],[\"rr_NP43508\"],[\"rr_UNSW22488\"],[\"rr_Ro_AH11.2\"],[\"rr_2T7T4\"],[\"rr_CW00_009\"],[\"rr_NHB16_047\"],[\"rr_NHB94_068\"],[\"rr_IB6387\"],[\"rr_KCLA061_16\"],[\"rr_KULA_24063\"],[\"rr_Muk49\"],[\"rr_7965\"],[\"rr_NA20_415\"],[\"rr_NA22_425\"],[\"rr_NA22_197\"],[\"rr_NRA22654\"],[\"rr_A06_120\"],[\"rr_UCL12461\"],[\"rr_UCL1506\"],[\"rr_UCL19247\"],[\"rr_NHB15_065\"],[\"rr_VA05_109\"],[\"rr_X5929\"],[\"rr_PIDN1734\"],[\"rr_PIDN19525\"],[\"rr_PIDN2662\"],[\"rr_PIDN3794\"],[\"rr_A17_05\"],[\"rr_2005_044\"]],\"fillcolor\":\"rgba(255,255,255,0)\",\"hoveron\":\"points\",\"hovertemplate\":\"issue=N\\u003cbr\\u003eAge at death=%{x}\\u003cbr\\u003eChr15q14 haplotype=%{y}\\u003cbr\\u003eGentli_ID=%{customdata[0]}\\u003cextra\\u003e\\u003c\\u002fextra\\u003e\",\"legendgroup\":\"N\",\"line\":{\"color\":\"rgba(255,255,255,0)\"},\"marker\":{\"color\":\"red\",\"opacity\":0.5,\"size\":12},\"name\":\"N\",\"offsetgroup\":\"N\",\"orientation\":\"h\",\"pointpos\":0,\"showlegend\":true,\"x\":[73.0,42.0,58.0,45.0,59.0,49.0,67.0,44.0,64.0,72.0,59.0,54.0,52.0,63.0,59.0,52.0,55.0,47.0,51.0,62.0,57.0,69.0,45.0,68.0,59.0,77.0,34.0,46.0,46.0,48.0,40.0,41.0,45.0,45.0,50.0,58.0,47.0,47.0,48.0,56.0,51.0,54.0,49.0,52.9,53.0,60.0,65.0,50.0,62.0,48.0,30.0,59.0,68.0,34.0,31.0,55.0,44.0,60.0,39.0,50.0,40.0,56.0,54.0,58.0,55.0,53.0,46.0,33.0,53.1,64.0,56.0,48.0,50.0,41.0,52.0,60.0,51.0,52.0,49.0,44.0,57.0,34.0,51.0,37.0,47.0,51.0],\"x0\":\" \",\"xaxis\":\"x\",\"y\":[\"HapA\",\"HapA\",\"HapA\",\"HapA\",\"HapA\",\"HapA\",\"HapA\",\"HapA\",\"HapA\",\"HapA\",\"HapA\",\"HapA\",\"HapA\",\"HapA\",\"HapA\",\"HapA\",\"HapA\",\"HapA\",\"HapA\",\"HapA\",\"HapA\",\"HapA\",\"HapA\",\"HapA\",\"HapA\",\"HapA\",\"HapA\",\"HapA\",\"HapA\",\"HapA\",\"HapA\",\"HapA\",\"HapA\",\"HapA\",\"HapA\",\"HapA\",\"HapA\",\"HapA\",\"HapB\",\"HapB\",\"HapB\",\"HapB\",\"HapB\",\"HapB\",\"HapB\",\"HapB\",\"HapB\",\"HapB\",\"none\",\"none\",\"none\",\"none\",\"none\",\"none\",\"none\",\"none\",\"none\",\"none\",\"none\",\"none\",\"none\",\"none\",\"none\",\"none\",\"none\",\"none\",\"none\",\"none\",\"none\",\"none\",\"none\",\"none\",\"none\",\"none\",\"none\",\"none\",\"none\",\"none\",\"none\",\"none\",\"none\",\"none\",\"none\",\"none\",\"none\",\"none\"],\"y0\":\" \",\"yaxis\":\"y\",\"type\":\"box\",\"jitter\":1},{\"alignmentgroup\":\"True\",\"boxpoints\":\"all\",\"customdata\":[[\"rr_PIDN4463\"]],\"fillcolor\":\"rgba(255,255,255,0)\",\"hoveron\":\"points\",\"hovertemplate\":\"issue=Y\\u003cbr\\u003eAge at death=%{x}\\u003cbr\\u003eChr15q14 haplotype=%{y}\\u003cbr\\u003eGentli_ID=%{customdata[0]}\\u003cextra\\u003e\\u003c\\u002fextra\\u003e\",\"legendgroup\":\"Y\",\"line\":{\"color\":\"rgba(255,255,255,0)\"},\"marker\":{\"color\":\"grey\",\"opacity\":0.5,\"size\":12},\"name\":\"Y\",\"offsetgroup\":\"Y\",\"orientation\":\"h\",\"pointpos\":0,\"showlegend\":true,\"x\":[35.0],\"x0\":\" \",\"xaxis\":\"x\",\"y\":[\"HapB\"],\"y0\":\" \",\"yaxis\":\"y\",\"type\":\"box\",\"jitter\":1},{\"line\":{\"color\":\"grey\",\"width\":1},\"mode\":\"lines\",\"showlegend\":false,\"x\":[79,80,80,79],\"y\":[\"none\",\"none\",\"HapA\",\"HapA\"],\"type\":\"scatter\"}],                        {\"template\":{\"data\":{\"histogram2dcontour\":[{\"type\":\"histogram2dcontour\",\"colorbar\":{\"outlinewidth\":0,\"ticks\":\"\"},\"colorscale\":[[0.0,\"#0d0887\"],[0.1111111111111111,\"#46039f\"],[0.2222222222222222,\"#7201a8\"],[0.3333333333333333,\"#9c179e\"],[0.4444444444444444,\"#bd3786\"],[0.5555555555555556,\"#d8576b\"],[0.6666666666666666,\"#ed7953\"],[0.7777777777777778,\"#fb9f3a\"],[0.8888888888888888,\"#fdca26\"],[1.0,\"#f0f921\"]]}],\"choropleth\":[{\"type\":\"choropleth\",\"colorbar\":{\"outlinewidth\":0,\"ticks\":\"\"}}],\"histogram2d\":[{\"type\":\"histogram2d\",\"colorbar\":{\"outlinewidth\":0,\"ticks\":\"\"},\"colorscale\":[[0.0,\"#0d0887\"],[0.1111111111111111,\"#46039f\"],[0.2222222222222222,\"#7201a8\"],[0.3333333333333333,\"#9c179e\"],[0.4444444444444444,\"#bd3786\"],[0.5555555555555556,\"#d8576b\"],[0.6666666666666666,\"#ed7953\"],[0.7777777777777778,\"#fb9f3a\"],[0.8888888888888888,\"#fdca26\"],[1.0,\"#f0f921\"]]}],\"heatmap\":[{\"type\":\"heatmap\",\"colorbar\":{\"outlinewidth\":0,\"ticks\":\"\"},\"colorscale\":[[0.0,\"#0d0887\"],[0.1111111111111111,\"#46039f\"],[0.2222222222222222,\"#7201a8\"],[0.3333333333333333,\"#9c179e\"],[0.4444444444444444,\"#bd3786\"],[0.5555555555555556,\"#d8576b\"],[0.6666666666666666,\"#ed7953\"],[0.7777777777777778,\"#fb9f3a\"],[0.8888888888888888,\"#fdca26\"],[1.0,\"#f0f921\"]]}],\"heatmapgl\":[{\"type\":\"heatmapgl\",\"colorbar\":{\"outlinewidth\":0,\"ticks\":\"\"},\"colorscale\":[[0.0,\"#0d0887\"],[0.1111111111111111,\"#46039f\"],[0.2222222222222222,\"#7201a8\"],[0.3333333333333333,\"#9c179e\"],[0.4444444444444444,\"#bd3786\"],[0.5555555555555556,\"#d8576b\"],[0.6666666666666666,\"#ed7953\"],[0.7777777777777778,\"#fb9f3a\"],[0.8888888888888888,\"#fdca26\"],[1.0,\"#f0f921\"]]}],\"contourcarpet\":[{\"type\":\"contourcarpet\",\"colorbar\":{\"outlinewidth\":0,\"ticks\":\"\"}}],\"contour\":[{\"type\":\"contour\",\"colorbar\":{\"outlinewidth\":0,\"ticks\":\"\"},\"colorscale\":[[0.0,\"#0d0887\"],[0.1111111111111111,\"#46039f\"],[0.2222222222222222,\"#7201a8\"],[0.3333333333333333,\"#9c179e\"],[0.4444444444444444,\"#bd3786\"],[0.5555555555555556,\"#d8576b\"],[0.6666666666666666,\"#ed7953\"],[0.7777777777777778,\"#fb9f3a\"],[0.8888888888888888,\"#fdca26\"],[1.0,\"#f0f921\"]]}],\"surface\":[{\"type\":\"surface\",\"colorbar\":{\"outlinewidth\":0,\"ticks\":\"\"},\"colorscale\":[[0.0,\"#0d0887\"],[0.1111111111111111,\"#46039f\"],[0.2222222222222222,\"#7201a8\"],[0.3333333333333333,\"#9c179e\"],[0.4444444444444444,\"#bd3786\"],[0.5555555555555556,\"#d8576b\"],[0.6666666666666666,\"#ed7953\"],[0.7777777777777778,\"#fb9f3a\"],[0.8888888888888888,\"#fdca26\"],[1.0,\"#f0f921\"]]}],\"mesh3d\":[{\"type\":\"mesh3d\",\"colorbar\":{\"outlinewidth\":0,\"ticks\":\"\"}}],\"scatter\":[{\"fillpattern\":{\"fillmode\":\"overlay\",\"size\":10,\"solidity\":0.2},\"type\":\"scatter\"}],\"parcoords\":[{\"type\":\"parcoords\",\"line\":{\"colorbar\":{\"outlinewidth\":0,\"ticks\":\"\"}}}],\"scatterpolargl\":[{\"type\":\"scatterpolargl\",\"marker\":{\"colorbar\":{\"outlinewidth\":0,\"ticks\":\"\"}}}],\"bar\":[{\"error_x\":{\"color\":\"#2a3f5f\"},\"error_y\":{\"color\":\"#2a3f5f\"},\"marker\":{\"line\":{\"color\":\"#E5ECF6\",\"width\":0.5},\"pattern\":{\"fillmode\":\"overlay\",\"size\":10,\"solidity\":0.2}},\"type\":\"bar\"}],\"scattergeo\":[{\"type\":\"scattergeo\",\"marker\":{\"colorbar\":{\"outlinewidth\":0,\"ticks\":\"\"}}}],\"scatterpolar\":[{\"type\":\"scatterpolar\",\"marker\":{\"colorbar\":{\"outlinewidth\":0,\"ticks\":\"\"}}}],\"histogram\":[{\"marker\":{\"pattern\":{\"fillmode\":\"overlay\",\"size\":10,\"solidity\":0.2}},\"type\":\"histogram\"}],\"scattergl\":[{\"type\":\"scattergl\",\"marker\":{\"colorbar\":{\"outlinewidth\":0,\"ticks\":\"\"}}}],\"scatter3d\":[{\"type\":\"scatter3d\",\"line\":{\"colorbar\":{\"outlinewidth\":0,\"ticks\":\"\"}},\"marker\":{\"colorbar\":{\"outlinewidth\":0,\"ticks\":\"\"}}}],\"scattermapbox\":[{\"type\":\"scattermapbox\",\"marker\":{\"colorbar\":{\"outlinewidth\":0,\"ticks\":\"\"}}}],\"scatterternary\":[{\"type\":\"scatterternary\",\"marker\":{\"colorbar\":{\"outlinewidth\":0,\"ticks\":\"\"}}}],\"scattercarpet\":[{\"type\":\"scattercarpet\",\"marker\":{\"colorbar\":{\"outlinewidth\":0,\"ticks\":\"\"}}}],\"carpet\":[{\"aaxis\":{\"endlinecolor\":\"#2a3f5f\",\"gridcolor\":\"white\",\"linecolor\":\"white\",\"minorgridcolor\":\"white\",\"startlinecolor\":\"#2a3f5f\"},\"baxis\":{\"endlinecolor\":\"#2a3f5f\",\"gridcolor\":\"white\",\"linecolor\":\"white\",\"minorgridcolor\":\"white\",\"startlinecolor\":\"#2a3f5f\"},\"type\":\"carpet\"}],\"table\":[{\"cells\":{\"fill\":{\"color\":\"#EBF0F8\"},\"line\":{\"color\":\"white\"}},\"header\":{\"fill\":{\"color\":\"#C8D4E3\"},\"line\":{\"color\":\"white\"}},\"type\":\"table\"}],\"barpolar\":[{\"marker\":{\"line\":{\"color\":\"#E5ECF6\",\"width\":0.5},\"pattern\":{\"fillmode\":\"overlay\",\"size\":10,\"solidity\":0.2}},\"type\":\"barpolar\"}],\"pie\":[{\"automargin\":true,\"type\":\"pie\"}]},\"layout\":{\"autotypenumbers\":\"strict\",\"colorway\":[\"#636efa\",\"#EF553B\",\"#00cc96\",\"#ab63fa\",\"#FFA15A\",\"#19d3f3\",\"#FF6692\",\"#B6E880\",\"#FF97FF\",\"#FECB52\"],\"font\":{\"color\":\"#2a3f5f\"},\"hovermode\":\"closest\",\"hoverlabel\":{\"align\":\"left\"},\"paper_bgcolor\":\"white\",\"plot_bgcolor\":\"#E5ECF6\",\"polar\":{\"bgcolor\":\"#E5ECF6\",\"angularaxis\":{\"gridcolor\":\"white\",\"linecolor\":\"white\",\"ticks\":\"\"},\"radialaxis\":{\"gridcolor\":\"white\",\"linecolor\":\"white\",\"ticks\":\"\"}},\"ternary\":{\"bgcolor\":\"#E5ECF6\",\"aaxis\":{\"gridcolor\":\"white\",\"linecolor\":\"white\",\"ticks\":\"\"},\"baxis\":{\"gridcolor\":\"white\",\"linecolor\":\"white\",\"ticks\":\"\"},\"caxis\":{\"gridcolor\":\"white\",\"linecolor\":\"white\",\"ticks\":\"\"}},\"coloraxis\":{\"colorbar\":{\"outlinewidth\":0,\"ticks\":\"\"}},\"colorscale\":{\"sequential\":[[0.0,\"#0d0887\"],[0.1111111111111111,\"#46039f\"],[0.2222222222222222,\"#7201a8\"],[0.3333333333333333,\"#9c179e\"],[0.4444444444444444,\"#bd3786\"],[0.5555555555555556,\"#d8576b\"],[0.6666666666666666,\"#ed7953\"],[0.7777777777777778,\"#fb9f3a\"],[0.8888888888888888,\"#fdca26\"],[1.0,\"#f0f921\"]],\"sequentialminus\":[[0.0,\"#0d0887\"],[0.1111111111111111,\"#46039f\"],[0.2222222222222222,\"#7201a8\"],[0.3333333333333333,\"#9c179e\"],[0.4444444444444444,\"#bd3786\"],[0.5555555555555556,\"#d8576b\"],[0.6666666666666666,\"#ed7953\"],[0.7777777777777778,\"#fb9f3a\"],[0.8888888888888888,\"#fdca26\"],[1.0,\"#f0f921\"]],\"diverging\":[[0,\"#8e0152\"],[0.1,\"#c51b7d\"],[0.2,\"#de77ae\"],[0.3,\"#f1b6da\"],[0.4,\"#fde0ef\"],[0.5,\"#f7f7f7\"],[0.6,\"#e6f5d0\"],[0.7,\"#b8e186\"],[0.8,\"#7fbc41\"],[0.9,\"#4d9221\"],[1,\"#276419\"]]},\"xaxis\":{\"gridcolor\":\"white\",\"linecolor\":\"white\",\"ticks\":\"\",\"title\":{\"standoff\":15},\"zerolinecolor\":\"white\",\"automargin\":true,\"zerolinewidth\":2},\"yaxis\":{\"gridcolor\":\"white\",\"linecolor\":\"white\",\"ticks\":\"\",\"title\":{\"standoff\":15},\"zerolinecolor\":\"white\",\"automargin\":true,\"zerolinewidth\":2},\"scene\":{\"xaxis\":{\"backgroundcolor\":\"#E5ECF6\",\"gridcolor\":\"white\",\"linecolor\":\"white\",\"showbackground\":true,\"ticks\":\"\",\"zerolinecolor\":\"white\",\"gridwidth\":2},\"yaxis\":{\"backgroundcolor\":\"#E5ECF6\",\"gridcolor\":\"white\",\"linecolor\":\"white\",\"showbackground\":true,\"ticks\":\"\",\"zerolinecolor\":\"white\",\"gridwidth\":2},\"zaxis\":{\"backgroundcolor\":\"#E5ECF6\",\"gridcolor\":\"white\",\"linecolor\":\"white\",\"showbackground\":true,\"ticks\":\"\",\"zerolinecolor\":\"white\",\"gridwidth\":2}},\"shapedefaults\":{\"line\":{\"color\":\"#2a3f5f\"}},\"annotationdefaults\":{\"arrowcolor\":\"#2a3f5f\",\"arrowhead\":0,\"arrowwidth\":1},\"geo\":{\"bgcolor\":\"white\",\"landcolor\":\"#E5ECF6\",\"subunitcolor\":\"white\",\"showland\":true,\"showlakes\":true,\"lakecolor\":\"white\"},\"title\":{\"x\":0.05},\"mapbox\":{\"style\":\"light\"}}},\"xaxis\":{\"anchor\":\"y\",\"domain\":[0.0,1.0],\"title\":{\"text\":\"Age at death\"},\"showline\":true,\"linewidth\":2,\"linecolor\":\"black\",\"mirror\":true,\"range\":[27.0,85]},\"yaxis\":{\"anchor\":\"x\",\"domain\":[0.0,1.0],\"title\":{\"text\":\"Chr15q14 haplotype\"},\"showline\":true,\"linewidth\":2,\"linecolor\":\"black\",\"mirror\":true},\"legend\":{\"title\":{\"text\":\"issue\"},\"tracegroupgap\":0},\"title\":{\"text\":\"Age at death\"},\"boxmode\":\"overlay\",\"height\":800,\"width\":800,\"font\":{\"size\":20},\"plot_bgcolor\":\"rgba(0, 0, 0, 0)\",\"showlegend\":false,\"annotations\":[{\"font\":{\"size\":20},\"showarrow\":false,\"text\":\"*\",\"x\":0.95,\"xref\":\"paper\",\"y\":0.5,\"yref\":\"paper\"}]},                        {\"toImageButtonOptions\": {\"format\": \"png\", \"filename\": \"\", \"height\": 800, \"width\": 800, \"scale\": 5}, \"responsive\": true}                    ).then(function(){\n",
       "                            \n",
       "var gd = document.getElementById('526a6fd5-dd26-477e-8d51-2eca8a0c81cc');\n",
       "var x = new MutationObserver(function (mutations, observer) {{\n",
       "        var display = window.getComputedStyle(gd).display;\n",
       "        if (!display || display === 'none') {{\n",
       "            console.log([gd, 'removed!']);\n",
       "            Plotly.purge(gd);\n",
       "            observer.disconnect();\n",
       "        }}\n",
       "}});\n",
       "\n",
       "// Listen for the removal of the full notebook cells\n",
       "var notebookContainer = gd.closest('#notebook-container');\n",
       "if (notebookContainer) {{\n",
       "    x.observe(notebookContainer, {childList: true});\n",
       "}}\n",
       "\n",
       "// Listen for the clearing of the current output cell\n",
       "var outputEl = gd.closest('.output');\n",
       "if (outputEl) {{\n",
       "    x.observe(outputEl, {childList: true});\n",
       "}}\n",
       "\n",
       "                        })                };                });            </script>        </div>"
      ]
     },
     "metadata": {},
     "output_type": "display_data"
    }
   ],
   "source": [
    "df = df[df[\"haplotype\"] != \"nan\"]\n",
    "\n",
    "fig = px.strip(\n",
    "    data_frame=df.sort_values(\"haplotype\"),\n",
    "    y=\"haplotype\",\n",
    "    x=\"AGEATDEATH\",\n",
    "    width=600,\n",
    "    height=300,\n",
    "    labels={\n",
    "        \"AGEATDEATH\": \"Age at death\",\n",
    "        \"SEXatBirth\": \"Sex\",\n",
    "        \"haplotype\": \"Chr15q14 haplotype\",\n",
    "    },\n",
    "    hover_data=[\"Gentli_ID\"],\n",
    "    title=\"Age at death\",\n",
    "    color=\"issue\",\n",
    "    color_discrete_map={\"Y\": \"grey\", \"N\": \"red\"},\n",
    "    stripmode=\"overlay\",\n",
    ")\n",
    "fig.update_layout(\n",
    "    width=800,\n",
    "    height=800,\n",
    "    plot_bgcolor=\"rgba(0, 0, 0, 0)\",\n",
    "    font=dict(size=20),\n",
    "    showlegend=False,\n",
    ")\n",
    "\n",
    "minage = df[\"AGEATDEATH\"].min()\n",
    "\n",
    "fig.update_xaxes(\n",
    "    showline=True,\n",
    "    linewidth=2,\n",
    "    linecolor=\"black\",\n",
    "    mirror=True,\n",
    "    range=[minage - 3, 85],\n",
    ")\n",
    "\n",
    "fig.update_yaxes(\n",
    "    showline=True,\n",
    "    linewidth=2,\n",
    "    linecolor=\"black\",\n",
    "    mirror=True,\n",
    ")\n",
    "\n",
    "fig.update_traces(marker=dict(size=12, opacity=0.5), jitter=1)\n",
    "\n",
    "# perform a t-test\n",
    "from scipy.stats import ttest_ind\n",
    "\n",
    "ttest_major_none = ttest_ind(\n",
    "    df[df[\"haplotype\"] == \"HapA\"][\"AGEATDEATH\"],\n",
    "    df[df[\"haplotype\"] == \"none\"][\"AGEATDEATH\"],\n",
    "    equal_var=False,\n",
    ")\n",
    "\n",
    "print(f\"T-test for HapA vs none: {ttest_major_none}\")\n",
    "\n",
    "ttest_minor_none = ttest_ind(\n",
    "    df[df[\"haplotype\"] == \"HapB\"][\"AGEATDEATH\"],\n",
    "    df[df[\"haplotype\"] == \"none\"][\"AGEATDEATH\"],\n",
    "    equal_var=False,\n",
    ")\n",
    "\n",
    "print(f\"T-test for minor vs none: {ttest_minor_none}\")\n",
    "\n",
    "# now do the same minor vs none test but with rr_PIDN4463 removed\n",
    "ttest_minor_none = ttest_ind(\n",
    "    df[(df[\"haplotype\"] == \"HapB\") & (df[\"issue\"] == \"N\")][\"AGEATDEATH\"],\n",
    "    df[(df[\"haplotype\"] == \"none\") & (df[\"issue\"] == \"N\")][\"AGEATDEATH\"],\n",
    "    equal_var=False,\n",
    ")\n",
    "\n",
    "print(f\"T-test for minor vs none (excluding rr_PIDN4463): {ttest_minor_none}\")\n",
    "\n",
    "ttest_major_minor = ttest_ind(\n",
    "    df[df[\"haplotype\"] == \"HapA\"][\"AGEATDEATH\"],\n",
    "    df[df[\"haplotype\"] == \"HapB\"][\"AGEATDEATH\"],\n",
    "    equal_var=False,\n",
    ")\n",
    "\n",
    "print(f\"T-test for major vs minor: {ttest_major_minor}\")\n",
    "\n",
    "ttest_chr15q14_none = ttest_ind(\n",
    "    df[df[\"haplotype\"].isin([\"HapA\", \"HapB\"])][\"AGEATDEATH\"],\n",
    "    df[df[\"haplotype\"] == \"none\"][\"AGEATDEATH\"],\n",
    "    equal_var=False,\n",
    ")\n",
    "\n",
    "print(f\"T-test for HapA+HapB vs none: {ttest_chr15q14_none}\")\n",
    "\n",
    "# draw annotation showing the p-value of major vs none\n",
    "fig.add_annotation(\n",
    "    x=0.95,\n",
    "    y=0.5,\n",
    "    xref=\"paper\",\n",
    "    yref=\"paper\",\n",
    "    text=f\"*\",\n",
    "    showarrow=False,\n",
    "    font=dict(size=20),\n",
    ")\n",
    "fig.add_trace(\n",
    "    go.Scatter(\n",
    "        x=[79, 80, 80, 79],\n",
    "        y=[\"none\", \"none\", \"HapA\", \"HapA\"],\n",
    "        fill=None,\n",
    "        mode=\"lines\",\n",
    "        showlegend=False,\n",
    "        line=dict(color=\"grey\", width=1),\n",
    "    )\n",
    ")\n",
    "\n",
    "\n",
    "# # draw annotation showing the p-value of minor vs none\n",
    "# fig.add_annotation(\n",
    "#     x=0.89,\n",
    "#     y=0.66,\n",
    "#     xref=\"paper\",\n",
    "#     yref=\"paper\",\n",
    "#     text=f\"*\",\n",
    "#     showarrow=False,\n",
    "#     font=dict(size=20),\n",
    "# )\n",
    "# fig.add_trace(\n",
    "#     go.Scatter(\n",
    "#         x=[76, 77, 77, 76],\n",
    "#         y=[\"none\", \"none\", \"HapB\", \"HapB\"],\n",
    "#         fill=None,\n",
    "#         mode=\"lines\",\n",
    "#         showlegend=False,\n",
    "#         line=dict(color=\"grey\", width=1),\n",
    "#     )\n",
    "# )\n",
    "\n",
    "fig.show(\n",
    "    config={\n",
    "        \"toImageButtonOptions\": {\n",
    "            \"format\": \"png\",\n",
    "            \"filename\": \"\",\n",
    "            \"height\": 800,\n",
    "            \"width\": 800,\n",
    "            \"scale\": 5,\n",
    "        }\n",
    "    }\n",
    ")"
   ]
  },
  {
   "cell_type": "code",
   "execution_count": 79,
   "metadata": {},
   "outputs": [
    {
     "name": "stdout",
     "output_type": "stream",
     "text": [
      "T-test for carriers vs unknown: TtestResult(statistic=2.058458184281454, pvalue=0.04278715330066002, df=80.34601803828934)\n",
      "T-test for carriers vs unknown (excluding rr_PIDN4463): TtestResult(statistic=2.2645008798629416, pvalue=0.02628160080065872, df=79.07531405253856)\n"
     ]
    },
    {
     "data": {
      "application/vnd.plotly.v1+json": {
       "config": {
        "plotlyServerURL": "https://plot.ly",
        "toImageButtonOptions": {
         "filename": "",
         "format": "png",
         "height": 800,
         "scale": 5,
         "width": 800
        }
       },
       "data": [
        {
         "alignmentgroup": "True",
         "boxpoints": "all",
         "customdata": [
          [
           "rr_2T7T4"
          ],
          [
           "rr_NA22_197"
          ],
          [
           "rr_A06_120"
          ],
          [
           "rr_A17_05"
          ],
          [
           "rr_UCL12461"
          ],
          [
           "rr_UCL1506"
          ],
          [
           "rr_UCL19247"
          ],
          [
           "rr_NHB15_065"
          ],
          [
           "rr_VA05_109"
          ],
          [
           "rr_X5929"
          ],
          [
           "rr_PIDN1734"
          ],
          [
           "rr_PIDN19525"
          ],
          [
           "rr_PIDN2662"
          ],
          [
           "rr_PIDN3794"
          ],
          [
           "rr_CW00_009"
          ],
          [
           "rr_NRA22654"
          ],
          [
           "rr_UNSW22488"
          ],
          [
           "rr_LN_N00_1835"
          ],
          [
           "rr_LN_C14_36644"
          ],
          [
           "rr_LN_C10_25594"
          ],
          [
           "rr_Ro_AH11.2"
          ],
          [
           "rr_Pt_8482"
          ],
          [
           "rr_E13_56"
          ],
          [
           "rr_QSBB81_17"
          ],
          [
           "rr_2021_017"
          ],
          [
           "rr_NA22_365"
          ],
          [
           "rr_2132"
          ],
          [
           "rr_NP43508"
          ],
          [
           "rr_NA22_425"
          ],
          [
           "rr_NA20_415"
          ],
          [
           "rr_2005_044"
          ],
          [
           "rr_KCLA061_16"
          ],
          [
           "rr_NHB94_068"
          ],
          [
           "rr_KULA_24063"
          ],
          [
           "rr_NHB16_047"
          ],
          [
           "rr_7965"
          ],
          [
           "rr_Muk49"
          ],
          [
           "rr_IB6387"
          ],
          [
           "rr_UNSW22478"
          ],
          [
           "rr_IB5534"
          ],
          [
           "rr_NP18739"
          ],
          [
           "rr_RNBC-22_16"
          ],
          [
           "rr_NHB95_041"
          ],
          [
           "rr_EMC13_65"
          ],
          [
           "rr_NHB18_068"
          ],
          [
           "rr_LN_C12_07006"
          ],
          [
           "rr_CW05_004"
          ],
          [
           "rr_NHB03_018"
          ],
          [
           "rr_EMC2013_098"
          ],
          [
           "rr_NHB15_114"
          ],
          [
           "rr_UNSW2220"
          ],
          [
           "rr_NHB14_059"
          ],
          [
           "rr_PIDN17760"
          ],
          [
           "rr_QSBB51_18"
          ],
          [
           "rr_NHB05_082"
          ],
          [
           "rr_NHB05_059"
          ],
          [
           "rr_NA23_005"
          ],
          [
           "rr_X5817"
          ],
          [
           "rr_Pt_3303"
          ],
          [
           "rr_KCLA311_98"
          ],
          [
           "rr_NA19_309"
          ],
          [
           "rr_NA19_291"
          ],
          [
           "rr_NA14_199"
          ],
          [
           "rr_NA09_238"
          ],
          [
           "rr_NA01_027"
          ],
          [
           "rr_NA23_161"
          ],
          [
           "rr_A02_164"
          ],
          [
           "rr_FTD397_1"
          ],
          [
           "rr_FTD196_1"
          ],
          [
           "rr_RZ462"
          ],
          [
           "rr_RZ257"
          ],
          [
           "rr_UCL2783"
          ],
          [
           "rr_R556"
          ],
          [
           "rr_UBC66_1"
          ],
          [
           "rr_A15-074"
          ],
          [
           "rr_PIDN106"
          ],
          [
           "rr_PIDN12322"
          ],
          [
           "rr_KULA_23717"
          ],
          [
           "rr_KULA_22549"
          ],
          [
           "rr_KCLA156_17"
          ],
          [
           "rr_PIDN6543"
          ],
          [
           "rr_PIDN9402"
          ],
          [
           "rr_UP101220"
          ],
          [
           "rr_PIDN738"
          ],
          [
           "rr_UNSW2185"
          ],
          [
           "rr_NA21_285"
          ]
         ],
         "fillcolor": "rgba(255,255,255,0)",
         "hoveron": "points",
         "hovertemplate": "issue=N<br>Age at death=%{x}<br>Risk factor=%{y}<br>Gentli_ID=%{customdata[0]}<extra></extra>",
         "jitter": 1,
         "legendgroup": "N",
         "line": {
          "color": "rgba(255,255,255,0)"
         },
         "marker": {
          "color": "red",
          "opacity": 0.5,
          "size": 12
         },
         "name": "N",
         "offsetgroup": "N",
         "orientation": "h",
         "pointpos": 0,
         "showlegend": true,
         "type": "box",
         "x": [
          40,
          48,
          41,
          47,
          52,
          60,
          51,
          52,
          49,
          44,
          57,
          34,
          51,
          37,
          56,
          50,
          39,
          34,
          55,
          44,
          50,
          62,
          31,
          59,
          30,
          48,
          68,
          60,
          56,
          64,
          51,
          53,
          58,
          46,
          54,
          53.1,
          33,
          55,
          62,
          34,
          52,
          59,
          60,
          47,
          59,
          54,
          48,
          45,
          50,
          77,
          59,
          46,
          72,
          67,
          46,
          41,
          57,
          58,
          59,
          65,
          49,
          45,
          45,
          58,
          42,
          44,
          64,
          52.9,
          69,
          54,
          50,
          51,
          49,
          52,
          53,
          56,
          63,
          45,
          47,
          40,
          55,
          47,
          51,
          48,
          68,
          73
         ],
         "x0": " ",
         "xaxis": "x",
         "y": [
          "Unknown",
          "Unknown",
          "Unknown",
          "Unknown",
          "Unknown",
          "Unknown",
          "Unknown",
          "Unknown",
          "Unknown",
          "Unknown",
          "Unknown",
          "Unknown",
          "Unknown",
          "Unknown",
          "Unknown",
          "Unknown",
          "Unknown",
          "Unknown",
          "Unknown",
          "Unknown",
          "Unknown",
          "Unknown",
          "Unknown",
          "Unknown",
          "Unknown",
          "Unknown",
          "Unknown",
          "Unknown",
          "Unknown",
          "Unknown",
          "Unknown",
          "Unknown",
          "Unknown",
          "Unknown",
          "Unknown",
          "Unknown",
          "Unknown",
          "Unknown",
          "chr15q14",
          "chr15q14",
          "chr15q14",
          "chr15q14",
          "chr15q14",
          "chr15q14",
          "chr15q14",
          "chr15q14",
          "chr15q14",
          "chr15q14",
          "chr15q14",
          "chr15q14",
          "chr15q14",
          "chr15q14",
          "chr15q14",
          "chr15q14",
          "chr15q14",
          "chr15q14",
          "chr15q14",
          "chr15q14",
          "chr15q14",
          "chr15q14",
          "chr15q14",
          "chr15q14",
          "chr15q14",
          "chr15q14",
          "chr15q14",
          "chr15q14",
          "chr15q14",
          "chr15q14",
          "chr15q14",
          "chr15q14",
          "chr15q14",
          "chr15q14",
          "chr15q14",
          "chr15q14",
          "chr15q14",
          "chr15q14",
          "chr15q14",
          "chr15q14",
          "chr15q14",
          "chr15q14",
          "chr15q14",
          "chr15q14",
          "chr15q14",
          "chr15q14",
          "chr15q14",
          "chr15q14"
         ],
         "y0": " ",
         "yaxis": "y"
        },
        {
         "alignmentgroup": "True",
         "boxpoints": "all",
         "customdata": [
          [
           "rr_PIDN4463"
          ]
         ],
         "fillcolor": "rgba(255,255,255,0)",
         "hoveron": "points",
         "hovertemplate": "issue=Y<br>Age at death=%{x}<br>Risk factor=%{y}<br>Gentli_ID=%{customdata[0]}<extra></extra>",
         "jitter": 1,
         "legendgroup": "Y",
         "line": {
          "color": "rgba(255,255,255,0)"
         },
         "marker": {
          "color": "grey",
          "opacity": 0.5,
          "size": 12
         },
         "name": "Y",
         "offsetgroup": "Y",
         "orientation": "h",
         "pointpos": 0,
         "showlegend": true,
         "type": "box",
         "x": [
          35
         ],
         "x0": " ",
         "xaxis": "x",
         "y": [
          "chr15q14"
         ],
         "y0": " ",
         "yaxis": "y"
        },
        {
         "line": {
          "color": "grey",
          "width": 1
         },
         "mode": "lines",
         "showlegend": false,
         "type": "scatter",
         "x": [
          79,
          80,
          80,
          79
         ],
         "y": [
          "chr15q14",
          "chr15q14",
          "Unknown",
          "Unknown"
         ]
        }
       ],
       "layout": {
        "annotations": [
         {
          "font": {
           "size": 20
          },
          "showarrow": false,
          "text": "*",
          "x": 0.95,
          "xref": "paper",
          "y": 0.5,
          "yref": "paper"
         }
        ],
        "boxmode": "overlay",
        "font": {
         "size": 20
        },
        "height": 800,
        "legend": {
         "title": {
          "text": "issue"
         },
         "tracegroupgap": 0
        },
        "plot_bgcolor": "rgba(0, 0, 0, 0)",
        "showlegend": false,
        "template": {
         "data": {
          "bar": [
           {
            "error_x": {
             "color": "#2a3f5f"
            },
            "error_y": {
             "color": "#2a3f5f"
            },
            "marker": {
             "line": {
              "color": "#E5ECF6",
              "width": 0.5
             },
             "pattern": {
              "fillmode": "overlay",
              "size": 10,
              "solidity": 0.2
             }
            },
            "type": "bar"
           }
          ],
          "barpolar": [
           {
            "marker": {
             "line": {
              "color": "#E5ECF6",
              "width": 0.5
             },
             "pattern": {
              "fillmode": "overlay",
              "size": 10,
              "solidity": 0.2
             }
            },
            "type": "barpolar"
           }
          ],
          "carpet": [
           {
            "aaxis": {
             "endlinecolor": "#2a3f5f",
             "gridcolor": "white",
             "linecolor": "white",
             "minorgridcolor": "white",
             "startlinecolor": "#2a3f5f"
            },
            "baxis": {
             "endlinecolor": "#2a3f5f",
             "gridcolor": "white",
             "linecolor": "white",
             "minorgridcolor": "white",
             "startlinecolor": "#2a3f5f"
            },
            "type": "carpet"
           }
          ],
          "choropleth": [
           {
            "colorbar": {
             "outlinewidth": 0,
             "ticks": ""
            },
            "type": "choropleth"
           }
          ],
          "contour": [
           {
            "colorbar": {
             "outlinewidth": 0,
             "ticks": ""
            },
            "colorscale": [
             [
              0,
              "#0d0887"
             ],
             [
              0.1111111111111111,
              "#46039f"
             ],
             [
              0.2222222222222222,
              "#7201a8"
             ],
             [
              0.3333333333333333,
              "#9c179e"
             ],
             [
              0.4444444444444444,
              "#bd3786"
             ],
             [
              0.5555555555555556,
              "#d8576b"
             ],
             [
              0.6666666666666666,
              "#ed7953"
             ],
             [
              0.7777777777777778,
              "#fb9f3a"
             ],
             [
              0.8888888888888888,
              "#fdca26"
             ],
             [
              1,
              "#f0f921"
             ]
            ],
            "type": "contour"
           }
          ],
          "contourcarpet": [
           {
            "colorbar": {
             "outlinewidth": 0,
             "ticks": ""
            },
            "type": "contourcarpet"
           }
          ],
          "heatmap": [
           {
            "colorbar": {
             "outlinewidth": 0,
             "ticks": ""
            },
            "colorscale": [
             [
              0,
              "#0d0887"
             ],
             [
              0.1111111111111111,
              "#46039f"
             ],
             [
              0.2222222222222222,
              "#7201a8"
             ],
             [
              0.3333333333333333,
              "#9c179e"
             ],
             [
              0.4444444444444444,
              "#bd3786"
             ],
             [
              0.5555555555555556,
              "#d8576b"
             ],
             [
              0.6666666666666666,
              "#ed7953"
             ],
             [
              0.7777777777777778,
              "#fb9f3a"
             ],
             [
              0.8888888888888888,
              "#fdca26"
             ],
             [
              1,
              "#f0f921"
             ]
            ],
            "type": "heatmap"
           }
          ],
          "heatmapgl": [
           {
            "colorbar": {
             "outlinewidth": 0,
             "ticks": ""
            },
            "colorscale": [
             [
              0,
              "#0d0887"
             ],
             [
              0.1111111111111111,
              "#46039f"
             ],
             [
              0.2222222222222222,
              "#7201a8"
             ],
             [
              0.3333333333333333,
              "#9c179e"
             ],
             [
              0.4444444444444444,
              "#bd3786"
             ],
             [
              0.5555555555555556,
              "#d8576b"
             ],
             [
              0.6666666666666666,
              "#ed7953"
             ],
             [
              0.7777777777777778,
              "#fb9f3a"
             ],
             [
              0.8888888888888888,
              "#fdca26"
             ],
             [
              1,
              "#f0f921"
             ]
            ],
            "type": "heatmapgl"
           }
          ],
          "histogram": [
           {
            "marker": {
             "pattern": {
              "fillmode": "overlay",
              "size": 10,
              "solidity": 0.2
             }
            },
            "type": "histogram"
           }
          ],
          "histogram2d": [
           {
            "colorbar": {
             "outlinewidth": 0,
             "ticks": ""
            },
            "colorscale": [
             [
              0,
              "#0d0887"
             ],
             [
              0.1111111111111111,
              "#46039f"
             ],
             [
              0.2222222222222222,
              "#7201a8"
             ],
             [
              0.3333333333333333,
              "#9c179e"
             ],
             [
              0.4444444444444444,
              "#bd3786"
             ],
             [
              0.5555555555555556,
              "#d8576b"
             ],
             [
              0.6666666666666666,
              "#ed7953"
             ],
             [
              0.7777777777777778,
              "#fb9f3a"
             ],
             [
              0.8888888888888888,
              "#fdca26"
             ],
             [
              1,
              "#f0f921"
             ]
            ],
            "type": "histogram2d"
           }
          ],
          "histogram2dcontour": [
           {
            "colorbar": {
             "outlinewidth": 0,
             "ticks": ""
            },
            "colorscale": [
             [
              0,
              "#0d0887"
             ],
             [
              0.1111111111111111,
              "#46039f"
             ],
             [
              0.2222222222222222,
              "#7201a8"
             ],
             [
              0.3333333333333333,
              "#9c179e"
             ],
             [
              0.4444444444444444,
              "#bd3786"
             ],
             [
              0.5555555555555556,
              "#d8576b"
             ],
             [
              0.6666666666666666,
              "#ed7953"
             ],
             [
              0.7777777777777778,
              "#fb9f3a"
             ],
             [
              0.8888888888888888,
              "#fdca26"
             ],
             [
              1,
              "#f0f921"
             ]
            ],
            "type": "histogram2dcontour"
           }
          ],
          "mesh3d": [
           {
            "colorbar": {
             "outlinewidth": 0,
             "ticks": ""
            },
            "type": "mesh3d"
           }
          ],
          "parcoords": [
           {
            "line": {
             "colorbar": {
              "outlinewidth": 0,
              "ticks": ""
             }
            },
            "type": "parcoords"
           }
          ],
          "pie": [
           {
            "automargin": true,
            "type": "pie"
           }
          ],
          "scatter": [
           {
            "fillpattern": {
             "fillmode": "overlay",
             "size": 10,
             "solidity": 0.2
            },
            "type": "scatter"
           }
          ],
          "scatter3d": [
           {
            "line": {
             "colorbar": {
              "outlinewidth": 0,
              "ticks": ""
             }
            },
            "marker": {
             "colorbar": {
              "outlinewidth": 0,
              "ticks": ""
             }
            },
            "type": "scatter3d"
           }
          ],
          "scattercarpet": [
           {
            "marker": {
             "colorbar": {
              "outlinewidth": 0,
              "ticks": ""
             }
            },
            "type": "scattercarpet"
           }
          ],
          "scattergeo": [
           {
            "marker": {
             "colorbar": {
              "outlinewidth": 0,
              "ticks": ""
             }
            },
            "type": "scattergeo"
           }
          ],
          "scattergl": [
           {
            "marker": {
             "colorbar": {
              "outlinewidth": 0,
              "ticks": ""
             }
            },
            "type": "scattergl"
           }
          ],
          "scattermapbox": [
           {
            "marker": {
             "colorbar": {
              "outlinewidth": 0,
              "ticks": ""
             }
            },
            "type": "scattermapbox"
           }
          ],
          "scatterpolar": [
           {
            "marker": {
             "colorbar": {
              "outlinewidth": 0,
              "ticks": ""
             }
            },
            "type": "scatterpolar"
           }
          ],
          "scatterpolargl": [
           {
            "marker": {
             "colorbar": {
              "outlinewidth": 0,
              "ticks": ""
             }
            },
            "type": "scatterpolargl"
           }
          ],
          "scatterternary": [
           {
            "marker": {
             "colorbar": {
              "outlinewidth": 0,
              "ticks": ""
             }
            },
            "type": "scatterternary"
           }
          ],
          "surface": [
           {
            "colorbar": {
             "outlinewidth": 0,
             "ticks": ""
            },
            "colorscale": [
             [
              0,
              "#0d0887"
             ],
             [
              0.1111111111111111,
              "#46039f"
             ],
             [
              0.2222222222222222,
              "#7201a8"
             ],
             [
              0.3333333333333333,
              "#9c179e"
             ],
             [
              0.4444444444444444,
              "#bd3786"
             ],
             [
              0.5555555555555556,
              "#d8576b"
             ],
             [
              0.6666666666666666,
              "#ed7953"
             ],
             [
              0.7777777777777778,
              "#fb9f3a"
             ],
             [
              0.8888888888888888,
              "#fdca26"
             ],
             [
              1,
              "#f0f921"
             ]
            ],
            "type": "surface"
           }
          ],
          "table": [
           {
            "cells": {
             "fill": {
              "color": "#EBF0F8"
             },
             "line": {
              "color": "white"
             }
            },
            "header": {
             "fill": {
              "color": "#C8D4E3"
             },
             "line": {
              "color": "white"
             }
            },
            "type": "table"
           }
          ]
         },
         "layout": {
          "annotationdefaults": {
           "arrowcolor": "#2a3f5f",
           "arrowhead": 0,
           "arrowwidth": 1
          },
          "autotypenumbers": "strict",
          "coloraxis": {
           "colorbar": {
            "outlinewidth": 0,
            "ticks": ""
           }
          },
          "colorscale": {
           "diverging": [
            [
             0,
             "#8e0152"
            ],
            [
             0.1,
             "#c51b7d"
            ],
            [
             0.2,
             "#de77ae"
            ],
            [
             0.3,
             "#f1b6da"
            ],
            [
             0.4,
             "#fde0ef"
            ],
            [
             0.5,
             "#f7f7f7"
            ],
            [
             0.6,
             "#e6f5d0"
            ],
            [
             0.7,
             "#b8e186"
            ],
            [
             0.8,
             "#7fbc41"
            ],
            [
             0.9,
             "#4d9221"
            ],
            [
             1,
             "#276419"
            ]
           ],
           "sequential": [
            [
             0,
             "#0d0887"
            ],
            [
             0.1111111111111111,
             "#46039f"
            ],
            [
             0.2222222222222222,
             "#7201a8"
            ],
            [
             0.3333333333333333,
             "#9c179e"
            ],
            [
             0.4444444444444444,
             "#bd3786"
            ],
            [
             0.5555555555555556,
             "#d8576b"
            ],
            [
             0.6666666666666666,
             "#ed7953"
            ],
            [
             0.7777777777777778,
             "#fb9f3a"
            ],
            [
             0.8888888888888888,
             "#fdca26"
            ],
            [
             1,
             "#f0f921"
            ]
           ],
           "sequentialminus": [
            [
             0,
             "#0d0887"
            ],
            [
             0.1111111111111111,
             "#46039f"
            ],
            [
             0.2222222222222222,
             "#7201a8"
            ],
            [
             0.3333333333333333,
             "#9c179e"
            ],
            [
             0.4444444444444444,
             "#bd3786"
            ],
            [
             0.5555555555555556,
             "#d8576b"
            ],
            [
             0.6666666666666666,
             "#ed7953"
            ],
            [
             0.7777777777777778,
             "#fb9f3a"
            ],
            [
             0.8888888888888888,
             "#fdca26"
            ],
            [
             1,
             "#f0f921"
            ]
           ]
          },
          "colorway": [
           "#636efa",
           "#EF553B",
           "#00cc96",
           "#ab63fa",
           "#FFA15A",
           "#19d3f3",
           "#FF6692",
           "#B6E880",
           "#FF97FF",
           "#FECB52"
          ],
          "font": {
           "color": "#2a3f5f"
          },
          "geo": {
           "bgcolor": "white",
           "lakecolor": "white",
           "landcolor": "#E5ECF6",
           "showlakes": true,
           "showland": true,
           "subunitcolor": "white"
          },
          "hoverlabel": {
           "align": "left"
          },
          "hovermode": "closest",
          "mapbox": {
           "style": "light"
          },
          "paper_bgcolor": "white",
          "plot_bgcolor": "#E5ECF6",
          "polar": {
           "angularaxis": {
            "gridcolor": "white",
            "linecolor": "white",
            "ticks": ""
           },
           "bgcolor": "#E5ECF6",
           "radialaxis": {
            "gridcolor": "white",
            "linecolor": "white",
            "ticks": ""
           }
          },
          "scene": {
           "xaxis": {
            "backgroundcolor": "#E5ECF6",
            "gridcolor": "white",
            "gridwidth": 2,
            "linecolor": "white",
            "showbackground": true,
            "ticks": "",
            "zerolinecolor": "white"
           },
           "yaxis": {
            "backgroundcolor": "#E5ECF6",
            "gridcolor": "white",
            "gridwidth": 2,
            "linecolor": "white",
            "showbackground": true,
            "ticks": "",
            "zerolinecolor": "white"
           },
           "zaxis": {
            "backgroundcolor": "#E5ECF6",
            "gridcolor": "white",
            "gridwidth": 2,
            "linecolor": "white",
            "showbackground": true,
            "ticks": "",
            "zerolinecolor": "white"
           }
          },
          "shapedefaults": {
           "line": {
            "color": "#2a3f5f"
           }
          },
          "ternary": {
           "aaxis": {
            "gridcolor": "white",
            "linecolor": "white",
            "ticks": ""
           },
           "baxis": {
            "gridcolor": "white",
            "linecolor": "white",
            "ticks": ""
           },
           "bgcolor": "#E5ECF6",
           "caxis": {
            "gridcolor": "white",
            "linecolor": "white",
            "ticks": ""
           }
          },
          "title": {
           "x": 0.05
          },
          "xaxis": {
           "automargin": true,
           "gridcolor": "white",
           "linecolor": "white",
           "ticks": "",
           "title": {
            "standoff": 15
           },
           "zerolinecolor": "white",
           "zerolinewidth": 2
          },
          "yaxis": {
           "automargin": true,
           "gridcolor": "white",
           "linecolor": "white",
           "ticks": "",
           "title": {
            "standoff": 15
           },
           "zerolinecolor": "white",
           "zerolinewidth": 2
          }
         }
        },
        "title": {
         "text": "Age at death"
        },
        "width": 800,
        "xaxis": {
         "anchor": "y",
         "domain": [
          0,
          1
         ],
         "linecolor": "black",
         "linewidth": 2,
         "mirror": true,
         "range": [
          27,
          85
         ],
         "showline": true,
         "title": {
          "text": "Age at death"
         }
        },
        "yaxis": {
         "anchor": "x",
         "domain": [
          0,
          1
         ],
         "linecolor": "black",
         "linewidth": 2,
         "mirror": true,
         "showline": true,
         "title": {
          "text": "Risk factor"
         }
        }
       }
      },
      "text/html": [
       "<div>                            <div id=\"c0faf494-b4ec-4683-ab6a-6db72c984621\" class=\"plotly-graph-div\" style=\"height:800px; width:800px;\"></div>            <script type=\"text/javascript\">                require([\"plotly\"], function(Plotly) {                    window.PLOTLYENV=window.PLOTLYENV || {};                                    if (document.getElementById(\"c0faf494-b4ec-4683-ab6a-6db72c984621\")) {                    Plotly.newPlot(                        \"c0faf494-b4ec-4683-ab6a-6db72c984621\",                        [{\"alignmentgroup\":\"True\",\"boxpoints\":\"all\",\"customdata\":[[\"rr_2T7T4\"],[\"rr_NA22_197\"],[\"rr_A06_120\"],[\"rr_A17_05\"],[\"rr_UCL12461\"],[\"rr_UCL1506\"],[\"rr_UCL19247\"],[\"rr_NHB15_065\"],[\"rr_VA05_109\"],[\"rr_X5929\"],[\"rr_PIDN1734\"],[\"rr_PIDN19525\"],[\"rr_PIDN2662\"],[\"rr_PIDN3794\"],[\"rr_CW00_009\"],[\"rr_NRA22654\"],[\"rr_UNSW22488\"],[\"rr_LN_N00_1835\"],[\"rr_LN_C14_36644\"],[\"rr_LN_C10_25594\"],[\"rr_Ro_AH11.2\"],[\"rr_Pt_8482\"],[\"rr_E13_56\"],[\"rr_QSBB81_17\"],[\"rr_2021_017\"],[\"rr_NA22_365\"],[\"rr_2132\"],[\"rr_NP43508\"],[\"rr_NA22_425\"],[\"rr_NA20_415\"],[\"rr_2005_044\"],[\"rr_KCLA061_16\"],[\"rr_NHB94_068\"],[\"rr_KULA_24063\"],[\"rr_NHB16_047\"],[\"rr_7965\"],[\"rr_Muk49\"],[\"rr_IB6387\"],[\"rr_UNSW22478\"],[\"rr_IB5534\"],[\"rr_NP18739\"],[\"rr_RNBC-22_16\"],[\"rr_NHB95_041\"],[\"rr_EMC13_65\"],[\"rr_NHB18_068\"],[\"rr_LN_C12_07006\"],[\"rr_CW05_004\"],[\"rr_NHB03_018\"],[\"rr_EMC2013_098\"],[\"rr_NHB15_114\"],[\"rr_UNSW2220\"],[\"rr_NHB14_059\"],[\"rr_PIDN17760\"],[\"rr_QSBB51_18\"],[\"rr_NHB05_082\"],[\"rr_NHB05_059\"],[\"rr_NA23_005\"],[\"rr_X5817\"],[\"rr_Pt_3303\"],[\"rr_KCLA311_98\"],[\"rr_NA19_309\"],[\"rr_NA19_291\"],[\"rr_NA14_199\"],[\"rr_NA09_238\"],[\"rr_NA01_027\"],[\"rr_NA23_161\"],[\"rr_A02_164\"],[\"rr_FTD397_1\"],[\"rr_FTD196_1\"],[\"rr_RZ462\"],[\"rr_RZ257\"],[\"rr_UCL2783\"],[\"rr_R556\"],[\"rr_UBC66_1\"],[\"rr_A15-074\"],[\"rr_PIDN106\"],[\"rr_PIDN12322\"],[\"rr_KULA_23717\"],[\"rr_KULA_22549\"],[\"rr_KCLA156_17\"],[\"rr_PIDN6543\"],[\"rr_PIDN9402\"],[\"rr_UP101220\"],[\"rr_PIDN738\"],[\"rr_UNSW2185\"],[\"rr_NA21_285\"]],\"fillcolor\":\"rgba(255,255,255,0)\",\"hoveron\":\"points\",\"hovertemplate\":\"issue=N\\u003cbr\\u003eAge at death=%{x}\\u003cbr\\u003eRisk factor=%{y}\\u003cbr\\u003eGentli_ID=%{customdata[0]}\\u003cextra\\u003e\\u003c\\u002fextra\\u003e\",\"legendgroup\":\"N\",\"line\":{\"color\":\"rgba(255,255,255,0)\"},\"marker\":{\"color\":\"red\",\"opacity\":0.5,\"size\":12},\"name\":\"N\",\"offsetgroup\":\"N\",\"orientation\":\"h\",\"pointpos\":0,\"showlegend\":true,\"x\":[40.0,48.0,41.0,47.0,52.0,60.0,51.0,52.0,49.0,44.0,57.0,34.0,51.0,37.0,56.0,50.0,39.0,34.0,55.0,44.0,50.0,62.0,31.0,59.0,30.0,48.0,68.0,60.0,56.0,64.0,51.0,53.0,58.0,46.0,54.0,53.1,33.0,55.0,62.0,34.0,52.0,59.0,60.0,47.0,59.0,54.0,48.0,45.0,50.0,77.0,59.0,46.0,72.0,67.0,46.0,41.0,57.0,58.0,59.0,65.0,49.0,45.0,45.0,58.0,42.0,44.0,64.0,52.9,69.0,54.0,50.0,51.0,49.0,52.0,53.0,56.0,63.0,45.0,47.0,40.0,55.0,47.0,51.0,48.0,68.0,73.0],\"x0\":\" \",\"xaxis\":\"x\",\"y\":[\"Unknown\",\"Unknown\",\"Unknown\",\"Unknown\",\"Unknown\",\"Unknown\",\"Unknown\",\"Unknown\",\"Unknown\",\"Unknown\",\"Unknown\",\"Unknown\",\"Unknown\",\"Unknown\",\"Unknown\",\"Unknown\",\"Unknown\",\"Unknown\",\"Unknown\",\"Unknown\",\"Unknown\",\"Unknown\",\"Unknown\",\"Unknown\",\"Unknown\",\"Unknown\",\"Unknown\",\"Unknown\",\"Unknown\",\"Unknown\",\"Unknown\",\"Unknown\",\"Unknown\",\"Unknown\",\"Unknown\",\"Unknown\",\"Unknown\",\"Unknown\",\"chr15q14\",\"chr15q14\",\"chr15q14\",\"chr15q14\",\"chr15q14\",\"chr15q14\",\"chr15q14\",\"chr15q14\",\"chr15q14\",\"chr15q14\",\"chr15q14\",\"chr15q14\",\"chr15q14\",\"chr15q14\",\"chr15q14\",\"chr15q14\",\"chr15q14\",\"chr15q14\",\"chr15q14\",\"chr15q14\",\"chr15q14\",\"chr15q14\",\"chr15q14\",\"chr15q14\",\"chr15q14\",\"chr15q14\",\"chr15q14\",\"chr15q14\",\"chr15q14\",\"chr15q14\",\"chr15q14\",\"chr15q14\",\"chr15q14\",\"chr15q14\",\"chr15q14\",\"chr15q14\",\"chr15q14\",\"chr15q14\",\"chr15q14\",\"chr15q14\",\"chr15q14\",\"chr15q14\",\"chr15q14\",\"chr15q14\",\"chr15q14\",\"chr15q14\",\"chr15q14\",\"chr15q14\"],\"y0\":\" \",\"yaxis\":\"y\",\"type\":\"box\",\"jitter\":1},{\"alignmentgroup\":\"True\",\"boxpoints\":\"all\",\"customdata\":[[\"rr_PIDN4463\"]],\"fillcolor\":\"rgba(255,255,255,0)\",\"hoveron\":\"points\",\"hovertemplate\":\"issue=Y\\u003cbr\\u003eAge at death=%{x}\\u003cbr\\u003eRisk factor=%{y}\\u003cbr\\u003eGentli_ID=%{customdata[0]}\\u003cextra\\u003e\\u003c\\u002fextra\\u003e\",\"legendgroup\":\"Y\",\"line\":{\"color\":\"rgba(255,255,255,0)\"},\"marker\":{\"color\":\"grey\",\"opacity\":0.5,\"size\":12},\"name\":\"Y\",\"offsetgroup\":\"Y\",\"orientation\":\"h\",\"pointpos\":0,\"showlegend\":true,\"x\":[35.0],\"x0\":\" \",\"xaxis\":\"x\",\"y\":[\"chr15q14\"],\"y0\":\" \",\"yaxis\":\"y\",\"type\":\"box\",\"jitter\":1},{\"line\":{\"color\":\"grey\",\"width\":1},\"mode\":\"lines\",\"showlegend\":false,\"x\":[79,80,80,79],\"y\":[\"chr15q14\",\"chr15q14\",\"Unknown\",\"Unknown\"],\"type\":\"scatter\"}],                        {\"template\":{\"data\":{\"histogram2dcontour\":[{\"type\":\"histogram2dcontour\",\"colorbar\":{\"outlinewidth\":0,\"ticks\":\"\"},\"colorscale\":[[0.0,\"#0d0887\"],[0.1111111111111111,\"#46039f\"],[0.2222222222222222,\"#7201a8\"],[0.3333333333333333,\"#9c179e\"],[0.4444444444444444,\"#bd3786\"],[0.5555555555555556,\"#d8576b\"],[0.6666666666666666,\"#ed7953\"],[0.7777777777777778,\"#fb9f3a\"],[0.8888888888888888,\"#fdca26\"],[1.0,\"#f0f921\"]]}],\"choropleth\":[{\"type\":\"choropleth\",\"colorbar\":{\"outlinewidth\":0,\"ticks\":\"\"}}],\"histogram2d\":[{\"type\":\"histogram2d\",\"colorbar\":{\"outlinewidth\":0,\"ticks\":\"\"},\"colorscale\":[[0.0,\"#0d0887\"],[0.1111111111111111,\"#46039f\"],[0.2222222222222222,\"#7201a8\"],[0.3333333333333333,\"#9c179e\"],[0.4444444444444444,\"#bd3786\"],[0.5555555555555556,\"#d8576b\"],[0.6666666666666666,\"#ed7953\"],[0.7777777777777778,\"#fb9f3a\"],[0.8888888888888888,\"#fdca26\"],[1.0,\"#f0f921\"]]}],\"heatmap\":[{\"type\":\"heatmap\",\"colorbar\":{\"outlinewidth\":0,\"ticks\":\"\"},\"colorscale\":[[0.0,\"#0d0887\"],[0.1111111111111111,\"#46039f\"],[0.2222222222222222,\"#7201a8\"],[0.3333333333333333,\"#9c179e\"],[0.4444444444444444,\"#bd3786\"],[0.5555555555555556,\"#d8576b\"],[0.6666666666666666,\"#ed7953\"],[0.7777777777777778,\"#fb9f3a\"],[0.8888888888888888,\"#fdca26\"],[1.0,\"#f0f921\"]]}],\"heatmapgl\":[{\"type\":\"heatmapgl\",\"colorbar\":{\"outlinewidth\":0,\"ticks\":\"\"},\"colorscale\":[[0.0,\"#0d0887\"],[0.1111111111111111,\"#46039f\"],[0.2222222222222222,\"#7201a8\"],[0.3333333333333333,\"#9c179e\"],[0.4444444444444444,\"#bd3786\"],[0.5555555555555556,\"#d8576b\"],[0.6666666666666666,\"#ed7953\"],[0.7777777777777778,\"#fb9f3a\"],[0.8888888888888888,\"#fdca26\"],[1.0,\"#f0f921\"]]}],\"contourcarpet\":[{\"type\":\"contourcarpet\",\"colorbar\":{\"outlinewidth\":0,\"ticks\":\"\"}}],\"contour\":[{\"type\":\"contour\",\"colorbar\":{\"outlinewidth\":0,\"ticks\":\"\"},\"colorscale\":[[0.0,\"#0d0887\"],[0.1111111111111111,\"#46039f\"],[0.2222222222222222,\"#7201a8\"],[0.3333333333333333,\"#9c179e\"],[0.4444444444444444,\"#bd3786\"],[0.5555555555555556,\"#d8576b\"],[0.6666666666666666,\"#ed7953\"],[0.7777777777777778,\"#fb9f3a\"],[0.8888888888888888,\"#fdca26\"],[1.0,\"#f0f921\"]]}],\"surface\":[{\"type\":\"surface\",\"colorbar\":{\"outlinewidth\":0,\"ticks\":\"\"},\"colorscale\":[[0.0,\"#0d0887\"],[0.1111111111111111,\"#46039f\"],[0.2222222222222222,\"#7201a8\"],[0.3333333333333333,\"#9c179e\"],[0.4444444444444444,\"#bd3786\"],[0.5555555555555556,\"#d8576b\"],[0.6666666666666666,\"#ed7953\"],[0.7777777777777778,\"#fb9f3a\"],[0.8888888888888888,\"#fdca26\"],[1.0,\"#f0f921\"]]}],\"mesh3d\":[{\"type\":\"mesh3d\",\"colorbar\":{\"outlinewidth\":0,\"ticks\":\"\"}}],\"scatter\":[{\"fillpattern\":{\"fillmode\":\"overlay\",\"size\":10,\"solidity\":0.2},\"type\":\"scatter\"}],\"parcoords\":[{\"type\":\"parcoords\",\"line\":{\"colorbar\":{\"outlinewidth\":0,\"ticks\":\"\"}}}],\"scatterpolargl\":[{\"type\":\"scatterpolargl\",\"marker\":{\"colorbar\":{\"outlinewidth\":0,\"ticks\":\"\"}}}],\"bar\":[{\"error_x\":{\"color\":\"#2a3f5f\"},\"error_y\":{\"color\":\"#2a3f5f\"},\"marker\":{\"line\":{\"color\":\"#E5ECF6\",\"width\":0.5},\"pattern\":{\"fillmode\":\"overlay\",\"size\":10,\"solidity\":0.2}},\"type\":\"bar\"}],\"scattergeo\":[{\"type\":\"scattergeo\",\"marker\":{\"colorbar\":{\"outlinewidth\":0,\"ticks\":\"\"}}}],\"scatterpolar\":[{\"type\":\"scatterpolar\",\"marker\":{\"colorbar\":{\"outlinewidth\":0,\"ticks\":\"\"}}}],\"histogram\":[{\"marker\":{\"pattern\":{\"fillmode\":\"overlay\",\"size\":10,\"solidity\":0.2}},\"type\":\"histogram\"}],\"scattergl\":[{\"type\":\"scattergl\",\"marker\":{\"colorbar\":{\"outlinewidth\":0,\"ticks\":\"\"}}}],\"scatter3d\":[{\"type\":\"scatter3d\",\"line\":{\"colorbar\":{\"outlinewidth\":0,\"ticks\":\"\"}},\"marker\":{\"colorbar\":{\"outlinewidth\":0,\"ticks\":\"\"}}}],\"scattermapbox\":[{\"type\":\"scattermapbox\",\"marker\":{\"colorbar\":{\"outlinewidth\":0,\"ticks\":\"\"}}}],\"scatterternary\":[{\"type\":\"scatterternary\",\"marker\":{\"colorbar\":{\"outlinewidth\":0,\"ticks\":\"\"}}}],\"scattercarpet\":[{\"type\":\"scattercarpet\",\"marker\":{\"colorbar\":{\"outlinewidth\":0,\"ticks\":\"\"}}}],\"carpet\":[{\"aaxis\":{\"endlinecolor\":\"#2a3f5f\",\"gridcolor\":\"white\",\"linecolor\":\"white\",\"minorgridcolor\":\"white\",\"startlinecolor\":\"#2a3f5f\"},\"baxis\":{\"endlinecolor\":\"#2a3f5f\",\"gridcolor\":\"white\",\"linecolor\":\"white\",\"minorgridcolor\":\"white\",\"startlinecolor\":\"#2a3f5f\"},\"type\":\"carpet\"}],\"table\":[{\"cells\":{\"fill\":{\"color\":\"#EBF0F8\"},\"line\":{\"color\":\"white\"}},\"header\":{\"fill\":{\"color\":\"#C8D4E3\"},\"line\":{\"color\":\"white\"}},\"type\":\"table\"}],\"barpolar\":[{\"marker\":{\"line\":{\"color\":\"#E5ECF6\",\"width\":0.5},\"pattern\":{\"fillmode\":\"overlay\",\"size\":10,\"solidity\":0.2}},\"type\":\"barpolar\"}],\"pie\":[{\"automargin\":true,\"type\":\"pie\"}]},\"layout\":{\"autotypenumbers\":\"strict\",\"colorway\":[\"#636efa\",\"#EF553B\",\"#00cc96\",\"#ab63fa\",\"#FFA15A\",\"#19d3f3\",\"#FF6692\",\"#B6E880\",\"#FF97FF\",\"#FECB52\"],\"font\":{\"color\":\"#2a3f5f\"},\"hovermode\":\"closest\",\"hoverlabel\":{\"align\":\"left\"},\"paper_bgcolor\":\"white\",\"plot_bgcolor\":\"#E5ECF6\",\"polar\":{\"bgcolor\":\"#E5ECF6\",\"angularaxis\":{\"gridcolor\":\"white\",\"linecolor\":\"white\",\"ticks\":\"\"},\"radialaxis\":{\"gridcolor\":\"white\",\"linecolor\":\"white\",\"ticks\":\"\"}},\"ternary\":{\"bgcolor\":\"#E5ECF6\",\"aaxis\":{\"gridcolor\":\"white\",\"linecolor\":\"white\",\"ticks\":\"\"},\"baxis\":{\"gridcolor\":\"white\",\"linecolor\":\"white\",\"ticks\":\"\"},\"caxis\":{\"gridcolor\":\"white\",\"linecolor\":\"white\",\"ticks\":\"\"}},\"coloraxis\":{\"colorbar\":{\"outlinewidth\":0,\"ticks\":\"\"}},\"colorscale\":{\"sequential\":[[0.0,\"#0d0887\"],[0.1111111111111111,\"#46039f\"],[0.2222222222222222,\"#7201a8\"],[0.3333333333333333,\"#9c179e\"],[0.4444444444444444,\"#bd3786\"],[0.5555555555555556,\"#d8576b\"],[0.6666666666666666,\"#ed7953\"],[0.7777777777777778,\"#fb9f3a\"],[0.8888888888888888,\"#fdca26\"],[1.0,\"#f0f921\"]],\"sequentialminus\":[[0.0,\"#0d0887\"],[0.1111111111111111,\"#46039f\"],[0.2222222222222222,\"#7201a8\"],[0.3333333333333333,\"#9c179e\"],[0.4444444444444444,\"#bd3786\"],[0.5555555555555556,\"#d8576b\"],[0.6666666666666666,\"#ed7953\"],[0.7777777777777778,\"#fb9f3a\"],[0.8888888888888888,\"#fdca26\"],[1.0,\"#f0f921\"]],\"diverging\":[[0,\"#8e0152\"],[0.1,\"#c51b7d\"],[0.2,\"#de77ae\"],[0.3,\"#f1b6da\"],[0.4,\"#fde0ef\"],[0.5,\"#f7f7f7\"],[0.6,\"#e6f5d0\"],[0.7,\"#b8e186\"],[0.8,\"#7fbc41\"],[0.9,\"#4d9221\"],[1,\"#276419\"]]},\"xaxis\":{\"gridcolor\":\"white\",\"linecolor\":\"white\",\"ticks\":\"\",\"title\":{\"standoff\":15},\"zerolinecolor\":\"white\",\"automargin\":true,\"zerolinewidth\":2},\"yaxis\":{\"gridcolor\":\"white\",\"linecolor\":\"white\",\"ticks\":\"\",\"title\":{\"standoff\":15},\"zerolinecolor\":\"white\",\"automargin\":true,\"zerolinewidth\":2},\"scene\":{\"xaxis\":{\"backgroundcolor\":\"#E5ECF6\",\"gridcolor\":\"white\",\"linecolor\":\"white\",\"showbackground\":true,\"ticks\":\"\",\"zerolinecolor\":\"white\",\"gridwidth\":2},\"yaxis\":{\"backgroundcolor\":\"#E5ECF6\",\"gridcolor\":\"white\",\"linecolor\":\"white\",\"showbackground\":true,\"ticks\":\"\",\"zerolinecolor\":\"white\",\"gridwidth\":2},\"zaxis\":{\"backgroundcolor\":\"#E5ECF6\",\"gridcolor\":\"white\",\"linecolor\":\"white\",\"showbackground\":true,\"ticks\":\"\",\"zerolinecolor\":\"white\",\"gridwidth\":2}},\"shapedefaults\":{\"line\":{\"color\":\"#2a3f5f\"}},\"annotationdefaults\":{\"arrowcolor\":\"#2a3f5f\",\"arrowhead\":0,\"arrowwidth\":1},\"geo\":{\"bgcolor\":\"white\",\"landcolor\":\"#E5ECF6\",\"subunitcolor\":\"white\",\"showland\":true,\"showlakes\":true,\"lakecolor\":\"white\"},\"title\":{\"x\":0.05},\"mapbox\":{\"style\":\"light\"}}},\"xaxis\":{\"anchor\":\"y\",\"domain\":[0.0,1.0],\"title\":{\"text\":\"Age at death\"},\"showline\":true,\"linewidth\":2,\"linecolor\":\"black\",\"mirror\":true,\"range\":[27.0,85]},\"yaxis\":{\"anchor\":\"x\",\"domain\":[0.0,1.0],\"title\":{\"text\":\"Risk factor\"},\"showline\":true,\"linewidth\":2,\"linecolor\":\"black\",\"mirror\":true},\"legend\":{\"title\":{\"text\":\"issue\"},\"tracegroupgap\":0},\"title\":{\"text\":\"Age at death\"},\"boxmode\":\"overlay\",\"height\":800,\"width\":800,\"font\":{\"size\":20},\"plot_bgcolor\":\"rgba(0, 0, 0, 0)\",\"showlegend\":false,\"annotations\":[{\"font\":{\"size\":20},\"showarrow\":false,\"text\":\"*\",\"x\":0.95,\"xref\":\"paper\",\"y\":0.5,\"yref\":\"paper\"}]},                        {\"toImageButtonOptions\": {\"format\": \"png\", \"filename\": \"\", \"height\": 800, \"width\": 800, \"scale\": 5}, \"responsive\": true}                    ).then(function(){\n",
       "                            \n",
       "var gd = document.getElementById('c0faf494-b4ec-4683-ab6a-6db72c984621');\n",
       "var x = new MutationObserver(function (mutations, observer) {{\n",
       "        var display = window.getComputedStyle(gd).display;\n",
       "        if (!display || display === 'none') {{\n",
       "            console.log([gd, 'removed!']);\n",
       "            Plotly.purge(gd);\n",
       "            observer.disconnect();\n",
       "        }}\n",
       "}});\n",
       "\n",
       "// Listen for the removal of the full notebook cells\n",
       "var notebookContainer = gd.closest('#notebook-container');\n",
       "if (notebookContainer) {{\n",
       "    x.observe(notebookContainer, {childList: true});\n",
       "}}\n",
       "\n",
       "// Listen for the clearing of the current output cell\n",
       "var outputEl = gd.closest('.output');\n",
       "if (outputEl) {{\n",
       "    x.observe(outputEl, {childList: true});\n",
       "}}\n",
       "\n",
       "                        })                };                });            </script>        </div>"
      ]
     },
     "metadata": {},
     "output_type": "display_data"
    }
   ],
   "source": [
    "fig = px.strip(\n",
    "    data_frame=df.sort_values(\"Haplotype\"),\n",
    "    y=\"Haplotype\",\n",
    "    x=\"AGEATDEATH\",\n",
    "    width=600,\n",
    "    height=300,\n",
    "    labels={\n",
    "        \"AGEATDEATH\": \"Age at death\",\n",
    "        \"SEXatBirth\": \"Sex\",\n",
    "        \"Haplotype\": \"Risk factor\",\n",
    "    },\n",
    "    hover_data=[\"Gentli_ID\"],\n",
    "    title=\"Age at death\",\n",
    "    color=\"issue\",\n",
    "    color_discrete_map={\"Y\": \"grey\", \"N\": \"red\"},\n",
    "    stripmode=\"overlay\",\n",
    "\n",
    ")\n",
    "\n",
    "# within the chr15q14 category, identify the haplotypes by changing the dots to symbols for HapA and HapB\n",
    "\n",
    "\n",
    "fig.update_layout(\n",
    "    width=800,\n",
    "    height=800,\n",
    "    plot_bgcolor=\"rgba(0, 0, 0, 0)\",\n",
    "    font=dict(size=20),\n",
    "    showlegend=False,\n",
    ")\n",
    "\n",
    "minage = df[\"AGEATDEATH\"].min()\n",
    "\n",
    "fig.update_xaxes(\n",
    "    showline=True,\n",
    "    linewidth=2,\n",
    "    linecolor=\"black\",\n",
    "    mirror=True,\n",
    "    range=[minage - 3, 85],\n",
    ")\n",
    "\n",
    "fig.update_yaxes(\n",
    "    showline=True,\n",
    "    linewidth=2,\n",
    "    linecolor=\"black\",\n",
    "    mirror=True,\n",
    ")\n",
    "\n",
    "fig.update_traces(marker=dict(size=12, opacity=0.5), jitter=1)\n",
    "\n",
    "# perform a t-test\n",
    "from scipy.stats import ttest_ind\n",
    "\n",
    "ttest = ttest_ind(\n",
    "    df[df[\"Haplotype\"] == \"chr15q14\"][\"AGEATDEATH\"],\n",
    "    df[df[\"Haplotype\"] == \"Unknown\"][\"AGEATDEATH\"],\n",
    "    equal_var=False,\n",
    ")\n",
    "\n",
    "print(f\"T-test for carriers vs unknown: {ttest}\")\n",
    "\n",
    "# Also perform the t-test while excluding rr_PIDN4463\n",
    "ttest = ttest_ind(\n",
    "    df[(df[\"Haplotype\"] == \"chr15q14\") & (df[\"issue\"] == \"N\")][\"AGEATDEATH\"],\n",
    "    df[(df[\"Haplotype\"] == \"Unknown\") & (df[\"issue\"] == \"N\")][\"AGEATDEATH\"],\n",
    "    equal_var=False,\n",
    ")\n",
    "\n",
    "print(f\"T-test for carriers vs unknown (excluding rr_PIDN4463): {ttest}\")\n",
    "\n",
    "# draw annotation showing the p-value\n",
    "fig.add_annotation(\n",
    "    x=0.95,\n",
    "    y=0.5,\n",
    "    xref=\"paper\",\n",
    "    yref=\"paper\",\n",
    "    text=f\"*\",\n",
    "    showarrow=False,\n",
    "    font=dict(size=20),\n",
    ")\n",
    "fig.add_trace(\n",
    "    go.Scatter(\n",
    "        x=[79, 80, 80, 79],\n",
    "        y=[\"chr15q14\", \"chr15q14\", \"Unknown\", \"Unknown\"],\n",
    "        fill=None,\n",
    "        mode=\"lines\",\n",
    "        showlegend=False,\n",
    "        line=dict(color=\"grey\", width=1),\n",
    "    )\n",
    ")\n",
    "\n",
    "fig.show(\n",
    "    config={\n",
    "        \"toImageButtonOptions\": {\n",
    "            \"format\": \"png\",\n",
    "            \"filename\": \"\",\n",
    "            \"height\": 800,\n",
    "            \"width\": 800,\n",
    "            \"scale\": 5,\n",
    "        }\n",
    "    }\n",
    ")"
   ]
  },
  {
   "cell_type": "code",
   "execution_count": null,
   "metadata": {},
   "outputs": [],
   "source": []
  }
 ],
 "metadata": {
  "kernelspec": {
   "display_name": "data-analysis",
   "language": "python",
   "name": "python3"
  },
  "language_info": {
   "codemirror_mode": {
    "name": "ipython",
    "version": 3
   },
   "file_extension": ".py",
   "mimetype": "text/x-python",
   "name": "python",
   "nbconvert_exporter": "python",
   "pygments_lexer": "ipython3",
   "version": "3.10.10"
  }
 },
 "nbformat": 4,
 "nbformat_minor": 2
}
